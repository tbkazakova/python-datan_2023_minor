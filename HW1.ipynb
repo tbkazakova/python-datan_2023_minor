{
 "cells": [
  {
   "cell_type": "markdown",
   "id": "f238505e",
   "metadata": {},
   "source": [
    "# ДЗ1\n",
    "\n",
    "Дедлайн: 15 сентября 16:00\n",
    "\n",
    "### Пункт 0\n",
    "\n",
    "Посмотрите тетрадку с семинара, спросите непонятное. При желании посмотрите первую неделю онлайн-курса по питону.\n",
    "\n",
    "### Основная часть\n",
    "Спрашивать всё что угодно можно, просить подсказки тоже. Это ваше первое дз."
   ]
  },
  {
   "cell_type": "markdown",
   "id": "4f890425",
   "metadata": {},
   "source": [
    "**Задание 1.** Напишите код, берущий два числа у пользователя и выдающий их сумму"
   ]
  },
  {
   "cell_type": "code",
   "execution_count": null,
   "id": "1614bb96",
   "metadata": {},
   "outputs": [],
   "source": []
  },
  {
   "cell_type": "markdown",
   "id": "51032dbc",
   "metadata": {},
   "source": [
    "**Задание 2.** 163170 минут. Сколько это дней, часов и минут?\n",
    "\n",
    "*Подсказка: вам могут пригодиться операторы `//` и `%`*"
   ]
  },
  {
   "cell_type": "code",
   "execution_count": null,
   "id": "f66c1f04",
   "metadata": {},
   "outputs": [],
   "source": []
  },
  {
   "cell_type": "markdown",
   "id": "999afc55",
   "metadata": {},
   "source": [
    "(можно подумать, что это за время такое)"
   ]
  }
 ],
 "metadata": {
  "kernelspec": {
   "display_name": "Python 3 (ipykernel)",
   "language": "python",
   "name": "python3"
  },
  "language_info": {
   "codemirror_mode": {
    "name": "ipython",
    "version": 3
   },
   "file_extension": ".py",
   "mimetype": "text/x-python",
   "name": "python",
   "nbconvert_exporter": "python",
   "pygments_lexer": "ipython3",
   "version": "3.9.16"
  }
 },
 "nbformat": 4,
 "nbformat_minor": 5
}
