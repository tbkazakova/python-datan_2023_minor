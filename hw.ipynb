{
  "nbformat": 4,
  "nbformat_minor": 0,
  "metadata": {
    "colab": {
      "provenance": []
    },
    "kernelspec": {
      "name": "python3",
      "display_name": "Python 3"
    },
    "language_info": {
      "name": "python"
    }
  },
  "cells": [
    {
      "cell_type": "markdown",
      "source": [
        "ДЗ 1"
      ],
      "metadata": {
        "id": "jFndsL5WXz4d"
      }
    },
    {
      "cell_type": "code",
      "execution_count": null,
      "metadata": {
        "id": "ZjE-5RFJXyaa"
      },
      "outputs": [],
      "source": [
        "# задание 1\n",
        "print(5)\n"
      ]
    },
    {
      "cell_type": "code",
      "source": [
        "# задание 2"
      ],
      "metadata": {
        "id": "hFHGKGxQYGjk"
      },
      "execution_count": null,
      "outputs": []
    }
  ]
}