{
 "cells": [
  {
   "cell_type": "markdown",
   "metadata": {
    "id": "12nMbiBB_vbb"
   },
   "source": [
    "# Python. Aрифметика и типы данных"
   ]
  },
  {
   "cell_type": "markdown",
   "metadata": {},
   "source": [
    "## На что вы смотрите и что видите"
   ]
  },
  {
   "cell_type": "markdown",
   "metadata": {},
   "source": [
    "Вы видите тетрадку, где бок о бок с кодом на `python` есть и просто текст-текст. Это удобно, всё рядом, код можно обширно пояснять.\n",
    "\n",
    "Сами по себе тетрадки — это просто текст (код на языке `python` тоже текст). Но если этот текст открыть на `GitHub`, в `Google Colab`, в `Jupyter` или где-то ещё, он будет довольно красиво оформлен (с разными шрифтами для текста и кода, серым фоном для кода и т.д.).\n",
    "\n",
    "Они имеют расширение `.ipynb`."
   ]
  },
  {
   "cell_type": "markdown",
   "metadata": {},
   "source": [
    "Мы будем работать в юпитере.\n",
    "\n",
    "Если у вас windows, установите [Анаконду](anaconda.com/products/individual#Downloads), юпитер будет внутри. Вот тут подробная [инструкция по установке](https://edu.hse.ru/pluginfile.php/2117678/mod_lesson/intro/%D0%B7%D0%B4%D0%B5%D1%81%D1%8C.pdf).\n",
    "\n",
    "Если у вас мак, выпоните в терминале `pip install notebook`, а потом запускайте с помощью команды `jupyter notebook`."
   ]
  },
  {
   "cell_type": "markdown",
   "metadata": {},
   "source": [
    "Про код мы будем говорить много, а текстовые ячейки можно оформлять, используя [эти возможности](https://docs.github.com/ru/get-started/writing-on-github/getting-started-with-writing-and-formatting-on-github/basic-writing-and-formatting-syntax)."
   ]
  },
  {
   "cell_type": "markdown",
   "metadata": {},
   "source": [
    "## Первый код \n",
    "<a name=\"first-code\"></a>"
   ]
  },
  {
   "cell_type": "markdown",
   "metadata": {},
   "source": [
    "Первое, что обычно делают при знакомстве с языком программирования это печатают: `\"Привет, мир!\"`\n",
    "Не будем отступать от традиции. Вот так это выглядит на языке python: "
   ]
  },
  {
   "cell_type": "code",
   "execution_count": null,
   "metadata": {
    "colab": {
     "base_uri": "https://localhost:8080/"
    },
    "executionInfo": {
     "elapsed": 269,
     "status": "ok",
     "timestamp": 1671703867759,
     "user": {
      "displayName": "Татьяна Казакова",
      "userId": "07828874048466328312"
     },
     "user_tz": -180
    },
    "id": "V3YUiQHcADaC",
    "outputId": "2c810481-3da4-46a6-c28e-e67de127aab5"
   },
   "outputs": [],
   "source": [
    "print('Hello, world!')"
   ]
  },
  {
   "cell_type": "markdown",
   "metadata": {},
   "source": [
    "Заметьте, как `Hello, world!` распечаталось под ячейкой с кодом! Это **вывод ячейки**."
   ]
  },
  {
   "cell_type": "markdown",
   "metadata": {},
   "source": [
    "Команда `print` это функция. Функции выполняют какое-то предопределённое действие с тем, с чем их попросят, — **со своими аргументами**.\n",
    "Функция `print` напечатала строку `Hello, world!`, эта строка - её аргумент. **Аргументы** пишут внутри скобок.\n",
    "\n",
    "Строка - это набор символов. Записываются строки просто между кавычками, одинарными `'`, как выше, или двойными `\"`. Можно использовать одинарные, или двойные, как больше нравится. Главное, чтобы набор символов с двух сторон охватывался одинаковыми кавычками: `'Hello, world!'` или `\"Hello, world!\"`."
   ]
  },
  {
   "cell_type": "markdown",
   "metadata": {},
   "source": [
    "Распечатайте в ячейке ниже `And hello, python!`."
   ]
  },
  {
   "cell_type": "code",
   "execution_count": null,
   "metadata": {},
   "outputs": [],
   "source": []
  },
  {
   "cell_type": "markdown",
   "metadata": {},
   "source": [
    "## Переменные"
   ]
  },
  {
   "cell_type": "markdown",
   "metadata": {},
   "source": [
    "Если мы хотим взять что-то и использовать это не сразу, потом, может даже несколько раз, то нам нужно это что-то **назвать**. Сохранить в переменную.\n",
    "\n",
    "\n",
    "Ниже мы создаём переменную, название для числа 5. Это название `a`. Переменная `a` теперь равна пяти."
   ]
  },
  {
   "cell_type": "code",
   "execution_count": null,
   "metadata": {
    "colab": {
     "base_uri": "https://localhost:8080/"
    },
    "executionInfo": {
     "elapsed": 6,
     "status": "ok",
     "timestamp": 1673585909480,
     "user": {
      "displayName": "Татьяна Казакова",
      "userId": "07828874048466328312"
     },
     "user_tz": -180
    },
    "id": "6bj8FZH4_gVO",
    "outputId": "7fbf5ab1-a77f-4070-880e-47eec59e8943"
   },
   "outputs": [],
   "source": [
    "a = 5\n",
    "print(a)"
   ]
  },
  {
   "cell_type": "markdown",
   "metadata": {},
   "source": [
    "**Обратите внимание!** Здесь же мы передаём штуку другого характера: переменную `a`. Функция выяснит значение переменной и сработает с этим значением."
   ]
  },
  {
   "cell_type": "code",
   "execution_count": null,
   "metadata": {},
   "outputs": [],
   "source": [
    "print(\"a\")  # печатаем строку \"а\"\n",
    "print(a)  # печатаем переменную a"
   ]
  },
  {
   "cell_type": "code",
   "execution_count": null,
   "metadata": {
    "colab": {
     "base_uri": "https://localhost:8080/"
    },
    "executionInfo": {
     "elapsed": 294,
     "status": "ok",
     "timestamp": 1673585911577,
     "user": {
      "displayName": "Татьяна Казакова",
      "userId": "07828874048466328312"
     },
     "user_tz": -180
    },
    "id": "aZHh1sIoDz0N",
    "outputId": "4d68c2b6-7bd1-44f7-86e8-efaa8c04a21d"
   },
   "outputs": [],
   "source": [
    "b = 7\n",
    "c =  a + b\n",
    "print(c)\n",
    "print(a + b)"
   ]
  },
  {
   "cell_type": "markdown",
   "metadata": {},
   "source": [
    "**Обратите внимание!** Теперь мы вообще передали в функцию арифметическое выражение. Так можно! Точно как с переменными: выражение посчитается и функция сработает с результатом этого выражения."
   ]
  },
  {
   "cell_type": "code",
   "execution_count": null,
   "metadata": {
    "colab": {
     "base_uri": "https://localhost:8080/"
    },
    "executionInfo": {
     "elapsed": 257,
     "status": "ok",
     "timestamp": 1673585990217,
     "user": {
      "displayName": "Татьяна Казакова",
      "userId": "07828874048466328312"
     },
     "user_tz": -180
    },
    "id": "B26POrIfELei",
    "outputId": "41b201c2-ef77-4752-8a41-3872d22c7cba"
   },
   "outputs": [],
   "source": [
    "print(\"a + b =\", c)  # Можно указать через запятую несколько сущностей для печати\n",
    "print(10 / 3)  # Комментарии можно писать после решётки"
   ]
  },
  {
   "cell_type": "code",
   "execution_count": null,
   "metadata": {
    "colab": {
     "base_uri": "https://localhost:8080/",
     "height": 130
    },
    "executionInfo": {
     "elapsed": 238,
     "status": "error",
     "timestamp": 1671704030039,
     "user": {
      "displayName": "Татьяна Казакова",
      "userId": "07828874048466328312"
     },
     "user_tz": -180
    },
    "id": "2YMoCqv4G1yt",
    "outputId": "d1fd8011-d5a9-4bc7-8c69-838e4b253f94"
   },
   "outputs": [],
   "source": [
    "А без решётки не код ломает программу.\n",
    "Потому что интерпретатор ожидает, что текст будет на питоне, а это русский.\n",
    "print('работает')"
   ]
  },
  {
   "cell_type": "markdown",
   "metadata": {},
   "source": [
    "Ещё можно создать несколько переменных с одинаковым значением (несколько имён для значения!):"
   ]
  },
  {
   "cell_type": "code",
   "execution_count": null,
   "metadata": {},
   "outputs": [],
   "source": [
    "x = y = z = 42 \n",
    "\n",
    "print(x)\n",
    "print(y)\n",
    "print(z)"
   ]
  },
  {
   "cell_type": "markdown",
   "metadata": {},
   "source": [
    "## Распаковка / множественное присвоение"
   ]
  },
  {
   "cell_type": "markdown",
   "metadata": {},
   "source": [
    "Можно записать слева и справа от `=` одинаковое количество объектов и присвоить так: "
   ]
  },
  {
   "cell_type": "code",
   "execution_count": null,
   "metadata": {},
   "outputs": [],
   "source": [
    "a, b, c = 'это а', 'это б', 'это ц' \n",
    "\n",
    "print(a)\n",
    "print(b)\n",
    "print(c)"
   ]
  },
  {
   "cell_type": "code",
   "execution_count": null,
   "metadata": {},
   "outputs": [],
   "source": [
    "a, b, c = 'это а', 'это б'  # а тут количество слева и справа от = не совпадает\n",
    "\n",
    "print(a)\n",
    "print(b)\n",
    "print(c)"
   ]
  },
  {
   "cell_type": "code",
   "execution_count": null,
   "metadata": {},
   "outputs": [],
   "source": [
    "a, b, = 'это а', 'это б', 'это ц'  # и тут\n",
    "\n",
    "print(a)\n",
    "print(b)\n",
    "print(c)"
   ]
  },
  {
   "cell_type": "markdown",
   "metadata": {
    "id": "q1rOUkp5aaAI"
   },
   "source": [
    "## Математические операторы\n",
    "- `+ - * / =` \n",
    "- `%` - остаток от деления\n",
    "- `//` - целая часть при делении\n",
    "- `**` - возведение в степень\n",
    "\n",
    "Каждое выражение с новой строки.\n",
    "\n",
    "Порядок действий привычный."
   ]
  },
  {
   "cell_type": "code",
   "execution_count": null,
   "metadata": {
    "colab": {
     "base_uri": "https://localhost:8080/"
    },
    "executionInfo": {
     "elapsed": 7,
     "status": "ok",
     "timestamp": 1673702235344,
     "user": {
      "displayName": "Татьяна Казакова",
      "userId": "07828874048466328312"
     },
     "user_tz": -180
    },
    "id": "Sz4rMo5AauBb",
    "outputId": "137c7602-7c65-423b-b294-5d57d6d9bc60"
   },
   "outputs": [],
   "source": [
    "print(2 + 2 * 2)  # = 6\n",
    "print((2 + 2) * 2)  # = 8"
   ]
  },
  {
   "cell_type": "markdown",
   "metadata": {
    "id": "WU65rD42dP8Q"
   },
   "source": [
    "В десятичных дробях точка `.` (не запятая `,`). Так принято в англоязычном мире."
   ]
  },
  {
   "cell_type": "code",
   "execution_count": null,
   "metadata": {
    "id": "ORuiWD0MagmT"
   },
   "outputs": [],
   "source": [
    "print(10 / 3)"
   ]
  },
  {
   "cell_type": "markdown",
   "metadata": {},
   "source": [
    "Обратите внимание, что `10 / 3` должно бы быть 3.(3) - три целых и три в периоде. Но тут в конце почему-то `5`. Возможно дело в несовершенном хранении в компьютере дробных чисел"
   ]
  },
  {
   "cell_type": "code",
   "execution_count": null,
   "metadata": {},
   "outputs": [],
   "source": [
    "print(10/9)"
   ]
  },
  {
   "cell_type": "markdown",
   "metadata": {
    "id": "P7J3Ls9rdcTm"
   },
   "source": [
    "Посмотрим на менее известные операции:"
   ]
  },
  {
   "cell_type": "code",
   "execution_count": null,
   "metadata": {
    "colab": {
     "base_uri": "https://localhost:8080/"
    },
    "executionInfo": {
     "elapsed": 271,
     "status": "ok",
     "timestamp": 1671704071512,
     "user": {
      "displayName": "Татьяна Казакова",
      "userId": "07828874048466328312"
     },
     "user_tz": -180
    },
    "id": "FAH3q1XEgrWY",
    "outputId": "f46b3f97-97a3-4b49-ad56-aab73dacd41e"
   },
   "outputs": [],
   "source": [
    "5 % 2  # 1 - остаток от деления (5 = 2 * 2 + 1)\n",
    "5 // 2  # 2 - целая часть       (5 = 2 * 2 + 1)\n",
    "5 ** 3  # 125 - возведение в степень\n",
    "# В таких тетрадках с кодом выводится последнее действие"
   ]
  },
  {
   "cell_type": "markdown",
   "metadata": {
    "id": "3v4mThqMdkzV"
   },
   "source": [
    "Произвели три действия, а вывелось одно число.\n",
    "\n",
    "Потому что в .ipynb тетрадках выводится последнее действие в ячейке, даже если не просить его напечатать.\n",
    "\n",
    "Если нужно напечать конкретное действие или переменную, используем print()"
   ]
  },
  {
   "cell_type": "code",
   "execution_count": null,
   "metadata": {
    "colab": {
     "base_uri": "https://localhost:8080/"
    },
    "executionInfo": {
     "elapsed": 253,
     "status": "ok",
     "timestamp": 1673586271653,
     "user": {
      "displayName": "Татьяна Казакова",
      "userId": "07828874048466328312"
     },
     "user_tz": -180
    },
    "id": "9QG4lbMpg1bz",
    "outputId": "d7da0549-2113-497a-ae8f-25d63344b653"
   },
   "outputs": [],
   "source": [
    "print(5 % 2)\n",
    "print(5 // 2)\n",
    "print(5 ** 3)"
   ]
  },
  {
   "cell_type": "markdown",
   "metadata": {
    "id": "SoK-wluUQGcv"
   },
   "source": [
    "## Типы данных\n",
    "Есть разные объекты: числа, строки с текстом, списки, словари и т.д.\n",
    "\n",
    "Посмотрим на 3 типа данных:\n",
    "- целые числа\n",
    "- десятичные дроби (числа с точкой)\n",
    "- строки"
   ]
  },
  {
   "cell_type": "code",
   "execution_count": null,
   "metadata": {
    "executionInfo": {
     "elapsed": 229,
     "status": "ok",
     "timestamp": 1673654596307,
     "user": {
      "displayName": "Татьяна Казакова",
      "userId": "07828874048466328312"
     },
     "user_tz": -180
    },
    "id": "HNUeavR9QFbR"
   },
   "outputs": [],
   "source": [
    "number = 324  # целое число\n",
    "number_float = 324.52 # число \"с плавающей точкой\"\n",
    "text = 'что-то в кавычках' # строка # кавычки могут быть одинарные, двойные, тройные\n",
    "\n",
    "# Мы храним их в переменных\n",
    "# number, number_float, text - переменные"
   ]
  },
  {
   "cell_type": "code",
   "execution_count": null,
   "metadata": {},
   "outputs": [],
   "source": [
    "# Название переменных может быть любое. Лучше латиницей, лучше говорящие.\n",
    "плим = \"а я придумал слово\"  # не делайте так"
   ]
  },
  {
   "cell_type": "markdown",
   "metadata": {
    "id": "HZ5cwY2jkn14"
   },
   "source": [
    "`type()` - узнать тип данных"
   ]
  },
  {
   "cell_type": "code",
   "execution_count": null,
   "metadata": {
    "colab": {
     "base_uri": "https://localhost:8080/"
    },
    "executionInfo": {
     "elapsed": 537,
     "status": "ok",
     "timestamp": 1673654598162,
     "user": {
      "displayName": "Татьяна Казакова",
      "userId": "07828874048466328312"
     },
     "user_tz": -180
    },
    "id": "JoSK7D89km0S",
    "outputId": "dcd8f094-822a-44d6-8213-40e0d7e5a109"
   },
   "outputs": [],
   "source": [
    "print(type(324)) # целое число - int (от integer number)\n",
    "print(type(324.3407))  # число с плавающей точкой - float (от floating-point number)\n",
    "print(type(text))  # строка - str (от string)"
   ]
  },
  {
   "cell_type": "markdown",
   "metadata": {
    "id": "NtSCJw8BgxNu"
   },
   "source": [
    "- целое число - `int` (от integer number)\n",
    "- число с плавающей точкой - `float` (от floating-point number)\n",
    "- строка - `str` (от string)"
   ]
  },
  {
   "cell_type": "markdown",
   "metadata": {
    "id": "Hi9MsaCknCU4"
   },
   "source": [
    "Знать тип данных важно, потому что не с любым типом данных можно совершать определённые действия"
   ]
  },
  {
   "cell_type": "code",
   "execution_count": null,
   "metadata": {
    "colab": {
     "base_uri": "https://localhost:8080/"
    },
    "executionInfo": {
     "elapsed": 241,
     "status": "ok",
     "timestamp": 1673703845573,
     "user": {
      "displayName": "Татьяна Казакова",
      "userId": "07828874048466328312"
     },
     "user_tz": -180
    },
    "id": "EXNhibUtnXDx",
    "outputId": "f578c790-aa99-4fb9-82f0-5a767303d4b7"
   },
   "outputs": [],
   "source": [
    "# Что будет, если сложить две строчки?\n",
    "print(\"строчка1\" + \"строчка2\")  # 'строчка1строчка2'\n",
    "print(\"1\" + \"2\")  # '12' будет\n",
    "\n",
    "# А если сложить два числа:\n",
    "print(1 + 2)  # тут 3 будет"
   ]
  },
  {
   "cell_type": "code",
   "execution_count": null,
   "metadata": {
    "colab": {
     "base_uri": "https://localhost:8080/",
     "height": 191
    },
    "executionInfo": {
     "elapsed": 238,
     "status": "error",
     "timestamp": 1673655363387,
     "user": {
      "displayName": "Татьяна Казакова",
      "userId": "07828874048466328312"
     },
     "user_tz": -180
    },
    "id": "JUoluSePn5K1",
    "outputId": "a19c8a37-d443-4f15-ca32-a1d241957f64"
   },
   "outputs": [],
   "source": [
    "# складывать строки и числа вообще нельзя\n",
    "print(1 + \" \" + 2)"
   ]
  },
  {
   "cell_type": "markdown",
   "metadata": {
    "id": "-a7HVkwsok1U"
   },
   "source": [
    "##### *Про ошибки*\n",
    "\n",
    "Если у вас возникла ошибка, прочтите объяснение. Здесь нам говорят, что + не умеет складывать int с str.\n",
    "\n",
    "Можно гуглить ошибки. Обычно на сайте stackoverflow уже решена ваша проблема."
   ]
  },
  {
   "cell_type": "code",
   "execution_count": null,
   "metadata": {
    "colab": {
     "base_uri": "https://localhost:8080/"
    },
    "executionInfo": {
     "elapsed": 240,
     "status": "ok",
     "timestamp": 1673655778281,
     "user": {
      "displayName": "Татьяна Казакова",
      "userId": "07828874048466328312"
     },
     "user_tz": -180
    },
    "id": "7WauhfJBpo54",
    "outputId": "9a50a53b-0609-4a49-e430-f3d40492e992"
   },
   "outputs": [],
   "source": [
    "# К счастью, числа int и float складываются\n",
    "\n",
    "number_int = 3\n",
    "number_float = 2.5\n",
    "print(number_int + number_float)\n",
    "print(type(number_int + number_float))  # получается тип float"
   ]
  },
  {
   "cell_type": "markdown",
   "metadata": {
    "id": "fckWozLXFrUJ"
   },
   "source": [
    "## Есть функции:\n",
    "\n",
    "Их можно вызывать:\n",
    "\n",
    "Общий вид: `<function>(то_к_чему_надо_применить)`\n",
    "\n",
    "`print()` - мы видели выше. Печатает то, к чему применяется.\n",
    "\n",
    "`type()` - узнать тип данных"
   ]
  },
  {
   "cell_type": "markdown",
   "metadata": {
    "id": "p1pG1ljIkHqf",
    "tags": []
   },
   "source": [
    "А вот ещё новая:\n",
    "\n",
    "### `input()` - функция принимает текст от пользователя\n",
    "\n",
    "Функции input() можно передать в качестве аргумента строку, которую увидит пользователь перед вводом.\n",
    "\n",
    "Аргументы &mdash; значения, которые функция принимает на вход. (То, что в скобках пишем)."
   ]
  },
  {
   "cell_type": "code",
   "execution_count": null,
   "metadata": {
    "colab": {
     "base_uri": "https://localhost:8080/"
    },
    "executionInfo": {
     "elapsed": 35347,
     "status": "ok",
     "timestamp": 1673705054096,
     "user": {
      "displayName": "Татьяна Казакова",
      "userId": "07828874048466328312"
     },
     "user_tz": -180
    },
    "id": "RGoeQfp3lEP9",
    "outputId": "5168077f-0782-4f01-c5e5-a65c5af2cccb"
   },
   "outputs": [],
   "source": [
    "# по умолчанию пользователь получает нулевую строку перед вводом (то есть ничего не видит)\n",
    "unknown_input = input()"
   ]
  },
  {
   "cell_type": "markdown",
   "metadata": {},
   "source": [
    "**Обратите внимание!** записать в переменную мы можем...:\n",
    "- не только для числа или строки (`number_int = 3`, `text = 'что-то в кавычках'`),\n",
    "- не только выражения типа арифметических (`c = a + b`),\n",
    "- но и для результаты выполнения функций (функция выполнилась, что-то выдала, мы это сохранили)\n"
   ]
  },
  {
   "cell_type": "code",
   "execution_count": null,
   "metadata": {
    "colab": {
     "base_uri": "https://localhost:8080/"
    },
    "executionInfo": {
     "elapsed": 4227,
     "status": "ok",
     "timestamp": 1673705216776,
     "user": {
      "displayName": "Татьяна Казакова",
      "userId": "07828874048466328312"
     },
     "user_tz": -180
    },
    "id": "Xma0ipouMfV6",
    "outputId": "af5bd621-f7ef-443d-9a0d-96e0aba4901f"
   },
   "outputs": [],
   "source": [
    "# А вот тут мы объяснили, что от него хотим\n",
    "user_input = input('Введите число и нажмите enter ')"
   ]
  },
  {
   "cell_type": "code",
   "execution_count": null,
   "metadata": {
    "colab": {
     "base_uri": "https://localhost:8080/"
    },
    "executionInfo": {
     "elapsed": 247,
     "status": "ok",
     "timestamp": 1673705218498,
     "user": {
      "displayName": "Татьяна Казакова",
      "userId": "07828874048466328312"
     },
     "user_tz": -180
    },
    "id": "hvbPSnnHMslM",
    "outputId": "ecdb3b3c-75a6-4668-d8d0-5228b6a3acf6"
   },
   "outputs": [],
   "source": [
    "print(user_input)\n",
    "print(type(user_input))  # Всегда принимаем от пользователя строку"
   ]
  },
  {
   "cell_type": "markdown",
   "metadata": {
    "id": "yHO9C3UlkUbo"
   },
   "source": [
    "### Тип данных можно иногда поменять\n",
    "`int()` - в целое число\n",
    "\n",
    "`float()` - в число с точкой\n",
    "\n",
    "`str()` - в строку"
   ]
  },
  {
   "cell_type": "code",
   "execution_count": null,
   "metadata": {
    "colab": {
     "base_uri": "https://localhost:8080/"
    },
    "executionInfo": {
     "elapsed": 373,
     "status": "ok",
     "timestamp": 1673705220011,
     "user": {
      "displayName": "Татьяна Казакова",
      "userId": "07828874048466328312"
     },
     "user_tz": -180
    },
    "id": "jrnA4hO-NGaq",
    "outputId": "b5600886-9978-4643-bd51-f442b8f11a77"
   },
   "outputs": [],
   "source": [
    "print(type(user_input))\n",
    "user_input_int = int(user_input)\n",
    "print(user_input_int)  # превратили строку в число\n",
    "print(type(user_input_int))"
   ]
  },
  {
   "cell_type": "code",
   "execution_count": null,
   "metadata": {
    "colab": {
     "base_uri": "https://localhost:8080/",
     "height": 173
    },
    "executionInfo": {
     "elapsed": 302,
     "status": "error",
     "timestamp": 1673705222775,
     "user": {
      "displayName": "Татьяна Казакова",
      "userId": "07828874048466328312"
     },
     "user_tz": -180
    },
    "id": "lagt0nF_WnGb",
    "outputId": "1257bda1-d34f-4940-e266-47ab6bc424e6"
   },
   "outputs": [],
   "source": [
    "print(type(int(\"sjkkd\")))  # не всё можно превратить в число"
   ]
  },
  {
   "cell_type": "markdown",
   "metadata": {},
   "source": [
    "Разряды через запятую, как в западной традиции тоже не выходят:\n"
   ]
  },
  {
   "cell_type": "code",
   "execution_count": null,
   "metadata": {},
   "outputs": [],
   "source": [
    "print(int(\"2,000,314\"))"
   ]
  },
  {
   "cell_type": "markdown",
   "metadata": {},
   "source": [
    "И так же не выйдет с пробелом:"
   ]
  },
  {
   "cell_type": "code",
   "execution_count": null,
   "metadata": {},
   "outputs": [],
   "source": [
    "print(int(\"2 000\"))"
   ]
  },
  {
   "cell_type": "code",
   "execution_count": null,
   "metadata": {
    "colab": {
     "base_uri": "https://localhost:8080/",
     "height": 191
    },
    "executionInfo": {
     "elapsed": 241,
     "status": "error",
     "timestamp": 1673655988218,
     "user": {
      "displayName": "Татьяна Казакова",
      "userId": "07828874048466328312"
     },
     "user_tz": -180
    },
    "id": "dxeODT3Jq3U2",
    "outputId": "b5aacbb8-56bb-4039-dd69-bcddc8268eba"
   },
   "outputs": [],
   "source": [
    "pi_string = '3.1415'\n",
    "pi = int(pi_string)  # так тоже нельзя, int - целые числа"
   ]
  },
  {
   "cell_type": "code",
   "execution_count": null,
   "metadata": {
    "colab": {
     "base_uri": "https://localhost:8080/"
    },
    "executionInfo": {
     "elapsed": 4,
     "status": "ok",
     "timestamp": 1673656018071,
     "user": {
      "displayName": "Татьяна Казакова",
      "userId": "07828874048466328312"
     },
     "user_tz": -180
    },
    "id": "qQTIxKfSqsMe",
    "outputId": "87ca2114-78ba-4ba6-f41d-1764093ba25b"
   },
   "outputs": [],
   "source": [
    "pi_string = '3.1415'\n",
    "pi = float(pi_string)  # переводим строку в float\n",
    "print(pi)"
   ]
  },
  {
   "cell_type": "markdown",
   "metadata": {},
   "source": [
    "Запятая `,` как разделитель не пойдёт "
   ]
  },
  {
   "cell_type": "code",
   "execution_count": null,
   "metadata": {
    "colab": {
     "base_uri": "https://localhost:8080/"
    },
    "executionInfo": {
     "elapsed": 4,
     "status": "ok",
     "timestamp": 1673656018071,
     "user": {
      "displayName": "Татьяна Казакова",
      "userId": "07828874048466328312"
     },
     "user_tz": -180
    },
    "id": "qQTIxKfSqsMe",
    "outputId": "87ca2114-78ba-4ba6-f41d-1764093ba25b"
   },
   "outputs": [],
   "source": [
    "pi_string = '3,1415'\n",
    "pi = float(pi_string)  # переводим строку в float\n",
    "print(pi)"
   ]
  },
  {
   "cell_type": "code",
   "execution_count": null,
   "metadata": {
    "colab": {
     "base_uri": "https://localhost:8080/"
    },
    "executionInfo": {
     "elapsed": 1035,
     "status": "ok",
     "timestamp": 1673656219953,
     "user": {
      "displayName": "Татьяна Казакова",
      "userId": "07828874048466328312"
     },
     "user_tz": -180
    },
    "id": "Fr1CHLc5rNBT",
    "outputId": "f40f5f1d-d2ff-4f4c-eb7a-2999eb490e95"
   },
   "outputs": [],
   "source": [
    "d = 2.3\n",
    "int(d)  # дробное число можно перевести в целое"
   ]
  },
  {
   "cell_type": "code",
   "execution_count": null,
   "metadata": {
    "colab": {
     "base_uri": "https://localhost:8080/"
    },
    "executionInfo": {
     "elapsed": 227,
     "status": "ok",
     "timestamp": 1673656377430,
     "user": {
      "displayName": "Татьяна Казакова",
      "userId": "07828874048466328312"
     },
     "user_tz": -180
    },
    "id": "RjG8XoNbsLsd",
    "outputId": "6de53df9-4fa3-4b6a-8762-a3c838500fdc"
   },
   "outputs": [],
   "source": [
    "e = 2.72\n",
    "int(e)  # это не округление, просто отбрасывается дробная часть"
   ]
  },
  {
   "cell_type": "code",
   "execution_count": null,
   "metadata": {
    "colab": {
     "base_uri": "https://localhost:8080/"
    },
    "executionInfo": {
     "elapsed": 510,
     "status": "ok",
     "timestamp": 1673656440139,
     "user": {
      "displayName": "Татьяна Казакова",
      "userId": "07828874048466328312"
     },
     "user_tz": -180
    },
    "id": "NalJ-dYMsfZY",
    "outputId": "d9dac823-6019-48e6-ad22-03dba4697720"
   },
   "outputs": [],
   "source": [
    "# целое в дробное тоже можно\n",
    "f = 10\n",
    "float(f)"
   ]
  },
  {
   "cell_type": "markdown",
   "metadata": {
    "id": "BCo4F1W3CL_8"
   },
   "source": [
    "### Потренируемся!\n",
    "Напишите код, берущий два числа у пользователя и выдающий их сумму"
   ]
  },
  {
   "cell_type": "code",
   "execution_count": null,
   "metadata": {
    "colab": {
     "base_uri": "https://localhost:8080/"
    },
    "executionInfo": {
     "elapsed": 5453,
     "status": "ok",
     "timestamp": 1673644851121,
     "user": {
      "displayName": "Татьяна Казакова",
      "userId": "07828874048466328312"
     },
     "user_tz": -180
    },
    "id": "oIraTrNuCIUq",
    "outputId": "16618520-a759-4519-b1ae-0ba5b616d98d"
   },
   "outputs": [],
   "source": []
  },
  {
   "cell_type": "markdown",
   "metadata": {},
   "source": [
    "163170 минут. Сколько это дней, часов и минут?"
   ]
  },
  {
   "cell_type": "code",
   "execution_count": null,
   "metadata": {},
   "outputs": [],
   "source": []
  },
  {
   "cell_type": "markdown",
   "metadata": {
    "id": "ThrOF-SIbb1r"
   },
   "source": [
    "### Про красоту кода\n",
    "\n",
    "- переменные латиницей, названия говорящие: `newspaper_text`, ~~`bkjkbg`~~, ~~`плим`~~  \n",
    "- вокруг математических операторов пробелы:  `c = a + b`, ~~`c=a+b`~~ \n",
    "- между функцией и скобкой нет пробела: `type('string')`, ~~`type ('string')`~~"
   ]
  },
  {
   "cell_type": "code",
   "execution_count": null,
   "metadata": {
    "colab": {
     "base_uri": "https://localhost:8080/"
    },
    "executionInfo": {
     "elapsed": 617,
     "status": "ok",
     "timestamp": 1673703525051,
     "user": {
      "displayName": "Татьяна Казакова",
      "userId": "07828874048466328312"
     },
     "user_tz": -180
    },
    "id": "yMQp4yS1f-Jw",
    "outputId": "625b129f-f468-47d6-83d7-14d32300a421"
   },
   "outputs": [],
   "source": [
    "# регистр в названии важен\n",
    "some_name = 'Лёша'\n",
    "Some_name = 'Алёша'\n",
    "print(some_name, Some_name)"
   ]
  },
  {
   "cell_type": "markdown",
   "metadata": {},
   "source": [
    "### `print( )` - функция, которая печатает\n",
    "`sep` - для указания разделителя (по умолчанию sep=' ', то есть разделитель пробел)"
   ]
  },
  {
   "cell_type": "code",
   "execution_count": null,
   "metadata": {},
   "outputs": [],
   "source": [
    "answer = 6 * 7\n",
    "print('Ответ -', answer)"
   ]
  },
  {
   "cell_type": "code",
   "execution_count": null,
   "metadata": {},
   "outputs": [],
   "source": [
    "answer = 6 * 7\n",
    "print('Ответ', answer, sep=' - ')"
   ]
  },
  {
   "cell_type": "code",
   "execution_count": null,
   "metadata": {},
   "outputs": [],
   "source": [
    "answer = 6 * 7\n",
    "print(f\"Ответ - {answer}\")\n",
    "# это форматированная строка (поэтому f).\n",
    "# Через несколько пар обсудим такое подробнее."
   ]
  },
  {
   "cell_type": "markdown",
   "metadata": {},
   "source": [
    "### Потренируемся\n",
    "Как вывести строку \"Ответ - 42.\"?"
   ]
  },
  {
   "cell_type": "code",
   "execution_count": null,
   "metadata": {},
   "outputs": [],
   "source": []
  }
 ],
 "metadata": {
  "colab": {
   "provenance": [],
   "toc_visible": true
  },
  "kernelspec": {
   "display_name": "Python 3 (ipykernel)",
   "language": "python",
   "name": "python3"
  },
  "language_info": {
   "codemirror_mode": {
    "name": "ipython",
    "version": 3
   },
   "file_extension": ".py",
   "mimetype": "text/x-python",
   "name": "python",
   "nbconvert_exporter": "python",
   "pygments_lexer": "ipython3",
   "version": "3.9.16"
  }
 },
 "nbformat": 4,
 "nbformat_minor": 4
}
