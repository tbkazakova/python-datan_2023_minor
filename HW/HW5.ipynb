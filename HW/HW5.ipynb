{
 "cells": [
  {
   "cell_type": "markdown",
   "id": "386e1228",
   "metadata": {},
   "source": [
    "# ДЗ5"
   ]
  },
  {
   "cell_type": "markdown",
   "id": "0fac4eb0",
   "metadata": {},
   "source": [
    "Дедлайн: 12 ноября 23:59"
   ]
  },
  {
   "cell_type": "markdown",
   "id": "5f1a1a55",
   "metadata": {},
   "source": [
    "### Задание 1. \"Номерок дашь?\" (4+1+1 баллов)\n",
    "\n",
    "Напишите функцию для приведения номеров телефонов в единый формат.\n",
    "\n",
    "**4 балла**\n",
    "\n",
    "Функция должна принимать строку с телефонным номером. На любой из следующих номеров\n",
    "```\n",
    "\"8 (910) 123 45 67\"\n",
    "\"8-910-123-45-67\"\n",
    "\"8(910)123-45-67\"\n",
    "\"8 910 1234567\"\n",
    "\"89101234567\"\n",
    "```\n",
    "\n",
    "функция должна выдать строку `\"89101234567\"`."
   ]
  },
  {
   "cell_type": "markdown",
   "id": "12bb09b9",
   "metadata": {},
   "source": [
    "**+1 балл**\n",
    "\n",
    "Если функция обрабатывает телефоны с `+7`.\n",
    "```\n",
    "\"+79101234567\"\n",
    "\"+7 910 123 4567\"\n",
    "\"+7(910)123-45-67\"\n",
    "```\n",
    "На любой из этих номеров функция должна выдать строку `\"89101234567\"`."
   ]
  },
  {
   "cell_type": "markdown",
   "id": "90daa6da",
   "metadata": {},
   "source": [
    "**+1 балл**\n",
    "\n",
    "Если функция печатает предупреждение `\"Нетипичный номер\"`, когда в строке неправильное количество цифр (в \"типичном\" номере 11 цифр). Функция всё равно должна выдавать очищенные цифры."
   ]
  },
  {
   "cell_type": "markdown",
   "id": "a12fbdf7",
   "metadata": {},
   "source": [
    "Пример работы готовой функции `unify_num`:"
   ]
  },
  {
   "cell_type": "code",
   "execution_count": 8,
   "id": "7ca727e0",
   "metadata": {},
   "outputs": [
    {
     "name": "stdout",
     "output_type": "stream",
     "text": [
      "89101234567\n",
      "\n",
      "89101234567\n",
      "\n",
      "89101234567\n",
      "\n",
      "89101234567\n",
      "\n",
      "89101234567\n",
      "\n",
      "89101234567\n",
      "\n",
      "89101234567\n",
      "\n",
      "89101234567\n",
      "\n",
      "Нетипичный номер\n",
      "891012345678\n",
      "\n"
     ]
    }
   ],
   "source": [
    "t_numbers = [\"8 (910) 123 45 67\",\n",
    "             \"8-910-123-45-67\",\n",
    "             \"8(910)123-45-67\",\n",
    "             \"8 910 1234567\",\n",
    "             \"89101234567\",\n",
    "             \"+79101234567\",\n",
    "             \"+7 910 123 4567\",\n",
    "             \"+7(910)123-45-67\",\n",
    "             \"+7 910 123 45678\"]\n",
    "for t_number in t_numbers:\n",
    "    print(unify_num(t_number))\n",
    "    print()"
   ]
  },
  {
   "cell_type": "markdown",
   "id": "be914b15",
   "metadata": {},
   "source": [
    "### Задание 2. О файлах (3+1 балла)\n",
    "\n",
    "Прочитайте в питоне файл [phil_course.txt](https://github.com/tbkazakova/python-datan_2023_minor/blob/main/data/phil_course.txt) и выведите самое частотное слово.\n",
    "\n",
    "За подсказками обращайтесь к [тетрадке](https://github.com/tbkazakova/python-datan_2023_minor/blob/main/sem/20231028_files_training.ipynb) про частотные слова в Войне и мире."
   ]
  },
  {
   "cell_type": "markdown",
   "id": "b8ea9fd4",
   "metadata": {},
   "source": [
    "**+1 балл**\n",
    "\n",
    "Если вы посчитаете частотность, не учитывая стопслова."
   ]
  }
 ],
 "metadata": {
  "kernelspec": {
   "display_name": "Python 3 (ipykernel)",
   "language": "python",
   "name": "python3"
  },
  "language_info": {
   "codemirror_mode": {
    "name": "ipython",
    "version": 3
   },
   "file_extension": ".py",
   "mimetype": "text/x-python",
   "name": "python",
   "nbconvert_exporter": "python",
   "pygments_lexer": "ipython3",
   "version": "3.9.16"
  }
 },
 "nbformat": 4,
 "nbformat_minor": 5
}
