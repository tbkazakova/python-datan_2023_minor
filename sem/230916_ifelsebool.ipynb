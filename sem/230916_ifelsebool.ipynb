{
 "cells": [
  {
   "cell_type": "markdown",
   "metadata": {
    "id": "fwoQ0KDn9sbb"
   },
   "source": [
    "# Условия. bool"
   ]
  },
  {
   "cell_type": "markdown",
   "metadata": {
    "id": "H3wAMW8MMLcJ"
   },
   "source": [
    "В прошлый раз узнали про питон:\n",
    "- типы данных\n",
    "- математические операторы `+`, `-`, `/`, `*`, `**` (в степень), `%` (остаток от деления), `//` (целая часть при делении)\n",
    "- `print()` — напечатать\n",
    "- `type()` — узнать тип данных\n",
    "- `input()` — принять значение от пользователя\n",
    "- `int()` — преобразовать в целочисленный формат\n",
    "- `float()` — преобразовать в формат дробного числа\n",
    "- `str()` — преобразовать в строку"
   ]
  },
  {
   "cell_type": "markdown",
   "metadata": {
    "id": "DxtiQmQPPl5f"
   },
   "source": [
    "В этот раз узнаем про:\n",
    "\n",
    "- условия\n",
    "- операторы сравнения\n",
    "- тип данных `bool`"
   ]
  },
  {
   "cell_type": "markdown",
   "metadata": {
    "id": "mpXF5mTQ9sbn"
   },
   "source": [
    "## Но перед этим вспомним терминологию\n",
    "- **Имя переменной** или просто **переменная** — название, по которому мы обращаемся к определённому месту в памяти компьютера. Пишется без кавычек.\n",
    "- **Значение переменной** — всё что угодно, что лежит в памяти компьютера, к чему мы обращаемся по имени переменной\n",
    "\n",
    "(имя переменной слева от равно, значение справа)\n",
    "\n",
    "```some_number = 5```: ```some_number``` — переменная, ```5``` — значение.\n",
    "\n",
    " ```greeting = \"Hello, world!\"```: ```greeting``` — переменная, ```\"Hello, world!\"``` — значение.\n",
    " \n",
    "- **Функция** — некоторое действие. На математике вы встречали $y = f(x)$. Так вот $f()$ — это функция, нечто, что нужно сделать с x, чтобы получить y. Пишется со скобочками, в которых мы указываем аргументы. (А ещё, в Jupyter названия функций зелёными буквами пишутся.)\n",
    "\n",
    "- **Аргументы** — то, что принимает функция для преобразования\n",
    "\n",
    "```int(user_answer)```: ```int()``` — функция, возвращающая целое число из того, что в скобках, ```user_answer``` — аргумент функции (ну и это само по себе переменная, которая ссылается на что-то в памяти (судя по названию, ответ пользователя))\n",
    "\n",
    "```number_from_user = int(user_answer)```: здесь мы сохранили  в переменную ```number_from_user``` значение функции, то есть ответ пользователя, преобразованный в целое число.\n",
    "\n",
    "Обратите внимание, когда мы применяем функцию, мы получаем новое значение, которое можно сохранить куда-нибудь (записать в переменную). От применения функции аргументы не меняются. (после применения ```int()``` в ```user_answer``` всё ещё лежит строка, а не число)\n",
    "\n",
    "- **Значение функции**  — то, что функция выдаёт.\n",
    "\n",
    "```number_from_user = int(\"5\")```: значение функции — число 5.\n"
   ]
  },
  {
   "cell_type": "markdown",
   "metadata": {
    "id": "QrX1tAe1QWz5"
   },
   "source": [
    "# Условная конструкция: условия и операторы сравнения"
   ]
  },
  {
   "cell_type": "markdown",
   "metadata": {
    "id": "MyZ2T-iOQl7w"
   },
   "source": [
    "```\n",
    "if условие:\n",
    "    блок инструкций, в случае если условие истинно(/верно/True)\n",
    "else:\n",
    "    блок инструкций, в случае если условие не выполняется(/не верно/False)\n",
    "```"
   ]
  },
  {
   "cell_type": "code",
   "execution_count": 1,
   "metadata": {
    "id": "m5JAOCt9TLyK"
   },
   "outputs": [
    {
     "name": "stdout",
     "output_type": "stream",
     "text": [
      "Введите число: 5\n",
      "неотрицательное число\n",
      "конец\n"
     ]
    }
   ],
   "source": [
    "user_number = int(input('Введите число: '))\n",
    "if user_number < 0:\n",
    "    print(\"отрицательное число\")  \n",
    "else:\n",
    "    print(\"неотрицательное число\")\n",
    "print('конец')"
   ]
  },
  {
   "cell_type": "markdown",
   "metadata": {
    "id": "mc2j4FP_9scf"
   },
   "source": [
    "Посмотрим внимательнее на шаблон. После **`if`** пишется **условие**. После условия ставится двоеточие `:`.\n",
    "Блок инструкций пишется с отступом в 4 пробела. (*Если после двоеточия нажать Enter, юпитер сам сделает отступа в 4 пробела*).\n",
    "Этот блок выполнится, **если условие верно**.\n",
    "\n",
    "Условие здесь `user_number < 0`, т.е. мы проверяем, меньше ли значение переменной `user_number`, чем 0.\n",
    "\n",
    "После **`else`** ставится двоеточие. А затем с отступом пишется блок инструкций на случай, **если условие не выполняется**."
   ]
  },
  {
   "cell_type": "markdown",
   "metadata": {
    "id": "4BUP71so0-bR"
   },
   "source": [
    "_Отступы это и есть пример простоты синтаксиса питона. Вместо того, чтобы использовать для группировки выражений скобки, в питоне используются отступы. Инструкции / **команды**, расположенные **на одном уровне отступов** выполняются **последовательно**_"
   ]
  },
  {
   "cell_type": "markdown",
   "metadata": {
    "id": "2hLuqOr49scg"
   },
   "source": [
    "### Вложенное условие\n",
    "Но ноль — ни положительное, ни отрицательное число, поэтому нужно второе условие."
   ]
  },
  {
   "cell_type": "code",
   "execution_count": 3,
   "metadata": {
    "colab": {
     "base_uri": "https://localhost:8080/"
    },
    "id": "Y31lDRkUT01P",
    "outputId": "5fd5c3a6-b1ed-49f1-fbd3-94d6e91ad0a4"
   },
   "outputs": [
    {
     "name": "stdout",
     "output_type": "stream",
     "text": [
      "Введите число: 0\n",
      "ноль\n"
     ]
    }
   ],
   "source": [
    "user_number = float(input('Введите число: '))\n",
    "if user_number < 0:\n",
    "    print(\"отрицательное число\")\n",
    "else:\n",
    "    if user_number == 0:\n",
    "        print(\"ноль\")\n",
    "    else:\n",
    "        print(\"положительное число\")"
   ]
  },
  {
   "cell_type": "markdown",
   "metadata": {},
   "source": [
    "#### Что мы сделали?\n",
    "Мы в блок инструкций добавили ещё одну \"условную конструкцию\""
   ]
  },
  {
   "cell_type": "markdown",
   "metadata": {},
   "source": [
    "```\n",
    "если число < 0:\n",
    "    печатаем \"отрицательное число\"\n",
    "иначе:\n",
    "    # этот блок кода выполняется, если число неотрицательное    \n",
    "    # то есть либо ноль, либо положительное. Проверим, равно ли нулю.    \n",
    "    если число == 0:    \n",
    "        печатаем \"ноль\"        \n",
    "    иначе:    \n",
    "        # этот блок кода выполняется, если наше уже точно неотрицательное не ноль, т.е. положительное        \n",
    "        печатаем \"положительное число\"\n",
    "```"
   ]
  },
  {
   "cell_type": "markdown",
   "metadata": {
    "id": "HKHHFAyrAJLM"
   },
   "source": [
    "Обратите внимание, что мы вложили одно условие в другое.\n",
    "\n",
    "Можно добавлять условные конструкции в любой блок инструкций. (неограниченное количество раз)"
   ]
  },
  {
   "cell_type": "markdown",
   "metadata": {},
   "source": [
    "### Тренировка\n",
    "Напишите программу, чтобы она так же реагировала на `number`, но начиналась бы с `if number == 0:`."
   ]
  },
  {
   "cell_type": "code",
   "execution_count": 4,
   "metadata": {},
   "outputs": [
    {
     "name": "stdout",
     "output_type": "stream",
     "text": [
      "Введите число: 8\n",
      "положительное\n"
     ]
    }
   ],
   "source": [
    "user_number = float(input('Введите число: '))\n",
    "if user_number == 0:\n",
    "    print(\"ноль\")\n",
    "else:\n",
    "    if user_number < 0:\n",
    "        print('отрицательное')\n",
    "    else:\n",
    "        print('положительное')"
   ]
  },
  {
   "cell_type": "markdown",
   "metadata": {
    "id": "1k-LfPcBVWK7"
   },
   "source": [
    "### elif\n",
    "Но условия в условии можно красиво избежать:"
   ]
  },
  {
   "cell_type": "code",
   "execution_count": 6,
   "metadata": {
    "colab": {
     "base_uri": "https://localhost:8080/"
    },
    "id": "3h7DxVmEVLz7",
    "outputId": "8d699475-10a5-4c0c-9cba-df2a6826138a"
   },
   "outputs": [
    {
     "name": "stdout",
     "output_type": "stream",
     "text": [
      "Введите число: 0\n",
      "ноль\n"
     ]
    }
   ],
   "source": [
    "number = float(input('Введите число: '))\n",
    "\n",
    "if number > 0:\n",
    "    print(\"положительное число\")\n",
    "elif number == 0:  # таких elif может быть много, после них пишут альтернативные условия\n",
    "    print(\"ноль\")\n",
    "elif number == 1:\n",
    "    print('1')\n",
    "else:\n",
    "    print(\"отрицательное число\")"
   ]
  },
  {
   "cell_type": "markdown",
   "metadata": {},
   "source": [
    "После `if` мы написали условие\n",
    "\n",
    "После `elif` можно написать альтернативное условие\n",
    "\n",
    "После `elif` можно написать ещё какое-нибудь альтернативное условие\n",
    "\n",
    "...\n",
    "\n",
    "Мы попадаем в блок инструкций после `else`, если все условия выше не выполнились."
   ]
  },
  {
   "cell_type": "markdown",
   "metadata": {
    "id": "bmNx8is_WV79"
   },
   "source": [
    "### Основные операторы сравнения\n",
    "\n",
    "- `>` — больше. Условие истинно, если то, что слева от знака больше того, что справа\n",
    "- `<` — меньше. Условие истинно, если то, что слева от знака меньше того, что справа\n",
    "- `>=` — больше либо равно\n",
    "- `<=` — меньше либо равно\n",
    "- `==` — в точности равно\n",
    "- `!=` — не равно"
   ]
  },
  {
   "cell_type": "markdown",
   "metadata": {
    "id": "Baup6azjXMis"
   },
   "source": [
    "### Тренировка\n",
    "Пользователь вводит число и получает это число в кубе (возвести в степень: 5\\*\\*3 = 5\\*5\\*5 = 125)\n",
    "\n",
    "Пользователь может отказаться словом \"стоп\" (программа выводит сообщение: \"вы отказались от услуги\")"
   ]
  },
  {
   "cell_type": "code",
   "execution_count": 7,
   "metadata": {
    "colab": {
     "base_uri": "https://localhost:8080/"
    },
    "id": "NrKkXt8_Lbjg",
    "outputId": "afd7fe6c-db9f-4b15-b4fd-5b6c205eb512"
   },
   "outputs": [
    {
     "name": "stdout",
     "output_type": "stream",
     "text": [
      "Ввведите число или стоп: 8\n",
      "512\n"
     ]
    }
   ],
   "source": [
    "usernumber = input('Ввведите число или стоп: ')\n",
    "if usernumber == 'стоп':\n",
    "    print('вы отказались от услуги')\n",
    "else:\n",
    "    print(int(usernumber)**3)"
   ]
  },
  {
   "cell_type": "markdown",
   "metadata": {
    "id": "WyqBdkwKYk4-"
   },
   "source": [
    "### Тип данных bool\n",
    "\n",
    "Всего два значения: True и False.\n",
    "\n",
    "С большой буквы.\n",
    "\n",
    "(Не называйте переменные true или false — мы за красивый понятный код)"
   ]
  },
  {
   "cell_type": "code",
   "execution_count": 8,
   "metadata": {},
   "outputs": [
    {
     "name": "stdout",
     "output_type": "stream",
     "text": [
      "True\n"
     ]
    }
   ],
   "source": [
    "print(5>0)"
   ]
  },
  {
   "cell_type": "code",
   "execution_count": 9,
   "metadata": {
    "colab": {
     "base_uri": "https://localhost:8080/"
    },
    "id": "VYv9srw8WPBL",
    "outputId": "9f63c321-f330-455e-e27c-29c9d7f49d87"
   },
   "outputs": [
    {
     "name": "stdout",
     "output_type": "stream",
     "text": [
      "<class 'bool'>\n"
     ]
    }
   ],
   "source": [
    "print(type(5>0))"
   ]
  },
  {
   "cell_type": "markdown",
   "metadata": {},
   "source": [
    "#### Из bool в int"
   ]
  },
  {
   "cell_type": "code",
   "execution_count": 10,
   "metadata": {
    "colab": {
     "base_uri": "https://localhost:8080/"
    },
    "id": "OtNupo_4Y1YZ",
    "outputId": "0510dc2d-72c7-42a5-c1e6-a7bc6eb6f761"
   },
   "outputs": [
    {
     "name": "stdout",
     "output_type": "stream",
     "text": [
      "1\n",
      "0\n"
     ]
    }
   ],
   "source": [
    "# bool переводится в число int\n",
    "print(int(True))\n",
    "print(int(False))"
   ]
  },
  {
   "cell_type": "markdown",
   "metadata": {
    "id": "LNu0x8PADo7t"
   },
   "source": [
    "(*Но вообще-то `bool` и так похоже на `int`:*)"
   ]
  },
  {
   "cell_type": "code",
   "execution_count": 11,
   "metadata": {
    "colab": {
     "base_uri": "https://localhost:8080/"
    },
    "id": "3GO_Q0J3DuyI",
    "outputId": "eefcf609-facd-4d4e-d114-46f1975fd22f"
   },
   "outputs": [
    {
     "name": "stdout",
     "output_type": "stream",
     "text": [
      "2\n",
      "<class 'int'>\n",
      "0\n",
      "4\n",
      "<class 'int'>\n"
     ]
    }
   ],
   "source": [
    "print(True + True)\n",
    "print(type(True + True))\n",
    "\n",
    "print(False * 4)\n",
    "print(True * 4)\n",
    "print(type(True * 4))"
   ]
  },
  {
   "cell_type": "markdown",
   "metadata": {
    "id": "nwrOB0XwFepB"
   },
   "source": [
    "*то есть оно автоматически конвертируется и не ломается, когда делают операции как с целыми числами*"
   ]
  },
  {
   "cell_type": "markdown",
   "metadata": {},
   "source": [
    "#### Из bool во float"
   ]
  },
  {
   "cell_type": "code",
   "execution_count": 12,
   "metadata": {
    "id": "_ELRrTTI9sdJ"
   },
   "outputs": [
    {
     "name": "stdout",
     "output_type": "stream",
     "text": [
      "1.0\n",
      "0.0\n"
     ]
    }
   ],
   "source": [
    "# bool переводится в число float\n",
    "print(float(True))\n",
    "print(float(False))"
   ]
  },
  {
   "cell_type": "markdown",
   "metadata": {},
   "source": [
    "#### Из bool в str"
   ]
  },
  {
   "cell_type": "code",
   "execution_count": 13,
   "metadata": {},
   "outputs": [
    {
     "name": "stdout",
     "output_type": "stream",
     "text": [
      "True\n",
      "False\n"
     ]
    }
   ],
   "source": [
    "# bool переводится в строку str\n",
    "print(str(True))\n",
    "print(str(False))"
   ]
  },
  {
   "cell_type": "markdown",
   "metadata": {},
   "source": [
    "#### Из int, float, str в bool"
   ]
  },
  {
   "cell_type": "code",
   "execution_count": 14,
   "metadata": {
    "colab": {
     "base_uri": "https://localhost:8080/"
    },
    "id": "T5wS9soFc7kW",
    "outputId": "fd154235-d001-4d63-934d-c5c114294cb6"
   },
   "outputs": [
    {
     "name": "stdout",
     "output_type": "stream",
     "text": [
      "True\n",
      "True\n",
      "False\n",
      "False\n"
     ]
    }
   ],
   "source": [
    "# Числа переводятся в bool: все кроме нуля — True\n",
    "print(bool(4))\n",
    "print(bool(-6.578))\n",
    "print(bool(0))\n",
    "print(bool())"
   ]
  },
  {
   "cell_type": "code",
   "execution_count": 15,
   "metadata": {
    "colab": {
     "base_uri": "https://localhost:8080/"
    },
    "id": "rZ7tniSgdtT5",
    "outputId": "944f3c0c-d1ca-4d6f-8e59-c68217a4e644"
   },
   "outputs": [
    {
     "name": "stdout",
     "output_type": "stream",
     "text": [
      "True\n",
      "False\n"
     ]
    }
   ],
   "source": [
    "# Строки переводятся в bool: все кроме '' — True\n",
    "print(bool('непустая строка'))\n",
    "print(bool(''))"
   ]
  },
  {
   "cell_type": "markdown",
   "metadata": {
    "id": "Pu5CvG16jOIA"
   },
   "source": [
    "Получается, что для нас (и для python) `True` — наличие чего-то, непустота. А `False` — отсутствие."
   ]
  },
  {
   "cell_type": "code",
   "execution_count": 17,
   "metadata": {
    "colab": {
     "base_uri": "https://localhost:8080/"
    },
    "id": "FXX-JH7Ldd2o",
    "outputId": "8ac09e48-8c3f-4a93-8c68-3cec408394d8"
   },
   "outputs": [
    {
     "name": "stdout",
     "output_type": "stream",
     "text": [
      "Введите имя: Филипок\n",
      "Привет, Филипок\n"
     ]
    }
   ],
   "source": [
    "# Поэтому можно так:\n",
    "name = input(\"Введите имя: \")\n",
    "if name:\n",
    "    print(\"Привет,\", name)\n",
    "else:\n",
    "    print(\"Вы не ввели имя...\")"
   ]
  },
  {
   "cell_type": "markdown",
   "metadata": {
    "id": "0gz6cVw7jm5W"
   },
   "source": [
    "То есть выходит, что `if` тоже как бы делает `bool(<условие>)` (*здесь это `bool(name)`*) и проверяет истинно ли то, что получилось.\n",
    "\n"
   ]
  },
  {
   "cell_type": "markdown",
   "metadata": {
    "id": "uIUzqf4QfHxc"
   },
   "source": [
    "### Логические операторы\n",
    "- **and** (логическое И) возвращает истину (True), если оба условия по отдельности верны (тоже возвращают True)\n",
    "- **or** (логическое ИЛИ) вернет истину, если хотя бы одно из условий верно\n",
    "- **not** (логическое НЕТ) возьмет результат условия и “обратит” его."
   ]
  },
  {
   "cell_type": "code",
   "execution_count": 19,
   "metadata": {
    "colab": {
     "base_uri": "https://localhost:8080/"
    },
    "id": "ebvckhWjfg4u",
    "outputId": "7f3b8c24-61e5-4f3f-a0fc-6746dcafe1d9"
   },
   "outputs": [
    {
     "name": "stdout",
     "output_type": "stream",
     "text": [
      "20\n",
      "14\n",
      "Хотя бы одно число кратно 10.\n"
     ]
    }
   ],
   "source": [
    "a = int(input())\n",
    "b = int(input())\n",
    "\n",
    "if a % 10 == 0 or b % 10 == 0:\n",
    "    print('Хотя бы одно число кратно 10.')\n",
    "else:\n",
    "    print('Оба числа не кратны 10.')"
   ]
  },
  {
   "cell_type": "code",
   "execution_count": 20,
   "metadata": {},
   "outputs": [
    {
     "name": "stdout",
     "output_type": "stream",
     "text": [
      "5\n",
      "20\n",
      "делится второе\n",
      "Хотя бы одно число кратно 10.\n"
     ]
    }
   ],
   "source": [
    "# как написать это, не объединяя условия? Так:\n",
    "\n",
    "a = int(input())\n",
    "b = int(input())\n",
    "c = 0\n",
    "if a % 10 == 0:\n",
    "    c = c + 1\n",
    "    print('делится первое')\n",
    "if b % 10 == 0:\n",
    "    c = c + 1\n",
    "    print('делится второе')\n",
    "\n",
    "if c > 0:\n",
    "    print('Хотя бы одно число кратно 10.')"
   ]
  },
  {
   "cell_type": "markdown",
   "metadata": {
    "id": "X_nk2y3f9sdN"
   },
   "source": [
    "### Тренировка\n",
    "Пользователь вводит три числа (a, b, c). Программа выводит сообщение \"_ умножить на _ равно _\", где на пропусках стоят соответственно a, b, c. Если это это арифметическое действие выполняется.\n",
    "И \"_ умножить на _ не равно _\", если не выполняется."
   ]
  },
  {
   "cell_type": "code",
   "execution_count": 22,
   "metadata": {
    "id": "kPRD_FpE9sdO"
   },
   "outputs": [
    {
     "name": "stdout",
     "output_type": "stream",
     "text": [
      "4\n",
      "5\n",
      "45\n",
      "4 умножить на 5 не равно 45\n"
     ]
    }
   ],
   "source": [
    "a = int(input())\n",
    "b = int(input())\n",
    "c = int(input())\n",
    "\n",
    "if a * b == c:\n",
    "    print(a, 'умножить на', b, 'равно', c)\n",
    "else:\n",
    "    print(a, 'умножить на', b, 'не равно', c)"
   ]
  },
  {
   "cell_type": "markdown",
   "metadata": {
    "id": "VU2Wg0EXKfBh"
   },
   "source": [
    "Спросите у пользователя его рост в сантиметрах и скажите на сколько целых вершков он ниже, чем Петр I."
   ]
  },
  {
   "cell_type": "markdown",
   "metadata": {
    "id": "qBFKHmE2K8GN"
   },
   "source": [
    "- Сколько см в вершке?\n",
    "- Каков рост Петра I в см?"
   ]
  },
  {
   "cell_type": "code",
   "execution_count": null,
   "metadata": {
    "id": "CxKTV66RKkMN"
   },
   "outputs": [],
   "source": [
    "# ваш код"
   ]
  },
  {
   "cell_type": "markdown",
   "metadata": {
    "id": "zTubWB3sVqU0"
   },
   "source": [
    "## Дополнительно. Наибольшее положительное и наименьшее отрицательное <s>числа</s> штуки... (бесконечности)"
   ]
  },
  {
   "cell_type": "markdown",
   "metadata": {
    "id": "i25rjNWZV3lb"
   },
   "source": [
    "Иногда бывает, что нам нужно число, которое всегда при сравнении окажется больше. Или наоборот, меньше. Чем что-либо, что мы сравниваем.\n",
    "\n",
    "В питоне есть такие специальные штуки. Как и в математике. Бесконечности. Плюс и минус бесконечность\n",
    "\n",
    "∞\n"
   ]
  },
  {
   "cell_type": "code",
   "execution_count": 23,
   "metadata": {
    "id": "d9GdN1idThV7"
   },
   "outputs": [],
   "source": [
    "a = float('inf')\n",
    "b = float('-inf')"
   ]
  },
  {
   "cell_type": "code",
   "execution_count": 24,
   "metadata": {},
   "outputs": [
    {
     "data": {
      "text/plain": [
       "-inf"
      ]
     },
     "execution_count": 24,
     "metadata": {},
     "output_type": "execute_result"
    }
   ],
   "source": [
    "b"
   ]
  },
  {
   "cell_type": "code",
   "execution_count": 25,
   "metadata": {
    "colab": {
     "base_uri": "https://localhost:8080/"
    },
    "id": "IO_AAAEfTjxS",
    "outputId": "1b984ade-7ebb-4192-bab9-31e798b096f6"
   },
   "outputs": [
    {
     "data": {
      "text/plain": [
       "True"
      ]
     },
     "execution_count": 25,
     "metadata": {},
     "output_type": "execute_result"
    }
   ],
   "source": [
    "a > 10**100"
   ]
  },
  {
   "cell_type": "code",
   "execution_count": 26,
   "metadata": {
    "colab": {
     "base_uri": "https://localhost:8080/"
    },
    "id": "RRRdd57GVdHA",
    "outputId": "b74d43d2-b940-46cd-8163-1a5b272f6a23"
   },
   "outputs": [
    {
     "data": {
      "text/plain": [
       "True"
      ]
     },
     "execution_count": 26,
     "metadata": {},
     "output_type": "execute_result"
    }
   ],
   "source": [
    "b < -10**(200)"
   ]
  },
  {
   "cell_type": "code",
   "execution_count": 27,
   "metadata": {
    "colab": {
     "base_uri": "https://localhost:8080/"
    },
    "id": "G7G1trAfWJyT",
    "outputId": "f979ea16-3a50-4490-db28-89ddcfa3f9e2"
   },
   "outputs": [
    {
     "data": {
      "text/plain": [
       "nan"
      ]
     },
     "execution_count": 27,
     "metadata": {},
     "output_type": "execute_result"
    }
   ],
   "source": [
    "0 * a  # nan в питоне - это Not a Value - неопределённое"
   ]
  },
  {
   "cell_type": "code",
   "execution_count": 28,
   "metadata": {
    "colab": {
     "base_uri": "https://localhost:8080/"
    },
    "id": "2u6WnBelWIzh",
    "outputId": "b95ae63b-c6a4-4c93-ec84-40d6aa2584fb"
   },
   "outputs": [
    {
     "data": {
      "text/plain": [
       "0.0"
      ]
     },
     "execution_count": 28,
     "metadata": {},
     "output_type": "execute_result"
    }
   ],
   "source": [
    "1 / a"
   ]
  },
  {
   "cell_type": "markdown",
   "metadata": {},
   "source": [
    "#### Отступление от отступления\n",
    "На ноль делить нельзя"
   ]
  },
  {
   "cell_type": "code",
   "execution_count": 29,
   "metadata": {},
   "outputs": [
    {
     "ename": "ZeroDivisionError",
     "evalue": "division by zero",
     "output_type": "error",
     "traceback": [
      "\u001b[0;31m---------------------------------------------------------------------------\u001b[0m",
      "\u001b[0;31mZeroDivisionError\u001b[0m                         Traceback (most recent call last)",
      "Input \u001b[0;32mIn [29]\u001b[0m, in \u001b[0;36m<cell line: 1>\u001b[0;34m()\u001b[0m\n\u001b[0;32m----> 1\u001b[0m \u001b[38;5;241;43m4\u001b[39;49m\u001b[38;5;241;43m/\u001b[39;49m\u001b[38;5;241;43m0\u001b[39;49m\n",
      "\u001b[0;31mZeroDivisionError\u001b[0m: division by zero"
     ]
    }
   ],
   "source": [
    "4/0"
   ]
  }
 ],
 "metadata": {
  "colab": {
   "provenance": [],
   "toc_visible": true
  },
  "kernelspec": {
   "display_name": "Python 3 (ipykernel)",
   "language": "python",
   "name": "python3"
  },
  "language_info": {
   "codemirror_mode": {
    "name": "ipython",
    "version": 3
   },
   "file_extension": ".py",
   "mimetype": "text/x-python",
   "name": "python",
   "nbconvert_exporter": "python",
   "pygments_lexer": "ipython3",
   "version": "3.9.16"
  }
 },
 "nbformat": 4,
 "nbformat_minor": 1
}
