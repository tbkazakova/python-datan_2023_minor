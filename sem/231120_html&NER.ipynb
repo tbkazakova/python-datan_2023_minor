{
 "cells": [
  {
   "cell_type": "markdown",
   "metadata": {
    "id": "fYywIr2Z_AX6"
   },
   "source": [
    "# Немного кода для обкачивания интернета\n",
    "## Модуль [requests](https://realpython.com/python-requests/)"
   ]
  },
  {
   "cell_type": "markdown",
   "metadata": {
    "id": "JLnwtjiP_hRp"
   },
   "source": [
    "Давайте посмотрим html формат\n",
    "\n",
    "Лучший учебник - https://www.w3schools.com"
   ]
  },
  {
   "cell_type": "markdown",
   "metadata": {},
   "source": [
    "![](https://raw.githubusercontent.com/tbkazakova/python-datan_2023_minor/main/data/tag.png \"tag\")\n",
    "\n",
    "Теперь скачаем html страничку"
   ]
  },
  {
   "cell_type": "code",
   "execution_count": 1,
   "metadata": {
    "id": "uOwpwZplC97N"
   },
   "outputs": [],
   "source": [
    "import requests"
   ]
  },
  {
   "cell_type": "code",
   "execution_count": 2,
   "metadata": {
    "colab": {
     "base_uri": "https://localhost:8080/"
    },
    "id": "Ktnhb0JpKfzJ",
    "outputId": "9bb70417-ad34-4c37-e4a4-eb1916abd6b2"
   },
   "outputs": [
    {
     "name": "stderr",
     "output_type": "stream",
     "text": [
      "/Library/Frameworks/Python.framework/Versions/3.12/lib/python3.12/site-packages/urllib3/connectionpool.py:1099: InsecureRequestWarning: Unverified HTTPS request is being made to host 'www.moscowzoo.ru'. Adding certificate verification is strongly advised. See: https://urllib3.readthedocs.io/en/latest/advanced-usage.html#tls-warnings\n",
      "  warnings.warn(\n"
     ]
    }
   ],
   "source": [
    "response = requests.get(\"https://www.moscowzoo.ru/about-zoo/news/novosti-zooparka/pervyy-v-rossii-detenysh-bolshoy-pandy/\", verify=False)"
   ]
  },
  {
   "cell_type": "markdown",
   "metadata": {
    "id": "U-IkRMH6__Px"
   },
   "source": [
    "В `response` теперь лежит ответ сервера. Это не просто html-код страницы, а еще дополнительная информация"
   ]
  },
  {
   "cell_type": "code",
   "execution_count": 3,
   "metadata": {
    "colab": {
     "base_uri": "https://localhost:8080/"
    },
    "id": "s-4_rqv2Kkyw",
    "outputId": "b67a8e3a-343d-4fca-dd9b-614503829e00"
   },
   "outputs": [
    {
     "data": {
      "text/plain": [
       "<Response [200]>"
      ]
     },
     "execution_count": 3,
     "metadata": {},
     "output_type": "execute_result"
    }
   ],
   "source": [
    "response"
   ]
  },
  {
   "cell_type": "code",
   "execution_count": 10,
   "metadata": {
    "colab": {
     "base_uri": "https://localhost:8080/"
    },
    "id": "_QV-ZP7JK4Hw",
    "outputId": "6a28d626-08bb-4260-d16c-d9d48fa3b4ee"
   },
   "outputs": [
    {
     "data": {
      "text/plain": [
       "200"
      ]
     },
     "execution_count": 10,
     "metadata": {},
     "output_type": "execute_result"
    }
   ],
   "source": [
    "response.status_code\n",
    "# 200 - \"всё работает\"\n",
    "# 404, 503 и др. - \"произошла ошибка, не работает, такой страницы нет и т.д.\""
   ]
  },
  {
   "cell_type": "code",
   "execution_count": 4,
   "metadata": {
    "colab": {
     "base_uri": "https://localhost:8080/"
    },
    "id": "DQy6dsT_K4tx",
    "outputId": "d56082cd-9169-402f-b84d-f654110205ca"
   },
   "outputs": [
    {
     "name": "stdout",
     "output_type": "stream",
     "text": [
      "<!doctype html>\n",
      "<html lang=\"ru\">\n",
      "<head>\n",
      "\t<meta name=\"yandex-verification\" content=\"60483b355f0f5c1d\" />\n",
      "\t<link rel=\"icon\" type=\"image/x-icon\" href=\"/local/templates/zoo/favicon.ico\" />\n",
      "\t\t<meta http-equiv=\"Conte\n"
     ]
    }
   ],
   "source": [
    "# Вывели первые 210 символов html\n",
    "print(response.text[:210])"
   ]
  },
  {
   "cell_type": "markdown",
   "metadata": {
    "id": "QjVXYZO8BL7a"
   },
   "source": [
    "### Что делать, если сайт защищается?\n",
    "\n",
    "Если он защищается от краулеров, можно, например, представиться Мозиллой:"
   ]
  },
  {
   "cell_type": "code",
   "execution_count": 5,
   "metadata": {
    "colab": {
     "base_uri": "https://localhost:8080/"
    },
    "id": "gWMd6GBrK_UB",
    "outputId": "62570acd-6fe1-4300-a6a5-dd9b7fb39b47"
   },
   "outputs": [
    {
     "name": "stderr",
     "output_type": "stream",
     "text": [
      "/Library/Frameworks/Python.framework/Versions/3.12/lib/python3.12/site-packages/urllib3/connectionpool.py:1099: InsecureRequestWarning: Unverified HTTPS request is being made to host 'www.moscowzoo.ru'. Adding certificate verification is strongly advised. See: https://urllib3.readthedocs.io/en/latest/advanced-usage.html#tls-warnings\n",
      "  warnings.warn(\n"
     ]
    }
   ],
   "source": [
    "url = 'https://www.moscowzoo.ru/about-zoo/news/novosti-zooparka/pervyy-v-rossii-detenysh-bolshoy-pandy/'  # адрес страницы, которую мы хотим скачать\n",
    "user_agent = 'Mozilla/5.0 (Windows NT 6.1; Win64; x64)'  # хотим притворяться браузером\n",
    "\n",
    "response = requests.get(url, headers={'User-Agent':user_agent}, verify=False)\n"
   ]
  },
  {
   "cell_type": "markdown",
   "metadata": {
    "id": "VNdvicGoBYol"
   },
   "source": [
    "Или использовать **специальную библиотеку**:"
   ]
  },
  {
   "cell_type": "code",
   "execution_count": 6,
   "metadata": {
    "colab": {
     "base_uri": "https://localhost:8080/"
    },
    "id": "WZib0tqxMigz",
    "outputId": "3086e5d6-6a21-4d9a-f0d9-e28a9cfe72ba"
   },
   "outputs": [
    {
     "name": "stdout",
     "output_type": "stream",
     "text": [
      "Requirement already satisfied: fake-useragent in /Library/Frameworks/Python.framework/Versions/3.12/lib/python3.12/site-packages (1.3.0)\n"
     ]
    }
   ],
   "source": [
    "! pip3 install fake-useragent"
   ]
  },
  {
   "cell_type": "code",
   "execution_count": 7,
   "metadata": {
    "id": "GLd99b4pLCfD"
   },
   "outputs": [],
   "source": [
    "from fake_useragent import UserAgent"
   ]
  },
  {
   "cell_type": "code",
   "execution_count": 8,
   "metadata": {
    "colab": {
     "base_uri": "https://localhost:8080/",
     "height": 53
    },
    "id": "5bibnHRjLEfC",
    "outputId": "945da99b-ddc8-4dbe-809b-e799a18982fc"
   },
   "outputs": [
    {
     "data": {
      "text/plain": [
       "'Mozilla/5.0 (Windows NT 10.0; Win64; x64) AppleWebKit/537.36 (KHTML, like Gecko) Chrome/115.0.0.0 Safari/537.36 OPR/101.0.0.0'"
      ]
     },
     "execution_count": 8,
     "metadata": {},
     "output_type": "execute_result"
    }
   ],
   "source": [
    "user_agent = UserAgent().chrome\n",
    "user_agent"
   ]
  },
  {
   "cell_type": "code",
   "execution_count": 9,
   "metadata": {
    "colab": {
     "base_uri": "https://localhost:8080/"
    },
    "id": "FBB20VwfLG19",
    "outputId": "9600ac90-7e75-4dc9-d96d-e9ad0981cc04"
   },
   "outputs": [
    {
     "name": "stderr",
     "output_type": "stream",
     "text": [
      "/Library/Frameworks/Python.framework/Versions/3.12/lib/python3.12/site-packages/urllib3/connectionpool.py:1099: InsecureRequestWarning: Unverified HTTPS request is being made to host 'www.moscowzoo.ru'. Adding certificate verification is strongly advised. See: https://urllib3.readthedocs.io/en/latest/advanced-usage.html#tls-warnings\n",
      "  warnings.warn(\n"
     ]
    }
   ],
   "source": [
    "response = requests.get(\"https://www.moscowzoo.ru/about-zoo/news/novosti-zooparka/pervyy-v-rossii-detenysh-bolshoy-pandy/\",\n",
    "                        headers={'User-Agent':user_agent},\n",
    "                        verify=False)"
   ]
  },
  {
   "cell_type": "markdown",
   "metadata": {},
   "source": [
    "Или **прокси-сервер**. Это дополнительное звено между вами и интернетом, через него пойдет подключение и сайт не будет знать, что это вы посылаете запрос.\n",
    "\n",
    "Адреса прокси можно взять со специальных сайтов. И потом проверить, что они рабочие, прежде чем использовать https://checkerproxy.net/"
   ]
  },
  {
   "cell_type": "markdown",
   "metadata": {},
   "source": [
    "[Пример сервиса](https://whatismyipaddress.com/ip-lookup), который позволяет с некоторой точностью отследить по IP адресу\n",
    "\n",
    "Возвращаемся к скачиванию странички."
   ]
  },
  {
   "cell_type": "code",
   "execution_count": 11,
   "metadata": {
    "colab": {
     "base_uri": "https://localhost:8080/",
     "height": 36
    },
    "id": "r9WjpAVTLRBq",
    "outputId": "af13027f-039d-4e06-d6b1-3e56e511a776"
   },
   "outputs": [
    {
     "data": {
      "text/plain": [
       "'https://www.moscowzoo.ru/about-zoo/news/novosti-zooparka/pervyy-v-rossii-detenysh-bolshoy-pandy/'"
      ]
     },
     "execution_count": 11,
     "metadata": {},
     "output_type": "execute_result"
    }
   ],
   "source": [
    "response.url  #ссылка"
   ]
  },
  {
   "cell_type": "code",
   "execution_count": 12,
   "metadata": {
    "colab": {
     "base_uri": "https://localhost:8080/"
    },
    "id": "LDR9cY5NLPAG",
    "outputId": "1a877a38-5463-4936-94e2-00e2e7946c0b"
   },
   "outputs": [
    {
     "name": "stdout",
     "output_type": "stream",
     "text": [
      "<!doctype html>\n",
      "<html lang=\"ru\">\n",
      "<head>\n",
      "\t<meta name=\"yandex-verification\" content=\"60483b355f0f5c1d\" />\n",
      "\t<link rel=\"icon\" type=\"image/x-icon\" href=\"/local/templates/zoo/favicon.ico\" />\n",
      "\t\t<meta http-equiv=\"Content-Type\" content=\"text/html; charset=UTF-8\" />\n",
      "<script type=\"text/javascript\" data-skip-mo\n"
     ]
    }
   ],
   "source": [
    "print(response.text[:300])  #html код"
   ]
  },
  {
   "cell_type": "markdown",
   "metadata": {
    "id": "u0eOPE4kLVY-"
   },
   "source": [
    "Существует несколько вариантов, как достать что-то из определенного тега, например, достать заголовок:\n",
    "\n",
    "- регулярные выражения (плохой вариант)\n",
    "- специальные библиотеки питона, например, BeautifulSoup (bs4) или lxml (хороший вариант)\n"
   ]
  },
  {
   "cell_type": "markdown",
   "metadata": {},
   "source": [
    "Регулярными выражениями мы уже умеем:"
   ]
  },
  {
   "cell_type": "code",
   "execution_count": 13,
   "metadata": {},
   "outputs": [],
   "source": [
    "import re"
   ]
  },
  {
   "cell_type": "code",
   "execution_count": 70,
   "metadata": {},
   "outputs": [
    {
     "data": {
      "text/plain": [
       "'<div class=\"dp-content-inner\" style=\"color:#fff;\">\\n\\t\\t\\t\\t\\t\\t\\t\\t\\t\\t\\t\\t\\t\\t\\n\\n<div class=\"dp-content border-block\">\\n\\t<div class=\"container\">\\n\\t\\t<div class=\"row\">\\n\\t\\t\\t<div class=\"dp-content-inner\" style=\"color:#fff;\">\\n\\t\\t\\t\\t\\t\\t\\t\\t\\t\\t\\t\\tВ Московском зоопарке появился на свет первый в истории России детеныш большой панды. Это уникальное событие как для страны, так и для всего мирового природоохранного сообщества. Панды переданы Московскому зоопарку в рамках международной программы по сохранению, защите и исследованию больших панд. Миссия зоопарка – внести значимый вклад в создание резервной популяции этих редчайших животных.&nbsp;<br>\\r\\n &nbsp;<br>\\r\\n Малыш весом около 150 граммов родился у молодой пары больших панд — самца Жуи и самки Диндин. Пол детеныша пока неизвестен. Наша Диндин проявила большую заботу и сразу приняла малыша. За самкой круглосуточно наблюдают и берут все необходимые анализы.&nbsp;<br>\\r\\n &nbsp;<br>\\r\\n Первый в России детеныш большой панды появился на свет после спаривания естественным путём. Чтобы помочь коллегам, в Москву на три месяца прибыл эксперт по размножению больших панд из Исследовательского центра по сохранению больших панд Китая. Специалисты не торопили животных, четко следовали указаниям китайских коллег, добивались идеальных условий содержания, и в итоге самка забеременела с первого раза.&nbsp;<br>\\r\\n &nbsp;<br>\\r\\n Этот случай уникален еще и потому, что Жуи и Диндин молоды: им семь и шесть лет соответственно. Обычно первый детеныш рождается, когда родители достигают 8-10 лет.&nbsp;<br>\\r\\n &nbsp;<br>\\r\\n Получить потомство панд невероятно сложно. Рождение детенышей — это одновременно и большая удача, и результат долгой и кропотливой работы специалистов.&nbsp;<br>\\r\\n &nbsp;<br>\\r\\n Большие панды прибыли в Москву 29 апреля 2019 года специальным рейсом из Пекина. На церемонии открытия павильона «Фауна Китая» в Московском зоопарке присутствовали Президент России Владимир Путин и председатель Китайской Народной Республики Си Цзиньпин. Главы двух государств приняли решение по проведению совместного исследования этих редких животных в честь 70-летия установления дипломатических отношений между странами.<br>\\t\\t\\t</div>'"
      ]
     },
     "execution_count": 70,
     "metadata": {},
     "output_type": "execute_result"
    }
   ],
   "source": [
    "code = response.text\n",
    "re.search(r'<div class=\"dp-content-inner\" style=\"color:#fff;\">(.|\\n)*?<\\/div>', code).group()"
   ]
  },
  {
   "cell_type": "markdown",
   "metadata": {},
   "source": [
    "Теперь умный способ:"
   ]
  },
  {
   "cell_type": "code",
   "execution_count": 23,
   "metadata": {
    "id": "Plyfqjj6LbUu"
   },
   "outputs": [],
   "source": [
    "from bs4 import BeautifulSoup"
   ]
  },
  {
   "cell_type": "code",
   "execution_count": 24,
   "metadata": {
    "colab": {
     "base_uri": "https://localhost:8080/"
    },
    "id": "X0KZwMnlLb_P",
    "outputId": "0b02bdc1-7c52-4ac1-c71a-5cd322ee8f83"
   },
   "outputs": [
    {
     "name": "stdout",
     "output_type": "stream",
     "text": [
      "<!DOCTYPE html>\n",
      "<html lang=\"ru\">\n",
      " <head>\n",
      "  <meta content=\"60483b355f0f5c1d\" name=\"yandex-verification\"/>\n",
      "  <link href=\"/local/templates/zoo/favicon.ico\" rel=\"icon\" type=\"image/x-icon\"/>\n",
      "  <meta content=\"text/html; charset=utf-8\" http-equiv=\"Content-Type\"/>\n",
      "  <script data-skip-moving=\"true\" type=\"text/javascript\">\n",
      "   (function(w, d, n) {var cl = \"bx-core\";var ht = d.documentElement;var htc = ht ? ht.className : undefined;if (htc === undefined || htc.indexOf(cl) !== -1){return;}var ua = n.userAgen\n"
     ]
    }
   ],
   "source": [
    "# инициализируем (создаем) soup из response.text (кода страницы)\n",
    "soup = BeautifulSoup(response.text, 'html.parser')\n",
    "print(soup.prettify()[:500])  # печатаем приукрашенный суп"
   ]
  },
  {
   "cell_type": "markdown",
   "metadata": {
    "id": "I_aRES2gkKKv"
   },
   "source": [
    "Если мы хотим вывести заголовок, нужно посмотреть, какими тегами он оформляется.\n",
    "\n",
    "Заходим на наш сайт\n",
    "\n",
    "На этом конкретном сайте заголовки лежат внутри тегов `cp-banner`"
   ]
  },
  {
   "cell_type": "code",
   "execution_count": 25,
   "metadata": {
    "colab": {
     "base_uri": "https://localhost:8080/"
    },
    "id": "i6pUDHujDjy8",
    "outputId": "0ab8b677-1b4e-4a68-aaba-a81c058e4761"
   },
   "outputs": [
    {
     "name": "stdout",
     "output_type": "stream",
     "text": [
      "<cp-banner>\n",
      " <template #title=\"\">\n",
      "  ПЕРВЫЙ В РОССИИ ДЕТЕНЫШ БОЛЬШОЙ ПАНДЫ\n",
      " </template>\n",
      " <template #description=\"\">\n",
      " </template>\n",
      "</cp-banner>\n",
      "\n"
     ]
    }
   ],
   "source": [
    "name = soup.find('cp-banner')\n",
    "print(name.prettify())"
   ]
  },
  {
   "cell_type": "markdown",
   "metadata": {
    "id": "AyIWW4_fqhNU"
   },
   "source": [
    "А внутри этого раздела текст заголовка лежит внутри первого тега `template`"
   ]
  },
  {
   "cell_type": "code",
   "execution_count": 26,
   "metadata": {},
   "outputs": [
    {
     "name": "stdout",
     "output_type": "stream",
     "text": [
      "<template #title=\"\">\n",
      " ПЕРВЫЙ В РОССИИ ДЕТЕНЫШ БОЛЬШОЙ ПАНДЫ\n",
      "</template>\n",
      "\n"
     ]
    }
   ],
   "source": [
    "name2 = name.find('template')\n",
    "print(name2.prettify())"
   ]
  },
  {
   "cell_type": "markdown",
   "metadata": {
    "id": "NN5ADB3Oq3fK"
   },
   "source": [
    "Нас интересует только текст, поэтому сделаем `get_text`"
   ]
  },
  {
   "cell_type": "code",
   "execution_count": 27,
   "metadata": {
    "colab": {
     "base_uri": "https://localhost:8080/"
    },
    "id": "F17TqugpFW6N",
    "outputId": "f6b040b5-61e2-43a3-f962-076487f632d9"
   },
   "outputs": [
    {
     "name": "stdout",
     "output_type": "stream",
     "text": [
      "ПЕРВЫЙ В РОССИИ ДЕТЕНЫШ БОЛЬШОЙ ПАНДЫ\n"
     ]
    }
   ],
   "source": [
    "print(name2.get_text())"
   ]
  },
  {
   "cell_type": "markdown",
   "metadata": {
    "id": "m3PunNcLyUif"
   },
   "source": [
    "\\- Почему мы не сделали сразу `soup.find('template')`?\n",
    "\n",
    "\\- Потому что тегов `template` несколько, а мы ищем уникальное обрамление нашего заголовка."
   ]
  },
  {
   "cell_type": "code",
   "execution_count": 56,
   "metadata": {},
   "outputs": [],
   "source": [
    "# Проверьте, что будет, если искать по \"template\"\n",
    "# soup.find('template')"
   ]
  },
  {
   "cell_type": "code",
   "execution_count": 29,
   "metadata": {
    "colab": {
     "base_uri": "https://localhost:8080/"
    },
    "id": "rhljFiwGzEn_",
    "outputId": "04700217-4a53-4bac-cbfb-bd2b19872816"
   },
   "outputs": [
    {
     "data": {
      "text/plain": [
       "[<template #title=\"\">ПЕРВЫЙ В РОССИИ ДЕТЕНЫШ БОЛЬШОЙ ПАНДЫ</template>,\n",
       " <template #description=\"\"></template>]"
      ]
     },
     "execution_count": 29,
     "metadata": {},
     "output_type": "execute_result"
    }
   ],
   "source": [
    "# Вот так мы попросили найти все теги template внутри cp-banner\n",
    "soup.select('cp-banner > template')"
   ]
  },
  {
   "cell_type": "code",
   "execution_count": 30,
   "metadata": {
    "colab": {
     "base_uri": "https://localhost:8080/"
    },
    "id": "Cm2ecie42AS5",
    "outputId": "811df9ed-6ac3-47c8-b3f3-aedb61776b61"
   },
   "outputs": [
    {
     "name": "stdout",
     "output_type": "stream",
     "text": [
      "<template #title=\"\">ПЕРВЫЙ В РОССИИ ДЕТЕНЫШ БОЛЬШОЙ ПАНДЫ</template>\n",
      "Содержание тега:\n",
      "ПЕРВЫЙ В РОССИИ ДЕТЕНЫШ БОЛЬШОЙ ПАНДЫ\n"
     ]
    }
   ],
   "source": [
    "# Если мы уверены, что заголовок в первом из найденных тегов template,\n",
    "# можем вывести первый тег\n",
    "print(soup.select('cp-banner > template')[0])\n",
    "\n",
    "# и его содержание\n",
    "print('Содержание тега:')\n",
    "print(soup.select('cp-banner > template')[0].get_text())"
   ]
  },
  {
   "cell_type": "markdown",
   "metadata": {
    "id": "XEGa2yGZ-nPY"
   },
   "source": [
    "А теперь найдём текст новости.\n",
    "\n",
    "Он лежит в теге `<div class=\"dp-content-inner\" style=\"color:#fff;\">`\n",
    "\n",
    "\\- Как устроен этот тег?\n",
    "\n",
    "\\- div - имя тега, class и style - имена атрибутов, \"dp-content-inner\" и \"color:#fff;\" - значения атрибутов"
   ]
  },
  {
   "cell_type": "code",
   "execution_count": 32,
   "metadata": {
    "colab": {
     "base_uri": "https://localhost:8080/"
    },
    "id": "m3jmWqZ2Lmqu",
    "outputId": "fa1a23f5-fc9f-4a04-fdb6-0ca35eb85850"
   },
   "outputs": [
    {
     "name": "stdout",
     "output_type": "stream",
     "text": [
      "<div class=\"dp-content-inner\" style=\"color:#fff;\">\n",
      " <div class=\"dp-content border-block\">\n",
      "  <div class=\"container\">\n",
      "   <div class=\"row\">\n",
      "    <div class=\"dp-content-inner\" style=\"color:#fff;\">\n",
      "     В Московском зоопарке появился на свет первый в истории России детеныш большой панды. Это уникальное событие как для страны, так и для всего мирового природоохранного сообщества. Панды переданы Московскому зоопарку в рамках международной программы по сохранению, защите и исследованию больших панд. Миссия зоопарка – внести значимый вклад в создание резервной популяции этих редчайших животных.\n",
      "     <br/>\n",
      "     <br/>\n",
      "     Малыш весом около 150 граммов родился у молодой пары больших панд — самца Жуи и самки Диндин. Пол детеныша пока неизвестен. Наша Диндин проявила большую заботу и сразу приняла малыша. За самкой круглосуточно наблюдают и берут все необходимые анализы.\n",
      "     <br/>\n",
      "     <br/>\n",
      "     Первый в России детеныш большой панды появился на свет после спаривания естественным путём. Чтобы помочь коллегам, в Москву на три месяца прибыл эксперт по размножению больших панд из Исследовательского центра по сохранению больших панд Китая. Специалисты не торопили животных, четко следовали указаниям китайских коллег, добивались идеальных условий содержания, и в итоге самка забеременела с первого раза.\n",
      "     <br/>\n",
      "     <br/>\n",
      "     Этот случай уникален еще и потому, что Жуи и Диндин молоды: им семь и шесть лет соответственно. Обычно первый детеныш рождается, когда родители достигают 8-10 лет.\n",
      "     <br/>\n",
      "     <br/>\n",
      "     Получить потомство панд невероятно сложно. Рождение детенышей — это одновременно и большая удача, и результат долгой и кропотливой работы специалистов.\n",
      "     <br/>\n",
      "     <br/>\n",
      "     Большие панды прибыли в Москву 29 апреля 2019 года специальным рейсом из Пекина. На церемонии открытия павильона «Фауна Китая» в Московском зоопарке присутствовали Президент России Владимир Путин и председатель Китайской Народной Республики Си Цзиньпин. Главы двух государств приняли решение по проведению совместного исследования этих редких животных в честь 70-летия установления дипломатических отношений между странами.\n",
      "     <br/>\n",
      "    </div>\n",
      "   </div>\n",
      "  </div>\n",
      " </div>\n",
      "</div>\n",
      "\n"
     ]
    }
   ],
   "source": [
    "post = soup.find('div', {'class':\"dp-content-inner\", \"style\":\"color:#fff;\"})  # вот так можно указать атрибуты тегов\n",
    "print(post.prettify())"
   ]
  },
  {
   "cell_type": "code",
   "execution_count": 33,
   "metadata": {
    "colab": {
     "base_uri": "https://localhost:8080/"
    },
    "id": "yqphtp2aGvAa",
    "outputId": "a91bba3f-6ebb-4d80-a0c6-30b4364ac845"
   },
   "outputs": [
    {
     "name": "stdout",
     "output_type": "stream",
     "text": [
      "\n",
      "\n",
      "\n",
      "\n",
      "\n",
      "\t\t\t\t\t\t\t\t\t\t\t\tВ Московском зоопарке появился на свет первый в истории России детеныш большой панды. Это уникальное событие как для страны, так и для всего мирового природоохранного сообщества. Панды переданы Московскому зоопарку в рамках международной программы по сохранению, защите и исследованию больших панд. Миссия зоопарка – внести значимый вклад в создание резервной популяции этих редчайших животных. \n",
      "  \n",
      " Малыш весом около 150 граммов родился у молодой пары больших панд — самца Жуи и самки Диндин. Пол детеныша пока неизвестен. Наша Диндин проявила большую заботу и сразу приняла малыша. За самкой круглосуточно наблюдают и берут все необходимые анализы. \n",
      "  \n",
      " Первый в России детеныш большой панды появился на свет после спаривания естественным путём. Чтобы помочь коллегам, в Москву на три месяца прибыл эксперт по размножению больших панд из Исследовательского центра по сохранению больших панд Китая. Специалисты не торопили животных, четко следовали указаниям китайских коллег, добивались идеальных условий содержания, и в итоге самка забеременела с первого раза. \n",
      "  \n",
      " Этот случай уникален еще и потому, что Жуи и Диндин молоды: им семь и шесть лет соответственно. Обычно первый детеныш рождается, когда родители достигают 8-10 лет. \n",
      "  \n",
      " Получить потомство панд невероятно сложно. Рождение детенышей — это одновременно и большая удача, и результат долгой и кропотливой работы специалистов. \n",
      "  \n",
      " Большие панды прибыли в Москву 29 апреля 2019 года специальным рейсом из Пекина. На церемонии открытия павильона «Фауна Китая» в Московском зоопарке присутствовали Президент России Владимир Путин и председатель Китайской Народной Республики Си Цзиньпин. Главы двух государств приняли решение по проведению совместного исследования этих редких животных в честь 70-летия установления дипломатических отношений между странами. \n",
      "\n",
      "\n",
      "\n",
      "\n"
     ]
    }
   ],
   "source": [
    "text = post.get_text()  # получили текст\n",
    "print(text)"
   ]
  },
  {
   "cell_type": "code",
   "execution_count": 34,
   "metadata": {},
   "outputs": [
    {
     "name": "stdout",
     "output_type": "stream",
     "text": [
      "В Московском зоопарке появился на свет первый в истории России детеныш большой панды. Это уникальное событие как для страны, так и для всего мирового природоохранного сообщества. Панды переданы Московскому зоопарку в рамках международной программы по сохранению, защите и исследованию больших панд. Миссия зоопарка – внести значимый вклад в создание резервной популяции этих редчайших животных. \n",
      "  \n",
      " Малыш весом около 150 граммов родился у молодой пары больших панд — самца Жуи и самки Диндин. Пол детеныша пока неизвестен. Наша Диндин проявила большую заботу и сразу приняла малыша. За самкой круглосуточно наблюдают и берут все необходимые анализы. \n",
      "  \n",
      " Первый в России детеныш большой панды появился на свет после спаривания естественным путём. Чтобы помочь коллегам, в Москву на три месяца прибыл эксперт по размножению больших панд из Исследовательского центра по сохранению больших панд Китая. Специалисты не торопили животных, четко следовали указаниям китайских коллег, добивались идеальных условий содержания, и в итоге самка забеременела с первого раза. \n",
      "  \n",
      " Этот случай уникален еще и потому, что Жуи и Диндин молоды: им семь и шесть лет соответственно. Обычно первый детеныш рождается, когда родители достигают 8-10 лет. \n",
      "  \n",
      " Получить потомство панд невероятно сложно. Рождение детенышей — это одновременно и большая удача, и результат долгой и кропотливой работы специалистов. \n",
      "  \n",
      " Большие панды прибыли в Москву 29 апреля 2019 года специальным рейсом из Пекина. На церемонии открытия павильона «Фауна Китая» в Московском зоопарке присутствовали Президент России Владимир Путин и председатель Китайской Народной Республики Си Цзиньпин. Главы двух государств приняли решение по проведению совместного исследования этих редких животных в честь 70-летия установления дипломатических отношений между странами.\n"
     ]
    }
   ],
   "source": [
    "print(text.strip())"
   ]
  },
  {
   "cell_type": "markdown",
   "metadata": {
    "id": "XTkUT9bqG16z"
   },
   "source": [
    "Вот здесь можно [посмотреть часть документации BeautifulSoup](https://www.crummy.com/software/BeautifulSoup/bs4/doc.ru/bs4ru.html)"
   ]
  },
  {
   "cell_type": "markdown",
   "metadata": {},
   "source": [
    "### Пишем краулер\n",
    "\n",
    "Теперь давайте обкачаем несколько новостей.\n",
    "\n",
    "1. Где взять ссылки на новости?"
   ]
  },
  {
   "cell_type": "code",
   "execution_count": 35,
   "metadata": {},
   "outputs": [
    {
     "name": "stderr",
     "output_type": "stream",
     "text": [
      "/Library/Frameworks/Python.framework/Versions/3.12/lib/python3.12/site-packages/urllib3/connectionpool.py:1099: InsecureRequestWarning: Unverified HTTPS request is being made to host 'www.moscowzoo.ru'. Adding certificate verification is strongly advised. See: https://urllib3.readthedocs.io/en/latest/advanced-usage.html#tls-warnings\n",
      "  warnings.warn(\n"
     ]
    }
   ],
   "source": [
    "news_url = 'https://www.moscowzoo.ru/about-zoo/news/novosti-zooparka/'\n",
    "response = requests.get(news_url,\n",
    "                        headers={'User-Agent':user_agent},\n",
    "                        verify=False)\n",
    "soup = BeautifulSoup(response.text, 'html.parser')"
   ]
  },
  {
   "cell_type": "code",
   "execution_count": 36,
   "metadata": {},
   "outputs": [
    {
     "data": {
      "text/plain": [
       "[<a class=\"article-item-link\" href=\"/about-zoo/news/novosti-zooparka/moskovskiy-zoopark-prinyal-uchastie-v-dokuchaevskoy-konferentsii/\">Читать новость</a>,\n",
       " <a class=\"article-item-link\" href=\"/about-zoo/news/novosti-zooparka/v-zooparke-poyavilsya-na-svet-ptenets-redkogo-zhuravlya/\">Читать новость</a>,\n",
       " <a class=\"article-item-link\" href=\"/about-zoo/news/novosti-zooparka/7-noyabrya-na-odin-den-zakryvaetsya-vkhod-v-pavilon-zhivotnye-tropikov/\">Читать новость</a>,\n",
       " <a class=\"article-item-link\" href=\"/about-zoo/news/novosti-zooparka/vystavka-zoopark-v-pustyne/\">Читать новость</a>]"
      ]
     },
     "execution_count": 36,
     "metadata": {},
     "output_type": "execute_result"
    }
   ],
   "source": [
    "soup.find_all('a', {'class':\"article-item-link\"})"
   ]
  },
  {
   "cell_type": "markdown",
   "metadata": {},
   "source": [
    "2. Как вытащить ссылки из тегов?"
   ]
  },
  {
   "cell_type": "code",
   "execution_count": 37,
   "metadata": {},
   "outputs": [
    {
     "name": "stdout",
     "output_type": "stream",
     "text": [
      "/about-zoo/news/novosti-zooparka/moskovskiy-zoopark-prinyal-uchastie-v-dokuchaevskoy-konferentsii/\n",
      "/about-zoo/news/novosti-zooparka/v-zooparke-poyavilsya-na-svet-ptenets-redkogo-zhuravlya/\n",
      "/about-zoo/news/novosti-zooparka/7-noyabrya-na-odin-den-zakryvaetsya-vkhod-v-pavilon-zhivotnye-tropikov/\n",
      "/about-zoo/news/novosti-zooparka/vystavka-zoopark-v-pustyne/\n"
     ]
    }
   ],
   "source": [
    "for a in soup.find_all('a', {'class':\"article-item-link\"}):\n",
    "    print(a['href'])"
   ]
  },
  {
   "cell_type": "markdown",
   "metadata": {},
   "source": [
    "3. Как ходить по страницам списков новостей, чтобы доставать ссылки?"
   ]
  },
  {
   "cell_type": "code",
   "execution_count": 40,
   "metadata": {
    "scrolled": true
   },
   "outputs": [
    {
     "name": "stderr",
     "output_type": "stream",
     "text": [
      "/Library/Frameworks/Python.framework/Versions/3.12/lib/python3.12/site-packages/urllib3/connectionpool.py:1099: InsecureRequestWarning: Unverified HTTPS request is being made to host 'www.moscowzoo.ru'. Adding certificate verification is strongly advised. See: https://urllib3.readthedocs.io/en/latest/advanced-usage.html#tls-warnings\n",
      "  warnings.warn(\n",
      "/Library/Frameworks/Python.framework/Versions/3.12/lib/python3.12/site-packages/urllib3/connectionpool.py:1099: InsecureRequestWarning: Unverified HTTPS request is being made to host 'www.moscowzoo.ru'. Adding certificate verification is strongly advised. See: https://urllib3.readthedocs.io/en/latest/advanced-usage.html#tls-warnings\n",
      "  warnings.warn(\n",
      "/Library/Frameworks/Python.framework/Versions/3.12/lib/python3.12/site-packages/urllib3/connectionpool.py:1099: InsecureRequestWarning: Unverified HTTPS request is being made to host 'www.moscowzoo.ru'. Adding certificate verification is strongly advised. See: https://urllib3.readthedocs.io/en/latest/advanced-usage.html#tls-warnings\n",
      "  warnings.warn(\n",
      "/Library/Frameworks/Python.framework/Versions/3.12/lib/python3.12/site-packages/urllib3/connectionpool.py:1099: InsecureRequestWarning: Unverified HTTPS request is being made to host 'www.moscowzoo.ru'. Adding certificate verification is strongly advised. See: https://urllib3.readthedocs.io/en/latest/advanced-usage.html#tls-warnings\n",
      "  warnings.warn(\n",
      "/Library/Frameworks/Python.framework/Versions/3.12/lib/python3.12/site-packages/urllib3/connectionpool.py:1099: InsecureRequestWarning: Unverified HTTPS request is being made to host 'www.moscowzoo.ru'. Adding certificate verification is strongly advised. See: https://urllib3.readthedocs.io/en/latest/advanced-usage.html#tls-warnings\n",
      "  warnings.warn(\n"
     ]
    },
    {
     "data": {
      "text/plain": [
       "['https://www.moscowzoo.ru/about-zoo/news/novosti-zooparka/moskovskiy-zoopark-prinyal-uchastie-v-dokuchaevskoy-konferentsii/',\n",
       " 'https://www.moscowzoo.ru/about-zoo/news/novosti-zooparka/v-zooparke-poyavilsya-na-svet-ptenets-redkogo-zhuravlya/',\n",
       " 'https://www.moscowzoo.ru/about-zoo/news/novosti-zooparka/7-noyabrya-na-odin-den-zakryvaetsya-vkhod-v-pavilon-zhivotnye-tropikov/',\n",
       " 'https://www.moscowzoo.ru/about-zoo/news/novosti-zooparka/vystavka-zoopark-v-pustyne/',\n",
       " 'https://www.moscowzoo.ru/about-zoo/news/novosti-zooparka/bud-bditelen/',\n",
       " 'https://www.moscowzoo.ru/about-zoo/news/novosti-zooparka/s-16-oktyabrya-moskovskiy-zoopark-nemnogo-korrektiruet-rezhim-raboty/',\n",
       " 'https://www.moscowzoo.ru/about-zoo/news/novosti-zooparka/v-moskovskom-zooparke-poselilis-marabu/',\n",
       " 'https://www.moscowzoo.ru/about-zoo/news/novosti-zooparka/vremenno-zakryt-dopolnitelnyy-vkhod-u-metro-barrikadnaya-/',\n",
       " 'https://www.moscowzoo.ru/about-zoo/news/novosti-zooparka/milliony-let-nazad-start-novogo-sezona-v-detskom-lektorii/',\n",
       " 'https://www.moscowzoo.ru/about-zoo/news/novosti-zooparka/spasyem-zhizn-vmeste/',\n",
       " 'https://www.moscowzoo.ru/about-zoo/news/novosti-zooparka/zoopark-perekhodit-na-osenniy-rezhim-raboty-/',\n",
       " 'https://www.moscowzoo.ru/about-zoo/news/novosti-zooparka/zakryt-nochnoy-mir/',\n",
       " 'https://www.moscowzoo.ru/about-zoo/news/novosti-zooparka/moskovskiy-zoopark-skorbit-ob-utrate-diksona-/',\n",
       " 'https://www.moscowzoo.ru/about-zoo/news/novosti-zooparka/v-tsentre-vosproizvodstva-moskovskogo-zooparka-poyavilis-na-svet-ptentsy-polyarnykh-sov/',\n",
       " 'https://www.moscowzoo.ru/about-zoo/news/novosti-zooparka/mediaobrazovatelynyy-blog-tur-v-gostyakh-u-nositeley-yazyka-/',\n",
       " 'https://www.moscowzoo.ru/about-zoo/news/novosti-zooparka/gigantskiy-muraved-vyshel-v-novyy-voler-v-moskovskom-zooparke/',\n",
       " 'https://www.moscowzoo.ru/about-zoo/news/novosti-zooparka/v-svyazi-s-rozhdeniem-detyenysha-pandy-prokhod-vnutr-pavilona-fauna-kitaya-do-1-noyabrya-budet-zakry/',\n",
       " 'https://www.moscowzoo.ru/about-zoo/news/novosti-zooparka/3-sentyabrya-den-solidarnosti-v-borbe-s-terrorizmom/',\n",
       " 'https://www.moscowzoo.ru/about-zoo/news/novosti-zooparka/1-sentyabrya-v-15-00-v-moskovskom-zooparke-proydet-poznavatelno-razvlekatelnaya-programma-priurochen/',\n",
       " 'https://www.moscowzoo.ru/about-zoo/news/novosti-zooparka/pervyy-v-rossii-detenysh-bolshoy-pandy/']"
      ]
     },
     "execution_count": 40,
     "metadata": {},
     "output_type": "execute_result"
    }
   ],
   "source": [
    "news_urls = []\n",
    "news_url = 'https://www.moscowzoo.ru/about-zoo/news/novosti-zooparka/?PAGEN_1='\n",
    "for i in range(1, 6):\n",
    "    response = requests.get(news_url+str(i),\n",
    "                        headers={'User-Agent':user_agent},\n",
    "                        verify=False)\n",
    "    soup = BeautifulSoup(response.text, 'html.parser')\n",
    "    for a in soup.find_all('a', {'class':\"article-item-link\"}):\n",
    "        news_urls.append('https://www.moscowzoo.ru'+a['href'])\n",
    "news_urls"
   ]
  },
  {
   "cell_type": "code",
   "execution_count": 43,
   "metadata": {},
   "outputs": [
    {
     "name": "stderr",
     "output_type": "stream",
     "text": [
      "/Library/Frameworks/Python.framework/Versions/3.12/lib/python3.12/site-packages/urllib3/connectionpool.py:1099: InsecureRequestWarning: Unverified HTTPS request is being made to host 'www.moscowzoo.ru'. Adding certificate verification is strongly advised. See: https://urllib3.readthedocs.io/en/latest/advanced-usage.html#tls-warnings\n",
      "  warnings.warn(\n",
      "/Library/Frameworks/Python.framework/Versions/3.12/lib/python3.12/site-packages/urllib3/connectionpool.py:1099: InsecureRequestWarning: Unverified HTTPS request is being made to host 'www.moscowzoo.ru'. Adding certificate verification is strongly advised. See: https://urllib3.readthedocs.io/en/latest/advanced-usage.html#tls-warnings\n",
      "  warnings.warn(\n",
      "/Library/Frameworks/Python.framework/Versions/3.12/lib/python3.12/site-packages/urllib3/connectionpool.py:1099: InsecureRequestWarning: Unverified HTTPS request is being made to host 'www.moscowzoo.ru'. Adding certificate verification is strongly advised. See: https://urllib3.readthedocs.io/en/latest/advanced-usage.html#tls-warnings\n",
      "  warnings.warn(\n",
      "/Library/Frameworks/Python.framework/Versions/3.12/lib/python3.12/site-packages/urllib3/connectionpool.py:1099: InsecureRequestWarning: Unverified HTTPS request is being made to host 'www.moscowzoo.ru'. Adding certificate verification is strongly advised. See: https://urllib3.readthedocs.io/en/latest/advanced-usage.html#tls-warnings\n",
      "  warnings.warn(\n",
      "/Library/Frameworks/Python.framework/Versions/3.12/lib/python3.12/site-packages/urllib3/connectionpool.py:1099: InsecureRequestWarning: Unverified HTTPS request is being made to host 'www.moscowzoo.ru'. Adding certificate verification is strongly advised. See: https://urllib3.readthedocs.io/en/latest/advanced-usage.html#tls-warnings\n",
      "  warnings.warn(\n",
      "/Library/Frameworks/Python.framework/Versions/3.12/lib/python3.12/site-packages/urllib3/connectionpool.py:1099: InsecureRequestWarning: Unverified HTTPS request is being made to host 'www.moscowzoo.ru'. Adding certificate verification is strongly advised. See: https://urllib3.readthedocs.io/en/latest/advanced-usage.html#tls-warnings\n",
      "  warnings.warn(\n",
      "/Library/Frameworks/Python.framework/Versions/3.12/lib/python3.12/site-packages/urllib3/connectionpool.py:1099: InsecureRequestWarning: Unverified HTTPS request is being made to host 'www.moscowzoo.ru'. Adding certificate verification is strongly advised. See: https://urllib3.readthedocs.io/en/latest/advanced-usage.html#tls-warnings\n",
      "  warnings.warn(\n",
      "/Library/Frameworks/Python.framework/Versions/3.12/lib/python3.12/site-packages/urllib3/connectionpool.py:1099: InsecureRequestWarning: Unverified HTTPS request is being made to host 'www.moscowzoo.ru'. Adding certificate verification is strongly advised. See: https://urllib3.readthedocs.io/en/latest/advanced-usage.html#tls-warnings\n",
      "  warnings.warn(\n",
      "/Library/Frameworks/Python.framework/Versions/3.12/lib/python3.12/site-packages/urllib3/connectionpool.py:1099: InsecureRequestWarning: Unverified HTTPS request is being made to host 'www.moscowzoo.ru'. Adding certificate verification is strongly advised. See: https://urllib3.readthedocs.io/en/latest/advanced-usage.html#tls-warnings\n",
      "  warnings.warn(\n",
      "/Library/Frameworks/Python.framework/Versions/3.12/lib/python3.12/site-packages/urllib3/connectionpool.py:1099: InsecureRequestWarning: Unverified HTTPS request is being made to host 'www.moscowzoo.ru'. Adding certificate verification is strongly advised. See: https://urllib3.readthedocs.io/en/latest/advanced-usage.html#tls-warnings\n",
      "  warnings.warn(\n",
      "/Library/Frameworks/Python.framework/Versions/3.12/lib/python3.12/site-packages/urllib3/connectionpool.py:1099: InsecureRequestWarning: Unverified HTTPS request is being made to host 'www.moscowzoo.ru'. Adding certificate verification is strongly advised. See: https://urllib3.readthedocs.io/en/latest/advanced-usage.html#tls-warnings\n",
      "  warnings.warn(\n",
      "/Library/Frameworks/Python.framework/Versions/3.12/lib/python3.12/site-packages/urllib3/connectionpool.py:1099: InsecureRequestWarning: Unverified HTTPS request is being made to host 'www.moscowzoo.ru'. Adding certificate verification is strongly advised. See: https://urllib3.readthedocs.io/en/latest/advanced-usage.html#tls-warnings\n",
      "  warnings.warn(\n",
      "/Library/Frameworks/Python.framework/Versions/3.12/lib/python3.12/site-packages/urllib3/connectionpool.py:1099: InsecureRequestWarning: Unverified HTTPS request is being made to host 'www.moscowzoo.ru'. Adding certificate verification is strongly advised. See: https://urllib3.readthedocs.io/en/latest/advanced-usage.html#tls-warnings\n",
      "  warnings.warn(\n",
      "/Library/Frameworks/Python.framework/Versions/3.12/lib/python3.12/site-packages/urllib3/connectionpool.py:1099: InsecureRequestWarning: Unverified HTTPS request is being made to host 'www.moscowzoo.ru'. Adding certificate verification is strongly advised. See: https://urllib3.readthedocs.io/en/latest/advanced-usage.html#tls-warnings\n",
      "  warnings.warn(\n",
      "/Library/Frameworks/Python.framework/Versions/3.12/lib/python3.12/site-packages/urllib3/connectionpool.py:1099: InsecureRequestWarning: Unverified HTTPS request is being made to host 'www.moscowzoo.ru'. Adding certificate verification is strongly advised. See: https://urllib3.readthedocs.io/en/latest/advanced-usage.html#tls-warnings\n",
      "  warnings.warn(\n",
      "/Library/Frameworks/Python.framework/Versions/3.12/lib/python3.12/site-packages/urllib3/connectionpool.py:1099: InsecureRequestWarning: Unverified HTTPS request is being made to host 'www.moscowzoo.ru'. Adding certificate verification is strongly advised. See: https://urllib3.readthedocs.io/en/latest/advanced-usage.html#tls-warnings\n",
      "  warnings.warn(\n",
      "/Library/Frameworks/Python.framework/Versions/3.12/lib/python3.12/site-packages/urllib3/connectionpool.py:1099: InsecureRequestWarning: Unverified HTTPS request is being made to host 'www.moscowzoo.ru'. Adding certificate verification is strongly advised. See: https://urllib3.readthedocs.io/en/latest/advanced-usage.html#tls-warnings\n",
      "  warnings.warn(\n",
      "/Library/Frameworks/Python.framework/Versions/3.12/lib/python3.12/site-packages/urllib3/connectionpool.py:1099: InsecureRequestWarning: Unverified HTTPS request is being made to host 'www.moscowzoo.ru'. Adding certificate verification is strongly advised. See: https://urllib3.readthedocs.io/en/latest/advanced-usage.html#tls-warnings\n",
      "  warnings.warn(\n",
      "/Library/Frameworks/Python.framework/Versions/3.12/lib/python3.12/site-packages/urllib3/connectionpool.py:1099: InsecureRequestWarning: Unverified HTTPS request is being made to host 'www.moscowzoo.ru'. Adding certificate verification is strongly advised. See: https://urllib3.readthedocs.io/en/latest/advanced-usage.html#tls-warnings\n",
      "  warnings.warn(\n",
      "/Library/Frameworks/Python.framework/Versions/3.12/lib/python3.12/site-packages/urllib3/connectionpool.py:1099: InsecureRequestWarning: Unverified HTTPS request is being made to host 'www.moscowzoo.ru'. Adding certificate verification is strongly advised. See: https://urllib3.readthedocs.io/en/latest/advanced-usage.html#tls-warnings\n",
      "  warnings.warn(\n"
     ]
    }
   ],
   "source": [
    "news_texts = []\n",
    "for link in news_urls:\n",
    "    response = requests.get(link,\n",
    "                        headers={'User-Agent':user_agent},\n",
    "                        verify=False)\n",
    "    soup = BeautifulSoup(response.text, 'html.parser')\n",
    "    post = soup.find('div', {'class':\"dp-content-inner\", \"style\":\"color:#fff;\"}).get_text()\n",
    "    news_texts.append(post.strip())"
   ]
  },
  {
   "cell_type": "code",
   "execution_count": 44,
   "metadata": {},
   "outputs": [
    {
     "data": {
      "text/plain": [
       "'Детский лекторий Московского зоопарка запускает новый сезон! Первый цикл \\r\\n\\t мы посвящаем древним и далеким временам, когда жизнь на нашей планете еще только зарождалась. Мы отправимся в путешествие во времени, чтобы приблизиться к разгадке зарождения и эволюции жизни на Земле.\\r\\n\\n\\r\\n\\t 14 октября приглашаем на лекцию геолога и научного сотрудника Биологического музея им. К. А. Тимирязева Татьяны Кулашовой «Тайна зарождения жизни». Мы узнаем, какие теории возникновения жизни на Земле существуют, в чем суть гипотезы панспермии и возможно ли доказать теорию самозарождения.\\r\\n\\n\\r\\n\\t 21 октября состоится вторая лекция «Великий палеозойский подвиг жизни». Палеонтолог Анна Гуторова расскажет об одном из важных этапов освоения жизнью новых горизонтов - выход живых организмов из воды на сушу.\\r\\n\\n\\r\\n\\t 28 октября вместе с Лилией Щегловой мы поговорим о позднем палеозое, сказочном расцвете жизни каменноугольного периода, об удивительных животных, населявших нашу планету в этот период, и заглянем в самое сердце этой феерии красок и форм.\\r\\n\\n\\r\\n\\t 4 ноября вместе с Дмитрием Пащенко мы отправимся в мезозой – эру динозавров, более 150 миллионов лет господствовавших на Земле. На лекции мы познакомимся \\r\\n\\t с разнообразием форм динозавров, поймем почему они так долго успешно правили на Земле, и почему так внезапно исчезли.\\r\\n\\n\\r\\n\\t Заключительная лекция цикла пройдет 11 ноября. Вместе с зоологом Павлом Квартальновым мы погрузимся в мир Ледникового периода. Виновны ли люди \\r\\n\\t в исчезновении гигантов Ледникового периода? Где на Земле сохранились условия, напоминающие те далекие времена? Кто из соседей мамонта дожил до наших дней, где \\r\\n\\t и как\\xa0они живут и с кем из них\\xa0можно познакомиться в Московском зоопарке?\\r\\n\\n\\r\\n\\t Узнать подробности и приобрести билет можно здесь: https://www.moscowzoo.ru/education/detskij-lektorij/\\n\\n\\r\\n\\t Аудитория: 6+'"
      ]
     },
     "execution_count": 44,
     "metadata": {},
     "output_type": "execute_result"
    }
   ],
   "source": [
    "news_texts[8]"
   ]
  },
  {
   "cell_type": "markdown",
   "metadata": {
    "id": "F9V4Vkl6H1oA"
   },
   "source": [
    "## Знакомство с NER\n",
    "### (Named-entity recognition, извлечение именованных сущностей)\n",
    "\n",
    "Именнованные сущности: персоны, локации, организации (что ещё?)\n",
    "\n",
    "BIOES-схема: к метке сущности (например, PER для персон или ORG для организаций) добавляется префикс, который обозначает позицию токена в спане сущности:\n",
    "\n",
    "B – beginning – первый токен в спане сущности, которая состоит из нескольких токенов;\n",
    "\n",
    "I – inside – внутри спана;\n",
    "\n",
    "О – outside – токен не относится ни к какой сущности;\n",
    "\n",
    "E – ending – последний токен сущности, которая состоит из нескольких токенов;\n",
    "\n",
    "S – single – сущность состоит из одного токена."
   ]
  },
  {
   "cell_type": "code",
   "execution_count": 45,
   "metadata": {
    "colab": {
     "base_uri": "https://localhost:8080/",
     "height": 1000
    },
    "id": "Qs3eY6PmG_7j",
    "outputId": "aa9d6773-bfa2-41e2-c0c2-d01c125d5eae"
   },
   "outputs": [
    {
     "name": "stdout",
     "output_type": "stream",
     "text": [
      "Requirement already satisfied: pip in /Library/Frameworks/Python.framework/Versions/3.12/lib/python3.12/site-packages (23.3.1)\n",
      "Requirement already satisfied: setuptools in /Library/Frameworks/Python.framework/Versions/3.12/lib/python3.12/site-packages (68.2.2)\n",
      "Requirement already satisfied: wheel in /Library/Frameworks/Python.framework/Versions/3.12/lib/python3.12/site-packages (0.41.3)\n",
      "Requirement already satisfied: spacy in /Library/Frameworks/Python.framework/Versions/3.12/lib/python3.12/site-packages (3.7.2)\n",
      "Requirement already satisfied: spacy-legacy<3.1.0,>=3.0.11 in /Library/Frameworks/Python.framework/Versions/3.12/lib/python3.12/site-packages (from spacy) (3.0.12)\n",
      "Requirement already satisfied: spacy-loggers<2.0.0,>=1.0.0 in /Library/Frameworks/Python.framework/Versions/3.12/lib/python3.12/site-packages (from spacy) (1.0.5)\n",
      "Requirement already satisfied: murmurhash<1.1.0,>=0.28.0 in /Library/Frameworks/Python.framework/Versions/3.12/lib/python3.12/site-packages (from spacy) (1.0.10)\n",
      "Requirement already satisfied: cymem<2.1.0,>=2.0.2 in /Library/Frameworks/Python.framework/Versions/3.12/lib/python3.12/site-packages (from spacy) (2.0.8)\n",
      "Requirement already satisfied: preshed<3.1.0,>=3.0.2 in /Library/Frameworks/Python.framework/Versions/3.12/lib/python3.12/site-packages (from spacy) (3.0.9)\n",
      "Requirement already satisfied: thinc<8.3.0,>=8.1.8 in /Library/Frameworks/Python.framework/Versions/3.12/lib/python3.12/site-packages (from spacy) (8.2.1)\n",
      "Requirement already satisfied: wasabi<1.2.0,>=0.9.1 in /Library/Frameworks/Python.framework/Versions/3.12/lib/python3.12/site-packages (from spacy) (1.1.2)\n",
      "Requirement already satisfied: srsly<3.0.0,>=2.4.3 in /Library/Frameworks/Python.framework/Versions/3.12/lib/python3.12/site-packages (from spacy) (2.4.8)\n",
      "Requirement already satisfied: catalogue<2.1.0,>=2.0.6 in /Library/Frameworks/Python.framework/Versions/3.12/lib/python3.12/site-packages (from spacy) (2.0.10)\n",
      "Requirement already satisfied: weasel<0.4.0,>=0.1.0 in /Library/Frameworks/Python.framework/Versions/3.12/lib/python3.12/site-packages (from spacy) (0.3.4)\n",
      "Requirement already satisfied: typer<0.10.0,>=0.3.0 in /Library/Frameworks/Python.framework/Versions/3.12/lib/python3.12/site-packages (from spacy) (0.9.0)\n",
      "Requirement already satisfied: smart-open<7.0.0,>=5.2.1 in /Library/Frameworks/Python.framework/Versions/3.12/lib/python3.12/site-packages (from spacy) (6.4.0)\n",
      "Requirement already satisfied: tqdm<5.0.0,>=4.38.0 in /Library/Frameworks/Python.framework/Versions/3.12/lib/python3.12/site-packages (from spacy) (4.66.1)\n",
      "Requirement already satisfied: requests<3.0.0,>=2.13.0 in /Library/Frameworks/Python.framework/Versions/3.12/lib/python3.12/site-packages (from spacy) (2.31.0)\n",
      "Requirement already satisfied: pydantic!=1.8,!=1.8.1,<3.0.0,>=1.7.4 in /Library/Frameworks/Python.framework/Versions/3.12/lib/python3.12/site-packages (from spacy) (2.5.1)\n",
      "Requirement already satisfied: jinja2 in /Library/Frameworks/Python.framework/Versions/3.12/lib/python3.12/site-packages (from spacy) (3.1.2)\n",
      "Requirement already satisfied: setuptools in /Library/Frameworks/Python.framework/Versions/3.12/lib/python3.12/site-packages (from spacy) (68.2.2)\n",
      "Requirement already satisfied: packaging>=20.0 in /Library/Frameworks/Python.framework/Versions/3.12/lib/python3.12/site-packages (from spacy) (23.2)\n",
      "Requirement already satisfied: langcodes<4.0.0,>=3.2.0 in /Library/Frameworks/Python.framework/Versions/3.12/lib/python3.12/site-packages (from spacy) (3.3.0)\n",
      "Requirement already satisfied: numpy>=1.19.0 in /Library/Frameworks/Python.framework/Versions/3.12/lib/python3.12/site-packages (from spacy) (1.26.2)\n",
      "Requirement already satisfied: annotated-types>=0.4.0 in /Library/Frameworks/Python.framework/Versions/3.12/lib/python3.12/site-packages (from pydantic!=1.8,!=1.8.1,<3.0.0,>=1.7.4->spacy) (0.6.0)\n",
      "Requirement already satisfied: pydantic-core==2.14.3 in /Library/Frameworks/Python.framework/Versions/3.12/lib/python3.12/site-packages (from pydantic!=1.8,!=1.8.1,<3.0.0,>=1.7.4->spacy) (2.14.3)\n",
      "Requirement already satisfied: typing-extensions>=4.6.1 in /Library/Frameworks/Python.framework/Versions/3.12/lib/python3.12/site-packages (from pydantic!=1.8,!=1.8.1,<3.0.0,>=1.7.4->spacy) (4.8.0)\n",
      "Requirement already satisfied: charset-normalizer<4,>=2 in /Library/Frameworks/Python.framework/Versions/3.12/lib/python3.12/site-packages (from requests<3.0.0,>=2.13.0->spacy) (3.3.2)\n",
      "Requirement already satisfied: idna<4,>=2.5 in /Library/Frameworks/Python.framework/Versions/3.12/lib/python3.12/site-packages (from requests<3.0.0,>=2.13.0->spacy) (3.4)\n",
      "Requirement already satisfied: urllib3<3,>=1.21.1 in /Library/Frameworks/Python.framework/Versions/3.12/lib/python3.12/site-packages (from requests<3.0.0,>=2.13.0->spacy) (2.1.0)\n",
      "Requirement already satisfied: certifi>=2017.4.17 in /Library/Frameworks/Python.framework/Versions/3.12/lib/python3.12/site-packages (from requests<3.0.0,>=2.13.0->spacy) (2023.7.22)\n",
      "Requirement already satisfied: blis<0.8.0,>=0.7.8 in /Library/Frameworks/Python.framework/Versions/3.12/lib/python3.12/site-packages (from thinc<8.3.0,>=8.1.8->spacy) (0.7.11)\n",
      "Requirement already satisfied: confection<1.0.0,>=0.0.1 in /Library/Frameworks/Python.framework/Versions/3.12/lib/python3.12/site-packages (from thinc<8.3.0,>=8.1.8->spacy) (0.1.3)\n",
      "Requirement already satisfied: click<9.0.0,>=7.1.1 in /Library/Frameworks/Python.framework/Versions/3.12/lib/python3.12/site-packages (from typer<0.10.0,>=0.3.0->spacy) (8.1.7)\n",
      "Requirement already satisfied: cloudpathlib<0.17.0,>=0.7.0 in /Library/Frameworks/Python.framework/Versions/3.12/lib/python3.12/site-packages (from weasel<0.4.0,>=0.1.0->spacy) (0.16.0)\n",
      "Requirement already satisfied: MarkupSafe>=2.0 in /Library/Frameworks/Python.framework/Versions/3.12/lib/python3.12/site-packages (from jinja2->spacy) (2.1.3)\n"
     ]
    }
   ],
   "source": [
    "!pip3 install -U pip setuptools wheel\n",
    "!pip3 install -U spacy"
   ]
  },
  {
   "cell_type": "code",
   "execution_count": 46,
   "metadata": {},
   "outputs": [
    {
     "name": "stdout",
     "output_type": "stream",
     "text": [
      "Collecting ru-core-news-sm==3.7.0\n",
      "  Downloading https://github.com/explosion/spacy-models/releases/download/ru_core_news_sm-3.7.0/ru_core_news_sm-3.7.0-py3-none-any.whl (15.3 MB)\n",
      "\u001b[2K     \u001b[90m━━━━━━━━━━━━━━━━━━━━━━━━━━━━━━━━━━━━━━━━\u001b[0m \u001b[32m15.3/15.3 MB\u001b[0m \u001b[31m7.0 MB/s\u001b[0m eta \u001b[36m0:00:00\u001b[0m00:01\u001b[0m00:01\u001b[0m\n",
      "\u001b[?25hRequirement already satisfied: spacy<3.8.0,>=3.7.0 in /Library/Frameworks/Python.framework/Versions/3.12/lib/python3.12/site-packages (from ru-core-news-sm==3.7.0) (3.7.2)\n",
      "Requirement already satisfied: pymorphy3>=1.0.0 in /Library/Frameworks/Python.framework/Versions/3.12/lib/python3.12/site-packages (from ru-core-news-sm==3.7.0) (1.2.1)\n",
      "Requirement already satisfied: dawg-python>=0.7.1 in /Library/Frameworks/Python.framework/Versions/3.12/lib/python3.12/site-packages (from pymorphy3>=1.0.0->ru-core-news-sm==3.7.0) (0.7.2)\n",
      "Requirement already satisfied: docopt-ng>=0.6 in /Library/Frameworks/Python.framework/Versions/3.12/lib/python3.12/site-packages (from pymorphy3>=1.0.0->ru-core-news-sm==3.7.0) (0.9.0)\n",
      "Requirement already satisfied: pymorphy3-dicts-ru in /Library/Frameworks/Python.framework/Versions/3.12/lib/python3.12/site-packages (from pymorphy3>=1.0.0->ru-core-news-sm==3.7.0) (2.4.417150.4580142)\n",
      "Requirement already satisfied: spacy-legacy<3.1.0,>=3.0.11 in /Library/Frameworks/Python.framework/Versions/3.12/lib/python3.12/site-packages (from spacy<3.8.0,>=3.7.0->ru-core-news-sm==3.7.0) (3.0.12)\n",
      "Requirement already satisfied: spacy-loggers<2.0.0,>=1.0.0 in /Library/Frameworks/Python.framework/Versions/3.12/lib/python3.12/site-packages (from spacy<3.8.0,>=3.7.0->ru-core-news-sm==3.7.0) (1.0.5)\n",
      "Requirement already satisfied: murmurhash<1.1.0,>=0.28.0 in /Library/Frameworks/Python.framework/Versions/3.12/lib/python3.12/site-packages (from spacy<3.8.0,>=3.7.0->ru-core-news-sm==3.7.0) (1.0.10)\n",
      "Requirement already satisfied: cymem<2.1.0,>=2.0.2 in /Library/Frameworks/Python.framework/Versions/3.12/lib/python3.12/site-packages (from spacy<3.8.0,>=3.7.0->ru-core-news-sm==3.7.0) (2.0.8)\n",
      "Requirement already satisfied: preshed<3.1.0,>=3.0.2 in /Library/Frameworks/Python.framework/Versions/3.12/lib/python3.12/site-packages (from spacy<3.8.0,>=3.7.0->ru-core-news-sm==3.7.0) (3.0.9)\n",
      "Requirement already satisfied: thinc<8.3.0,>=8.1.8 in /Library/Frameworks/Python.framework/Versions/3.12/lib/python3.12/site-packages (from spacy<3.8.0,>=3.7.0->ru-core-news-sm==3.7.0) (8.2.1)\n",
      "Requirement already satisfied: wasabi<1.2.0,>=0.9.1 in /Library/Frameworks/Python.framework/Versions/3.12/lib/python3.12/site-packages (from spacy<3.8.0,>=3.7.0->ru-core-news-sm==3.7.0) (1.1.2)\n",
      "Requirement already satisfied: srsly<3.0.0,>=2.4.3 in /Library/Frameworks/Python.framework/Versions/3.12/lib/python3.12/site-packages (from spacy<3.8.0,>=3.7.0->ru-core-news-sm==3.7.0) (2.4.8)\n",
      "Requirement already satisfied: catalogue<2.1.0,>=2.0.6 in /Library/Frameworks/Python.framework/Versions/3.12/lib/python3.12/site-packages (from spacy<3.8.0,>=3.7.0->ru-core-news-sm==3.7.0) (2.0.10)\n",
      "Requirement already satisfied: weasel<0.4.0,>=0.1.0 in /Library/Frameworks/Python.framework/Versions/3.12/lib/python3.12/site-packages (from spacy<3.8.0,>=3.7.0->ru-core-news-sm==3.7.0) (0.3.4)\n",
      "Requirement already satisfied: typer<0.10.0,>=0.3.0 in /Library/Frameworks/Python.framework/Versions/3.12/lib/python3.12/site-packages (from spacy<3.8.0,>=3.7.0->ru-core-news-sm==3.7.0) (0.9.0)\n",
      "Requirement already satisfied: smart-open<7.0.0,>=5.2.1 in /Library/Frameworks/Python.framework/Versions/3.12/lib/python3.12/site-packages (from spacy<3.8.0,>=3.7.0->ru-core-news-sm==3.7.0) (6.4.0)\n",
      "Requirement already satisfied: tqdm<5.0.0,>=4.38.0 in /Library/Frameworks/Python.framework/Versions/3.12/lib/python3.12/site-packages (from spacy<3.8.0,>=3.7.0->ru-core-news-sm==3.7.0) (4.66.1)\n",
      "Requirement already satisfied: requests<3.0.0,>=2.13.0 in /Library/Frameworks/Python.framework/Versions/3.12/lib/python3.12/site-packages (from spacy<3.8.0,>=3.7.0->ru-core-news-sm==3.7.0) (2.31.0)\n",
      "Requirement already satisfied: pydantic!=1.8,!=1.8.1,<3.0.0,>=1.7.4 in /Library/Frameworks/Python.framework/Versions/3.12/lib/python3.12/site-packages (from spacy<3.8.0,>=3.7.0->ru-core-news-sm==3.7.0) (2.5.1)\n",
      "Requirement already satisfied: jinja2 in /Library/Frameworks/Python.framework/Versions/3.12/lib/python3.12/site-packages (from spacy<3.8.0,>=3.7.0->ru-core-news-sm==3.7.0) (3.1.2)\n",
      "Requirement already satisfied: setuptools in /Library/Frameworks/Python.framework/Versions/3.12/lib/python3.12/site-packages (from spacy<3.8.0,>=3.7.0->ru-core-news-sm==3.7.0) (68.2.2)\n",
      "Requirement already satisfied: packaging>=20.0 in /Library/Frameworks/Python.framework/Versions/3.12/lib/python3.12/site-packages (from spacy<3.8.0,>=3.7.0->ru-core-news-sm==3.7.0) (23.2)\n",
      "Requirement already satisfied: langcodes<4.0.0,>=3.2.0 in /Library/Frameworks/Python.framework/Versions/3.12/lib/python3.12/site-packages (from spacy<3.8.0,>=3.7.0->ru-core-news-sm==3.7.0) (3.3.0)\n",
      "Requirement already satisfied: numpy>=1.19.0 in /Library/Frameworks/Python.framework/Versions/3.12/lib/python3.12/site-packages (from spacy<3.8.0,>=3.7.0->ru-core-news-sm==3.7.0) (1.26.2)\n",
      "Requirement already satisfied: annotated-types>=0.4.0 in /Library/Frameworks/Python.framework/Versions/3.12/lib/python3.12/site-packages (from pydantic!=1.8,!=1.8.1,<3.0.0,>=1.7.4->spacy<3.8.0,>=3.7.0->ru-core-news-sm==3.7.0) (0.6.0)\n",
      "Requirement already satisfied: pydantic-core==2.14.3 in /Library/Frameworks/Python.framework/Versions/3.12/lib/python3.12/site-packages (from pydantic!=1.8,!=1.8.1,<3.0.0,>=1.7.4->spacy<3.8.0,>=3.7.0->ru-core-news-sm==3.7.0) (2.14.3)\n",
      "Requirement already satisfied: typing-extensions>=4.6.1 in /Library/Frameworks/Python.framework/Versions/3.12/lib/python3.12/site-packages (from pydantic!=1.8,!=1.8.1,<3.0.0,>=1.7.4->spacy<3.8.0,>=3.7.0->ru-core-news-sm==3.7.0) (4.8.0)\n",
      "Requirement already satisfied: charset-normalizer<4,>=2 in /Library/Frameworks/Python.framework/Versions/3.12/lib/python3.12/site-packages (from requests<3.0.0,>=2.13.0->spacy<3.8.0,>=3.7.0->ru-core-news-sm==3.7.0) (3.3.2)\n",
      "Requirement already satisfied: idna<4,>=2.5 in /Library/Frameworks/Python.framework/Versions/3.12/lib/python3.12/site-packages (from requests<3.0.0,>=2.13.0->spacy<3.8.0,>=3.7.0->ru-core-news-sm==3.7.0) (3.4)\n",
      "Requirement already satisfied: urllib3<3,>=1.21.1 in /Library/Frameworks/Python.framework/Versions/3.12/lib/python3.12/site-packages (from requests<3.0.0,>=2.13.0->spacy<3.8.0,>=3.7.0->ru-core-news-sm==3.7.0) (2.1.0)\n",
      "Requirement already satisfied: certifi>=2017.4.17 in /Library/Frameworks/Python.framework/Versions/3.12/lib/python3.12/site-packages (from requests<3.0.0,>=2.13.0->spacy<3.8.0,>=3.7.0->ru-core-news-sm==3.7.0) (2023.7.22)\n",
      "Requirement already satisfied: blis<0.8.0,>=0.7.8 in /Library/Frameworks/Python.framework/Versions/3.12/lib/python3.12/site-packages (from thinc<8.3.0,>=8.1.8->spacy<3.8.0,>=3.7.0->ru-core-news-sm==3.7.0) (0.7.11)\n",
      "Requirement already satisfied: confection<1.0.0,>=0.0.1 in /Library/Frameworks/Python.framework/Versions/3.12/lib/python3.12/site-packages (from thinc<8.3.0,>=8.1.8->spacy<3.8.0,>=3.7.0->ru-core-news-sm==3.7.0) (0.1.3)\n",
      "Requirement already satisfied: click<9.0.0,>=7.1.1 in /Library/Frameworks/Python.framework/Versions/3.12/lib/python3.12/site-packages (from typer<0.10.0,>=0.3.0->spacy<3.8.0,>=3.7.0->ru-core-news-sm==3.7.0) (8.1.7)\n",
      "Requirement already satisfied: cloudpathlib<0.17.0,>=0.7.0 in /Library/Frameworks/Python.framework/Versions/3.12/lib/python3.12/site-packages (from weasel<0.4.0,>=0.1.0->spacy<3.8.0,>=3.7.0->ru-core-news-sm==3.7.0) (0.16.0)\n",
      "Requirement already satisfied: MarkupSafe>=2.0 in /Library/Frameworks/Python.framework/Versions/3.12/lib/python3.12/site-packages (from jinja2->spacy<3.8.0,>=3.7.0->ru-core-news-sm==3.7.0) (2.1.3)\n",
      "\u001b[38;5;2m✔ Download and installation successful\u001b[0m\n",
      "You can now load the package via spacy.load('ru_core_news_sm')\n"
     ]
    }
   ],
   "source": [
    "! python3 -m spacy download ru_core_news_sm"
   ]
  },
  {
   "cell_type": "code",
   "execution_count": 47,
   "metadata": {
    "id": "-yqxq0MLHhKb"
   },
   "outputs": [],
   "source": [
    "import spacy"
   ]
  },
  {
   "cell_type": "code",
   "execution_count": 48,
   "metadata": {
    "id": "UT2A1rkbHM26"
   },
   "outputs": [],
   "source": [
    "nlp = spacy.load(\"ru_core_news_sm\")"
   ]
  },
  {
   "cell_type": "code",
   "execution_count": 71,
   "metadata": {},
   "outputs": [
    {
     "data": {
      "text/plain": [
       "В Московском зоопарке появился на свет первый в истории России детеныш большой панды. Это уникальное событие как для страны, так и для всего мирового природоохранного сообщества. Панды переданы Московскому зоопарку в рамках международной программы по сохранению, защите и исследованию больших панд. Миссия зоопарка – внести значимый вклад в создание резервной популяции этих редчайших животных. \n",
       "  \n",
       " Малыш весом около 150 граммов родился у молодой пары больших панд — самца Жуи и самки Диндин. Пол детеныша пока неизвестен. Наша Диндин проявила большую заботу и сразу приняла малыша. За самкой круглосуточно наблюдают и берут все необходимые анализы. \n",
       "  \n",
       " Первый в России детеныш большой панды появился на свет после спаривания естественным путём. Чтобы помочь коллегам, в Москву на три месяца прибыл эксперт по размножению больших панд из Исследовательского центра по сохранению больших панд Китая. Специалисты не торопили животных, четко следовали указаниям китайских коллег, добивались идеальных условий содержания, и в итоге самка забеременела с первого раза. \n",
       "  \n",
       " Этот случай уникален еще и потому, что Жуи и Диндин молоды: им семь и шесть лет соответственно. Обычно первый детеныш рождается, когда родители достигают 8-10 лет. \n",
       "  \n",
       " Получить потомство панд невероятно сложно. Рождение детенышей — это одновременно и большая удача, и результат долгой и кропотливой работы специалистов. \n",
       "  \n",
       " Большие панды прибыли в Москву 29 апреля 2019 года специальным рейсом из Пекина. На церемонии открытия павильона «Фауна Китая» в Московском зоопарке присутствовали Президент России Владимир Путин и председатель Китайской Народной Республики Си Цзиньпин. Главы двух государств приняли решение по проведению совместного исследования этих редких животных в честь 70-летия установления дипломатических отношений между странами."
      ]
     },
     "execution_count": 71,
     "metadata": {},
     "output_type": "execute_result"
    }
   ],
   "source": [
    "doc = nlp(text.strip())\n",
    "doc"
   ]
  },
  {
   "cell_type": "code",
   "execution_count": 54,
   "metadata": {
    "colab": {
     "base_uri": "https://localhost:8080/"
    },
    "id": "pDYwvvLFHPqj",
    "outputId": "a9253158-69b4-41c6-c31b-dd39d6cb7143"
   },
   "outputs": [
    {
     "name": "stdout",
     "output_type": "stream",
     "text": [
      "Московском зоопарке 19 38 ORG\n",
      "России 73 79 LOC\n",
      "Московскому зоопарку 211 231 LOC\n",
      "Диндин 505 511 PER\n",
      "Диндин 548 554 PER\n",
      "России 686 692 LOC\n",
      "Москву 794 800 LOC\n",
      "Исследовательского центра по сохранению больших панд 861 913 ORG\n",
      "Китая 914 919 LOC\n",
      "Жуи 1131 1134 PER\n",
      "Диндин 1137 1143 PER\n",
      "Москву 1446 1452 LOC\n",
      "Пекина 1495 1501 LOC\n",
      "Фауна Китая 1536 1547 ORG\n",
      "Московском зоопарке 1551 1570 ORG\n",
      "России 1596 1602 LOC\n",
      "Владимир Путин 1603 1617 PER\n",
      "Китайской Народной Республики 1633 1662 LOC\n",
      "Си Цзиньпин 1663 1674 PER\n"
     ]
    }
   ],
   "source": [
    "doc = nlp(text)\n",
    "\n",
    "for ent in doc.ents:\n",
    "    print(ent.text, ent.start_char, ent.end_char, ent.label_)"
   ]
  }
 ],
 "metadata": {
  "colab": {
   "provenance": []
  },
  "kernelspec": {
   "display_name": "Python 3 (ipykernel)",
   "language": "python",
   "name": "python3"
  },
  "language_info": {
   "codemirror_mode": {
    "name": "ipython",
    "version": 3
   },
   "file_extension": ".py",
   "mimetype": "text/x-python",
   "name": "python",
   "nbconvert_exporter": "python",
   "pygments_lexer": "ipython3",
   "version": "3.12.0"
  }
 },
 "nbformat": 4,
 "nbformat_minor": 4
}
