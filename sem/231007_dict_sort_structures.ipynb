{
 "cells": [
  {
   "cell_type": "markdown",
   "metadata": {},
   "source": [
    "# Словари. Сортировки. Вложенные структуры."
   ]
  },
  {
   "cell_type": "markdown",
   "metadata": {},
   "source": [
    "Мы уже знаем про:\n",
    "- типы данных `int`, `float`, `str`, `bool`, `list` [список], `tuple` (кортеж неизменяемый), `set` {множество}, `dict` словарь {ключ: значение}\n",
    "- математические операторы: `+`, `-`, `/`, `*`, `**` (в степень), `%` (остаток от деления), `//` (целая часть при делении)\n",
    "- `print()` — напечатать\n",
    "- `type()` — узнать тип данных\n",
    "- `input()` — принять значение от пользователя\n",
    "- `int()` — преобразовать в целочисленный формат\n",
    "- `float()` — преобразовать в формат дробного числа\n",
    "- `str()` — преобразовать в строку\n",
    "- `bool()` — преобразовать в bool (True/False)\n",
    "- `list()` — преобразовать в список\n",
    "- `tuple()` — преобразовать в кортеж\n",
    "- `set()` — преобразовать во множество\n",
    "- `dict()` — преобразовать в словарь\n",
    "\n",
    "- условия:\n",
    "```\n",
    "if <условие>:\n",
    "    <инструкции, для случая если условие истинно (True)>\n",
    "#elif <условие №2>:\n",
    "#    <инструкции, для случая если условие №2 истинно (True)>\n",
    "#else:\n",
    "#    <инструкции, когда все условия не выполнились (False)>\n",
    "```\n",
    "- операторы сравнения: `>`, `<`, `>=`, `<=`, `==` (равно), `!=` (не равно)\n",
    "- логические операторы: `and`, `or`, `not`\n",
    "- цикл `while`:\n",
    "```\n",
    "while <условие>:\n",
    "    <инструкции, которые будут выполняться по кругу, пока условие выполняется True>\n",
    "```\n",
    "- цикл `for`\n",
    "```\n",
    "for <element> in <elements>:\n",
    "       <инструкции, которые будут выполняться для каждого элемента>\n",
    "```\n",
    "- `.split()` - поделить строку, указанную до точки, по сочетанию символов, указанных в скобках (строка -> список)\n",
    "- индексация с нуля: `итерируемый_объект[индекс]`\n",
    "- срезы: `итерируемый_объект[START:END:STEP]`\n",
    "- `*список` - то же самое, что `список[0] список[1] список[2] список[3]...`\n",
    "- `len()` - узнать длину\n",
    "- `range()` - \"обещание последовательности чисел\" (`list(range(0, 8, 2))` - `[0, 2, 4, 6]`)\n",
    "- `enumerate()` - делает последовательность кортежей: [(порядковый_номер, элемент), (порядковый_номер, элемент), (порядковый_номер, элемент)]\n",
    "\n",
    "**Методы списка (+ строк и кортежей, если метод ничего не изменяет)**\n",
    "- `list.append()` - добавление элемента в конец списка\n",
    "- `list.extend(another_list)` - расширяет список, добавляя в конец все элементы списка `another_list` (и не только списка)\n",
    "- `list.insert(i, x)` — вставляет в `i`-ую позицию в списке значение `x`\n",
    "- `list.remove(x)` — удаляет первый элемент в списке, имеющий значение `x`\n",
    "- `list.pop(i)` - удаляет элемент с индексом `i` (по умолчанию последний) и возвращает удалённый элемент\n",
    "- `list.clear()` — очищает список\n",
    "- `list.count(x)` — узнать, сколько раз встречается элемент `x`\n",
    "- `list.index(x)` — узнать индекс элемента `x` в списке\n",
    "\n",
    "**Функции для списков и кортежей**\n",
    "- `sum()` — сумма\n",
    "- `min()` — минимальное\n",
    "- `max()` — максимальное\n",
    "- `map()` — применить функцию или метод ко всем элементам сразу (`print(list(map(len, ['Привет', 'ТЕСТ', 'функции', 'map!'])))` - `[6, 4, 7, 4]`), (`print(list(map(str.split, ['Таня Казакова', 'Максим Бажуков', 'Олег Сериков'])))` - `[['Таня', 'Казакова'], ['Максим', 'Бажуков']]`)\n",
    "\n",
    "**Методы строк**\n",
    "- `str.strip()`, `str.lstrip()`, `str.rstrip()` - убрать символы на концах строки\n",
    "- `str.lower()`, `str.casefold()` - понизить регистр\n",
    "- `str.capitalize()`, `str.upper()`, `str.title()` - повысить регистр (как в предложении, всех букв, начальной буквы каждого слова)\n",
    "- `str.replace(\"<что>\", \"<на что>\")` - делаем замены\n",
    "- `str.find()` (`str.rfind()`) (а также `str.index()`, `str.rindex()`) - найти позицию символа в строке\n",
    "- `str.count()` - подсчёт нужных символов в строке\n",
    "- `str.split()` с `maxsplit` - делит строку по выбранной строке\n",
    "- `<чем>.join(<что>)` - соединить элементы списка\n",
    "- `str.startswith()` - проверяет, что строка начинается с определённой подстроки\n",
    "- `str.endswith()` - проверяет, что строка кончается на определённую подстроку\n",
    "- `str.isalpha()` - проверяет, что строка состоит только из букв\n",
    "- `str.isdigit()` - проверяет, что строка состоит только из цифр\n",
    "- `str.isalnum()` - проверяет, что строка состоит только из букв и цифр\n",
    "- `str.islower()` - проверяет, что все буквы в строке нижнего регистра\n",
    "- `str.isupper()` - проверяет, что все буквы в строке верхнего регистра\n",
    "\n",
    "Форматирование строк 1:`\"Результат: {}\".format(res)`\n",
    "\n",
    "Форматирование строк 2: `f\"Результат: {res}\"`\n",
    "\n",
    "**Методы множеств**\n",
    "- `.add()` - добавить элемент\n",
    "- `.update()` - добавить несколько элементов в множество\n",
    "- `.remove()` - удалить элемент из множества\n",
    "- `.union()` или `|` - объединяем множества\n",
    "- `.intersection()` или `&` - пересекаем множества\n",
    "- `.difference()` или `-` - ищем разность\n",
    "- `.symmetric_difference()` или `^` - находим симметрическую разность\n",
    "\n",
    "**Словари**\n",
    "- `eng_rus['house']` - узнать значение по ключу\n",
    "- `.keys()` — возвращает объект с ключами словаря.\n",
    "- `.values()` — возвращает объект со значениями словаря.\n",
    "- `.items()` — возвращает объект с кортежами вида (ключ, значение)\n",
    "\n",
    "**Изменяемость типов данных**\n",
    "\n",
    "Списки, множества и словари - изменяемые."
   ]
  },
  {
   "cell_type": "markdown",
   "metadata": {},
   "source": [
    "# Словари (воспоминание и продолжение)\n",
    "Словарь — неупорядоченная структура данных для хранения пар ключ-значение.\n",
    "Изменяемый тип данных."
   ]
  },
  {
   "cell_type": "code",
   "execution_count": 2,
   "metadata": {},
   "outputs": [
    {
     "name": "stdout",
     "output_type": "stream",
     "text": [
      "мечтать, мечта, сон\n"
     ]
    }
   ],
   "source": [
    "eng_rus = {'home': 'дом', 'dream': 'мечтать, мечта, сон', 'team': 'команда'}\n",
    "print(eng_rus['dream'])"
   ]
  },
  {
   "cell_type": "markdown",
   "metadata": {},
   "source": [
    "Объекты-ключи **уникальные** и неизменяемые, каждому из них сопоставлено значение, которое может быть неуникальным и изменяемым. "
   ]
  },
  {
   "cell_type": "markdown",
   "metadata": {},
   "source": [
    "Чаще всего ключами будут\n",
    "- строки, как выше,\n",
    "- числа (`powers_2 = {1: 1, 8: 256, 10: 1024}`)\n",
    "- иногда, кортежи: "
   ]
  },
  {
   "cell_type": "code",
   "execution_count": 3,
   "metadata": {},
   "outputs": [],
   "source": [
    "author2works = {(\"Алексей\", \"Николаевич\", \"Толстой\"):\n",
    "                    [\"Пётр Первый\"],\n",
    "                (\"Алексей\", \"Константинович\", \"Толстой\"):\n",
    "                    [\"Князь Серебряный\"]\n",
    "               }"
   ]
  },
  {
   "cell_type": "markdown",
   "metadata": {},
   "source": [
    "Могут быть любые неизменяемые типы данных.\n",
    "\n",
    "(Список, словарь и множества - изменяемые.)"
   ]
  },
  {
   "cell_type": "markdown",
   "metadata": {},
   "source": [
    "### Проверка наличия"
   ]
  },
  {
   "cell_type": "code",
   "execution_count": 4,
   "metadata": {},
   "outputs": [
    {
     "ename": "KeyError",
     "evalue": "'Бараш'",
     "output_type": "error",
     "traceback": [
      "\u001b[0;31m---------------------------------------------------------------------------\u001b[0m",
      "\u001b[0;31mKeyError\u001b[0m                                  Traceback (most recent call last)",
      "Input \u001b[0;32mIn [4]\u001b[0m, in \u001b[0;36m<cell line: 4>\u001b[0;34m()\u001b[0m\n\u001b[1;32m      1\u001b[0m kikoriki_dict \u001b[38;5;241m=\u001b[39m {\u001b[38;5;124m'\u001b[39m\u001b[38;5;124mСовунья\u001b[39m\u001b[38;5;124m'\u001b[39m: \u001b[38;5;124m'\u001b[39m\u001b[38;5;124mсова\u001b[39m\u001b[38;5;124m'\u001b[39m, \u001b[38;5;124m'\u001b[39m\u001b[38;5;124mКопатыч\u001b[39m\u001b[38;5;124m'\u001b[39m: \u001b[38;5;124m'\u001b[39m\u001b[38;5;124mмедведь\u001b[39m\u001b[38;5;124m'\u001b[39m,\n\u001b[1;32m      2\u001b[0m                  \u001b[38;5;124m'\u001b[39m\u001b[38;5;124mКарыч\u001b[39m\u001b[38;5;124m'\u001b[39m: \u001b[38;5;124m'\u001b[39m\u001b[38;5;124mворон\u001b[39m\u001b[38;5;124m'\u001b[39m, \u001b[38;5;124m'\u001b[39m\u001b[38;5;124mКрош\u001b[39m\u001b[38;5;124m'\u001b[39m: \u001b[38;5;124m'\u001b[39m\u001b[38;5;124mкролик\u001b[39m\u001b[38;5;124m'\u001b[39m}\n\u001b[0;32m----> 4\u001b[0m \u001b[43mkikoriki_dict\u001b[49m\u001b[43m[\u001b[49m\u001b[38;5;124;43m'\u001b[39;49m\u001b[38;5;124;43mБараш\u001b[39;49m\u001b[38;5;124;43m'\u001b[39;49m\u001b[43m]\u001b[49m\n",
      "\u001b[0;31mKeyError\u001b[0m: 'Бараш'"
     ]
    }
   ],
   "source": [
    "kikoriki_dict = {'Совунья': 'сова', 'Копатыч': 'медведь',\n",
    "                 'Карыч': 'ворон', 'Крош': 'кролик'}\n",
    "\n",
    "kikoriki_dict['Бараш']  # Хотим узнать про Бараша, если про него есть информация\n",
    "\n",
    "# Как исправить?"
   ]
  },
  {
   "cell_type": "code",
   "execution_count": 5,
   "metadata": {},
   "outputs": [
    {
     "data": {
      "text/plain": [
       "False"
      ]
     },
     "execution_count": 5,
     "metadata": {},
     "output_type": "execute_result"
    }
   ],
   "source": [
    "# Проверить наличие (in)\n",
    "'Бараш' in kikoriki_dict"
   ]
  },
  {
   "cell_type": "markdown",
   "metadata": {},
   "source": [
    "### `.get()` - взять значение, если есть"
   ]
  },
  {
   "cell_type": "markdown",
   "metadata": {},
   "source": [
    "Есть ещё полезный метод словарей `.get(<ключ>, (<что_вернуть_если_ключа_нет>))`"
   ]
  },
  {
   "cell_type": "code",
   "execution_count": 6,
   "metadata": {},
   "outputs": [
    {
     "name": "stdout",
     "output_type": "stream",
     "text": [
      "None\n"
     ]
    }
   ],
   "source": [
    "kikoriki_dict = {'Совунья': 'сова', 'Копатыч': 'медведь',\n",
    "                 'Карыч': 'ворон', 'Крош': 'кролик'}\n",
    "\n",
    "print(kikoriki_dict.get(\"Бараш\"))\n",
    "# значение None - уникальная штучка, символизирующая отсутствие"
   ]
  },
  {
   "cell_type": "code",
   "execution_count": 7,
   "metadata": {},
   "outputs": [
    {
     "data": {
      "text/plain": [
       "'вид неизвестен'"
      ]
     },
     "execution_count": 7,
     "metadata": {},
     "output_type": "execute_result"
    }
   ],
   "source": [
    "kikoriki_dict = {'Совунья': 'сова', 'Копатыч': 'медведь',\n",
    "                 'Карыч': 'ворон', 'Крош': 'кролик'}\n",
    "\n",
    "kikoriki_dict.get(\"Бараш\", \"вид неизвестен\")\n",
    "# значение уже не None, а то, что указали"
   ]
  },
  {
   "cell_type": "code",
   "execution_count": 8,
   "metadata": {},
   "outputs": [
    {
     "data": {
      "text/plain": [
       "'ворон'"
      ]
     },
     "execution_count": 8,
     "metadata": {},
     "output_type": "execute_result"
    }
   ],
   "source": [
    "kikoriki_dict.get(\"Карыч\", \"вид неизвестен\")"
   ]
  },
  {
   "cell_type": "code",
   "execution_count": 9,
   "metadata": {},
   "outputs": [
    {
     "name": "stdout",
     "output_type": "stream",
     "text": [
      "есть\n"
     ]
    }
   ],
   "source": [
    "# Как узнать, есть ли в словаре имя у кролика?\n",
    "\n",
    "# Так не получится:\n",
    "# kikoriki_dict['кролик']\n",
    "\n",
    "for a in kikoriki_dict:\n",
    "    if kikoriki_dict[a] == 'кролик':\n",
    "        print('есть')\n",
    "\n",
    "# Простой ответ смотрите далее"
   ]
  },
  {
   "cell_type": "markdown",
   "metadata": {},
   "source": [
    "## Методы словарей\n",
    "**Можно обращаться к ключам, значениям и кортежам (ключ:значение)** с помощью специальных методов.\n",
    "\n",
    "* `.keys()` — возвращает объект с ключами словаря.\n",
    "* `.values()` — возвращает объект со значениями словаря.\n",
    "* `.items()` — возвращает объект с **кортежами** вида (ключ, значение).\n",
    "\n",
    "По каждому из этих объектов можно, например, пройтись циклом `for`, вывести его с помощью оператора распаковки `*` или объединить в строку с помощью `.join()` (если объекты внутри — строки).\n",
    "\n",
    "(Метод `.get()` — см.выше)"
   ]
  },
  {
   "cell_type": "code",
   "execution_count": 10,
   "metadata": {},
   "outputs": [
    {
     "name": "stdout",
     "output_type": "stream",
     "text": [
      "dict_values(['сова', 'медведь', 'ворон', 'кролик'])\n"
     ]
    }
   ],
   "source": [
    "print(kikoriki_dict.values()) # значения"
   ]
  },
  {
   "cell_type": "code",
   "execution_count": 11,
   "metadata": {},
   "outputs": [
    {
     "data": {
      "text/plain": [
       "True"
      ]
     },
     "execution_count": 11,
     "metadata": {},
     "output_type": "execute_result"
    }
   ],
   "source": [
    "# Есть ли в значениях кролик?\n",
    "'кролик' in kikoriki_dict.values()"
   ]
  },
  {
   "cell_type": "code",
   "execution_count": 12,
   "metadata": {},
   "outputs": [
    {
     "name": "stdout",
     "output_type": "stream",
     "text": [
      "dict_keys(['Совунья', 'Копатыч', 'Карыч', 'Крош'])\n"
     ]
    }
   ],
   "source": [
    "print(kikoriki_dict.keys())   # ключи"
   ]
  },
  {
   "cell_type": "code",
   "execution_count": 13,
   "metadata": {},
   "outputs": [
    {
     "name": "stdout",
     "output_type": "stream",
     "text": [
      "+\n"
     ]
    }
   ],
   "source": [
    "# Есть ли в ключах Карыч?\n",
    "if 'Карыч' in kikoriki_dict.keys():\n",
    "    print(\"+\")\n",
    "else:\n",
    "    print(\"-\")"
   ]
  },
  {
   "cell_type": "code",
   "execution_count": 14,
   "metadata": {},
   "outputs": [
    {
     "name": "stdout",
     "output_type": "stream",
     "text": [
      "dict_items([('Совунья', 'сова'), ('Копатыч', 'медведь'), ('Карыч', 'ворон'), ('Крош', 'кролик')])\n"
     ]
    }
   ],
   "source": [
    "print(kikoriki_dict.items())  # кортежи (ключ, значение), (ключ, значение)"
   ]
  },
  {
   "cell_type": "markdown",
   "metadata": {},
   "source": [
    "### Тренировка\n",
    "Узнайте, как зовут медведя"
   ]
  },
  {
   "cell_type": "code",
   "execution_count": 15,
   "metadata": {},
   "outputs": [
    {
     "name": "stdout",
     "output_type": "stream",
     "text": [
      "Копатыч\n"
     ]
    }
   ],
   "source": [
    "# ваш код\n",
    "for item in kikoriki_dict.items():\n",
    "    if item[1] == 'медведь':\n",
    "        print(item[0])"
   ]
  },
  {
   "cell_type": "markdown",
   "metadata": {},
   "source": [
    "**Способы вывести пары ключ-значение**"
   ]
  },
  {
   "cell_type": "code",
   "execution_count": 16,
   "metadata": {},
   "outputs": [
    {
     "name": "stdout",
     "output_type": "stream",
     "text": [
      "Совунья  -  сова\n",
      "---------------\n",
      "Копатыч  -  медведь\n",
      "---------------\n",
      "Карыч  -  ворон\n",
      "---------------\n",
      "Крош  -  кролик\n",
      "---------------\n"
     ]
    }
   ],
   "source": [
    "# значения\n",
    "kikoriki_dict = {'Совунья': 'сова', 'Копатыч': 'медведь',\n",
    "                 'Карыч': 'ворон', 'Крош': 'кролик'}\n",
    "\n",
    "for key in kikoriki_dict:  # перебираем ключи словаря\n",
    "    print(key, ' - ', kikoriki_dict[key])  # печатаем ключ и печатаем значение, соответсвующее ключу\n",
    "    print('-'* 15)"
   ]
  },
  {
   "cell_type": "code",
   "execution_count": 17,
   "metadata": {},
   "outputs": [
    {
     "name": "stdout",
     "output_type": "stream",
     "text": [
      "Совунья  -  сова\n",
      "---------------\n",
      "Копатыч  -  медведь\n",
      "---------------\n",
      "Карыч  -  ворон\n",
      "---------------\n",
      "Крош  -  кролик\n",
      "---------------\n"
     ]
    }
   ],
   "source": [
    "# Как сделать это при помощи .items()?\n",
    "for kikorik in kikoriki_dict.items():\n",
    "    print(kikorik[0], ' - ', kikorik[1])\n",
    "    print('-'* 15)"
   ]
  },
  {
   "cell_type": "code",
   "execution_count": 18,
   "metadata": {},
   "outputs": [
    {
     "name": "stdout",
     "output_type": "stream",
     "text": [
      "Совунья  -  сова\n",
      "---------------\n",
      "Копатыч  -  медведь\n",
      "---------------\n",
      "Карыч  -  ворон\n",
      "---------------\n",
      "Крош  -  кролик\n",
      "---------------\n"
     ]
    }
   ],
   "source": [
    "# Как сделать по-другому при помощи .items()?\n",
    "for name, animal in kikoriki_dict.items():\n",
    "    print(name, ' - ', animal)\n",
    "    print('-'* 15)"
   ]
  },
  {
   "cell_type": "markdown",
   "metadata": {},
   "source": [
    "#### Добавление пары ключ-значение"
   ]
  },
  {
   "cell_type": "code",
   "execution_count": 19,
   "metadata": {},
   "outputs": [
    {
     "name": "stdout",
     "output_type": "stream",
     "text": [
      "Сейчас словарь пуст: {}\n"
     ]
    }
   ],
   "source": [
    "to_do = {}  # Создадим пустой словарь\n",
    "print(f'Сейчас словарь пуст: {to_do}')"
   ]
  },
  {
   "cell_type": "code",
   "execution_count": 20,
   "metadata": {},
   "outputs": [
    {
     "name": "stdout",
     "output_type": "stream",
     "text": [
      "Сейчас в словаре: {'Учебное': ['прочитать книгу', 'дз по питону']}\n"
     ]
    }
   ],
   "source": [
    "# Добавим дела учебные\n",
    "to_do['Учебное'] = ['прочитать книгу', 'дз по питону']\n",
    "print(f'Сейчас в словаре: {to_do}')"
   ]
  },
  {
   "cell_type": "code",
   "execution_count": 21,
   "metadata": {},
   "outputs": [
    {
     "name": "stdout",
     "output_type": "stream",
     "text": [
      "Сейчас в словаре: {'Учебное': ['прочитать книгу', 'дз по питону'], 'Домашнее': 'уборка'}\n"
     ]
    }
   ],
   "source": [
    "to_do['Домашнее'] = 'уборка'\n",
    "print(f'Сейчас в словаре: {to_do}')"
   ]
  },
  {
   "cell_type": "code",
   "execution_count": 22,
   "metadata": {},
   "outputs": [
    {
     "name": "stdout",
     "output_type": "stream",
     "text": [
      "Сейчас в словаре: {'Учебное': ['прочитать книгу', 'дз по питону'], 'Домашнее': 'уборка', 'Хобби': ['вышивка в подарок']}\n"
     ]
    }
   ],
   "source": [
    "# Добавьте своё\n",
    "to_do['Хобби'] = ['вышивка в подарок']\n",
    "print(f'Сейчас в словаре: {to_do}')"
   ]
  },
  {
   "cell_type": "markdown",
   "metadata": {},
   "source": [
    "#### Изменение пары ключ-значение"
   ]
  },
  {
   "cell_type": "code",
   "execution_count": 23,
   "metadata": {},
   "outputs": [
    {
     "data": {
      "text/plain": [
       "{'Учебное': ['прочитать книгу', 'дз по питону'],\n",
       " 'Домашнее': ['уборка', 'отдых'],\n",
       " 'Хобби': ['вышивка в подарок']}"
      ]
     },
     "execution_count": 23,
     "metadata": {},
     "output_type": "execute_result"
    }
   ],
   "source": [
    "to_do['Домашнее'] = ['уборка', 'отдых']  # изменили\n",
    "to_do"
   ]
  },
  {
   "cell_type": "code",
   "execution_count": 24,
   "metadata": {},
   "outputs": [
    {
     "data": {
      "text/plain": [
       "{'Учебное': ['прочитать книгу', 'дз по питону'],\n",
       " 'Домашнее': ['уборка', 'отдых', 'готовка'],\n",
       " 'Хобби': ['вышивка в подарок']}"
      ]
     },
     "execution_count": 24,
     "metadata": {},
     "output_type": "execute_result"
    }
   ],
   "source": [
    "# Как добавить готовку в Домашнее?\n",
    "# Чтобы получилось:\n",
    "# 'Домашнее': ['уборка', 'отдых', 'готовка']\n",
    "\n",
    "to_do['Домашнее'].append('готовка')\n",
    "to_do"
   ]
  },
  {
   "cell_type": "markdown",
   "metadata": {},
   "source": [
    "#### Удаление пары ключ-значение `del`"
   ]
  },
  {
   "cell_type": "code",
   "execution_count": 25,
   "metadata": {},
   "outputs": [
    {
     "data": {
      "text/plain": [
       "{'Домашнее': ['уборка', 'отдых', 'готовка'], 'Хобби': ['вышивка в подарок']}"
      ]
     },
     "execution_count": 25,
     "metadata": {},
     "output_type": "execute_result"
    }
   ],
   "source": [
    "del to_do['Учебное'] # после выпуска из института такое бывает\n",
    "\n",
    "to_do"
   ]
  },
  {
   "cell_type": "code",
   "execution_count": 26,
   "metadata": {},
   "outputs": [
    {
     "data": {
      "text/plain": [
       "{'Домашнее': ['отдых', 'готовка'], 'Хобби': ['вышивка в подарок']}"
      ]
     },
     "execution_count": 26,
     "metadata": {},
     "output_type": "execute_result"
    }
   ],
   "source": [
    "# А как удалить уборку из Домашнего?\n",
    "# Чтобы осталось: ['отдых', 'готовка']\n",
    "to_do['Домашнее'].remove('уборка')\n",
    "to_do"
   ]
  },
  {
   "cell_type": "markdown",
   "metadata": {},
   "source": [
    "### Отступление про `.copy()`"
   ]
  },
  {
   "cell_type": "code",
   "execution_count": 27,
   "metadata": {},
   "outputs": [
    {
     "data": {
      "text/plain": [
       "{'Совунья': 'сова', 'Копатыч': 'медведь', 'Карыч': 'ворон', 'Крош': 'кролик'}"
      ]
     },
     "execution_count": 27,
     "metadata": {},
     "output_type": "execute_result"
    }
   ],
   "source": [
    "# Есть словарь\n",
    "kikoriki_dict1 = {'Совунья': 'сова', 'Копатыч': 'медведь',\n",
    "                 'Карыч': 'ворон', 'Крош': 'кролик'}\n",
    "kikoriki_dict_full = kikoriki_dict1\n",
    "kikoriki_dict_full"
   ]
  },
  {
   "cell_type": "code",
   "execution_count": 28,
   "metadata": {},
   "outputs": [
    {
     "data": {
      "text/plain": [
       "{'Совунья': 'сова',\n",
       " 'Копатыч': 'медведь',\n",
       " 'Карыч': 'ворон',\n",
       " 'Крош': 'кролик',\n",
       " 'Ёжик': 'ёж',\n",
       " 'Нюша': 'свинья',\n",
       " 'Бараш': 'баран'}"
      ]
     },
     "execution_count": 28,
     "metadata": {},
     "output_type": "execute_result"
    }
   ],
   "source": [
    "kikoriki_dict_full['Ёжик'] = 'ёж'\n",
    "kikoriki_dict_full['Нюша'] = 'свинья'\n",
    "kikoriki_dict_full['Бараш'] = 'баран'\n",
    "kikoriki_dict_full"
   ]
  },
  {
   "cell_type": "code",
   "execution_count": 29,
   "metadata": {},
   "outputs": [
    {
     "data": {
      "text/plain": [
       "{'Совунья': 'сова',\n",
       " 'Копатыч': 'медведь',\n",
       " 'Карыч': 'ворон',\n",
       " 'Крош': 'кролик',\n",
       " 'Ёжик': 'ёж',\n",
       " 'Нюша': 'свинья',\n",
       " 'Бараш': 'баран'}"
      ]
     },
     "execution_count": 29,
     "metadata": {},
     "output_type": "execute_result"
    }
   ],
   "source": [
    "# Что лежит в kikoriki_dict1?\n",
    "kikoriki_dict1"
   ]
  },
  {
   "cell_type": "markdown",
   "metadata": {},
   "source": [
    "Наши действия поменяли и исходный словарь!\n",
    "\n",
    "Почему?\n",
    "\n",
    "Потому что приравнять `kikoriki_dict_full = kikoriki_dict1`, значит сказать \"ищите данные для `kikoriki_dict_full` **там же**, где и для `kikorici_dict1`\". А поскольку словари изменяемые, то мы, делая `kikoriki_dict_full['Ёжик'] = 'ёж'`, проходим по этому указателю и меняем там данные.\n",
    "\n",
    "Поэтому, конечно же, это отразится на всех переменных, которые ведут к одним и тем же данным."
   ]
  },
  {
   "cell_type": "markdown",
   "metadata": {},
   "source": [
    "А теперь с `.copy()`"
   ]
  },
  {
   "cell_type": "code",
   "execution_count": 30,
   "metadata": {},
   "outputs": [
    {
     "data": {
      "text/plain": [
       "{'Совунья': 'сова', 'Копатыч': 'медведь', 'Карыч': 'ворон', 'Крош': 'кролик'}"
      ]
     },
     "execution_count": 30,
     "metadata": {},
     "output_type": "execute_result"
    }
   ],
   "source": [
    "kikoriki_dict1 = {'Совунья': 'сова', 'Копатыч': 'медведь',\n",
    "                  'Карыч': 'ворон', 'Крош': 'кролик'}\n",
    "kikoriki_dict_full = kikoriki_dict1.copy()\n",
    "\n",
    "kikoriki_dict_full"
   ]
  },
  {
   "cell_type": "code",
   "execution_count": 31,
   "metadata": {},
   "outputs": [
    {
     "data": {
      "text/plain": [
       "{'Совунья': 'сова',\n",
       " 'Копатыч': 'медведь',\n",
       " 'Карыч': 'ворон',\n",
       " 'Крош': 'кролик',\n",
       " 'Ёжик': 'ёж',\n",
       " 'Нюша': 'свинья',\n",
       " 'Бараш': 'баран'}"
      ]
     },
     "execution_count": 31,
     "metadata": {},
     "output_type": "execute_result"
    }
   ],
   "source": [
    "kikoriki_dict_full['Ёжик'] = 'ёж'\n",
    "kikoriki_dict_full['Нюша'] = 'свинья'\n",
    "kikoriki_dict_full['Бараш'] = 'баран'\n",
    "kikoriki_dict_full"
   ]
  },
  {
   "cell_type": "code",
   "execution_count": 32,
   "metadata": {},
   "outputs": [
    {
     "data": {
      "text/plain": [
       "{'Совунья': 'сова', 'Копатыч': 'медведь', 'Карыч': 'ворон', 'Крош': 'кролик'}"
      ]
     },
     "execution_count": 32,
     "metadata": {},
     "output_type": "execute_result"
    }
   ],
   "source": [
    "# Что лежит в kikoriki_dict1?\n",
    "kikoriki_dict1"
   ]
  },
  {
   "cell_type": "markdown",
   "metadata": {},
   "source": [
    "`.copy()` честно копирует то, что *непосредственно* содержится в словаре.\n",
    "\n",
    "**со вложенными структурами есть дополнительные сложности. Они остаются указаниями на исходное. Но скопировать структуру полностью сложнее...*"
   ]
  },
  {
   "cell_type": "markdown",
   "metadata": {},
   "source": [
    "# Сортировка"
   ]
  },
  {
   "cell_type": "markdown",
   "metadata": {},
   "source": [
    "### `sorted()` - функция сортировки"
   ]
  },
  {
   "cell_type": "code",
   "execution_count": 33,
   "metadata": {},
   "outputs": [
    {
     "name": "stdout",
     "output_type": "stream",
     "text": [
      "[6, 8, 8, 9.5, 10]\n"
     ]
    }
   ],
   "source": [
    "marks = [8, 10, 6, 8, 9.5]\n",
    "print(sorted(marks))         # Отсортировали список оценок по возрастанию"
   ]
  },
  {
   "cell_type": "code",
   "execution_count": 34,
   "metadata": {},
   "outputs": [
    {
     "name": "stdout",
     "output_type": "stream",
     "text": [
      "[10, 9.5, 8, 8, 6]\n"
     ]
    }
   ],
   "source": [
    "# А теперь по убыванию\n",
    "print(sorted(marks, reverse=True))"
   ]
  },
  {
   "cell_type": "code",
   "execution_count": 35,
   "metadata": {},
   "outputs": [
    {
     "name": "stdout",
     "output_type": "stream",
     "text": [
      "[8, 10, 6, 8, 9.5]\n"
     ]
    },
    {
     "data": {
      "text/plain": [
       "[6, 8, 8, 9.5, 10]"
      ]
     },
     "execution_count": 35,
     "metadata": {},
     "output_type": "execute_result"
    }
   ],
   "source": [
    "# Функция sorted() не изменяет, а создает новое\n",
    "print(marks)\n",
    "sorted_marks = sorted(marks)  # Можно сохранить в новую переменную.\n",
    "sorted_marks"
   ]
  },
  {
   "cell_type": "markdown",
   "metadata": {},
   "source": [
    "Разнотипное не сортируется"
   ]
  },
  {
   "cell_type": "code",
   "execution_count": 36,
   "metadata": {},
   "outputs": [
    {
     "ename": "TypeError",
     "evalue": "'<' not supported between instances of 'int' and 'str'",
     "output_type": "error",
     "traceback": [
      "\u001b[0;31m---------------------------------------------------------------------------\u001b[0m",
      "\u001b[0;31mTypeError\u001b[0m                                 Traceback (most recent call last)",
      "Input \u001b[0;32mIn [36]\u001b[0m, in \u001b[0;36m<cell line: 1>\u001b[0;34m()\u001b[0m\n\u001b[0;32m----> 1\u001b[0m \u001b[38;5;28mprint\u001b[39m(\u001b[38;5;28;43msorted\u001b[39;49m\u001b[43m(\u001b[49m\u001b[43m[\u001b[49m\u001b[38;5;124;43m'\u001b[39;49m\u001b[38;5;124;43ma\u001b[39;49m\u001b[38;5;124;43m'\u001b[39;49m\u001b[43m,\u001b[49m\u001b[43m \u001b[49m\u001b[38;5;124;43m'\u001b[39;49m\u001b[38;5;124;43mb\u001b[39;49m\u001b[38;5;124;43m'\u001b[39;49m\u001b[43m,\u001b[49m\u001b[43m \u001b[49m\u001b[38;5;241;43m3\u001b[39;49m\u001b[43m]\u001b[49m\u001b[43m)\u001b[49m)\n",
      "\u001b[0;31mTypeError\u001b[0m: '<' not supported between instances of 'int' and 'str'"
     ]
    }
   ],
   "source": [
    "print(sorted(['a', 'b', 3]))  "
   ]
  },
  {
   "cell_type": "markdown",
   "metadata": {},
   "source": [
    "#### Сортировать можно и строки"
   ]
  },
  {
   "cell_type": "code",
   "execution_count": 37,
   "metadata": {},
   "outputs": [
    {
     "name": "stdout",
     "output_type": "stream",
     "text": [
      "['apple', 'orange', 'апельсин', 'манго', 'яблоко']\n"
     ]
    }
   ],
   "source": [
    "fruits = ['apple', 'яблоко', 'апельсин', 'orange', 'манго']\n",
    "print(sorted(fruits))  # сортируем строки по возрастанию"
   ]
  },
  {
   "cell_type": "code",
   "execution_count": 38,
   "metadata": {},
   "outputs": [
    {
     "name": "stdout",
     "output_type": "stream",
     "text": [
      "['!dragonfruit', '1 лимон', 'Orange', 'apple', 'Ёж из теста (большой)', 'апельсин', 'манго', 'яблоко', 'ёжик из теста']\n"
     ]
    }
   ],
   "source": [
    "food = ['apple', 'яблоко', 'апельсин', 'Orange', 'манго',\n",
    "        'ёжик из теста', '1 лимон', '!dragonfruit', 'Ёж из теста (большой)']\n",
    "print(sorted(food))\n",
    "# Почему?"
   ]
  },
  {
   "cell_type": "markdown",
   "metadata": {},
   "source": [
    "[Юникод таблица](https://symbl.cc/en/unicode/blocks/basic-latin/)\n",
    "\n",
    "Не забывайте, что компьютер глубоко внутри умеет работать вообще-то только с нулями и единицами.\n",
    "    И вот нужно было придумать способ, как буквы разных языков, знаки препинания, диакритические символы и т.д. и т.п. записать как нолики и единички.\n",
    "    Люди разные, задачи разные, языки разные, поэтому таких систем записи было придумано много.\n",
    "    Несоответствие систем это то, почему иногда текст выглядит как бессмысленный набор неизвестных символов.\n",
    "    \n",
    "Юникод &mdash; одна из систем, и очень распространённая.\n",
    "    В ней много удобств и поэтому стараются пользоваться ей.\n",
    "    То, \"больше ли\" один символ, чем другой, определяется их позициями в таблице.\n",
    "    Что позже, то и больше. \n",
    "\n",
    "Напоминание: мы уже видели это в min() и max()."
   ]
  },
  {
   "cell_type": "code",
   "execution_count": 39,
   "metadata": {},
   "outputs": [
    {
     "data": {
      "text/plain": [
       "'!dragonfruit'"
      ]
     },
     "execution_count": 39,
     "metadata": {},
     "output_type": "execute_result"
    }
   ],
   "source": [
    "min(food)"
   ]
  },
  {
   "cell_type": "markdown",
   "metadata": {},
   "source": [
    "#### Аргумент key"
   ]
  },
  {
   "cell_type": "code",
   "execution_count": 40,
   "metadata": {},
   "outputs": [
    {
     "data": {
      "text/plain": [
       "['Арагорн',\n",
       " 'ГЕНДАЛЬФ',\n",
       " 'Гимли',\n",
       " 'Леголас',\n",
       " 'Том Бомбадил',\n",
       " 'бильбо',\n",
       " 'мэриадок',\n",
       " 'перегрин',\n",
       " 'сэм',\n",
       " 'фродо']"
      ]
     },
     "execution_count": 40,
     "metadata": {},
     "output_type": "execute_result"
    }
   ],
   "source": [
    "characters = ['фродо', 'сэм', 'мэриадок', 'перегрин', 'бильбо',\n",
    "              'Арагорн', 'Том Бомбадил', 'Леголас', 'ГЕНДАЛЬФ', 'Гимли']\n",
    "sorted(characters)"
   ]
  },
  {
   "cell_type": "code",
   "execution_count": 41,
   "metadata": {},
   "outputs": [
    {
     "data": {
      "text/plain": [
       "['арагорн',\n",
       " 'бильбо',\n",
       " 'бомбадил',\n",
       " 'гендальф',\n",
       " 'гимли',\n",
       " 'леголас',\n",
       " 'мэриадок',\n",
       " 'перегрин',\n",
       " 'сэм',\n",
       " 'том',\n",
       " 'фродо']"
      ]
     },
     "execution_count": 41,
     "metadata": {},
     "output_type": "execute_result"
    }
   ],
   "source": [
    "# Как игнорировать регистр?\n",
    "# наш вариант (что умеем)\n",
    "\n",
    "sorted(' '.join(characters).lower().split())"
   ]
  },
  {
   "cell_type": "markdown",
   "metadata": {},
   "source": [
    "Знакомьтесь: **key**"
   ]
  },
  {
   "cell_type": "code",
   "execution_count": 42,
   "metadata": {},
   "outputs": [
    {
     "name": "stdout",
     "output_type": "stream",
     "text": [
      "['Арагорн', 'бильбо', 'ГЕНДАЛЬФ', 'Гимли', 'Леголас', 'мэриадок', 'перегрин', 'сэм', 'Том Бомбадил', 'фродо']\n"
     ]
    }
   ],
   "source": [
    "print(sorted(characters, key=str.lower)) \n",
    "# Слова действительно отсортировались в алфавитном порядке, а регистр сохранился"
   ]
  },
  {
   "cell_type": "markdown",
   "metadata": {},
   "source": [
    "`key` &mdash; (именованный / по умолчательный) аргумент функции `sorted()`.\n",
    "\n",
    "Принимает название функции, которую надо применить к элементам перед сортировкой.\n",
    "\n",
    "Что происходит внутри?\n",
    "- создаёт копию списка, в котором к элементам применили функцию\n",
    "- сортирует копию списка\n",
    "- возвращает список с исходными элементами"
   ]
  },
  {
   "cell_type": "markdown",
   "metadata": {},
   "source": [
    "Чем-то похоже на `map()`. (См. пример вверху в пройденном.)"
   ]
  },
  {
   "cell_type": "code",
   "execution_count": 43,
   "metadata": {},
   "outputs": [
    {
     "name": "stdout",
     "output_type": "stream",
     "text": [
      "вася\n",
      "вася\n"
     ]
    }
   ],
   "source": [
    "# Как метод превратить в функцию: \n",
    "print('Вася'.lower())\n",
    "print(str.lower(\"Вася\"))"
   ]
  },
  {
   "cell_type": "code",
   "execution_count": 44,
   "metadata": {},
   "outputs": [
    {
     "name": "stdout",
     "output_type": "stream",
     "text": [
      "['сэм', 'фродо', 'Гимли', 'бильбо', 'Арагорн', 'Леголас', 'мэриадок', 'перегрин', 'ГЕНДАЛЬФ', 'Том Бомбадил']\n"
     ]
    }
   ],
   "source": [
    "# Как вывести имена, сортированные по длине?\n",
    "print(sorted(characters, key=len)) "
   ]
  },
  {
   "cell_type": "markdown",
   "metadata": {},
   "source": [
    "Строки - не числа"
   ]
  },
  {
   "cell_type": "code",
   "execution_count": 45,
   "metadata": {},
   "outputs": [
    {
     "name": "stdout",
     "output_type": "stream",
     "text": [
      "Даты семинаров в октябре: 6 7 13 21 28\n",
      "['13', '21', '28', '6', '7']\n"
     ]
    }
   ],
   "source": [
    "dates = input('Даты семинаров в октябре: ').split()\n",
    "# 6 7 13 21 28\n",
    "print(sorted(dates)) # Отсортировали числа в формате str"
   ]
  },
  {
   "cell_type": "code",
   "execution_count": 46,
   "metadata": {},
   "outputs": [
    {
     "data": {
      "text/plain": [
       "['6', '7', '13', '21', '28']"
      ]
     },
     "execution_count": 46,
     "metadata": {},
     "output_type": "execute_result"
    }
   ],
   "source": [
    "sorted(dates, key=int) "
   ]
  },
  {
   "cell_type": "markdown",
   "metadata": {},
   "source": [
    "Можно сортировать кортежи, множества, словари (осторожно).\n",
    "**Получаются при этом списки**."
   ]
  },
  {
   "cell_type": "code",
   "execution_count": 47,
   "metadata": {},
   "outputs": [
    {
     "name": "stdout",
     "output_type": "stream",
     "text": [
      "['Арагорн', 'бильбо', 'ГЕНДАЛЬФ', 'Гимли', 'Леголас', 'мэриадок', 'перегрин', 'сэм', 'Том Бомбадил', 'фродо']\n"
     ]
    }
   ],
   "source": [
    "characters = ('фродо', 'сэм', 'мэриадок', 'перегрин', 'бильбо',\n",
    "              'Арагорн', 'Том Бомбадил', 'Леголас', 'ГЕНДАЛЬФ', 'Гимли')\n",
    "print(sorted(characters, key=str.lower))"
   ]
  },
  {
   "cell_type": "code",
   "execution_count": 48,
   "metadata": {},
   "outputs": [
    {
     "name": "stdout",
     "output_type": "stream",
     "text": [
      "['Арагорн', 'бильбо', 'ГЕНДАЛЬФ', 'Гимли', 'Леголас', 'мэриадок', 'перегрин', 'сэм', 'Том Бомбадил', 'фродо']\n"
     ]
    }
   ],
   "source": [
    "characters = {'фродо', 'сэм', 'мэриадок', 'перегрин', 'бильбо',\n",
    "              'Арагорн', 'Том Бомбадил', 'Леголас', 'ГЕНДАЛЬФ', 'Гимли'}\n",
    "print(sorted(characters, key=str.lower))"
   ]
  },
  {
   "cell_type": "code",
   "execution_count": 49,
   "metadata": {},
   "outputs": [
    {
     "name": "stdout",
     "output_type": "stream",
     "text": [
      "['apple', 'banana', 'orange']\n"
     ]
    }
   ],
   "source": [
    "eng_rus = {\"apple\": \"яблоко\", \"orange\": 'апельсин', \"banana\": \"банан\"}\n",
    "print(sorted(eng_rus))  # Получается сортированный список ключей"
   ]
  },
  {
   "cell_type": "markdown",
   "metadata": {},
   "source": [
    "# Тренируемся работать со вложенными структурами"
   ]
  },
  {
   "cell_type": "markdown",
   "metadata": {},
   "source": [
    "Бывает, что данные сложно структурируются\n",
    "\n",
    "Например:\n",
    "- список списков (e.g. слова в предложениях в тексте)"
   ]
  },
  {
   "cell_type": "code",
   "execution_count": 50,
   "metadata": {},
   "outputs": [],
   "source": [
    "text = [['привет', 'друзья'], ['как', 'у', 'вас', 'дела'], ['поздравляю', 'с', 'осенью']]"
   ]
  },
  {
   "cell_type": "code",
   "execution_count": 51,
   "metadata": {},
   "outputs": [
    {
     "data": {
      "text/plain": [
       "[['привет', 'друзья'],\n",
       " ['как', 'у', 'вас', 'дела'],\n",
       " ['поздравляю', 'с', 'осенью']]"
      ]
     },
     "execution_count": 51,
     "metadata": {},
     "output_type": "execute_result"
    }
   ],
   "source": [
    "text"
   ]
  },
  {
   "cell_type": "code",
   "execution_count": 52,
   "metadata": {},
   "outputs": [
    {
     "data": {
      "text/plain": [
       "'поздравляю'"
      ]
     },
     "execution_count": 52,
     "metadata": {},
     "output_type": "execute_result"
    }
   ],
   "source": [
    "# Как достать первое слово третьего предложения?\n",
    "text[2][0]"
   ]
  },
  {
   "cell_type": "code",
   "execution_count": 53,
   "metadata": {},
   "outputs": [
    {
     "data": {
      "text/plain": [
       "'у'"
      ]
     },
     "execution_count": 53,
     "metadata": {},
     "output_type": "execute_result"
    }
   ],
   "source": [
    "# Как достать третью букву второго слова первого предложения?\n",
    "text[0][1][2]"
   ]
  },
  {
   "cell_type": "code",
   "execution_count": 54,
   "metadata": {},
   "outputs": [
    {
     "data": {
      "text/plain": [
       "['у', 'вас', 'дела']"
      ]
     },
     "execution_count": 54,
     "metadata": {},
     "output_type": "execute_result"
    }
   ],
   "source": [
    "# Как достать во втором предложении слова кроме первого?\n",
    "text[1][1:]"
   ]
  },
  {
   "cell_type": "markdown",
   "metadata": {},
   "source": [
    "- словарь списков"
   ]
  },
  {
   "cell_type": "code",
   "execution_count": 55,
   "metadata": {},
   "outputs": [],
   "source": [
    "temperature = {'3 марта': [-1, -1, +1, -1],  # ночь, утро, день, вечер\n",
    "               '4 марта': [-3, -3, 0, 0],\n",
    "               '5 марта': [-2, -3, 0, -1]}"
   ]
  },
  {
   "cell_type": "code",
   "execution_count": 56,
   "metadata": {},
   "outputs": [
    {
     "data": {
      "text/plain": [
       "[-1, -1, 1, -1]"
      ]
     },
     "execution_count": 56,
     "metadata": {},
     "output_type": "execute_result"
    }
   ],
   "source": [
    "# Какая температура была 3его марта?\n",
    "temperature['3 марта']"
   ]
  },
  {
   "cell_type": "code",
   "execution_count": 57,
   "metadata": {},
   "outputs": [
    {
     "data": {
      "text/plain": [
       "-1"
      ]
     },
     "execution_count": 57,
     "metadata": {},
     "output_type": "execute_result"
    }
   ],
   "source": [
    "# Какая температура была вечером 3его марта?\n",
    "temperature['3 марта'][3]"
   ]
  },
  {
   "cell_type": "code",
   "execution_count": 58,
   "metadata": {},
   "outputs": [
    {
     "data": {
      "text/plain": [
       "-1.5"
      ]
     },
     "execution_count": 58,
     "metadata": {},
     "output_type": "execute_result"
    }
   ],
   "source": [
    "# Средняя температура была 5ого марта?\n",
    "sum(temperature['5 марта'])/len(temperature['5 марта'])"
   ]
  },
  {
   "cell_type": "code",
   "execution_count": 59,
   "metadata": {},
   "outputs": [
    {
     "data": {
      "text/plain": [
       "-1.1666666666666667"
      ]
     },
     "execution_count": 59,
     "metadata": {},
     "output_type": "execute_result"
    }
   ],
   "source": [
    "# Какая средняя за 3 дня?\n",
    "temperatures = []\n",
    "for key in temperature:\n",
    "    temperatures.extend(temperature[key])\n",
    "sum(temperatures)/len(temperatures)"
   ]
  },
  {
   "cell_type": "code",
   "execution_count": 60,
   "metadata": {},
   "outputs": [
    {
     "data": {
      "text/plain": [
       "-1.1666666666666667"
      ]
     },
     "execution_count": 60,
     "metadata": {},
     "output_type": "execute_result"
    }
   ],
   "source": [
    "temperatures = temperature['3 марта'] + temperature['4 марта'] + temperature['5 марта']\n",
    "sum(temperatures)/len(temperatures)"
   ]
  },
  {
   "cell_type": "code",
   "execution_count": 61,
   "metadata": {},
   "outputs": [
    {
     "data": {
      "text/plain": [
       "-3"
      ]
     },
     "execution_count": 61,
     "metadata": {},
     "output_type": "execute_result"
    }
   ],
   "source": [
    "# Минимальная за 3 дня?\n",
    "sorted(temperatures)[0]\n",
    "min(temperatures)"
   ]
  },
  {
   "cell_type": "markdown",
   "metadata": {},
   "source": [
    "- словарь словарей кортежей, множеств, списков и строк и т.д."
   ]
  },
  {
   "cell_type": "markdown",
   "metadata": {},
   "source": [
    "## Большое задание"
   ]
  },
  {
   "cell_type": "markdown",
   "metadata": {},
   "source": [
    "Вам дана информация про товары в магазине &mdash; словарь, где для каждого названия продукта приведена информация о нём (тоже хранящаяся в списке):\n",
    "- цена товара `price`, например `124` или `560`\n",
    "- категория `category`, к которой относится товар `category`, например `product` или `utility`\n",
    "- список тэгов `tags`, описывающих товар, например `['meat', 'fresh']`"
   ]
  },
  {
   "cell_type": "code",
   "execution_count": 62,
   "metadata": {},
   "outputs": [],
   "source": [
    "items = {\n",
    "    'яблоки': {'category': 'product', 'price': 124, 'tags': ['fruit', 'fresh']},\n",
    "    'курица': {'category': 'product', 'price': 480, 'tags': ['meat', 'fresh']},\n",
    "    'спички': {'category': 'utility', 'price': 45,  'tags': []},\n",
    "    'тетрадь': {'category': 'utility', 'price': 40,  'tags': ['writing']},\n",
    "    'соль': {'category': 'product', 'price': 60,  'tags': ['spice']},\n",
    "    'перец': {'category': 'product', 'price': 35,  'tags': ['spice']},\n",
    "}"
   ]
  },
  {
   "cell_type": "markdown",
   "metadata": {},
   "source": [
    "В магазине новые товары. Добавьте в items.\n",
    "\n",
    "Продавец вводит:\n",
    "- \"хлеб product 25 bakery fresh\""
   ]
  },
  {
   "cell_type": "code",
   "execution_count": 63,
   "metadata": {},
   "outputs": [
    {
     "name": "stdout",
     "output_type": "stream",
     "text": [
      "хлеб product 25 bakery fresh\n"
     ]
    }
   ],
   "source": [
    "# ваш код\n",
    "new = input()"
   ]
  },
  {
   "cell_type": "code",
   "execution_count": 64,
   "metadata": {},
   "outputs": [
    {
     "data": {
      "text/plain": [
       "'хлеб product 25 bakery fresh'"
      ]
     },
     "execution_count": 64,
     "metadata": {},
     "output_type": "execute_result"
    }
   ],
   "source": [
    "new"
   ]
  },
  {
   "cell_type": "code",
   "execution_count": 65,
   "metadata": {},
   "outputs": [
    {
     "data": {
      "text/plain": [
       "'хлеб'"
      ]
     },
     "execution_count": 65,
     "metadata": {},
     "output_type": "execute_result"
    }
   ],
   "source": [
    "newlist = new.split()\n",
    "newlist[0]"
   ]
  },
  {
   "cell_type": "code",
   "execution_count": 66,
   "metadata": {},
   "outputs": [
    {
     "data": {
      "text/plain": [
       "{'яблоки': {'category': 'product', 'price': 124, 'tags': ['fruit', 'fresh']},\n",
       " 'курица': {'category': 'product', 'price': 480, 'tags': ['meat', 'fresh']},\n",
       " 'спички': {'category': 'utility', 'price': 45, 'tags': []},\n",
       " 'тетрадь': {'category': 'utility', 'price': 40, 'tags': ['writing']},\n",
       " 'соль': {'category': 'product', 'price': 60, 'tags': ['spice']},\n",
       " 'перец': {'category': 'product', 'price': 35, 'tags': ['spice']},\n",
       " 'хлеб': {'category': 'product', 'price': '25', 'tags': ['bakery', 'fresh']}}"
      ]
     },
     "execution_count": 66,
     "metadata": {},
     "output_type": "execute_result"
    }
   ],
   "source": [
    "items[newlist[0]] = {'category': newlist[1], 'price': newlist[2], 'tags': newlist[3:]}\n",
    "items"
   ]
  },
  {
   "cell_type": "markdown",
   "metadata": {},
   "source": [
    "Кроме того, дан список из нескольких чеков за день `checks`. В каждом чеке через пробел записано, какие товары купил посетитель.\n"
   ]
  },
  {
   "cell_type": "code",
   "execution_count": 67,
   "metadata": {},
   "outputs": [],
   "source": [
    "checks = [\n",
    "    'яблоки яблоки курица спички спички соль перец',\n",
    "    'яблоки яблоки яблоки курица курица',\n",
    "    'тетрадь тетрадь тетрадь тетрадь тетрадь тетрадь тетрадь тетрадь тетрадь тетрадь тетрадь тетрадь тетрадь тетрадь тетрадь тетрадь тетрадь тетрадь тетрадь тетрадь',\n",
    "    'соль перец яблоки',\n",
    "    'тетрадь тетрадь тетрадь тетрадь тетрадь',\n",
    "]"
   ]
  },
  {
   "cell_type": "markdown",
   "metadata": {},
   "source": [
    "Сделайте выводы о покупках в магазине за день:\n",
    "\n",
    "- для каждого чека найдите, на какую он сумму (это определяется суммой стоимостей отдельных товаров из чека)\n",
    "  например, для чека `'яблоки яблоки курица спички спички соль перец'` это `913`\n",
    "  $(124 * 2 + 480 + 45 *2 + 60 + 35$, но это пример, вы не обязаны умножать. Считать в коде вы можете так, как окажется удобнее$)$\n",
    "\n",
    "- рассчитайте средний чек за день.\n",
    "  Например для такого списка:\n",
    "\n",
    "```python\n",
    "[\n",
    "'яблоки яблоки курица спички спички соль перец',\n",
    "'яблоки яблоки яблоки курица курица',\n",
    "]\n",
    "```\n",
    "    ответ это (913 + 1332) / 2 = `1122.5`\n",
    "\n",
    "- для каждого чека получите словарь, где ключом будет категория, а значением &mdash; количество товаров этой категории в чеке,\n",
    "  например, `{\"product\": 5, \"utility\": 2}` для чека `'яблоки яблоки курица спички спички соль перец'`\n",
    "\n",
    "\n"
   ]
  },
  {
   "cell_type": "code",
   "execution_count": 68,
   "metadata": {},
   "outputs": [
    {
     "name": "stdout",
     "output_type": "stream",
     "text": [
      "яблоки яблоки курица спички спички соль перец :  913\n",
      "яблоки яблоки яблоки курица курица :  1332\n",
      "тетрадь тетрадь тетрадь тетрадь тетрадь тетрадь тетрадь тетрадь тетрадь тетрадь тетрадь тетрадь тетрадь тетрадь тетрадь тетрадь тетрадь тетрадь тетрадь тетрадь :  800\n",
      "соль перец яблоки :  219\n",
      "тетрадь тетрадь тетрадь тетрадь тетрадь :  200\n"
     ]
    }
   ],
   "source": [
    "# Сумма чека?\n",
    "for check in checks:\n",
    "    check_sum = 0\n",
    "    for item in check.split():\n",
    "        check_sum += items[item]['price']\n",
    "    print(check, ': ', check_sum)"
   ]
  },
  {
   "cell_type": "code",
   "execution_count": 69,
   "metadata": {},
   "outputs": [
    {
     "data": {
      "text/plain": [
       "692.8"
      ]
     },
     "execution_count": 69,
     "metadata": {},
     "output_type": "execute_result"
    }
   ],
   "source": [
    "# Средний чек? (для чеков из checks)\n",
    "all_check_sums = []\n",
    "for check in checks:\n",
    "    check_sum = 0\n",
    "    for item in check.split():\n",
    "        check_sum += items[item]['price']\n",
    "    all_check_sums.append(check_sum)\n",
    "sum(all_check_sums)/len(all_check_sums)"
   ]
  },
  {
   "cell_type": "code",
   "execution_count": 70,
   "metadata": {},
   "outputs": [
    {
     "name": "stdout",
     "output_type": "stream",
     "text": [
      "{'product': 5, 'utility': 2}\n",
      "{'product': 5}\n",
      "{'utility': 20}\n",
      "{'product': 3}\n",
      "{'utility': 5}\n"
     ]
    }
   ],
   "source": [
    "# Категория - количество товаров\n",
    "for check in checks:\n",
    "    cat_num = {}\n",
    "    for item in check.split():\n",
    "        category = items[item]['category']\n",
    "        if category not in cat_num:\n",
    "            cat_num[category] = 1\n",
    "        else:\n",
    "            cat_num[category] +=1\n",
    "    print(cat_num)"
   ]
  }
 ],
 "metadata": {
  "kernelspec": {
   "display_name": "Python 3 (ipykernel)",
   "language": "python",
   "name": "python3"
  },
  "language_info": {
   "codemirror_mode": {
    "name": "ipython",
    "version": 3
   },
   "file_extension": ".py",
   "mimetype": "text/x-python",
   "name": "python",
   "nbconvert_exporter": "python",
   "pygments_lexer": "ipython3",
   "version": "3.9.16"
  }
 },
 "nbformat": 4,
 "nbformat_minor": 4
}
