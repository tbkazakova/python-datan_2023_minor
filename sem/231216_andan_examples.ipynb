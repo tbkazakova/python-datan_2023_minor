{
 "cells": [
  {
   "cell_type": "markdown",
   "id": "351ec92b-48e8-4067-be88-c1128264194e",
   "metadata": {},
   "source": [
    "# Кто длиннее?\n",
    "\n",
    "Правда ли, что у Л. Н. Толстого длинные предложения. Значимо ли они длиннее, чем у Чехова?"
   ]
  },
  {
   "cell_type": "code",
   "execution_count": 1,
   "id": "ff332dbb-65ea-404d-8ac9-cbb0cf7a9e22",
   "metadata": {},
   "outputs": [],
   "source": [
    "import pandas as pd\n",
    "\n",
    "sents = pd.read_excel('tolstoj_chehov.xlsx')"
   ]
  },
  {
   "cell_type": "code",
   "execution_count": 2,
   "id": "ecffbc2b-83f9-461a-bf4a-c2e4c7eb1e76",
   "metadata": {},
   "outputs": [
    {
     "data": {
      "text/html": [
       "<div>\n",
       "<style scoped>\n",
       "    .dataframe tbody tr th:only-of-type {\n",
       "        vertical-align: middle;\n",
       "    }\n",
       "\n",
       "    .dataframe tbody tr th {\n",
       "        vertical-align: top;\n",
       "    }\n",
       "\n",
       "    .dataframe thead th {\n",
       "        text-align: right;\n",
       "    }\n",
       "</style>\n",
       "<table border=\"1\" class=\"dataframe\">\n",
       "  <thead>\n",
       "    <tr style=\"text-align: right;\">\n",
       "      <th></th>\n",
       "      <th>Предложение</th>\n",
       "      <th>Дата</th>\n",
       "      <th>Автор</th>\n",
       "    </tr>\n",
       "  </thead>\n",
       "  <tbody>\n",
       "    <tr>\n",
       "      <th>0</th>\n",
       "      <td>Оставайся!</td>\n",
       "      <td>1885</td>\n",
       "      <td>А. П. Чехов</td>\n",
       "    </tr>\n",
       "    <tr>\n",
       "      <th>1</th>\n",
       "      <td>Львов.</td>\n",
       "      <td>1887</td>\n",
       "      <td>А. П. Чехов</td>\n",
       "    </tr>\n",
       "    <tr>\n",
       "      <th>2</th>\n",
       "      <td>Пожалуйте!</td>\n",
       "      <td>1884</td>\n",
       "      <td>А. П. Чехов</td>\n",
       "    </tr>\n",
       "    <tr>\n",
       "      <th>3</th>\n",
       "      <td>Борцов.</td>\n",
       "      <td>1885</td>\n",
       "      <td>А. П. Чехов</td>\n",
       "    </tr>\n",
       "    <tr>\n",
       "      <th>4</th>\n",
       "      <td>Исковеркаю!</td>\n",
       "      <td>1892</td>\n",
       "      <td>А. П. Чехов</td>\n",
       "    </tr>\n",
       "    <tr>\n",
       "      <th>...</th>\n",
       "      <td>...</td>\n",
       "      <td>...</td>\n",
       "      <td>...</td>\n",
       "    </tr>\n",
       "    <tr>\n",
       "      <th>1196</th>\n",
       "      <td>Так как брошюры эти были написаны мною и издав...</td>\n",
       "      <td>1909</td>\n",
       "      <td>Л. Н. Толстой</td>\n",
       "    </tr>\n",
       "    <tr>\n",
       "      <th>1197</th>\n",
       "      <td>Здесь, приехавши в Гриневку и увидав заморышей...</td>\n",
       "      <td>1894</td>\n",
       "      <td>Л. Н. Толстой</td>\n",
       "    </tr>\n",
       "    <tr>\n",
       "      <th>1198</th>\n",
       "      <td>Не буду говорить о тех миллионах глупостей и г...</td>\n",
       "      <td>1909</td>\n",
       "      <td>Л. Н. Толстой</td>\n",
       "    </tr>\n",
       "    <tr>\n",
       "      <th>1199</th>\n",
       "      <td>Сейчас у нас с России происходит нечто необыкн...</td>\n",
       "      <td>1899</td>\n",
       "      <td>Л. Н. Толстой</td>\n",
       "    </tr>\n",
       "    <tr>\n",
       "      <th>1200</th>\n",
       "      <td>Ведь стоит только человеку очнуться от гипноза...</td>\n",
       "      <td>1908</td>\n",
       "      <td>Л. Н. Толстой</td>\n",
       "    </tr>\n",
       "  </tbody>\n",
       "</table>\n",
       "<p>1201 rows × 3 columns</p>\n",
       "</div>"
      ],
      "text/plain": [
       "                                            Предложение  Дата          Автор\n",
       "0                                            Оставайся!  1885    А. П. Чехов\n",
       "1                                                Львов.  1887    А. П. Чехов\n",
       "2                                            Пожалуйте!  1884    А. П. Чехов\n",
       "3                                               Борцов.  1885    А. П. Чехов\n",
       "4                                           Исковеркаю!  1892    А. П. Чехов\n",
       "...                                                 ...   ...            ...\n",
       "1196  Так как брошюры эти были написаны мною и издав...  1909  Л. Н. Толстой\n",
       "1197  Здесь, приехавши в Гриневку и увидав заморышей...  1894  Л. Н. Толстой\n",
       "1198  Не буду говорить о тех миллионах глупостей и г...  1909  Л. Н. Толстой\n",
       "1199  Сейчас у нас с России происходит нечто необыкн...  1899  Л. Н. Толстой\n",
       "1200  Ведь стоит только человеку очнуться от гипноза...  1908  Л. Н. Толстой\n",
       "\n",
       "[1201 rows x 3 columns]"
      ]
     },
     "execution_count": 2,
     "metadata": {},
     "output_type": "execute_result"
    }
   ],
   "source": [
    "sents"
   ]
  },
  {
   "cell_type": "code",
   "execution_count": 3,
   "id": "06534117-7b65-4eb1-a6a7-b2ffc149b092",
   "metadata": {},
   "outputs": [
    {
     "data": {
      "text/plain": [
       "array(['А. П. Чехов', 'коллективный', 'Л. Н. Толстой'], dtype=object)"
      ]
     },
     "execution_count": 3,
     "metadata": {},
     "output_type": "execute_result"
    }
   ],
   "source": [
    "sents['Автор'].unique()"
   ]
  },
  {
   "cell_type": "code",
   "execution_count": 4,
   "id": "ef8af8c9-1f12-4219-80cc-ed26bfd570a5",
   "metadata": {},
   "outputs": [
    {
     "name": "stdout",
     "output_type": "stream",
     "text": [
      "<class 'pandas.core.frame.DataFrame'>\n",
      "RangeIndex: 1201 entries, 0 to 1200\n",
      "Data columns (total 3 columns):\n",
      " #   Column       Non-Null Count  Dtype \n",
      "---  ------       --------------  ----- \n",
      " 0   Предложение  1201 non-null   object\n",
      " 1   Дата         1201 non-null   object\n",
      " 2   Автор        1201 non-null   object\n",
      "dtypes: object(3)\n",
      "memory usage: 28.3+ KB\n"
     ]
    }
   ],
   "source": [
    "sents.info()"
   ]
  },
  {
   "cell_type": "code",
   "execution_count": 5,
   "id": "70d7bdeb-4e4e-4d8c-a67c-f4435acb87fc",
   "metadata": {},
   "outputs": [
    {
     "data": {
      "text/html": [
       "<div>\n",
       "<style scoped>\n",
       "    .dataframe tbody tr th:only-of-type {\n",
       "        vertical-align: middle;\n",
       "    }\n",
       "\n",
       "    .dataframe tbody tr th {\n",
       "        vertical-align: top;\n",
       "    }\n",
       "\n",
       "    .dataframe thead th {\n",
       "        text-align: right;\n",
       "    }\n",
       "</style>\n",
       "<table border=\"1\" class=\"dataframe\">\n",
       "  <thead>\n",
       "    <tr style=\"text-align: right;\">\n",
       "      <th></th>\n",
       "      <th>Предложение</th>\n",
       "      <th>Дата</th>\n",
       "      <th>Автор</th>\n",
       "      <th>word_len</th>\n",
       "    </tr>\n",
       "  </thead>\n",
       "  <tbody>\n",
       "    <tr>\n",
       "      <th>0</th>\n",
       "      <td>Оставайся!</td>\n",
       "      <td>1885</td>\n",
       "      <td>А. П. Чехов</td>\n",
       "      <td>1</td>\n",
       "    </tr>\n",
       "    <tr>\n",
       "      <th>1</th>\n",
       "      <td>Львов.</td>\n",
       "      <td>1887</td>\n",
       "      <td>А. П. Чехов</td>\n",
       "      <td>1</td>\n",
       "    </tr>\n",
       "    <tr>\n",
       "      <th>2</th>\n",
       "      <td>Пожалуйте!</td>\n",
       "      <td>1884</td>\n",
       "      <td>А. П. Чехов</td>\n",
       "      <td>1</td>\n",
       "    </tr>\n",
       "    <tr>\n",
       "      <th>3</th>\n",
       "      <td>Борцов.</td>\n",
       "      <td>1885</td>\n",
       "      <td>А. П. Чехов</td>\n",
       "      <td>1</td>\n",
       "    </tr>\n",
       "    <tr>\n",
       "      <th>4</th>\n",
       "      <td>Исковеркаю!</td>\n",
       "      <td>1892</td>\n",
       "      <td>А. П. Чехов</td>\n",
       "      <td>1</td>\n",
       "    </tr>\n",
       "    <tr>\n",
       "      <th>...</th>\n",
       "      <td>...</td>\n",
       "      <td>...</td>\n",
       "      <td>...</td>\n",
       "      <td>...</td>\n",
       "    </tr>\n",
       "    <tr>\n",
       "      <th>1196</th>\n",
       "      <td>Так как брошюры эти были написаны мною и издав...</td>\n",
       "      <td>1909</td>\n",
       "      <td>Л. Н. Толстой</td>\n",
       "      <td>98</td>\n",
       "    </tr>\n",
       "    <tr>\n",
       "      <th>1197</th>\n",
       "      <td>Здесь, приехавши в Гриневку и увидав заморышей...</td>\n",
       "      <td>1894</td>\n",
       "      <td>Л. Н. Толстой</td>\n",
       "      <td>99</td>\n",
       "    </tr>\n",
       "    <tr>\n",
       "      <th>1198</th>\n",
       "      <td>Не буду говорить о тех миллионах глупостей и г...</td>\n",
       "      <td>1909</td>\n",
       "      <td>Л. Н. Толстой</td>\n",
       "      <td>127</td>\n",
       "    </tr>\n",
       "    <tr>\n",
       "      <th>1199</th>\n",
       "      <td>Сейчас у нас с России происходит нечто необыкн...</td>\n",
       "      <td>1899</td>\n",
       "      <td>Л. Н. Толстой</td>\n",
       "      <td>145</td>\n",
       "    </tr>\n",
       "    <tr>\n",
       "      <th>1200</th>\n",
       "      <td>Ведь стоит только человеку очнуться от гипноза...</td>\n",
       "      <td>1908</td>\n",
       "      <td>Л. Н. Толстой</td>\n",
       "      <td>275</td>\n",
       "    </tr>\n",
       "  </tbody>\n",
       "</table>\n",
       "<p>1201 rows × 4 columns</p>\n",
       "</div>"
      ],
      "text/plain": [
       "                                            Предложение  Дата          Автор  \\\n",
       "0                                            Оставайся!  1885    А. П. Чехов   \n",
       "1                                                Львов.  1887    А. П. Чехов   \n",
       "2                                            Пожалуйте!  1884    А. П. Чехов   \n",
       "3                                               Борцов.  1885    А. П. Чехов   \n",
       "4                                           Исковеркаю!  1892    А. П. Чехов   \n",
       "...                                                 ...   ...            ...   \n",
       "1196  Так как брошюры эти были написаны мною и издав...  1909  Л. Н. Толстой   \n",
       "1197  Здесь, приехавши в Гриневку и увидав заморышей...  1894  Л. Н. Толстой   \n",
       "1198  Не буду говорить о тех миллионах глупостей и г...  1909  Л. Н. Толстой   \n",
       "1199  Сейчас у нас с России происходит нечто необыкн...  1899  Л. Н. Толстой   \n",
       "1200  Ведь стоит только человеку очнуться от гипноза...  1908  Л. Н. Толстой   \n",
       "\n",
       "      word_len  \n",
       "0            1  \n",
       "1            1  \n",
       "2            1  \n",
       "3            1  \n",
       "4            1  \n",
       "...        ...  \n",
       "1196        98  \n",
       "1197        99  \n",
       "1198       127  \n",
       "1199       145  \n",
       "1200       275  \n",
       "\n",
       "[1201 rows x 4 columns]"
      ]
     },
     "execution_count": 5,
     "metadata": {},
     "output_type": "execute_result"
    }
   ],
   "source": [
    "sents['word_len'] = sents['Предложение'].apply(lambda x: len(str(x).split()))\n",
    "sents"
   ]
  },
  {
   "cell_type": "code",
   "execution_count": 6,
   "id": "a14ca2ba-f3cb-4797-88d0-6e38fa8efb33",
   "metadata": {},
   "outputs": [
    {
     "data": {
      "text/plain": [
       "<Axes: >"
      ]
     },
     "execution_count": 6,
     "metadata": {},
     "output_type": "execute_result"
    },
    {
     "data": {
      "image/png": "[encoded data removed]",
      "text/plain": [
       "<Figure size 640x480 with 1 Axes>"
      ]
     },
     "metadata": {},
     "output_type": "display_data"
    }
   ],
   "source": [
    "sents['word_len'].hist()"
   ]
  },
  {
   "cell_type": "code",
   "execution_count": 7,
   "id": "11c1816c-9267-4a1d-8700-a7f64fbdc12b",
   "metadata": {},
   "outputs": [
    {
     "data": {
      "text/plain": [
       "Автор\n",
       "А. П. Чехов      16.722488\n",
       "Л. Н. Толстой    32.083770\n",
       "коллективный     20.451697\n",
       "Name: word_len, dtype: float64"
      ]
     },
     "execution_count": 7,
     "metadata": {},
     "output_type": "execute_result"
    }
   ],
   "source": [
    "sents.groupby('Автор')['word_len'].mean()"
   ]
  },
  {
   "cell_type": "code",
   "execution_count": 8,
   "id": "00c55e9d-ef63-42f9-ac0a-d8bce74910b2",
   "metadata": {},
   "outputs": [
    {
     "name": "stdout",
     "output_type": "stream",
     "text": [
      "А. П. Чехов\n",
      "коллективный\n",
      "Л. Н. Толстой\n"
     ]
    },
    {
     "data": {
      "image/png": "[encoded data removed]",
      "text/plain": [
       "<Figure size 640x480 with 1 Axes>"
      ]
     },
     "metadata": {},
     "output_type": "display_data"
    }
   ],
   "source": [
    "for author in list(sents['Автор'].unique()):\n",
    "    print(author)\n",
    "    sents[sents['Автор'] == author]['word_len'].hist()"
   ]
  },
  {
   "cell_type": "code",
   "execution_count": 9,
   "id": "ef6dc5f5-0917-4cdf-bede-6a29f53d1784",
   "metadata": {},
   "outputs": [
    {
     "data": {
      "text/plain": [
       "array([[<Axes: title={'center': 'А. П. Чехов'}>,\n",
       "        <Axes: title={'center': 'Л. Н. Толстой'}>],\n",
       "       [<Axes: title={'center': 'коллективный'}>, <Axes: >]], dtype=object)"
      ]
     },
     "execution_count": 9,
     "metadata": {},
     "output_type": "execute_result"
    },
    {
     "data": {
      "image/png": "[encoded data removed]",
      "text/plain": [
       "<Figure size 640x480 with 4 Axes>"
      ]
     },
     "metadata": {},
     "output_type": "display_data"
    }
   ],
   "source": [
    "sents.hist('word_len', by='Автор', sharex=True, sharey=True)"
   ]
  },
  {
   "cell_type": "markdown",
   "id": "39e72226-b4d3-498a-9d15-64fde42060d5",
   "metadata": {},
   "source": [
    "**Как ответить на вопрос, случайно ли такое распределение или у Л. Н. Толстого правда предложения длиннее?**\n",
    "\n",
    "### Существует t-test\n",
    "\n",
    "Одновыборочный отвечает на вопрос, может ли наша выборка быть не из генеральной совокупности с определённым средним (на каком-то уровне значимости).\n",
    "\n",
    "Двувыборочный отвечает на вопрос, могут ли две наши выборки быть не из генеральной совокупности (на каком-то уровне значимости)."
   ]
  },
  {
   "cell_type": "markdown",
   "id": "052a3805-ae9d-4b77-873d-73b74c00f36b",
   "metadata": {},
   "source": [
    "![t-test](https://raw.githubusercontent.com/tbkazakova/python-datan_2023_minor/main/data/ttest.png)"
   ]
  },
  {
   "cell_type": "code",
   "execution_count": 10,
   "id": "9e6d8c69-6198-49d9-9181-8e5e7675c7a4",
   "metadata": {},
   "outputs": [
    {
     "name": "stdout",
     "output_type": "stream",
     "text": [
      "Requirement already satisfied: scipy in /Library/Frameworks/Python.framework/Versions/3.12/lib/python3.12/site-packages (1.11.4)\n",
      "Requirement already satisfied: numpy<1.28.0,>=1.21.6 in /Library/Frameworks/Python.framework/Versions/3.12/lib/python3.12/site-packages (from scipy) (1.26.2)\n"
     ]
    }
   ],
   "source": [
    "! pip install scipy"
   ]
  },
  {
   "cell_type": "code",
   "execution_count": 11,
   "id": "15877226-913e-4d7b-bb50-e404beced211",
   "metadata": {},
   "outputs": [
    {
     "name": "stdout",
     "output_type": "stream",
     "text": [
      "T statistic: 2.2894683580127317\n",
      "P-value: 0.047816221110566944\n",
      "Отклоняем нулевую гипотезу, есть статистически значимая разница между средними выборки и генеральной совокупности.\n"
     ]
    }
   ],
   "source": [
    "import numpy as np\n",
    "from scipy import stats\n",
    "\n",
    "# У нас есть оценки\n",
    "student_scores = np.array([72, 89, 65, 73, 79, 84, 63, 76, 85, 75])\n",
    "\n",
    "# Вышка думает, что средняя оценка при 100 шкале - 70\n",
    "mu = 70\n",
    "\n",
    "#Хотим понять, у нас рандомные студенты из генеральной совокупности\n",
    "# или это какие-то особенные (старательные или наоборот не старательные)\n",
    "\n",
    "# Нулевая гипотеза - рандомные студенты из генеральной совокупности, среднее незначимо отличается от того, что в генеральной совокупности\n",
    "# Ненулевая гипотеза - у нас какие-то особенные, среднее значимо отличается от того, что в генеральной совокупности\n",
    "\n",
    "# Используем одновыборочный t-test\n",
    "t_stat, p_value = stats.ttest_1samp(student_scores, mu)\n",
    "print(\"T statistic:\", t_stat)\n",
    "print(\"P-value:\", p_value)\n",
    "\n",
    "# Вот такой у нас уровень значимости. Это значит, что мы готовы ошибиться в 5 случаях из 100\n",
    "alpha = 0.05\n",
    "\n",
    "# Интерпретируем результат\n",
    "if p_value < alpha:\n",
    "    print(\"Отклоняем нулевую гипотезу, есть статистически значимая разница между средними выборки и генеральной совокупности.\")\n",
    "else:\n",
    "    print(\"Не получается отклонить нулевую гипотезу, нет статистически значимой разницы между средними выборки и генеральной совокупности.\")"
   ]
  },
  {
   "cell_type": "markdown",
   "id": "55887a05-7eef-437e-a2c7-a9e88cf85b43",
   "metadata": {},
   "source": [
    "**Это был одновыборочный. А нам нужен двувыборочный для наших данных. У нас Чехов и Толстой.**"
   ]
  },
  {
   "cell_type": "code",
   "execution_count": 12,
   "id": "908e4876-1928-4fec-9aad-7fa56f569d26",
   "metadata": {},
   "outputs": [
    {
     "data": {
      "text/plain": [
       "array([  1,   1,   2,   2,   2,   2,   3,   3,   4,   4,   5,   6,   7,\n",
       "         7,   7,   8,   8,   8,   8,   8,   9,   9,   9,   9,  10,  10,\n",
       "        10,  10,  11,  11,  11,  11,  11,  11,  12,  12,  12,  12,  13,\n",
       "        13,  13,  14,  14,  14,  14,  15,  15,  15,  15,  16,  16,  16,\n",
       "        16,  16,  16,  17,  17,  17,  17,  17,  17,  18,  18,  18,  19,\n",
       "        19,  19,  19,  20,  20,  20,  20,  20,  20,  20,  20,  21,  21,\n",
       "        21,  21,  21,  21,  21,  22,  22,  22,  23,  23,  23,  23,  23,\n",
       "        23,  24,  24,  24,  24,  25,  25,  26,  26,  26,  26,  27,  27,\n",
       "        27,  27,  28,  28,  28,  28,  28,  28,  29,  29,  29,  29,  30,\n",
       "        30,  30,  30,  30,  31,  31,  31,  31,  31,  31,  32,  32,  32,\n",
       "        34,  35,  35,  35,  35,  37,  37,  38,  38,  38,  38,  39,  40,\n",
       "        40,  41,  41,  43,  43,  43,  46,  46,  48,  49,  49,  50,  50,\n",
       "        50,  51,  53,  53,  55,  55,  56,  56,  57,  58,  58,  58,  59,\n",
       "        63,  63,  66,  67,  67,  68,  70,  70,  72,  73,  73,  73,  78,\n",
       "        81,  84,  85,  90,  98,  99, 127, 145, 275])"
      ]
     },
     "execution_count": 12,
     "metadata": {},
     "output_type": "execute_result"
    }
   ],
   "source": [
    "chehov = sents[sents['Автор'] == 'А. П. Чехов']['word_len'].values\n",
    "tolstoj = sents[sents['Автор'] == 'Л. Н. Толстой']['word_len'].values\n",
    "tolstoj"
   ]
  },
  {
   "cell_type": "markdown",
   "id": "6bffbb7f-0e4e-4e23-95d2-f1dd15a92de8",
   "metadata": {},
   "source": [
    "t-test придуман для выборок с нормальным распределением.\n",
    "\n",
    "Будем использовать аналог t-test, которому неважно, какое распределение.\n",
    "\n",
    "### Тест Манна-Уитни"
   ]
  },
  {
   "cell_type": "code",
   "execution_count": 13,
   "id": "318903b8-26af-4ec3-bd16-616af81ebcab",
   "metadata": {},
   "outputs": [],
   "source": [
    "from scipy.stats import mannwhitneyu"
   ]
  },
  {
   "cell_type": "code",
   "execution_count": 14,
   "id": "f32af308-9d66-4033-948f-24d5c12d5329",
   "metadata": {},
   "outputs": [
    {
     "name": "stdout",
     "output_type": "stream",
     "text": [
      "MannwhitneyuResult(statistic=86704.0, pvalue=3.076490071036075e-21)\n"
     ]
    }
   ],
   "source": [
    "res = mannwhitneyu(tolstoj, chehov, alternative=\"greater\")\n",
    "print(res)"
   ]
  },
  {
   "cell_type": "markdown",
   "id": "e74c3b37-faea-4edd-88eb-16b2a06ffc93",
   "metadata": {},
   "source": [
    "**Какой вывод?**\n",
    "\n",
    "p-value маленькое, сильно меньше порога. Мы можем смело отвергать нулевую гипотезу о том, что между Толстым и Чеховым нет статистически значимой разницы. И примать гипотезу о том, что предложения у Толстого длиннее, чем у Чехова."
   ]
  },
  {
   "cell_type": "markdown",
   "id": "7def530f-f1af-4e06-9e42-4108dc0a473f",
   "metadata": {},
   "source": [
    "**Что значит одно- или двусторонний тест?**\n",
    "\n",
    "![Что значит одно- или двусторонний тест?](https://raw.githubusercontent.com/tbkazakova/python-datan_2023_minor/main/data/one_vs_two_sided.png)"
   ]
  },
  {
   "cell_type": "markdown",
   "id": "9c089483-ae96-40d9-a175-f35ef9834a99",
   "metadata": {},
   "source": [
    "# Хи-квадрат\n",
    "\n",
    "Объяснение: https://r-analytics.blogspot.com/2012/08/blog-post.html\n",
    "\n",
    "Онлайн-калькулятор: https://www.socscistatistics.com/tests/chisquare2/default2.aspx"
   ]
  },
  {
   "cell_type": "markdown",
   "id": "668fa857-ca00-461d-9758-c30c106b8374",
   "metadata": {},
   "source": [
    "# Ключевые слова. TF-IDF\n",
    "\n",
    "Как сравнить? Как понять, какой текст о чём? Как выделить ключевые слова?"
   ]
  },
  {
   "cell_type": "code",
   "execution_count": 15,
   "id": "3333d63f-dd5a-4b24-95aa-cf63f7b76396",
   "metadata": {},
   "outputs": [],
   "source": [
    "import os"
   ]
  },
  {
   "cell_type": "code",
   "execution_count": 16,
   "id": "32c29535-4f6f-4e64-a118-179bbafc1b59",
   "metadata": {},
   "outputs": [
    {
     "data": {
      "text/plain": [
       "['olymp.csv',\n",
       " 'gismeteo.csv',\n",
       " '.DS_Store',\n",
       " 'ice-cream.csv',\n",
       " 'tolstoj_chehov.xlsx',\n",
       " 'info.txt',\n",
       " '231216_andan_examples.ipynb',\n",
       " 'music.csv',\n",
       " 'first_text.txt',\n",
       " 'boxplots.ipynb',\n",
       " '230909_python_intro_arithmetic.ipynb',\n",
       " '.ipynb_checkpoints',\n",
       " 'interesting_file.txt',\n",
       " 'smeshariki',\n",
       " '20231028_files_training.ipynb',\n",
       " 'data']"
      ]
     },
     "execution_count": 16,
     "metadata": {},
     "output_type": "execute_result"
    }
   ],
   "source": [
    "file_list = os.listdir()  # список файлов и папок в директории, где запущена программа\n",
    "file_list"
   ]
  },
  {
   "cell_type": "code",
   "execution_count": 17,
   "id": "b045ad70-7cee-4a2a-9a02-03030813a907",
   "metadata": {},
   "outputs": [
    {
     "data": {
      "text/plain": [
       "['1_skamejka.txt', '16_biografijazontika.txt', '215_kaketobylo.txt']"
      ]
     },
     "execution_count": 17,
     "metadata": {},
     "output_type": "execute_result"
    }
   ],
   "source": [
    "file_list = os.listdir('./smeshariki')\n",
    "file_list"
   ]
  },
  {
   "cell_type": "code",
   "execution_count": 18,
   "id": "0d88c662-a455-43f3-8a32-25075f1ea57b",
   "metadata": {},
   "outputs": [
    {
     "name": "stdout",
     "output_type": "stream",
     "text": [
      "Requirement already satisfied: pymystem3 in /Library/Frameworks/Python.framework/Versions/3.12/lib/python3.12/site-packages (0.2.0)\n",
      "Requirement already satisfied: requests in /Library/Frameworks/Python.framework/Versions/3.12/lib/python3.12/site-packages (from pymystem3) (2.31.0)\n",
      "Requirement already satisfied: charset-normalizer<4,>=2 in /Library/Frameworks/Python.framework/Versions/3.12/lib/python3.12/site-packages (from requests->pymystem3) (3.3.2)\n",
      "Requirement already satisfied: idna<4,>=2.5 in /Library/Frameworks/Python.framework/Versions/3.12/lib/python3.12/site-packages (from requests->pymystem3) (3.4)\n",
      "Requirement already satisfied: urllib3<3,>=1.21.1 in /Library/Frameworks/Python.framework/Versions/3.12/lib/python3.12/site-packages (from requests->pymystem3) (2.1.0)\n",
      "Requirement already satisfied: certifi>=2017.4.17 in /Library/Frameworks/Python.framework/Versions/3.12/lib/python3.12/site-packages (from requests->pymystem3) (2023.7.22)\n"
     ]
    }
   ],
   "source": [
    "! pip3 install pymystem3"
   ]
  },
  {
   "cell_type": "code",
   "execution_count": 19,
   "id": "d79a9107-13fc-4a4e-8330-c91164b7b2bf",
   "metadata": {},
   "outputs": [],
   "source": [
    "from pymystem3 import Mystem\n",
    "m = Mystem()"
   ]
  },
  {
   "cell_type": "code",
   "execution_count": 20,
   "id": "e66bba42-bc91-40a1-b6a4-18f5ed25117a",
   "metadata": {},
   "outputs": [],
   "source": [
    "text_lex = {}\n",
    "for textname in file_list:\n",
    "    with open('./smeshariki/'+textname, encoding='UTF-8') as f:\n",
    "        text = f.read()\n",
    "    lemmas = m.lemmatize(text)\n",
    "    lex = []\n",
    "    for lemma in lemmas:\n",
    "        if lemma.isalpha():\n",
    "            lex.append(lemma)\n",
    "    text_lex[textname[:-4]] = lex  # получили словарь {название текста: список лемм}"
   ]
  },
  {
   "cell_type": "code",
   "execution_count": 21,
   "id": "fc1e2b38-84bf-46b8-829a-f81849f2969b",
   "metadata": {},
   "outputs": [
    {
     "data": {
      "text/plain": [
       "['1_skamejka', '16_biografijazontika', '215_kaketobylo']"
      ]
     },
     "execution_count": 21,
     "metadata": {},
     "output_type": "execute_result"
    }
   ],
   "source": [
    "list(text_lex.keys())"
   ]
  },
  {
   "cell_type": "code",
   "execution_count": 22,
   "id": "1668f23f-8664-48c0-9a47-5167b2be21c9",
   "metadata": {},
   "outputs": [
    {
     "data": {
      "text/plain": [
       "['крош',\n",
       " 'давно',\n",
       " 'хотеть',\n",
       " 'сделать',\n",
       " 'для',\n",
       " 'свой',\n",
       " 'дома',\n",
       " 'полезный',\n",
       " 'и',\n",
       " 'решать',\n",
       " 'смастерить',\n",
       " 'скамейка',\n",
       " 'после',\n",
       " 'несколько',\n",
       " 'день',\n",
       " 'работа',\n",
       " 'скамейка',\n",
       " 'быть',\n",
       " 'готовый',\n",
       " 'крош']"
      ]
     },
     "execution_count": 22,
     "metadata": {},
     "output_type": "execute_result"
    }
   ],
   "source": [
    "text_lex['1_skamejka'][:20]"
   ]
  },
  {
   "cell_type": "markdown",
   "id": "1f4bdec0-65d3-4a15-88b7-b7c199442e65",
   "metadata": {},
   "source": [
    "- сравнить самые частотные слова"
   ]
  },
  {
   "cell_type": "code",
   "execution_count": 23,
   "id": "508ba209-466e-4ab2-b40f-0760a08c7541",
   "metadata": {},
   "outputs": [],
   "source": [
    "import collections"
   ]
  },
  {
   "cell_type": "code",
   "execution_count": 24,
   "id": "dc2de61f-2c56-4e91-96e9-ba2f722788b8",
   "metadata": {},
   "outputs": [
    {
     "name": "stdout",
     "output_type": "stream",
     "text": [
      "1_skamejka\n",
      "[('и', 21), ('он', 12), ('крош', 10), ('ежик', 10), ('не', 10), ('бараш', 10), ('что', 8), ('скамейка', 7), ('на', 7), ('розовый', 6), ('но', 6), ('друг', 6), ('краска', 5), ('вдохновение', 5), ('понимать', 5)]\n",
      "16_biografijazontika\n",
      "[('и', 16), ('зонтик', 15), ('в', 13), ('бараш', 12), ('он', 9), ('с', 7), ('свой', 7), ('они', 7), ('крош', 7), ('ежик', 7), ('к', 6), ('этот', 5), ('что', 4), ('старый', 4), ('не', 4)]\n",
      "215_kaketobylo\n",
      "[('и', 10), ('что', 5), ('крош', 4), ('они', 4), ('не', 4), ('ежик', 3), ('на', 3), ('это', 3), ('он', 3), ('бараш', 3), ('скамейка', 2), ('вспоминать', 2), ('из', 2), ('серия', 2), ('но', 2)]\n"
     ]
    }
   ],
   "source": [
    "for text in text_lex:\n",
    "    print(text)\n",
    "    fdist = collections.Counter(text_lex[text])\n",
    "    print(fdist.most_common(15))"
   ]
  },
  {
   "cell_type": "markdown",
   "id": "db769b08-8dc6-4630-9ecd-28c9344c9377",
   "metadata": {},
   "source": [
    "Ну вот, стопслова не убрали. Убираем."
   ]
  },
  {
   "cell_type": "code",
   "execution_count": 25,
   "id": "6b7213a2-7a2d-4961-b776-ef49ca607560",
   "metadata": {},
   "outputs": [],
   "source": [
    "stopwords = [\"c\", \"а\", \"алло\", \"без\", \"белый\", \"близко\", \"более\", \"больше\", \"большой\", \"будем\", \"будет\", \"будете\", \"будешь\", \"будто\", \"буду\", \"будут\", \"будь\", \"бы\", \"бывает\", \"бывь\", \"был\", \"была\", \"были\", \"было\", \"быть\", \"в\", \"важная\", \"важное\", \"важные\", \"важный\", \"вам\", \"вами\", \"вас\", \"ваш\", \"ваша\", \"ваше\", \"ваши\", \"вверх\", \"вдали\", \"вдруг\", \"ведь\", \"везде\", \"вернуться\", \"весь\", \"вечер\", \"взгляд\", \"взять\", \"вид\", \"видел\", \"видеть\", \"вместе\", \"вне\", \"вниз\", \"внизу\", \"во\", \"вода\", \"война\", \"вокруг\", \"вон\", \"вообще\", \"вопрос\", \"восемнадцатый\", \"восемнадцать\", \"восемь\", \"восьмой\", \"вот\", \"впрочем\", \"времени\", \"время\", \"все\", \"все еще\", \"всегда\", \"всего\", \"всем\", \"всеми\", \"всему\", \"всех\", \"всею\", \"всю\", \"всюду\", \"вся\", \"всё\", \"второй\", \"вы\", \"выйти\", \"г\", \"где\", \"главный\", \"глаз\", \"говорил\", \"говорит\", \"говорить\", \"год\", \"года\", \"году\", \"голова\", \"голос\", \"город\", \"да\", \"давать\", \"давно\", \"даже\", \"далекий\", \"далеко\", \"дальше\", \"даром\", \"дать\", \"два\", \"двадцатый\", \"двадцать\", \"две\", \"двенадцатый\", \"двенадцать\", \"дверь\", \"двух\", \"девятнадцатый\", \"девятнадцать\", \"девятый\", \"девять\", \"действительно\", \"дел\", \"делал\", \"делать\", \"делаю\", \"дело\", \"день\", \"деньги\", \"десятый\", \"десять\", \"для\", \"до\", \"довольно\", \"долго\", \"должен\", \"должно\", \"должный\", \"дом\", \"дорога\", \"друг\", \"другая\", \"другие\", \"других\", \"друго\", \"другое\", \"другой\", \"думать\", \"душа\", \"е\", \"его\", \"ее\", \"ей\", \"ему\", \"если\", \"есть\", \"еще\", \"ещё\", \"ею\", \"её\", \"ж\", \"ждать\", \"же\", \"жена\", \"женщина\", \"жизнь\", \"жить\", \"за\", \"занят\", \"занята\", \"занято\", \"заняты\", \"затем\", \"зато\", \"зачем\", \"здесь\", \"земля\", \"знать\", \"значит\", \"значить\", \"и\", \"иди\", \"идти\", \"из\", \"или\", \"им\", \"имеет\", \"имел\", \"именно\", \"иметь\", \"ими\", \"имя\", \"иногда\", \"их\", \"к\", \"каждая\", \"каждое\", \"каждые\", \"каждый\", \"кажется\", \"казаться\", \"как\", \"какая\", \"какой\", \"кем\", \"книга\", \"когда\", \"кого\", \"ком\", \"комната\", \"кому\", \"конец\", \"конечно\", \"которая\", \"которого\", \"которой\", \"которые\", \"который\", \"которых\", \"кроме\", \"кругом\", \"кто\", \"куда\", \"лежать\", \"лет\", \"ли\", \"лицо\", \"лишь\", \"лучше\", \"любить\", \"люди\", \"м\", \"маленький\", \"мало\", \"мать\", \"машина\", \"между\", \"меля\", \"менее\", \"меньше\", \"меня\", \"место\", \"миллионов\", \"мимо\", \"минута\", \"мир\", \"мира\", \"мне\", \"много\", \"многочисленная\", \"многочисленное\", \"многочисленные\", \"многочисленный\", \"мной\", \"мною\", \"мог\", \"могу\", \"могут\", \"мож\", \"может\", \"может быть\", \"можно\", \"можхо\", \"мои\", \"мой\", \"мор\", \"москва\", \"мочь\", \"моя\", \"моё\", \"мы\", \"на\", \"наверху\", \"над\", \"надо\", \"назад\", \"наиболее\", \"найти\", \"наконец\", \"нам\", \"нами\", \"народ\", \"нас\", \"начала\", \"начать\", \"наш\", \"наша\", \"наше\", \"наши\", \"не\", \"него\", \"недавно\", \"недалеко\", \"нее\", \"ней\", \"некоторый\", \"нельзя\", \"нем\", \"немного\", \"нему\", \"непрерывно\", \"нередко\", \"несколько\", \"нет\", \"нею\", \"неё\", \"ни\", \"нибудь\", \"ниже\", \"низко\", \"никакой\", \"никогда\", \"никто\", \"никуда\", \"ним\", \"ними\", \"них\", \"ничего\", \"ничто\", \"но\", \"новый\", \"нога\", \"ночь\", \"ну\", \"нужно\", \"нужный\", \"нх\", \"о\", \"об\", \"оба\", \"обычно\", \"один\", \"одиннадцатый\", \"одиннадцать\", \"однажды\", \"однако\", \"одного\", \"одной\", \"оказаться\", \"окно\", \"около\", \"он\", \"она\", \"они\", \"оно\", \"опять\", \"особенно\", \"остаться\", \"от\", \"ответить\", \"отец\", \"откуда\", \"отовсюду\", \"отсюда\", \"очень\", \"первый\", \"перед\", \"писать\", \"плечо\", \"по\", \"под\", \"подойди\", \"подумать\", \"пожалуйста\", \"позже\", \"пойти\", \"пока\", \"пол\", \"получить\", \"помнить\", \"понимать\", \"понять\", \"пор\", \"пора\", \"после\", \"последний\", \"посмотреть\", \"посреди\", \"потом\", \"потому\", \"почему\", \"почти\", \"правда\", \"прекрасно\", \"при\", \"про\", \"просто\", \"против\", \"процентов\", \"путь\", \"пятнадцатый\", \"пятнадцать\", \"пятый\", \"пять\", \"работа\", \"работать\", \"раз\", \"разве\", \"рано\", \"раньше\", \"ребенок\", \"решить\", \"россия\", \"рука\", \"русский\", \"ряд\", \"рядом\", \"с\", \"с кем\", \"сам\", \"сама\", \"сами\", \"самим\", \"самими\", \"самих\", \"само\", \"самого\", \"самой\", \"самом\", \"самому\", \"саму\", \"самый\", \"свет\", \"свое\", \"своего\", \"своей\", \"свои\", \"своих\", \"свой\", \"свою\", \"сделать\", \"сеаой\", \"себе\", \"себя\", \"сегодня\", \"седьмой\", \"сейчас\", \"семнадцатый\", \"семнадцать\", \"семь\", \"сидеть\", \"сила\", \"сих\", \"сказал\", \"сказала\", \"сказать\", \"сколько\", \"слишком\", \"слово\", \"случай\", \"смотреть\", \"сначала\", \"снова\", \"со\", \"собой\", \"собою\", \"советский\", \"совсем\", \"спасибо\", \"спросить\", \"сразу\", \"стал\", \"старый\", \"стать\", \"стол\", \"сторона\", \"стоять\", \"страна\", \"суть\", \"считать\", \"т\", \"та\", \"так\", \"такая\", \"также\", \"таки\", \"такие\", \"такое\", \"такой\", \"там\", \"твои\", \"твой\", \"твоя\", \"твоё\", \"те\", \"тебе\", \"тебя\", \"тем\", \"теми\", \"теперь\", \"тех\", \"то\", \"тобой\", \"тобою\", \"товарищ\", \"тогда\", \"того\", \"тоже\", \"только\", \"том\", \"тому\", \"тот\", \"тою\", \"третий\", \"три\", \"тринадцатый\", \"тринадцать\", \"ту\", \"туда\", \"тут\", \"ты\", \"тысяч\", \"у\", \"увидеть\", \"уж\", \"уже\", \"улица\", \"уметь\", \"утро\", \"хороший\", \"хорошо\", \"хотел бы\", \"хотеть\", \"хоть\", \"хотя\", \"хочешь\", \"час\", \"часто\", \"часть\", \"чаще\", \"чего\", \"человек\", \"чем\", \"чему\", \"через\", \"четвертый\", \"четыре\", \"четырнадцатый\", \"четырнадцать\", \"что\", \"чтоб\", \"чтобы\", \"чуть\", \"шестнадцатый\", \"шестнадцать\", \"шестой\", \"шесть\", \"эта\", \"эти\", \"этим\", \"этими\", \"этих\", \"это\", \"этого\", \"этой\", \"этом\", \"этому\", \"этот\", \"эту\", \"я\", \"являюсь\"]"
   ]
  },
  {
   "cell_type": "code",
   "execution_count": 26,
   "id": "86f49d83-3ae8-4711-95b5-a07ff974ccdf",
   "metadata": {},
   "outputs": [],
   "source": [
    "text_lex_nostopw = {}\n",
    "for textname in text_lex:\n",
    "    words_nostopw = []\n",
    "    for word in text_lex[textname]:\n",
    "        if word not in stopwords:\n",
    "            words_nostopw.append(word)\n",
    "    text_lex_nostopw[textname] = words_nostopw      "
   ]
  },
  {
   "cell_type": "code",
   "execution_count": 27,
   "id": "148098c1-2b72-466a-a149-6603a43bdb06",
   "metadata": {},
   "outputs": [
    {
     "name": "stdout",
     "output_type": "stream",
     "text": [
      "1_skamejka\n",
      "[('крош', 10), ('ежик', 10), ('бараш', 10), ('скамейка', 7), ('розовый', 6), ('краска', 5), ('вдохновение', 5), ('решать', 3), ('приходить', 3), ('рассказывать', 2), ('поэт', 2), ('стих', 2), ('находить', 2), ('закрашивать', 2), ('бегемот', 2)]\n",
      "16_biografijazontika\n",
      "[('зонтик', 15), ('бараш', 12), ('крош', 7), ('ежик', 7), ('следующий', 4), ('кадр', 4), ('насос', 4), ('пытаться', 3), ('появляться', 3), ('заплатка', 3), ('шланг', 3), ('струя', 3), ('зонт', 3), ('начинаться', 2), ('вещь', 2)]\n",
      "215_kaketobylo\n",
      "[('крош', 4), ('ежик', 3), ('бараш', 3), ('скамейка', 2), ('вспоминать', 2), ('серия', 2), ('залезать', 2), ('дерево', 2), ('начинать', 2), ('дождь', 2), ('поедать', 1), ('арбуз', 1), ('событие', 1), ('смешарик', 1), ('происходить', 1)]\n"
     ]
    }
   ],
   "source": [
    "for text in text_lex_nostopw:\n",
    "    print(text)\n",
    "    fdist = collections.Counter(text_lex_nostopw[text])\n",
    "    print(fdist.most_common(15))"
   ]
  },
  {
   "cell_type": "markdown",
   "id": "83dc00a4-08bd-464b-b6c1-68b0b267c6f7",
   "metadata": {},
   "source": [
    "- а ещё хорошо бы биграммы и триграммы посмотреть (больше совпадений - тексты ближе)"
   ]
  },
  {
   "cell_type": "code",
   "execution_count": 29,
   "id": "0e1188c2-6cdd-4d23-9e8a-b56d895e5c43",
   "metadata": {},
   "outputs": [],
   "source": [
    "import nltk"
   ]
  },
  {
   "cell_type": "code",
   "execution_count": 30,
   "id": "9cd588e8-dc5a-4094-87bf-1a987870f072",
   "metadata": {},
   "outputs": [
    {
     "data": {
      "text/plain": [
       "[(('крош', 'ежик'), 4),\n",
       " (('розовый', 'краска'), 3),\n",
       " (('ежик', 'бараш'), 2),\n",
       " (('крош', 'дома'), 1),\n",
       " (('дома', 'полезный'), 1),\n",
       " (('полезный', 'решать'), 1),\n",
       " (('решать', 'смастерить'), 1),\n",
       " (('смастерить', 'скамейка'), 1),\n",
       " (('скамейка', 'скамейка'), 1),\n",
       " (('скамейка', 'готовый'), 1)]"
      ]
     },
     "execution_count": 30,
     "metadata": {},
     "output_type": "execute_result"
    }
   ],
   "source": [
    "# Но не с нашими текстами. Они слишком маленькие.\n",
    "bigr_l = list(nltk.bigrams(text_lex_nostopw['1_skamejka']))\n",
    "bigr_counter = collections.Counter(bigr_l)\n",
    "bigr_counter.most_common(10)"
   ]
  },
  {
   "cell_type": "markdown",
   "id": "a93b35f5-bf5e-4f39-86bc-990f0371df8a",
   "metadata": {},
   "source": [
    "А если все тексты о Кроше, Ёжике и Бараше? Тогда все они будут похожими, потому что везде частотны слова \"крош\", \"ёжик\", \"бараш\"?\n",
    "\n",
    "Да, но нам важно понимать, чем они отличаются.\n",
    "\n",
    "Точнее будет смотреть на слова, которые в отдельных текстах частотные, а при этом в коллекции документов редкие.\n",
    "\n",
    "### Есть метод! TF-IDF\n",
    "\n",
    "- TF — term frequency - частота слова внутри документа\n",
    "- IDF — inverse document frequency - log(кол-во документов/кол-во документов с этим словом)\n",
    "\n",
    "TF-IDF = TF*IDF\n",
    "\n",
    "Чем больше TF-IDF, тем важнее слово.\n",
    "\n",
    "#(логарифм натуральный, по основанию e≈2,72, но можно и другой)"
   ]
  },
  {
   "cell_type": "markdown",
   "id": "cd61f6a6-37f6-4fa2-addb-44fe9c76f413",
   "metadata": {},
   "source": [
    "Давайте сначала на 3х коротких текстах"
   ]
  },
  {
   "cell_type": "code",
   "execution_count": 31,
   "id": "b7b05890-9f53-458a-bee1-a8ec29905d79",
   "metadata": {},
   "outputs": [],
   "source": [
    "documentA = 'мама мыла раму'\n",
    "documentB = 'Мила мыла куклу и раму'\n",
    "documentC = 'Римма мыла раму и мама мыла раму'"
   ]
  },
  {
   "cell_type": "code",
   "execution_count": 32,
   "id": "16c56754-6f3f-4be9-94bd-4935894a7e50",
   "metadata": {},
   "outputs": [],
   "source": [
    "bagOfWordsA = documentA.split(' ')\n",
    "bagOfWordsB = documentB.split(' ')\n",
    "bagOfWordsC = documentC.split(' ')"
   ]
  },
  {
   "cell_type": "code",
   "execution_count": 33,
   "id": "2ac2be81-9f79-4ab0-8fb8-582b916638c1",
   "metadata": {},
   "outputs": [
    {
     "data": {
      "text/plain": [
       "['мама', 'мыла', 'раму']"
      ]
     },
     "execution_count": 33,
     "metadata": {},
     "output_type": "execute_result"
    }
   ],
   "source": [
    "bagOfWordsA"
   ]
  },
  {
   "cell_type": "code",
   "execution_count": 34,
   "id": "18848b84-7773-429b-8524-35403a5bce69",
   "metadata": {},
   "outputs": [],
   "source": [
    "uniqueWords = set(bagOfWordsA + bagOfWordsB + bagOfWordsC)"
   ]
  },
  {
   "cell_type": "code",
   "execution_count": 35,
   "id": "66a22c9c-e94b-4e90-ae67-0c7684d03f8f",
   "metadata": {},
   "outputs": [
    {
     "data": {
      "text/plain": [
       "{'Мила', 'Римма', 'и', 'куклу', 'мама', 'мыла', 'раму'}"
      ]
     },
     "execution_count": 35,
     "metadata": {},
     "output_type": "execute_result"
    }
   ],
   "source": [
    "# Вот все слова, которые встретились в текстах\n",
    "uniqueWords"
   ]
  },
  {
   "cell_type": "markdown",
   "id": "6742bb55-1a17-490d-ab7b-335c8f0f3bb6",
   "metadata": {},
   "source": [
    "Делаем словарь {слово: кол-во употреблений} для каждого текста."
   ]
  },
  {
   "cell_type": "code",
   "execution_count": 36,
   "id": "c2820e06-bd73-47ea-a123-f6e38166cc46",
   "metadata": {},
   "outputs": [],
   "source": [
    "numOfWordsA = dict.fromkeys(uniqueWords, 0)\n",
    "for word in bagOfWordsA:\n",
    "    numOfWordsA[word] += 1\n",
    "numOfWordsB = dict.fromkeys(uniqueWords, 0)\n",
    "for word in bagOfWordsB:\n",
    "    numOfWordsB[word] += 1\n",
    "numOfWordsC = dict.fromkeys(uniqueWords, 0)\n",
    "for word in bagOfWordsC:\n",
    "    numOfWordsC[word] += 1"
   ]
  },
  {
   "cell_type": "code",
   "execution_count": 37,
   "id": "e86b2119-eca6-4931-8e42-3b41b9f87faf",
   "metadata": {},
   "outputs": [
    {
     "data": {
      "text/plain": [
       "{'Мила': 0, 'Римма': 0, 'мыла': 1, 'раму': 1, 'мама': 1, 'и': 0, 'куклу': 0}"
      ]
     },
     "execution_count": 37,
     "metadata": {},
     "output_type": "execute_result"
    }
   ],
   "source": [
    "# В первом тексте столько раз встретилось каждое из слов\n",
    "numOfWordsA"
   ]
  },
  {
   "cell_type": "markdown",
   "id": "3aa49e04-1ce1-465a-812d-6ca75654c5a2",
   "metadata": {},
   "source": [
    "Считаем TF (частота слова внутри документа)"
   ]
  },
  {
   "cell_type": "code",
   "execution_count": 38,
   "id": "9cab4f75-1c66-4803-9314-99557409e96e",
   "metadata": {},
   "outputs": [],
   "source": [
    "def computeTF(wordDict, bagOfWords):\n",
    "    tfDict = {}\n",
    "    bagOfWordsCount = len(bagOfWords)\n",
    "    for word, count in wordDict.items():\n",
    "        tfDict[word] = count / float(bagOfWordsCount)\n",
    "    return tfDict"
   ]
  },
  {
   "cell_type": "code",
   "execution_count": 39,
   "id": "f546aec6-725f-4da9-8f8f-442daa962cd8",
   "metadata": {},
   "outputs": [],
   "source": [
    "tfA = computeTF(numOfWordsA, bagOfWordsA)\n",
    "tfB = computeTF(numOfWordsB, bagOfWordsB)\n",
    "tfC = computeTF(numOfWordsC, bagOfWordsC)"
   ]
  },
  {
   "cell_type": "code",
   "execution_count": 40,
   "id": "d06d89b5-9ad2-440a-80b1-455e7b78bf77",
   "metadata": {},
   "outputs": [
    {
     "data": {
      "text/plain": [
       "{'Мила': 0.0,\n",
       " 'Римма': 0.0,\n",
       " 'мыла': 0.3333333333333333,\n",
       " 'раму': 0.3333333333333333,\n",
       " 'мама': 0.3333333333333333,\n",
       " 'и': 0.0,\n",
       " 'куклу': 0.0}"
      ]
     },
     "execution_count": 40,
     "metadata": {},
     "output_type": "execute_result"
    }
   ],
   "source": [
    "tfA"
   ]
  },
  {
   "cell_type": "markdown",
   "id": "7096127e-2d67-4b5e-a36c-672e2617add4",
   "metadata": {},
   "source": [
    "Считаем IDF (log(кол-во документов/кол-во документов с этим словом))\n",
    "\n",
    "один раз для всех слов"
   ]
  },
  {
   "cell_type": "code",
   "execution_count": 41,
   "id": "7a8a514c-9002-4cd9-8240-d9677a19fdb5",
   "metadata": {},
   "outputs": [],
   "source": [
    "import math\n",
    "\n",
    "def computeIDF(documents):\n",
    "    N = len(documents)\n",
    "    \n",
    "    idfDict = dict.fromkeys(documents[0].keys(), 0)\n",
    "    for document in documents:\n",
    "        for word, val in document.items():\n",
    "            if val > 0:\n",
    "                idfDict[word] += 1\n",
    "    \n",
    "    for word, val in idfDict.items():\n",
    "        idfDict[word] = math.log(N / float(val))\n",
    "    return idfDict"
   ]
  },
  {
   "cell_type": "code",
   "execution_count": 42,
   "id": "f2824c66-57d3-401a-b21e-736336d032be",
   "metadata": {},
   "outputs": [],
   "source": [
    "idfs = computeIDF([numOfWordsA, numOfWordsB, numOfWordsC])"
   ]
  },
  {
   "cell_type": "code",
   "execution_count": 43,
   "id": "37135847-554a-452a-819e-eb6127c8dfb7",
   "metadata": {},
   "outputs": [
    {
     "data": {
      "text/plain": [
       "{'Мила': 1.0986122886681098,\n",
       " 'Римма': 1.0986122886681098,\n",
       " 'мыла': 0.0,\n",
       " 'раму': 0.0,\n",
       " 'мама': 0.4054651081081644,\n",
       " 'и': 0.4054651081081644,\n",
       " 'куклу': 1.0986122886681098}"
      ]
     },
     "execution_count": 43,
     "metadata": {},
     "output_type": "execute_result"
    }
   ],
   "source": [
    "# Есть слова, которые встретились во многих текстах (значение меньше),\n",
    "# есть \"специфичные\", которые встретились в малом кол-ве текстов (значение больше)\n",
    "idfs"
   ]
  },
  {
   "cell_type": "code",
   "execution_count": 44,
   "id": "717274c7-94a4-413a-aa77-a6f0c69fc82a",
   "metadata": {},
   "outputs": [],
   "source": [
    "def computeTFIDF(tfBagOfWords, idfs):\n",
    "    tfidf = {}\n",
    "    for word, val in tfBagOfWords.items():\n",
    "        tfidf[word] = val * idfs[word]\n",
    "    return tfidf"
   ]
  },
  {
   "cell_type": "code",
   "execution_count": 45,
   "id": "7863b787-51ae-47c6-b01f-b2aaf63608a8",
   "metadata": {},
   "outputs": [],
   "source": [
    "tfidfA = computeTFIDF(tfA, idfs)\n",
    "tfidfB = computeTFIDF(tfB, idfs)\n",
    "tfidfC = computeTFIDF(tfC, idfs)\n",
    "\n",
    "df = pd.DataFrame([tfidfA, tfidfB, tfidfC])  # создаём таблицу"
   ]
  },
  {
   "cell_type": "code",
   "execution_count": 46,
   "id": "39b3adaa-706b-4f05-a969-9e8eb942d739",
   "metadata": {},
   "outputs": [
    {
     "name": "stdout",
     "output_type": "stream",
     "text": [
      "\n",
      " мама мыла раму \n",
      " Мила мыла куклу и раму \n",
      " Римма мыла раму и мама мыла раму\n"
     ]
    },
    {
     "data": {
      "text/html": [
       "<div>\n",
       "<style scoped>\n",
       "    .dataframe tbody tr th:only-of-type {\n",
       "        vertical-align: middle;\n",
       "    }\n",
       "\n",
       "    .dataframe tbody tr th {\n",
       "        vertical-align: top;\n",
       "    }\n",
       "\n",
       "    .dataframe thead th {\n",
       "        text-align: right;\n",
       "    }\n",
       "</style>\n",
       "<table border=\"1\" class=\"dataframe\">\n",
       "  <thead>\n",
       "    <tr style=\"text-align: right;\">\n",
       "      <th></th>\n",
       "      <th>Мила</th>\n",
       "      <th>Римма</th>\n",
       "      <th>мыла</th>\n",
       "      <th>раму</th>\n",
       "      <th>мама</th>\n",
       "      <th>и</th>\n",
       "      <th>куклу</th>\n",
       "    </tr>\n",
       "  </thead>\n",
       "  <tbody>\n",
       "    <tr>\n",
       "      <th>0</th>\n",
       "      <td>0.000000</td>\n",
       "      <td>0.000000</td>\n",
       "      <td>0.0</td>\n",
       "      <td>0.0</td>\n",
       "      <td>0.135155</td>\n",
       "      <td>0.000000</td>\n",
       "      <td>0.000000</td>\n",
       "    </tr>\n",
       "    <tr>\n",
       "      <th>1</th>\n",
       "      <td>0.219722</td>\n",
       "      <td>0.000000</td>\n",
       "      <td>0.0</td>\n",
       "      <td>0.0</td>\n",
       "      <td>0.000000</td>\n",
       "      <td>0.081093</td>\n",
       "      <td>0.219722</td>\n",
       "    </tr>\n",
       "    <tr>\n",
       "      <th>2</th>\n",
       "      <td>0.000000</td>\n",
       "      <td>0.156945</td>\n",
       "      <td>0.0</td>\n",
       "      <td>0.0</td>\n",
       "      <td>0.057924</td>\n",
       "      <td>0.057924</td>\n",
       "      <td>0.000000</td>\n",
       "    </tr>\n",
       "  </tbody>\n",
       "</table>\n",
       "</div>"
      ],
      "text/plain": [
       "       Мила     Римма  мыла  раму      мама         и     куклу\n",
       "0  0.000000  0.000000   0.0   0.0  0.135155  0.000000  0.000000\n",
       "1  0.219722  0.000000   0.0   0.0  0.000000  0.081093  0.219722\n",
       "2  0.000000  0.156945   0.0   0.0  0.057924  0.057924  0.000000"
      ]
     },
     "execution_count": 46,
     "metadata": {},
     "output_type": "execute_result"
    }
   ],
   "source": [
    "print('\\n', documentA, '\\n', documentB, '\\n', documentC)\n",
    "df"
   ]
  },
  {
   "cell_type": "markdown",
   "id": "7edfd8e2-717b-4540-8e9b-2a5dbd91a2d6",
   "metadata": {},
   "source": [
    "Чем больше значение, тем важнее слово для текста.\n",
    "\n",
    "\"Рама\" встречается во всех трёх - у неё значение везде ноль.\n",
    "\n",
    "\"Кукла\" и \"Мила\" встречаются только во втором - они очень важны для второго текста (у них самые большие значения)"
   ]
  },
  {
   "cell_type": "markdown",
   "id": "88061924-154a-492e-9d05-71ef21340ae4",
   "metadata": {},
   "source": [
    "### А теперь для смешариков то же самое"
   ]
  },
  {
   "cell_type": "code",
   "execution_count": 47,
   "id": "42b8476e-8e86-4166-af6c-ce184279f170",
   "metadata": {},
   "outputs": [],
   "source": [
    "bagOfWords_001 = text_lex['1_skamejka']\n",
    "bagOfWords_215 = text_lex['215_kaketobylo']\n",
    "bagOfWords_016 = text_lex['16_biografijazontika']"
   ]
  },
  {
   "cell_type": "code",
   "execution_count": 48,
   "id": "ef29604f-f407-4a16-a8f1-d106b7ee8e34",
   "metadata": {},
   "outputs": [],
   "source": [
    "kikoriki_uniqueW = set(bagOfWords_001 + bagOfWords_215 + bagOfWords_016)"
   ]
  },
  {
   "cell_type": "code",
   "execution_count": 49,
   "id": "3e2365e2-c697-4487-8e25-4da424ffd8c3",
   "metadata": {},
   "outputs": [],
   "source": [
    "numOfWords_001 = dict.fromkeys(kikoriki_uniqueW, 0)\n",
    "for word in bagOfWords_001:\n",
    "    numOfWords_001[word] += 1\n",
    "numOfWords_215 = dict.fromkeys(kikoriki_uniqueW, 0)\n",
    "for word in bagOfWords_215:\n",
    "    numOfWords_215[word] += 1\n",
    "numOfWords_016 = dict.fromkeys(kikoriki_uniqueW, 0)\n",
    "for word in bagOfWords_016:\n",
    "    numOfWords_016[word] += 1"
   ]
  },
  {
   "cell_type": "code",
   "execution_count": 50,
   "id": "3e4206f7-f3cc-4145-b135-e8c512a88094",
   "metadata": {},
   "outputs": [],
   "source": [
    "idfs = computeIDF([numOfWords_001, numOfWords_215, numOfWords_016])"
   ]
  },
  {
   "cell_type": "code",
   "execution_count": 51,
   "id": "ed4a9953-5a40-4d4a-a3bb-46052838ede7",
   "metadata": {},
   "outputs": [],
   "source": [
    "tfidfA = computeTFIDF(computeTF(numOfWords_001, bagOfWords_001), idfs)\n",
    "tfidfB = computeTFIDF(computeTF(numOfWords_215, bagOfWords_215), idfs)\n",
    "tfidfC = computeTFIDF(computeTF(numOfWords_016, bagOfWords_016), idfs)\n",
    "\n",
    "df = pd.DataFrame([tfidfA, tfidfB, tfidfC])"
   ]
  },
  {
   "cell_type": "code",
   "execution_count": 52,
   "id": "c5e22e3b-58a9-42fb-8d72-299f04da6743",
   "metadata": {},
   "outputs": [
    {
     "data": {
      "text/html": [
       "<div>\n",
       "<style scoped>\n",
       "    .dataframe tbody tr th:only-of-type {\n",
       "        vertical-align: middle;\n",
       "    }\n",
       "\n",
       "    .dataframe tbody tr th {\n",
       "        vertical-align: top;\n",
       "    }\n",
       "\n",
       "    .dataframe thead th {\n",
       "        text-align: right;\n",
       "    }\n",
       "</style>\n",
       "<table border=\"1\" class=\"dataframe\">\n",
       "  <thead>\n",
       "    <tr style=\"text-align: right;\">\n",
       "      <th></th>\n",
       "      <th>легкий</th>\n",
       "      <th>башня</th>\n",
       "      <th>точно</th>\n",
       "      <th>красивый</th>\n",
       "      <th>трое</th>\n",
       "      <th>сначала</th>\n",
       "      <th>я</th>\n",
       "      <th>ни</th>\n",
       "      <th>поэт</th>\n",
       "      <th>от</th>\n",
       "      <th>...</th>\n",
       "      <th>огромный</th>\n",
       "      <th>уносить</th>\n",
       "      <th>крош</th>\n",
       "      <th>закрашивать</th>\n",
       "      <th>отверстие</th>\n",
       "      <th>по</th>\n",
       "      <th>давно</th>\n",
       "      <th>начинаться</th>\n",
       "      <th>вдруг</th>\n",
       "      <th>счастие</th>\n",
       "    </tr>\n",
       "  </thead>\n",
       "  <tbody>\n",
       "    <tr>\n",
       "      <th>0</th>\n",
       "      <td>0.003203</td>\n",
       "      <td>0.006406</td>\n",
       "      <td>0.000000</td>\n",
       "      <td>0.003203</td>\n",
       "      <td>0.001182</td>\n",
       "      <td>0.003203</td>\n",
       "      <td>0.003203</td>\n",
       "      <td>0.000000</td>\n",
       "      <td>0.002364</td>\n",
       "      <td>0.003203</td>\n",
       "      <td>...</td>\n",
       "      <td>0.003203</td>\n",
       "      <td>0.000000</td>\n",
       "      <td>0.0</td>\n",
       "      <td>0.006406</td>\n",
       "      <td>0.000000</td>\n",
       "      <td>0.000000</td>\n",
       "      <td>0.001182</td>\n",
       "      <td>0.000000</td>\n",
       "      <td>0.006406</td>\n",
       "      <td>0.003203</td>\n",
       "    </tr>\n",
       "    <tr>\n",
       "      <th>1</th>\n",
       "      <td>0.000000</td>\n",
       "      <td>0.000000</td>\n",
       "      <td>0.009079</td>\n",
       "      <td>0.000000</td>\n",
       "      <td>0.000000</td>\n",
       "      <td>0.000000</td>\n",
       "      <td>0.000000</td>\n",
       "      <td>0.000000</td>\n",
       "      <td>0.000000</td>\n",
       "      <td>0.000000</td>\n",
       "      <td>...</td>\n",
       "      <td>0.000000</td>\n",
       "      <td>0.000000</td>\n",
       "      <td>0.0</td>\n",
       "      <td>0.000000</td>\n",
       "      <td>0.000000</td>\n",
       "      <td>0.000000</td>\n",
       "      <td>0.003351</td>\n",
       "      <td>0.000000</td>\n",
       "      <td>0.000000</td>\n",
       "      <td>0.000000</td>\n",
       "    </tr>\n",
       "    <tr>\n",
       "      <th>2</th>\n",
       "      <td>0.000000</td>\n",
       "      <td>0.000000</td>\n",
       "      <td>0.000000</td>\n",
       "      <td>0.000000</td>\n",
       "      <td>0.001321</td>\n",
       "      <td>0.000000</td>\n",
       "      <td>0.000000</td>\n",
       "      <td>0.003579</td>\n",
       "      <td>0.001321</td>\n",
       "      <td>0.000000</td>\n",
       "      <td>...</td>\n",
       "      <td>0.000000</td>\n",
       "      <td>0.003579</td>\n",
       "      <td>0.0</td>\n",
       "      <td>0.000000</td>\n",
       "      <td>0.003579</td>\n",
       "      <td>0.003579</td>\n",
       "      <td>0.000000</td>\n",
       "      <td>0.007157</td>\n",
       "      <td>0.000000</td>\n",
       "      <td>0.000000</td>\n",
       "    </tr>\n",
       "  </tbody>\n",
       "</table>\n",
       "<p>3 rows × 304 columns</p>\n",
       "</div>"
      ],
      "text/plain": [
       "     легкий     башня     точно  красивый      трое   сначала         я  \\\n",
       "0  0.003203  0.006406  0.000000  0.003203  0.001182  0.003203  0.003203   \n",
       "1  0.000000  0.000000  0.009079  0.000000  0.000000  0.000000  0.000000   \n",
       "2  0.000000  0.000000  0.000000  0.000000  0.001321  0.000000  0.000000   \n",
       "\n",
       "         ни      поэт        от  ...  огромный   уносить  крош  закрашивать  \\\n",
       "0  0.000000  0.002364  0.003203  ...  0.003203  0.000000   0.0     0.006406   \n",
       "1  0.000000  0.000000  0.000000  ...  0.000000  0.000000   0.0     0.000000   \n",
       "2  0.003579  0.001321  0.000000  ...  0.000000  0.003579   0.0     0.000000   \n",
       "\n",
       "   отверстие        по     давно  начинаться     вдруг   счастие  \n",
       "0   0.000000  0.000000  0.001182    0.000000  0.006406  0.003203  \n",
       "1   0.000000  0.000000  0.003351    0.000000  0.000000  0.000000  \n",
       "2   0.003579  0.003579  0.000000    0.007157  0.000000  0.000000  \n",
       "\n",
       "[3 rows x 304 columns]"
      ]
     },
     "execution_count": 52,
     "metadata": {},
     "output_type": "execute_result"
    }
   ],
   "source": [
    "df"
   ]
  },
  {
   "cell_type": "code",
   "execution_count": 53,
   "id": "183432f2-9829-4ed6-845b-cf5dd29d9aaa",
   "metadata": {},
   "outputs": [
    {
     "data": {
      "text/plain": [
       "[('розовый', 0.019217707673494632),\n",
       " ('вдохновение', 0.01601475639457886),\n",
       " ('краска', 0.01601475639457886),\n",
       " ('понимать', 0.01601475639457886),\n",
       " ('сделать', 0.009608853836747316),\n",
       " ('тут', 0.009608853836747316),\n",
       " ('скамейка', 0.008274798124656415),\n",
       " ('друг', 0.007092684106848357),\n",
       " ('башня', 0.006405902557831544),\n",
       " ('писать', 0.006405902557831544),\n",
       " ('потом', 0.006405902557831544),\n",
       " ('дом', 0.006405902557831544),\n",
       " ('бегемот', 0.006405902557831544),\n",
       " ('находить', 0.006405902557831544),\n",
       " ('потому', 0.006405902557831544)]"
      ]
     },
     "execution_count": 53,
     "metadata": {},
     "output_type": "execute_result"
    }
   ],
   "source": [
    "# Посмотрим на слова с наибольшим tf-idf в серии \"Скамейка\"\n",
    "collections.Counter(tfidfA).most_common(15)"
   ]
  },
  {
   "cell_type": "code",
   "execution_count": 54,
   "id": "16580bb0-f5ee-4ec4-8191-01a04ed780f2",
   "metadata": {},
   "outputs": [
    {
     "data": {
      "text/plain": [
       "[('начинать', 0.01815888080443157),\n",
       " ('вспоминать', 0.01815888080443157),\n",
       " ('дождь', 0.01815888080443157),\n",
       " ('точно', 0.009079440402215784),\n",
       " ('папа', 0.009079440402215784),\n",
       " ('вечер', 0.009079440402215784),\n",
       " ('смешарик', 0.009079440402215784),\n",
       " ('поедать', 0.009079440402215784),\n",
       " ('или', 0.009079440402215784),\n",
       " ('наяву', 0.009079440402215784),\n",
       " ('ошибочно', 0.009079440402215784),\n",
       " ('ля', 0.009079440402215784),\n",
       " ('сон', 0.009079440402215784),\n",
       " ('все', 0.009079440402215784),\n",
       " ('затем', 0.009079440402215784)]"
      ]
     },
     "execution_count": 54,
     "metadata": {},
     "output_type": "execute_result"
    }
   ],
   "source": [
    "# Как это было\n",
    "collections.Counter(tfidfB).most_common(15)"
   ]
  },
  {
   "cell_type": "code",
   "execution_count": 55,
   "id": "d5d4ae40-52d8-47bc-9ffa-b3397a95149e",
   "metadata": {},
   "outputs": [
    {
     "data": {
      "text/plain": [
       "[('зонтик', 0.01981099876749989),\n",
       " ('кадр', 0.014314166627597522),\n",
       " ('следующий', 0.014314166627597522),\n",
       " ('насос', 0.014314166627597522),\n",
       " ('старый', 0.014314166627597522),\n",
       " ('заплатка', 0.01073562497069814),\n",
       " ('струя', 0.01073562497069814),\n",
       " ('зонт', 0.01073562497069814),\n",
       " ('вода', 0.01073562497069814),\n",
       " ('перед', 0.01073562497069814),\n",
       " ('шланг', 0.01073562497069814),\n",
       " ('появляться', 0.01073562497069814),\n",
       " ('с', 0.009245132758166614),\n",
       " ('свой', 0.009245132758166614),\n",
       " ('уже', 0.007157083313798761)]"
      ]
     },
     "execution_count": 55,
     "metadata": {},
     "output_type": "execute_result"
    }
   ],
   "source": [
    "# Биография зонтика\n",
    "collections.Counter(tfidfC).most_common(15)"
   ]
  }
 ],
 "metadata": {
  "kernelspec": {
   "display_name": "Python 3 (ipykernel)",
   "language": "python",
   "name": "python3"
  },
  "language_info": {
   "codemirror_mode": {
    "name": "ipython",
    "version": 3
   },
   "file_extension": ".py",
   "mimetype": "text/x-python",
   "name": "python",
   "nbconvert_exporter": "python",
   "pygments_lexer": "ipython3",
   "version": "3.12.0"
  }
 },
 "nbformat": 4,
 "nbformat_minor": 5
}
