{
 "cells": [
  {
   "cell_type": "markdown",
   "id": "fe4aa52a",
   "metadata": {
    "id": "fe4aa52a"
   },
   "source": [
    "# Строковые методы и форматирование"
   ]
  },
  {
   "cell_type": "markdown",
   "id": "aec3aa23",
   "metadata": {
    "id": "aec3aa23"
   },
   "source": [
    "Мы уже знаем про:\n",
    "- типы данных `int`, `float`, `str`, `bool`, `list` [список], `tuple` (кортеж неизменяемый)\n",
    "- математические операторы: `+`, `-`, `/`, `*`, `**` (в степень), `%` (остаток от деления), `//` (целая часть при делении)\n",
    "- `print()` — напечатать\n",
    "- `type()` — узнать тип данных\n",
    "- `input()` — принять значение от пользователя\n",
    "- `int()` — преобразовать в целочисленный формат\n",
    "- `float()` — преобразовать в формат дробного числа\n",
    "- `str()` — преобразовать в строку\n",
    "- `bool()` — преобразовать в bool (True/False)\n",
    "- `list()` — преобразовать в список\n",
    "- `tuple()` — преобразовать в кортеж\n",
    "- условия:\n",
    "```\n",
    "if <условие>:\n",
    "    <инструкции, для случая если условие истинно (True)>\n",
    "#elif <условие №2>:\n",
    "#    <инструкции, для случая если условие №2 истинно (True)>\n",
    "#else:\n",
    "#    <инструкции, когда все условия не выполнились (False)>\n",
    "```\n",
    "- операторы сравнения: `>`, `<`, `>=`, `<=`, `==` (равно), `!=` (не равно)\n",
    "- логические операторы: `and`, `or`, `not`\n",
    "- цикл `while`:\n",
    "```\n",
    "while <условие>:\n",
    "    <инструкции, которые будут выполняться по кругу, пока условие выполняется True>\n",
    "```\n",
    "- цикл `for`\n",
    "```\n",
    "for <element> in <elements>:\n",
    "       <инструкции, которые будут выполняться для каждого элемента>\n",
    "```\n",
    "- `.split()` - поделить строку, указанную до точки, по сочетанию символов, указанных в скобках (строка -> список)\n",
    "- индексация с нуля: `итерируемый_объект[индекс]`\n",
    "- срезы: `итерируемый_объект[START:END:STEP]`\n",
    "- `*список` - то же самое, что `список[0] список[1] список[2] список[3]...`\n",
    "- `len()` - узнать длину\n",
    "- `range()` - \"обещание последовательности чисел\" (`list(range(0, 8, 2))` - `[0, 2, 4, 6]`)\n",
    "- `enumerate()` - делает последовательность кортежей: [(порядковый_номер, элемент), (порядковый_номер, элемент), (порядковый_номер, элемент)]\n",
    "\n",
    "**Методы списка (+ строк и кортежей, если метод ничего не изменяет)**\n",
    "- `.append()` - добавление элемента в конец списка\n",
    "- `.extend(another_list)` - расширяет список, добавляя в конец все элементы списка `another_list` (и не только списка)\n",
    "- `.insert(i, x)` — вставляет в `i`-ую позицию в списке значение `x`\n",
    "- `.remove(x)` — удаляет первый элемент в списке, имеющий значение `x`\n",
    "- `.pop(i)` - удаляет элемент с индексом `i` (по умолчанию последний) и возвращает удалённый элемент\n",
    "- `.clear()` — очищает список\n",
    "- `.count(x)` — узнать, сколько раз встречается элемент `x`\n",
    "- `.index(x)` — узнать индекс элемента `x` в списке\n",
    "\n",
    "**Функции для списков и кортежей**\n",
    "- `sum()` — сумма\n",
    "- `min()` — минимальное\n",
    "- `max()` — максимальное\n",
    "- `map()` — применить функцию или метод ко всем элементам сразу (`print(list(map(len, ['Привет', 'ТЕСТ', 'функции', 'map!'])))` - `[6, 4, 7, 4]`), (`print(list(map(str.split, ['Таня Казакова', 'Максим Бажуков', 'Олег Сериков'])))` - `[['Таня', 'Казакова'], ['Максим', 'Бажуков']]`)\n"
   ]
  },
  {
   "cell_type": "markdown",
   "id": "2P2kEzz3wTzz",
   "metadata": {
    "id": "2P2kEzz3wTzz"
   },
   "source": [
    "## Строковые методы"
   ]
  },
  {
   "cell_type": "code",
   "execution_count": 1,
   "id": "e3LJ-mzQxkF-",
   "metadata": {
    "id": "e3LJ-mzQxkF-",
    "tags": []
   },
   "outputs": [
    {
     "name": "stdout",
     "output_type": "stream",
     "text": [
      "Help on class str in module builtins:\n",
      "\n",
      "class str(object)\n",
      " |  str(object='') -> str\n",
      " |  str(bytes_or_buffer[, encoding[, errors]]) -> str\n",
      " |  \n",
      " |  Create a new string object from the given object. If encoding or\n",
      " |  errors is specified, then the object must expose a data buffer\n",
      " |  that will be decoded using the given encoding and error handler.\n",
      " |  Otherwise, returns the result of object.__str__() (if defined)\n",
      " |  or repr(object).\n",
      " |  encoding defaults to sys.getdefaultencoding().\n",
      " |  errors defaults to 'strict'.\n",
      " |  \n",
      " |  Methods defined here:\n",
      " |  \n",
      " |  __add__(self, value, /)\n",
      " |      Return self+value.\n",
      " |  \n",
      " |  __contains__(self, key, /)\n",
      " |      Return key in self.\n",
      " |  \n",
      " |  __eq__(self, value, /)\n",
      " |      Return self==value.\n",
      " |  \n",
      " |  __format__(self, format_spec, /)\n",
      " |      Return a formatted version of the string as described by format_spec.\n",
      " |  \n",
      " |  __ge__(self, value, /)\n",
      " |      Return self>=value.\n",
      " |  \n",
      " |  __getattribute__(self, name, /)\n",
      " |      Return getattr(self, name).\n",
      " |  \n",
      " |  __getitem__(self, key, /)\n",
      " |      Return self[key].\n",
      " |  \n",
      " |  __getnewargs__(...)\n",
      " |  \n",
      " |  __gt__(self, value, /)\n",
      " |      Return self>value.\n",
      " |  \n",
      " |  __hash__(self, /)\n",
      " |      Return hash(self).\n",
      " |  \n",
      " |  __iter__(self, /)\n",
      " |      Implement iter(self).\n",
      " |  \n",
      " |  __le__(self, value, /)\n",
      " |      Return self<=value.\n",
      " |  \n",
      " |  __len__(self, /)\n",
      " |      Return len(self).\n",
      " |  \n",
      " |  __lt__(self, value, /)\n",
      " |      Return self<value.\n",
      " |  \n",
      " |  __mod__(self, value, /)\n",
      " |      Return self%value.\n",
      " |  \n",
      " |  __mul__(self, value, /)\n",
      " |      Return self*value.\n",
      " |  \n",
      " |  __ne__(self, value, /)\n",
      " |      Return self!=value.\n",
      " |  \n",
      " |  __repr__(self, /)\n",
      " |      Return repr(self).\n",
      " |  \n",
      " |  __rmod__(self, value, /)\n",
      " |      Return value%self.\n",
      " |  \n",
      " |  __rmul__(self, value, /)\n",
      " |      Return value*self.\n",
      " |  \n",
      " |  __sizeof__(self, /)\n",
      " |      Return the size of the string in memory, in bytes.\n",
      " |  \n",
      " |  __str__(self, /)\n",
      " |      Return str(self).\n",
      " |  \n",
      " |  capitalize(self, /)\n",
      " |      Return a capitalized version of the string.\n",
      " |      \n",
      " |      More specifically, make the first character have upper case and the rest lower\n",
      " |      case.\n",
      " |  \n",
      " |  casefold(self, /)\n",
      " |      Return a version of the string suitable for caseless comparisons.\n",
      " |  \n",
      " |  center(self, width, fillchar=' ', /)\n",
      " |      Return a centered string of length width.\n",
      " |      \n",
      " |      Padding is done using the specified fill character (default is a space).\n",
      " |  \n",
      " |  count(...)\n",
      " |      S.count(sub[, start[, end]]) -> int\n",
      " |      \n",
      " |      Return the number of non-overlapping occurrences of substring sub in\n",
      " |      string S[start:end].  Optional arguments start and end are\n",
      " |      interpreted as in slice notation.\n",
      " |  \n",
      " |  encode(self, /, encoding='utf-8', errors='strict')\n",
      " |      Encode the string using the codec registered for encoding.\n",
      " |      \n",
      " |      encoding\n",
      " |        The encoding in which to encode the string.\n",
      " |      errors\n",
      " |        The error handling scheme to use for encoding errors.\n",
      " |        The default is 'strict' meaning that encoding errors raise a\n",
      " |        UnicodeEncodeError.  Other possible values are 'ignore', 'replace' and\n",
      " |        'xmlcharrefreplace' as well as any other name registered with\n",
      " |        codecs.register_error that can handle UnicodeEncodeErrors.\n",
      " |  \n",
      " |  endswith(...)\n",
      " |      S.endswith(suffix[, start[, end]]) -> bool\n",
      " |      \n",
      " |      Return True if S ends with the specified suffix, False otherwise.\n",
      " |      With optional start, test S beginning at that position.\n",
      " |      With optional end, stop comparing S at that position.\n",
      " |      suffix can also be a tuple of strings to try.\n",
      " |  \n",
      " |  expandtabs(self, /, tabsize=8)\n",
      " |      Return a copy where all tab characters are expanded using spaces.\n",
      " |      \n",
      " |      If tabsize is not given, a tab size of 8 characters is assumed.\n",
      " |  \n",
      " |  find(...)\n",
      " |      S.find(sub[, start[, end]]) -> int\n",
      " |      \n",
      " |      Return the lowest index in S where substring sub is found,\n",
      " |      such that sub is contained within S[start:end].  Optional\n",
      " |      arguments start and end are interpreted as in slice notation.\n",
      " |      \n",
      " |      Return -1 on failure.\n",
      " |  \n",
      " |  format(...)\n",
      " |      S.format(*args, **kwargs) -> str\n",
      " |      \n",
      " |      Return a formatted version of S, using substitutions from args and kwargs.\n",
      " |      The substitutions are identified by braces ('{' and '}').\n",
      " |  \n",
      " |  format_map(...)\n",
      " |      S.format_map(mapping) -> str\n",
      " |      \n",
      " |      Return a formatted version of S, using substitutions from mapping.\n",
      " |      The substitutions are identified by braces ('{' and '}').\n",
      " |  \n",
      " |  index(...)\n",
      " |      S.index(sub[, start[, end]]) -> int\n",
      " |      \n",
      " |      Return the lowest index in S where substring sub is found,\n",
      " |      such that sub is contained within S[start:end].  Optional\n",
      " |      arguments start and end are interpreted as in slice notation.\n",
      " |      \n",
      " |      Raises ValueError when the substring is not found.\n",
      " |  \n",
      " |  isalnum(self, /)\n",
      " |      Return True if the string is an alpha-numeric string, False otherwise.\n",
      " |      \n",
      " |      A string is alpha-numeric if all characters in the string are alpha-numeric and\n",
      " |      there is at least one character in the string.\n",
      " |  \n",
      " |  isalpha(self, /)\n",
      " |      Return True if the string is an alphabetic string, False otherwise.\n",
      " |      \n",
      " |      A string is alphabetic if all characters in the string are alphabetic and there\n",
      " |      is at least one character in the string.\n",
      " |  \n",
      " |  isascii(self, /)\n",
      " |      Return True if all characters in the string are ASCII, False otherwise.\n",
      " |      \n",
      " |      ASCII characters have code points in the range U+0000-U+007F.\n",
      " |      Empty string is ASCII too.\n",
      " |  \n",
      " |  isdecimal(self, /)\n",
      " |      Return True if the string is a decimal string, False otherwise.\n",
      " |      \n",
      " |      A string is a decimal string if all characters in the string are decimal and\n",
      " |      there is at least one character in the string.\n",
      " |  \n",
      " |  isdigit(self, /)\n",
      " |      Return True if the string is a digit string, False otherwise.\n",
      " |      \n",
      " |      A string is a digit string if all characters in the string are digits and there\n",
      " |      is at least one character in the string.\n",
      " |  \n",
      " |  isidentifier(self, /)\n",
      " |      Return True if the string is a valid Python identifier, False otherwise.\n",
      " |      \n",
      " |      Call keyword.iskeyword(s) to test whether string s is a reserved identifier,\n",
      " |      such as \"def\" or \"class\".\n",
      " |  \n",
      " |  islower(self, /)\n",
      " |      Return True if the string is a lowercase string, False otherwise.\n",
      " |      \n",
      " |      A string is lowercase if all cased characters in the string are lowercase and\n",
      " |      there is at least one cased character in the string.\n",
      " |  \n",
      " |  isnumeric(self, /)\n",
      " |      Return True if the string is a numeric string, False otherwise.\n",
      " |      \n",
      " |      A string is numeric if all characters in the string are numeric and there is at\n",
      " |      least one character in the string.\n",
      " |  \n",
      " |  isprintable(self, /)\n",
      " |      Return True if the string is printable, False otherwise.\n",
      " |      \n",
      " |      A string is printable if all of its characters are considered printable in\n",
      " |      repr() or if it is empty.\n",
      " |  \n",
      " |  isspace(self, /)\n",
      " |      Return True if the string is a whitespace string, False otherwise.\n",
      " |      \n",
      " |      A string is whitespace if all characters in the string are whitespace and there\n",
      " |      is at least one character in the string.\n",
      " |  \n",
      " |  istitle(self, /)\n",
      " |      Return True if the string is a title-cased string, False otherwise.\n",
      " |      \n",
      " |      In a title-cased string, upper- and title-case characters may only\n",
      " |      follow uncased characters and lowercase characters only cased ones.\n",
      " |  \n",
      " |  isupper(self, /)\n",
      " |      Return True if the string is an uppercase string, False otherwise.\n",
      " |      \n",
      " |      A string is uppercase if all cased characters in the string are uppercase and\n",
      " |      there is at least one cased character in the string.\n",
      " |  \n",
      " |  join(self, iterable, /)\n",
      " |      Concatenate any number of strings.\n",
      " |      \n",
      " |      The string whose method is called is inserted in between each given string.\n",
      " |      The result is returned as a new string.\n",
      " |      \n",
      " |      Example: '.'.join(['ab', 'pq', 'rs']) -> 'ab.pq.rs'\n",
      " |  \n",
      " |  ljust(self, width, fillchar=' ', /)\n",
      " |      Return a left-justified string of length width.\n",
      " |      \n",
      " |      Padding is done using the specified fill character (default is a space).\n",
      " |  \n",
      " |  lower(self, /)\n",
      " |      Return a copy of the string converted to lowercase.\n",
      " |  \n",
      " |  lstrip(self, chars=None, /)\n",
      " |      Return a copy of the string with leading whitespace removed.\n",
      " |      \n",
      " |      If chars is given and not None, remove characters in chars instead.\n",
      " |  \n",
      " |  partition(self, sep, /)\n",
      " |      Partition the string into three parts using the given separator.\n",
      " |      \n",
      " |      This will search for the separator in the string.  If the separator is found,\n",
      " |      returns a 3-tuple containing the part before the separator, the separator\n",
      " |      itself, and the part after it.\n",
      " |      \n",
      " |      If the separator is not found, returns a 3-tuple containing the original string\n",
      " |      and two empty strings.\n",
      " |  \n",
      " |  removeprefix(self, prefix, /)\n",
      " |      Return a str with the given prefix string removed if present.\n",
      " |      \n",
      " |      If the string starts with the prefix string, return string[len(prefix):].\n",
      " |      Otherwise, return a copy of the original string.\n",
      " |  \n",
      " |  removesuffix(self, suffix, /)\n",
      " |      Return a str with the given suffix string removed if present.\n",
      " |      \n",
      " |      If the string ends with the suffix string and that suffix is not empty,\n",
      " |      return string[:-len(suffix)]. Otherwise, return a copy of the original\n",
      " |      string.\n",
      " |  \n",
      " |  replace(self, old, new, count=-1, /)\n",
      " |      Return a copy with all occurrences of substring old replaced by new.\n",
      " |      \n",
      " |        count\n",
      " |          Maximum number of occurrences to replace.\n",
      " |          -1 (the default value) means replace all occurrences.\n",
      " |      \n",
      " |      If the optional argument count is given, only the first count occurrences are\n",
      " |      replaced.\n",
      " |  \n",
      " |  rfind(...)\n",
      " |      S.rfind(sub[, start[, end]]) -> int\n",
      " |      \n",
      " |      Return the highest index in S where substring sub is found,\n",
      " |      such that sub is contained within S[start:end].  Optional\n",
      " |      arguments start and end are interpreted as in slice notation.\n",
      " |      \n",
      " |      Return -1 on failure.\n",
      " |  \n",
      " |  rindex(...)\n",
      " |      S.rindex(sub[, start[, end]]) -> int\n",
      " |      \n",
      " |      Return the highest index in S where substring sub is found,\n",
      " |      such that sub is contained within S[start:end].  Optional\n",
      " |      arguments start and end are interpreted as in slice notation.\n",
      " |      \n",
      " |      Raises ValueError when the substring is not found.\n",
      " |  \n",
      " |  rjust(self, width, fillchar=' ', /)\n",
      " |      Return a right-justified string of length width.\n",
      " |      \n",
      " |      Padding is done using the specified fill character (default is a space).\n",
      " |  \n",
      " |  rpartition(self, sep, /)\n",
      " |      Partition the string into three parts using the given separator.\n",
      " |      \n",
      " |      This will search for the separator in the string, starting at the end. If\n",
      " |      the separator is found, returns a 3-tuple containing the part before the\n",
      " |      separator, the separator itself, and the part after it.\n",
      " |      \n",
      " |      If the separator is not found, returns a 3-tuple containing two empty strings\n",
      " |      and the original string.\n",
      " |  \n",
      " |  rsplit(self, /, sep=None, maxsplit=-1)\n",
      " |      Return a list of the words in the string, using sep as the delimiter string.\n",
      " |      \n",
      " |        sep\n",
      " |          The delimiter according which to split the string.\n",
      " |          None (the default value) means split according to any whitespace,\n",
      " |          and discard empty strings from the result.\n",
      " |        maxsplit\n",
      " |          Maximum number of splits to do.\n",
      " |          -1 (the default value) means no limit.\n",
      " |      \n",
      " |      Splits are done starting at the end of the string and working to the front.\n",
      " |  \n",
      " |  rstrip(self, chars=None, /)\n",
      " |      Return a copy of the string with trailing whitespace removed.\n",
      " |      \n",
      " |      If chars is given and not None, remove characters in chars instead.\n",
      " |  \n",
      " |  split(self, /, sep=None, maxsplit=-1)\n",
      " |      Return a list of the words in the string, using sep as the delimiter string.\n",
      " |      \n",
      " |      sep\n",
      " |        The delimiter according which to split the string.\n",
      " |        None (the default value) means split according to any whitespace,\n",
      " |        and discard empty strings from the result.\n",
      " |      maxsplit\n",
      " |        Maximum number of splits to do.\n",
      " |        -1 (the default value) means no limit.\n",
      " |  \n",
      " |  splitlines(self, /, keepends=False)\n",
      " |      Return a list of the lines in the string, breaking at line boundaries.\n",
      " |      \n",
      " |      Line breaks are not included in the resulting list unless keepends is given and\n",
      " |      true.\n",
      " |  \n",
      " |  startswith(...)\n",
      " |      S.startswith(prefix[, start[, end]]) -> bool\n",
      " |      \n",
      " |      Return True if S starts with the specified prefix, False otherwise.\n",
      " |      With optional start, test S beginning at that position.\n",
      " |      With optional end, stop comparing S at that position.\n",
      " |      prefix can also be a tuple of strings to try.\n",
      " |  \n",
      " |  strip(self, chars=None, /)\n",
      " |      Return a copy of the string with leading and trailing whitespace removed.\n",
      " |      \n",
      " |      If chars is given and not None, remove characters in chars instead.\n",
      " |  \n",
      " |  swapcase(self, /)\n",
      " |      Convert uppercase characters to lowercase and lowercase characters to uppercase.\n",
      " |  \n",
      " |  title(self, /)\n",
      " |      Return a version of the string where each word is titlecased.\n",
      " |      \n",
      " |      More specifically, words start with uppercased characters and all remaining\n",
      " |      cased characters have lower case.\n",
      " |  \n",
      " |  translate(self, table, /)\n",
      " |      Replace each character in the string using the given translation table.\n",
      " |      \n",
      " |        table\n",
      " |          Translation table, which must be a mapping of Unicode ordinals to\n",
      " |          Unicode ordinals, strings, or None.\n",
      " |      \n",
      " |      The table must implement lookup/indexing via __getitem__, for instance a\n",
      " |      dictionary or list.  If this operation raises LookupError, the character is\n",
      " |      left untouched.  Characters mapped to None are deleted.\n",
      " |  \n",
      " |  upper(self, /)\n",
      " |      Return a copy of the string converted to uppercase.\n",
      " |  \n",
      " |  zfill(self, width, /)\n",
      " |      Pad a numeric string with zeros on the left, to fill a field of the given width.\n",
      " |      \n",
      " |      The string is never truncated.\n",
      " |  \n",
      " |  ----------------------------------------------------------------------\n",
      " |  Static methods defined here:\n",
      " |  \n",
      " |  __new__(*args, **kwargs) from builtins.type\n",
      " |      Create and return a new object.  See help(type) for accurate signature.\n",
      " |  \n",
      " |  maketrans(...)\n",
      " |      Return a translation table usable for str.translate().\n",
      " |      \n",
      " |      If there is only one argument, it must be a dictionary mapping Unicode\n",
      " |      ordinals (integers) or characters to Unicode ordinals, strings or None.\n",
      " |      Character keys will be then converted to ordinals.\n",
      " |      If there are two arguments, they must be strings of equal length, and\n",
      " |      in the resulting dictionary, each character in x will be mapped to the\n",
      " |      character at the same position in y. If there is a third argument, it\n",
      " |      must be a string, whose characters will be mapped to None in the result.\n",
      "\n"
     ]
    }
   ],
   "source": [
    "help(str)"
   ]
  },
  {
   "cell_type": "markdown",
   "id": "HD9bdLccyDLY",
   "metadata": {
    "id": "HD9bdLccyDLY"
   },
   "source": [
    "Строки неизменяемые, и методы, которые должны бы что-то менять, дают **новую** строку"
   ]
  },
  {
   "cell_type": "markdown",
   "id": "522d662a",
   "metadata": {},
   "source": [
    "**Напоминание про объекты**\n",
    "\n",
    "`<к чему применяется>.split(<дополнительные аргументы>)`\n",
    "Метод применяется к объектам определённого типа. Например, `.split()` к строкам.\n",
    "\n",
    "То есть перед `.split()` может стоять:"
   ]
  },
  {
   "cell_type": "code",
   "execution_count": 2,
   "id": "6a4a769a",
   "metadata": {},
   "outputs": [
    {
     "name": "stdout",
     "output_type": "stream",
     "text": [
      "['просто', 'строка']\n",
      "['сохранённая', 'в', 'переменную', 'строка']\n",
      "['То,', 'что', 'даёт', 'строку.', 'Например:', 'True']\n"
     ]
    }
   ],
   "source": [
    "print('просто строка'.split())\n",
    "\n",
    "peremennaya = 'сохранённая-в-переменную-строка'\n",
    "print(peremennaya.split('-'))\n",
    "\n",
    "print(('То, ' + 'что ' + 'даёт ' + 'строку. ' + 'Например: ' + str(5>0)).split())"
   ]
  },
  {
   "cell_type": "markdown",
   "id": "9550bd81-73a6-4cd5-8717-b28eac86db80",
   "metadata": {},
   "source": [
    "А вот так нельзя:"
   ]
  },
  {
   "cell_type": "code",
   "execution_count": 3,
   "id": "e5713ba5-419a-48ed-9839-19157f19e522",
   "metadata": {},
   "outputs": [
    {
     "ename": "AttributeError",
     "evalue": "'list' object has no attribute 'split'",
     "output_type": "error",
     "traceback": [
      "\u001b[0;31m---------------------------------------------------------------------------\u001b[0m",
      "\u001b[0;31mAttributeError\u001b[0m                            Traceback (most recent call last)",
      "Input \u001b[0;32mIn [3]\u001b[0m, in \u001b[0;36m<cell line: 3>\u001b[0;34m()\u001b[0m\n\u001b[1;32m      1\u001b[0m sentences \u001b[38;5;241m=\u001b[39m [\u001b[38;5;124m\"\u001b[39m\u001b[38;5;124mЭто первое предложение.\u001b[39m\u001b[38;5;124m\"\u001b[39m,\n\u001b[1;32m      2\u001b[0m              \u001b[38;5;124m\"\u001b[39m\u001b[38;5;124mЭто второе предложение\u001b[39m\u001b[38;5;124m\"\u001b[39m]\n\u001b[0;32m----> 3\u001b[0m \u001b[38;5;28mprint\u001b[39m(\u001b[43msentences\u001b[49m\u001b[38;5;241;43m.\u001b[39;49m\u001b[43msplit\u001b[49m())\n",
      "\u001b[0;31mAttributeError\u001b[0m: 'list' object has no attribute 'split'"
     ]
    }
   ],
   "source": [
    "sentences = [\"Это первое предложение.\",\n",
    "             \"Это второе предложение\"]\n",
    "print(sentences.split())"
   ]
  },
  {
   "cell_type": "markdown",
   "id": "b2f839ff-2047-4038-aab2-d8f35968b003",
   "metadata": {},
   "source": [
    "*Если вы хотели таким образом получить список списков, т.е. список предложений, а каждое предложение это уже список слов, то это можно сделать немного иначе.\n",
    "    Нужно применить функцию разбиения на слова к каждому предложению из списка в отдельности.\n",
    "    Функцию разбиения на слова при этом надо назвать полностью, `str.split`.\n",
    "    Скобки не нужны! (потому что мы не применяем функцию разбения `str.split`, а упоминаем, называем её, говорим функции `map`, какую функцию применить &mdash; эту самую функцию деления)*\n",
    "\n",
    "*Смотрите в прошлой тетрадке про `map`*"
   ]
  },
  {
   "cell_type": "code",
   "execution_count": 4,
   "id": "2d72688e-72ce-4616-8528-7eceb61e7143",
   "metadata": {},
   "outputs": [
    {
     "name": "stdout",
     "output_type": "stream",
     "text": [
      "[['Это', 'первое', 'предложение.'], ['Это', 'второе', 'предложение']]\n"
     ]
    }
   ],
   "source": [
    "sentences = [\"Это первое предложение.\",\n",
    "             \"Это второе предложение\"]\n",
    "\n",
    "splitted_sents = list(map(str.split, sentences))\n",
    "\n",
    "print(splitted_sents)"
   ]
  },
  {
   "cell_type": "markdown",
   "id": "msLLJOew-VE1",
   "metadata": {
    "id": "msLLJOew-VE1"
   },
   "source": [
    "### Убираем символы на концах строки: `str.strip()`, `str.lstrip()`, `str.rstrip()`"
   ]
  },
  {
   "cell_type": "code",
   "execution_count": 5,
   "id": "YY_BO-TQ_g30",
   "metadata": {
    "colab": {
     "base_uri": "https://localhost:8080/"
    },
    "id": "YY_BO-TQ_g30",
    "outputId": "21cbeb9d-a1a9-4d75-e569-6711c5a13b94"
   },
   "outputs": [
    {
     "name": "stdout",
     "output_type": "stream",
     "text": [
      "привет\n"
     ]
    }
   ],
   "source": [
    "word = \",,,привет,,,,\"\n",
    "\n",
    "print(word.strip(\",\"))"
   ]
  },
  {
   "cell_type": "markdown",
   "id": "RX3DQq9w_yM5",
   "metadata": {
    "id": "RX3DQq9w_yM5"
   },
   "source": [
    "Убирает каждый из символов с краёв строки, сколько бы раз они не встретились"
   ]
  },
  {
   "cell_type": "code",
   "execution_count": 6,
   "id": "TPSwNNGl_vdO",
   "metadata": {
    "colab": {
     "base_uri": "https://localhost:8080/"
    },
    "id": "TPSwNNGl_vdO",
    "outputId": "076d4ed0-8e1e-46c3-888e-17673fe75c3f"
   },
   "outputs": [
    {
     "name": "stdout",
     "output_type": "stream",
     "text": [
      "привет\n"
     ]
    }
   ],
   "source": [
    "word = \",.,..привет,.,\"\n",
    "\n",
    "print(word.strip(\",.\"))"
   ]
  },
  {
   "cell_type": "markdown",
   "id": "7e2951f8",
   "metadata": {},
   "source": [
    "Это не удаление символов по всей строке, только по краям. Слева дошли до \"Р\" (а это не \",\" и не \"-\") и остановились, справа дошли до \"у\" и остановились. Внутри дефисы не удалились."
   ]
  },
  {
   "cell_type": "code",
   "execution_count": 7,
   "id": "a3659853",
   "metadata": {},
   "outputs": [
    {
     "name": "stdout",
     "output_type": "stream",
     "text": [
      "Ростов-на-Дону\n"
     ]
    }
   ],
   "source": [
    "word = \"-----,-,Ростов-на-Дону,---\"\n",
    "\n",
    "print(word.strip(\",-\"))"
   ]
  },
  {
   "cell_type": "markdown",
   "id": "wN6qsR9zABYD",
   "metadata": {
    "id": "wN6qsR9zABYD"
   },
   "source": [
    "#### `l...` и `r...` в названиях функций\n",
    "`str.lstrip()` и `str.rstrip()` это, предсказуемо, версии работающие с одним краем строки, левым (l — left) или правым (r — right)"
   ]
  },
  {
   "cell_type": "code",
   "execution_count": 8,
   "id": "nuys5s4rABrY",
   "metadata": {
    "colab": {
     "base_uri": "https://localhost:8080/"
    },
    "id": "nuys5s4rABrY",
    "outputId": "3c52f3c2-a975-487d-ff94-ce2aad1bdd67"
   },
   "outputs": [
    {
     "name": "stdout",
     "output_type": "stream",
     "text": [
      "orig: ,.,..привет,.,\n",
      "l: привет,.,\n",
      "r: ,.,..привет\n"
     ]
    }
   ],
   "source": [
    "word = \",.,..привет,.,\"\n",
    "\n",
    "print(\"orig:\", word)\n",
    "print(\"l:\", word.lstrip(\",.\"))\n",
    "\n",
    "print(\"r:\", word.rstrip(\",.\"))"
   ]
  },
  {
   "cell_type": "markdown",
   "id": "ypRO2mxXAj6A",
   "metadata": {
    "id": "ypRO2mxXAj6A"
   },
   "source": [
    "### Тренировка\n",
    "\n",
    "Разбейте строчку на слова, и получите список слов, очищенных от знаков препинания "
   ]
  },
  {
   "cell_type": "code",
   "execution_count": 9,
   "id": "jggubAZk-RfE",
   "metadata": {
    "id": "jggubAZk-RfE"
   },
   "outputs": [
    {
     "data": {
      "text/plain": [
       "['Тут',\n",
       " 'должен',\n",
       " 'быть',\n",
       " 'хороший',\n",
       " 'остроумный',\n",
       " 'чёткий',\n",
       " 'пример',\n",
       " 'хм',\n",
       " 'не',\n",
       " 'вышло']"
      ]
     },
     "execution_count": 9,
     "metadata": {},
     "output_type": "execute_result"
    }
   ],
   "source": [
    "text = \"Тут должен быть хороший, остроумный, чёткий пример:  хм... ...не вышло!\"\n",
    "words = []\n",
    "badwords = text.split()\n",
    "for word in badwords:\n",
    "    words.append(word.strip(\",.!:\"))\n",
    "words"
   ]
  },
  {
   "cell_type": "markdown",
   "id": "pHpljCmrxi1V",
   "metadata": {
    "id": "pHpljCmrxi1V"
   },
   "source": [
    "### Понижаем регистр и делаем замены:  `str.lower()`, `str.casefold()`"
   ]
  },
  {
   "cell_type": "markdown",
   "id": "bUqTbqNYl-9B",
   "metadata": {
    "id": "bUqTbqNYl-9B"
   },
   "source": [
    "Можно приводить строку к одному регистру, обычно нижнему: `str.lower()` . "
   ]
  },
  {
   "cell_type": "code",
   "execution_count": 10,
   "id": "93EkkMz7os3b",
   "metadata": {
    "colab": {
     "base_uri": "https://localhost:8080/"
    },
    "id": "93EkkMz7os3b",
    "outputId": "c4f6c503-b2d9-4ba5-aa03-975f2156bfe2"
   },
   "outputs": [
    {
     "name": "stdout",
     "output_type": "stream",
     "text": [
      "иван топорышкин\n"
     ]
    }
   ],
   "source": [
    "name1 = \"Иван Топорышкин\"\n",
    "name2 = \"иван топорышкин\"\n",
    "name3 = \"иван Топорышкин\"\n",
    "\n",
    "print(name1.lower())"
   ]
  },
  {
   "cell_type": "code",
   "execution_count": 11,
   "id": "75ccda0e",
   "metadata": {},
   "outputs": [
    {
     "name": "stdout",
     "output_type": "stream",
     "text": [
      "True\n"
     ]
    }
   ],
   "source": [
    "print(name1.lower() == name2.lower() == name3.lower())"
   ]
  },
  {
   "cell_type": "code",
   "execution_count": 12,
   "id": "4tF_fSWqml4p",
   "metadata": {
    "colab": {
     "base_uri": "https://localhost:8080/"
    },
    "id": "4tF_fSWqml4p",
    "outputId": "5fabb830-042a-4839-d0c2-fbd56893db0d"
   },
   "outputs": [
    {
     "name": "stdout",
     "output_type": "stream",
     "text": [
      "работа сдана\n",
      "True\n"
     ]
    }
   ],
   "source": [
    "s = \"работа сдана\"\n",
    "s_sarc = \"рАбОтА сДанА\"\n",
    "\n",
    "print(s_sarc.lower())\n",
    "print(s_sarc.lower() == s)"
   ]
  },
  {
   "cell_type": "markdown",
   "id": "c-zs1Ej5l9zQ",
   "metadata": {
    "id": "c-zs1Ej5l9zQ"
   },
   "source": [
    "Есть похожий метод `str.casefold()`, но чуть более агрессивный, с дополнительными правилами.\n",
    "    Обычно это для экзотики, типа греческого, некоторых написаний и лигатур из латыни и другого.\n",
    "    Он как-то по-особому обрабатывает *безрегистровые* символы."
   ]
  },
  {
   "cell_type": "code",
   "execution_count": 13,
   "id": "wOOm_HWlqHLH",
   "metadata": {
    "colab": {
     "base_uri": "https://localhost:8080/"
    },
    "id": "wOOm_HWlqHLH",
    "outputId": "7270d3be-3e2a-4caa-b018-1d558f1269e1"
   },
   "outputs": [
    {
     "name": "stdout",
     "output_type": "stream",
     "text": [
      "orig: ϐ\n",
      "lower: ϐ\n",
      "casefold: β\n"
     ]
    }
   ],
   "source": [
    "greek_beta_symbol = \"ϐ\"\n",
    "\n",
    "print(\"orig:\", greek_beta_symbol)\n",
    "print(\"lower:\", greek_beta_symbol.lower())\n",
    "print(\"casefold:\", greek_beta_symbol.casefold())"
   ]
  },
  {
   "cell_type": "markdown",
   "id": "ZCD3Foheqmh0",
   "metadata": {
    "id": "ZCD3Foheqmh0"
   },
   "source": [
    "Но для немецкого эсцета `ß`, например, может быть полезно: "
   ]
  },
  {
   "cell_type": "code",
   "execution_count": 14,
   "id": "puqr6VsUqHwG",
   "metadata": {
    "colab": {
     "base_uri": "https://localhost:8080/"
    },
    "id": "puqr6VsUqHwG",
    "outputId": "d8a06cfc-65c1-45f4-a7fc-e44ba5ad7fcb"
   },
   "outputs": [
    {
     "name": "stdout",
     "output_type": "stream",
     "text": [
      "orig: ß\n",
      "lower: ß\n",
      "casefold: ss\n"
     ]
    }
   ],
   "source": [
    "german_eszet_symbol = \"ß\"\n",
    "\n",
    "print(\"orig:\", german_eszet_symbol)\n",
    "print(\"lower:\", german_eszet_symbol.lower())\n",
    "print(\"casefold:\", german_eszet_symbol.casefold())"
   ]
  },
  {
   "cell_type": "markdown",
   "id": "dbcf9bdf",
   "metadata": {},
   "source": [
    "### Тренировка\n",
    "Дополните код и предыдущей тренировки. Получите список слов, очищенных от знаков препинания и приведённых к нижнему регистру"
   ]
  },
  {
   "cell_type": "code",
   "execution_count": 15,
   "id": "b174f24f",
   "metadata": {},
   "outputs": [
    {
     "data": {
      "text/plain": [
       "['тут',\n",
       " 'должен',\n",
       " 'быть',\n",
       " 'хороший',\n",
       " 'остроумный',\n",
       " 'чёткий',\n",
       " 'пример',\n",
       " 'хм',\n",
       " 'не',\n",
       " 'вышло']"
      ]
     },
     "execution_count": 15,
     "metadata": {},
     "output_type": "execute_result"
    }
   ],
   "source": [
    "text = \"Тут должен быть хороший, остроумный, чёткий пример:  хм... ...не вышло!\"\n",
    "\n",
    "words = []\n",
    "badwords = text.split()\n",
    "for word in badwords:\n",
    "    words.append(word.strip(\",.!:\").lower())\n",
    "words"
   ]
  },
  {
   "cell_type": "markdown",
   "id": "Ld6rfA7axdFV",
   "metadata": {
    "id": "Ld6rfA7axdFV"
   },
   "source": [
    "### Повышаем регистр: `str.capitalize()`, `str.upper()`, `str.title()` "
   ]
  },
  {
   "cell_type": "markdown",
   "id": "JDPPFDqI5l_2",
   "metadata": {
    "id": "JDPPFDqI5l_2"
   },
   "source": [
    "* можно сделать большой первую букву, а все остальные маленькими: `str.capitalize()`\n",
    "* можно сделать большими все буквы строки: `str.upper()`,\n",
    "* можно сделать как в заголовках (англоязычных, то есть большой каждую первую букву слов, разделённых пробелами): `str.title()`,\n"
   ]
  },
  {
   "cell_type": "code",
   "execution_count": 16,
   "id": "fBUuMPLP7PmE",
   "metadata": {
    "id": "fBUuMPLP7PmE"
   },
   "outputs": [],
   "source": [
    "sent = \"александр Сергеевич Пушкин родился в 1799 году.\""
   ]
  },
  {
   "cell_type": "code",
   "execution_count": 17,
   "id": "q-Uadd1k7aLq",
   "metadata": {
    "colab": {
     "base_uri": "https://localhost:8080/"
    },
    "id": "q-Uadd1k7aLq",
    "outputId": "6311c638-df4e-461a-9781-b9b48c74bdd4"
   },
   "outputs": [
    {
     "name": "stdout",
     "output_type": "stream",
     "text": [
      "Александр сергеевич пушкин родился в 1799 году.\n",
      "АЛЕКСАНДР СЕРГЕЕВИЧ ПУШКИН РОДИЛСЯ В 1799 ГОДУ.\n",
      "Александр Сергеевич Пушкин Родился В 1799 Году.\n"
     ]
    }
   ],
   "source": [
    "print(sent.capitalize())\n",
    "print(sent.upper())\n",
    "print(sent.title())"
   ]
  },
  {
   "cell_type": "markdown",
   "id": "cj_le9Ax8dOZ",
   "metadata": {
    "id": "cj_le9Ax8dOZ"
   },
   "source": [
    "Обратите внимание, метод `str.upper` относится к экзотическим символам скорее как `str.casefold`, чем как `str.lower`. Аналогично `str.casefold` он заменяет `ß` на `SS`. И `str.title` (да и `str.capizatalize`) тоже знает экзотические символы."
   ]
  },
  {
   "cell_type": "code",
   "execution_count": 18,
   "id": "5b9wkK8Gxd7A",
   "metadata": {
    "colab": {
     "base_uri": "https://localhost:8080/"
    },
    "id": "5b9wkK8Gxd7A",
    "outputId": "b9e2baf7-421c-4007-9cd5-7621e4b82eb1"
   },
   "outputs": [
    {
     "name": "stdout",
     "output_type": "stream",
     "text": [
      "Александр сергеевич пушкин war nicht in ß. (bavaria) in 1799 geboren.\n",
      "АЛЕКСАНДР СЕРГЕЕВИЧ ПУШКИН WAR NICHT IN SS. (BAVARIA) IN 1799 GEBOREN.\n",
      "Александр Сергеевич Пушкин War Nicht In Ss. (Bavaria) In 1799 Geboren.\n"
     ]
    }
   ],
   "source": [
    "sent2 = \"александр Сергеевич Пушкин war nicht in ß. (Bavaria) in 1799 geboren.\"\n",
    "\n",
    "print(sent2.capitalize())\n",
    "print(sent2.upper())\n",
    "print(sent2.title())"
   ]
  },
  {
   "cell_type": "markdown",
   "id": "uPIv4ItEkHSF",
   "metadata": {
    "id": "uPIv4ItEkHSF"
   },
   "source": [
    "### `str.replace()` &mdash; делаем замены "
   ]
  },
  {
   "cell_type": "markdown",
   "id": "MMyGsOkMx5Wy",
   "metadata": {
    "id": "MMyGsOkMx5Wy"
   },
   "source": [
    "`str.replace(\"<ЧТО>\", \"<НА ЧТО>\")`"
   ]
  },
  {
   "cell_type": "markdown",
   "id": "5Z4DPHJLwzSv",
   "metadata": {
    "id": "5Z4DPHJLwzSv"
   },
   "source": [
    "Позволяет заменять одну точную последовательность на другую"
   ]
  },
  {
   "cell_type": "code",
   "execution_count": 19,
   "id": "4o3QZ5vPwhPT",
   "metadata": {
    "colab": {
     "base_uri": "https://localhost:8080/"
    },
    "id": "4o3QZ5vPwhPT",
    "outputId": "de26a9f6-3165-458d-8d44-58c2f621825c"
   },
   "outputs": [
    {
     "name": "stdout",
     "output_type": "stream",
     "text": [
      "жымолость, жывот, Житомир\n"
     ]
    }
   ],
   "source": [
    "zhi = \"жимолость, живот, Житомир\"\n",
    "\n",
    "# заменились только \"жи\" в нижнем регистре\n",
    "print(zhi.replace(\"жи\", \"жы\"))  "
   ]
  },
  {
   "cell_type": "code",
   "execution_count": 20,
   "id": "i1tMytAHxDko",
   "metadata": {
    "colab": {
     "base_uri": "https://localhost:8080/"
    },
    "id": "i1tMytAHxDko",
    "outputId": "e1f9c02e-ab77-46cc-bf41-f16997262010"
   },
   "outputs": [
    {
     "name": "stdout",
     "output_type": "stream",
     "text": [
      "ПРАВИЛЬНО ЖИмолость, ПРАВИЛЬНО ЖИвот\n"
     ]
    }
   ],
   "source": [
    "zhi2 = \"жымолость, жывот\"\n",
    "\n",
    "print(zhi2.replace(\"жы\", \"ПРАВИЛЬНО ЖИ\"))"
   ]
  },
  {
   "cell_type": "markdown",
   "id": "TsqJtllexewg",
   "metadata": {
    "id": "TsqJtllexewg"
   },
   "source": [
    "### найти позицию символа в строке: `str.find()` (`str.rfind()`) (а также `str.index()`, `str.rindex()`)"
   ]
  },
  {
   "cell_type": "markdown",
   "id": "_Gu5gIgP2GYJ",
   "metadata": {
    "id": "_Gu5gIgP2GYJ"
   },
   "source": [
    "`str.find()` ищет, начиная слева, а `.rfind()`, начиная справа, но оба возвращают положительный индекс (от начала строки, с 0)  "
   ]
  },
  {
   "cell_type": "code",
   "execution_count": 21,
   "id": "E5MaqYK0xfB5",
   "metadata": {
    "colab": {
     "base_uri": "https://localhost:8080/"
    },
    "id": "E5MaqYK0xfB5",
    "outputId": "5b0e1014-0502-40f4-ae29-302d8a5956b9"
   },
   "outputs": [
    {
     "name": "stdout",
     "output_type": "stream",
     "text": [
      "5\n",
      "14\n"
     ]
    }
   ],
   "source": [
    "s = \"Привет, Альберт!\"\n",
    "\n",
    "print(s.find(\"т\"))\n",
    "print(s.rfind(\"т\"))"
   ]
  },
  {
   "cell_type": "markdown",
   "id": "kD_jM9kc2s-R",
   "metadata": {
    "id": "kD_jM9kc2s-R"
   },
   "source": [
    "Если символа нет, то выдаёт `-1`"
   ]
  },
  {
   "cell_type": "code",
   "execution_count": 22,
   "id": "zDI_Wk2W2q7Q",
   "metadata": {
    "colab": {
     "base_uri": "https://localhost:8080/"
    },
    "id": "zDI_Wk2W2q7Q",
    "outputId": "6d7e5dcd-2082-4f9e-d135-c9a5373113f6"
   },
   "outputs": [
    {
     "name": "stdout",
     "output_type": "stream",
     "text": [
      "-1\n"
     ]
    }
   ],
   "source": [
    "s = \"Привет, Альберт!\"\n",
    "\n",
    "print(s.rfind(\"W\"))"
   ]
  },
  {
   "cell_type": "markdown",
   "id": "wHcjxLjm25F9",
   "metadata": {
    "id": "wHcjxLjm25F9"
   },
   "source": [
    "`str.index()` и `str.rindex()` устроены схоже, но дают ошибку, когда ничего не найдено. Это иногда полезно, но не нам, мы не умеем работать с ошибками.\n",
    "\n",
    "*вспомните, что так же был устроен `list.index()` &mdash; давал ошибку, если ничего не найдено.\n",
    "    К сожалению, для списков нет чего-то вроде `list.find()`*"
   ]
  },
  {
   "cell_type": "code",
   "execution_count": 23,
   "id": "Ypneqtys24jQ",
   "metadata": {
    "colab": {
     "base_uri": "https://localhost:8080/"
    },
    "id": "Ypneqtys24jQ",
    "outputId": "daf3a9ce-bec0-4a3a-c640-44f861b930cc"
   },
   "outputs": [
    {
     "name": "stdout",
     "output_type": "stream",
     "text": [
      "5\n",
      "14\n"
     ]
    }
   ],
   "source": [
    "s = \"Привет, Альберт!\"\n",
    "\n",
    "print(s.index(\"т\"))\n",
    "print(s.rindex(\"т\"))"
   ]
  },
  {
   "cell_type": "code",
   "execution_count": 24,
   "id": "XcXdMBnu3GGL",
   "metadata": {
    "colab": {
     "base_uri": "https://localhost:8080/",
     "height": 201
    },
    "id": "XcXdMBnu3GGL",
    "outputId": "8d77ed51-e846-4d37-9d59-c154dd3da98a"
   },
   "outputs": [
    {
     "ename": "ValueError",
     "evalue": "substring not found",
     "output_type": "error",
     "traceback": [
      "\u001b[0;31m---------------------------------------------------------------------------\u001b[0m",
      "\u001b[0;31mValueError\u001b[0m                                Traceback (most recent call last)",
      "Input \u001b[0;32mIn [24]\u001b[0m, in \u001b[0;36m<cell line: 3>\u001b[0;34m()\u001b[0m\n\u001b[1;32m      1\u001b[0m s \u001b[38;5;241m=\u001b[39m \u001b[38;5;124m\"\u001b[39m\u001b[38;5;124mПривет, Альберт!\u001b[39m\u001b[38;5;124m\"\u001b[39m\n\u001b[0;32m----> 3\u001b[0m \u001b[38;5;28mprint\u001b[39m(\u001b[43ms\u001b[49m\u001b[38;5;241;43m.\u001b[39;49m\u001b[43mrindex\u001b[49m\u001b[43m(\u001b[49m\u001b[38;5;124;43m\"\u001b[39;49m\u001b[38;5;124;43mW\u001b[39;49m\u001b[38;5;124;43m\"\u001b[39;49m\u001b[43m)\u001b[49m)\n",
      "\u001b[0;31mValueError\u001b[0m: substring not found"
     ]
    }
   ],
   "source": [
    "s = \"Привет, Альберт!\"\n",
    "\n",
    "print(s.rindex(\"W\"))"
   ]
  },
  {
   "cell_type": "markdown",
   "id": "yZlDI9fR5IKQ",
   "metadata": {
    "id": "yZlDI9fR5IKQ"
   },
   "source": [
    "### Подсчёт нужных символов в строке"
   ]
  },
  {
   "cell_type": "code",
   "execution_count": 25,
   "id": "YIrRvl3p5Mah",
   "metadata": {
    "colab": {
     "base_uri": "https://localhost:8080/"
    },
    "id": "YIrRvl3p5Mah",
    "outputId": "7cce4243-65c3-46ae-9637-49006a4960df"
   },
   "outputs": [
    {
     "name": "stdout",
     "output_type": "stream",
     "text": [
      "3\n"
     ]
    }
   ],
   "source": [
    "word = \"длинношеее\"\n",
    "\n",
    "print(word.count(\"е\"))"
   ]
  },
  {
   "cell_type": "markdown",
   "id": "KzT1IUCwBonj",
   "metadata": {
    "id": "KzT1IUCwBonj"
   },
   "source": [
    "### Делим и соединяем\n",
    "#### `str.split()` с `maxsplit=<число>`"
   ]
  },
  {
   "cell_type": "code",
   "execution_count": 26,
   "id": "Jl2uKEYmBvx7",
   "metadata": {
    "colab": {
     "base_uri": "https://localhost:8080/"
    },
    "id": "Jl2uKEYmBvx7",
    "outputId": "5616b9f7-3a32-4991-a20d-f7f791106ec2"
   },
   "outputs": [
    {
     "name": "stdout",
     "output_type": "stream",
     "text": [
      "['hey', 'hey', 'hey']\n",
      "['hey-hey-hey']\n"
     ]
    }
   ],
   "source": [
    "salute = \"hey-hey-hey\"\n",
    "\n",
    "print(salute.split(\"-\"))\n",
    "print(salute.split(\".\"))"
   ]
  },
  {
   "cell_type": "markdown",
   "id": "kQFHF69bVJMV",
   "metadata": {
    "id": "kQFHF69bVJMV"
   },
   "source": [
    "Количество делений можно ограничить!"
   ]
  },
  {
   "cell_type": "code",
   "execution_count": 27,
   "id": "QDiQ624-VJa4",
   "metadata": {
    "colab": {
     "base_uri": "https://localhost:8080/"
    },
    "id": "QDiQ624-VJa4",
    "outputId": "b86aefd0-ee6c-4bd5-8f28-d78ce84a6afb"
   },
   "outputs": [
    {
     "data": {
      "text/plain": [
       "['hey', 'hey-hey']"
      ]
     },
     "execution_count": 27,
     "metadata": {},
     "output_type": "execute_result"
    }
   ],
   "source": [
    "salute.split(\"-\", maxsplit=1)"
   ]
  },
  {
   "cell_type": "code",
   "execution_count": 28,
   "id": "ix3K0sF6e6O_",
   "metadata": {
    "colab": {
     "base_uri": "https://localhost:8080/"
    },
    "id": "ix3K0sF6e6O_",
    "outputId": "f37d53b0-6a2d-429b-fddf-d4616c4a2c51"
   },
   "outputs": [
    {
     "name": "stdout",
     "output_type": "stream",
     "text": [
      "['Пётр', 'и', 'Павел', 'день убавил']\n"
     ]
    }
   ],
   "source": [
    "proverb = \"Пётр и Павел день убавил\"\n",
    "\n",
    "print(proverb.split(maxsplit=3))"
   ]
  },
  {
   "cell_type": "markdown",
   "id": "e847a530",
   "metadata": {},
   "source": [
    "### `< `чем соединяем`>.join(<`что соединяем`>)`"
   ]
  },
  {
   "cell_type": "markdown",
   "id": "Wzly1-KmVj5E",
   "metadata": {
    "id": "Wzly1-KmVj5E"
   },
   "source": [
    "Когда у нас есть список строк и мы хотим соединить их в одну, следует использовать `str.join`. Он вызывается от той строчки, которую мы хотим сделать разделителем:"
   ]
  },
  {
   "cell_type": "code",
   "execution_count": 29,
   "id": "38Dkcwt2VkDY",
   "metadata": {
    "colab": {
     "base_uri": "https://localhost:8080/"
    },
    "id": "38Dkcwt2VkDY",
    "outputId": "c66e88c5-9728-4d4e-8e7a-c3e0ca371ed1"
   },
   "outputs": [
    {
     "data": {
      "text/plain": [
       "'Алексей Николаевич --- Лев Николаевич --- Алексей Константинович'"
      ]
     },
     "execution_count": 29,
     "metadata": {},
     "output_type": "execute_result"
    }
   ],
   "source": [
    "names = [\"Алексей Николаевич\", \"Лев Николаевич\", \"Алексей Константинович\"]\n",
    "' --- '.join(names)"
   ]
  },
  {
   "cell_type": "code",
   "execution_count": 30,
   "id": "ecd3af3e",
   "metadata": {},
   "outputs": [
    {
     "name": "stdout",
     "output_type": "stream",
     "text": [
      "Алексей Николаевич, Лев Николаевич, Алексей Константинович\n"
     ]
    }
   ],
   "source": [
    "separator = \", \"\n",
    "print(separator.join(names))"
   ]
  },
  {
   "cell_type": "markdown",
   "id": "LLo-3OEq3OyC",
   "metadata": {
    "id": "LLo-3OEq3OyC"
   },
   "source": [
    "### Проверка содержимого строк"
   ]
  },
  {
   "cell_type": "markdown",
   "id": "WRwSONSn3Xza",
   "metadata": {
    "id": "WRwSONSn3Xza"
   },
   "source": [
    "#### `str.startswith()` верно, что строка начинается с определённой подстроки?"
   ]
  },
  {
   "cell_type": "code",
   "execution_count": 31,
   "id": "accd6532",
   "metadata": {},
   "outputs": [
    {
     "data": {
      "text/plain": [
       "False"
      ]
     },
     "execution_count": 31,
     "metadata": {},
     "output_type": "execute_result"
    }
   ],
   "source": [
    "\"cbr.ru\".startswith(\"http:\")"
   ]
  },
  {
   "cell_type": "code",
   "execution_count": 32,
   "id": "1540e8f5",
   "metadata": {},
   "outputs": [
    {
     "name": "stdout",
     "output_type": "stream",
     "text": [
      "Начинается  ли строка \"https://cbr.ru\" с \"https\"? True\n"
     ]
    }
   ],
   "source": [
    "print('Начинается  ли строка \"https://cbr.ru\" с \"https\"?', \"https://cbr.ru\".startswith(\"https\"))"
   ]
  },
  {
   "cell_type": "markdown",
   "id": "pDPP9smL3iQL",
   "metadata": {
    "id": "pDPP9smL3iQL"
   },
   "source": [
    "#### `str.endswith()` верно, что строка кончается на определённую подстроку?"
   ]
  },
  {
   "cell_type": "code",
   "execution_count": 33,
   "id": "ecc44069",
   "metadata": {},
   "outputs": [
    {
     "data": {
      "text/plain": [
       "False"
      ]
     },
     "execution_count": 33,
     "metadata": {},
     "output_type": "execute_result"
    }
   ],
   "source": [
    "\"hse.ru\".endswith('com')"
   ]
  },
  {
   "cell_type": "code",
   "execution_count": 34,
   "id": "6fc14219",
   "metadata": {},
   "outputs": [
    {
     "data": {
      "text/plain": [
       "True"
      ]
     },
     "execution_count": 34,
     "metadata": {},
     "output_type": "execute_result"
    }
   ],
   "source": [
    "\"hse.ru\".endswith((\"ru\", \".рф\"))"
   ]
  },
  {
   "cell_type": "code",
   "execution_count": 35,
   "id": "VJ79vY8o45ZQ",
   "metadata": {
    "colab": {
     "base_uri": "https://localhost:8080/"
    },
    "id": "VJ79vY8o45ZQ",
    "outputId": "0a72975c-5329-4153-df0d-5cd59bd96142"
   },
   "outputs": [
    {
     "name": "stdout",
     "output_type": "stream",
     "text": [
      "Оканчивается ли \"hse.ru\" на \".ru\"? True\n",
      "Оканчивается ли \"hse.ru\" на \".ru\" или \".рф\"? True\n"
     ]
    }
   ],
   "source": [
    "print('Оканчивается ли \"hse.ru\" на \".ru\"?', \"hse.ru\".endswith(\"ru\"))\n",
    "print('Оканчивается ли \"hse.ru\" на \".ru\" или \".рф\"?', \"hse.ru\".endswith((\"ru\", \".рф\")))\n",
    "# Можно для нескольких проверять"
   ]
  },
  {
   "cell_type": "markdown",
   "id": "jwFF1UDt4Aay",
   "metadata": {
    "id": "jwFF1UDt4Aay"
   },
   "source": [
    "#### Какого рода в строке символы?"
   ]
  },
  {
   "cell_type": "code",
   "execution_count": 36,
   "id": "r6g-t5HK4BD4",
   "metadata": {
    "colab": {
     "base_uri": "https://localhost:8080/"
    },
    "id": "r6g-t5HK4BD4",
    "outputId": "746b19c9-6a2c-404a-e2f5-c814d8fbb1c1"
   },
   "outputs": [
    {
     "name": "stdout",
     "output_type": "stream",
     "text": [
      "Проверим их работу на примере строки \" 4242elloello42! \"\n",
      "Состоит ли строка только из букв: False\n",
      "Состоит ли строка только из цифр: False\n",
      "Состоит ли строка только из букв или цифр: False\n",
      "Все ли буквы в строчке строчные: True\n",
      "Все ли буквы в строчке прописные: False\n"
     ]
    }
   ],
   "source": [
    "s = ' 4242elloello42! '\n",
    "print('Проверим их работу на примере строки', '\"' + s + '\"')\n",
    "\n",
    "print('Состоит ли строка только из букв:', s.isalpha())\n",
    "print('Состоит ли строка только из цифр:', s.isdigit())\n",
    "\n",
    "print('Состоит ли строка только из букв или цифр:', s.isalnum())\n",
    "\n",
    "print('Все ли буквы в строчке строчные:', s.islower())\n",
    "print('Все ли буквы в строчке прописные:', s.isupper())"
   ]
  },
  {
   "cell_type": "code",
   "execution_count": 37,
   "id": "MXamvnKO4F6o",
   "metadata": {
    "colab": {
     "base_uri": "https://localhost:8080/"
    },
    "id": "MXamvnKO4F6o",
    "outputId": "db015f08-8e29-4fdb-e2ca-e9fcce999009"
   },
   "outputs": [
    {
     "name": "stdout",
     "output_type": "stream",
     "text": [
      "True\n",
      "False\n"
     ]
    }
   ],
   "source": [
    "print(\"41414\".isdigit())\n",
    "print(\"41414.515415\".isdigit())"
   ]
  },
  {
   "cell_type": "code",
   "execution_count": 38,
   "id": "sMvLodkc4etA",
   "metadata": {
    "colab": {
     "base_uri": "https://localhost:8080/"
    },
    "id": "sMvLodkc4etA",
    "outputId": "3c32dcd7-094b-4b7d-ba06-f77d06e9d648"
   },
   "outputs": [
    {
     "name": "stdout",
     "output_type": "stream",
     "text": [
      "True\n",
      "False\n"
     ]
    }
   ],
   "source": [
    "print(\"41414abc\".isalnum())\n",
    "print(\"4141451abc.5415\".isalnum())"
   ]
  },
  {
   "cell_type": "markdown",
   "id": "f9uXUbeXBv2n",
   "metadata": {
    "id": "f9uXUbeXBv2n"
   },
   "source": [
    "## Форматирование строк: `str.format`, `f-строки`, (`%`)"
   ]
  },
  {
   "cell_type": "markdown",
   "id": "Rsw8WuCtyxa8",
   "metadata": {
    "id": "Rsw8WuCtyxa8"
   },
   "source": [
    "Часто нужно подставить какие-то значения в строчку. Мы делали это сложением или в `print`:\n",
    "\n"
   ]
  },
  {
   "cell_type": "markdown",
   "id": "gnbnV99Fzh_1",
   "metadata": {
    "id": "gnbnV99Fzh_1"
   },
   "source": [
    "- сложение\n",
    "(здесь ещё нужно результат самому в строчку переводить)"
   ]
  },
  {
   "cell_type": "code",
   "execution_count": 39,
   "id": "LqyG-kPLzAr_",
   "metadata": {
    "colab": {
     "base_uri": "https://localhost:8080/",
     "height": 235
    },
    "id": "LqyG-kPLzAr_",
    "outputId": "c6b4550c-daaa-4487-9f88-ce3fc238eba6"
   },
   "outputs": [
    {
     "ename": "TypeError",
     "evalue": "can only concatenate str (not \"int\") to str",
     "output_type": "error",
     "traceback": [
      "\u001b[0;31m---------------------------------------------------------------------------\u001b[0m",
      "\u001b[0;31mTypeError\u001b[0m                                 Traceback (most recent call last)",
      "Input \u001b[0;32mIn [39]\u001b[0m, in \u001b[0;36m<cell line: 3>\u001b[0;34m()\u001b[0m\n\u001b[1;32m      1\u001b[0m res \u001b[38;5;241m=\u001b[39m \u001b[38;5;241m10\u001b[39m\n\u001b[0;32m----> 3\u001b[0m res_message \u001b[38;5;241m=\u001b[39m \u001b[38;5;124;43m\"\u001b[39;49m\u001b[38;5;124;43mРезультат:\u001b[39;49m\u001b[38;5;124;43m\"\u001b[39;49m\u001b[43m \u001b[49m\u001b[38;5;241;43m+\u001b[39;49m\u001b[43m \u001b[49m\u001b[38;5;124;43m\"\u001b[39;49m\u001b[38;5;124;43m \u001b[39;49m\u001b[38;5;124;43m\"\u001b[39;49m\u001b[43m \u001b[49m\u001b[38;5;241;43m+\u001b[39;49m\u001b[43m \u001b[49m\u001b[43mres\u001b[49m\n\u001b[1;32m      5\u001b[0m \u001b[38;5;28mprint\u001b[39m(res_message)\n",
      "\u001b[0;31mTypeError\u001b[0m: can only concatenate str (not \"int\") to str"
     ]
    }
   ],
   "source": [
    "res = 10\n",
    "\n",
    "res_message = \"Результат:\" + \" \" + res\n",
    "\n",
    "print(res_message)"
   ]
  },
  {
   "cell_type": "code",
   "execution_count": 40,
   "id": "KX0YJozGzhLB",
   "metadata": {
    "colab": {
     "base_uri": "https://localhost:8080/"
    },
    "id": "KX0YJozGzhLB",
    "outputId": "339d8294-4360-4a1d-bedf-96f749e92b4c"
   },
   "outputs": [
    {
     "name": "stdout",
     "output_type": "stream",
     "text": [
      "Результат: 10\n"
     ]
    }
   ],
   "source": [
    "res = 10\n",
    "\n",
    "res_message = \"Результат:\" + \" \" + str(res)\n",
    "\n",
    "print(res_message)"
   ]
  },
  {
   "cell_type": "markdown",
   "id": "Eis2qsJj0WtX",
   "metadata": {
    "id": "Eis2qsJj0WtX"
   },
   "source": [
    "- внутри функции `print`"
   ]
  },
  {
   "cell_type": "code",
   "execution_count": 41,
   "id": "f0ce1175",
   "metadata": {},
   "outputs": [
    {
     "name": "stdout",
     "output_type": "stream",
     "text": [
      "Результат: 10\n",
      "Результат - 10\n"
     ]
    }
   ],
   "source": [
    "res = 10\n",
    "\n",
    "print(\"Результат:\", res)\n",
    "print(\"Результат\", res, sep=' - ')"
   ]
  },
  {
   "cell_type": "markdown",
   "id": "KLEWVCuP0bt9",
   "metadata": {
    "id": "KLEWVCuP0bt9"
   },
   "source": [
    "Но если значений, которые нужно подставить много, и подставлять нужно внутрь строки, а не в начало или конец, то становится жутко:"
   ]
  },
  {
   "cell_type": "code",
   "execution_count": 42,
   "id": "9Uij0rzk0oht",
   "metadata": {
    "colab": {
     "base_uri": "https://localhost:8080/"
    },
    "id": "9Uij0rzk0oht",
    "outputId": "bd7a72a1-287c-4296-d6b6-0403cfde619d"
   },
   "outputs": [
    {
     "name": "stdout",
     "output_type": "stream",
     "text": [
      "При x=5 значения y=2 z=4, что в два раза больше, чем при x0=4\n"
     ]
    }
   ],
   "source": [
    "x0 = 4\n",
    "x = 5\n",
    "y = 2\n",
    "z = 4 \n",
    "\n",
    "\n",
    "print(\"При x=\" + str(x), \"значения y=\" + str(y),\n",
    "      \"z=\" + str(z) + \",\",  \"что в два раза больше, чем при x0=\" + str(x0))"
   ]
  },
  {
   "cell_type": "markdown",
   "id": "KZ0N4bDLzpJA",
   "metadata": {
    "id": "KZ0N4bDLzpJA"
   },
   "source": [
    "Можно делать это аккуратнее и красивее, используя **форматирование строк**.\n",
    "\n",
    "Форматирование строк &mdash; это подстановка какого-то значения внутрь строки в нужном месте. Значению при этом необязательно быть строкой самому. "
   ]
  },
  {
   "cell_type": "markdown",
   "id": "mXRo4MJh0CWd",
   "metadata": {
    "id": "mXRo4MJh0CWd"
   },
   "source": [
    "В питоне есть три способа форматирования строк:\n",
    "\n",
    "- `f\"Результат: {res}\"` \n",
    "- `\"Результат: {}\".format(res)`\n",
    "- `\"Результат: %d\" % res`\n",
    "\n",
    "Последний рассматривать не будем, способы выше новее и всем лучше."
   ]
  },
  {
   "cell_type": "markdown",
   "id": "xOrKm0qJXTv0",
   "metadata": {
    "id": "xOrKm0qJXTv0"
   },
   "source": [
    "Строчки с фигурными скобками могут быть использованы отложенно, сколько угодно раз, **как шаблоны**, а `f-строки` обязательно форматируются сразу."
   ]
  },
  {
   "cell_type": "code",
   "execution_count": 43,
   "id": "0cb4c46f",
   "metadata": {},
   "outputs": [
    {
     "name": "stdout",
     "output_type": "stream",
     "text": [
      "Здравствуйте, Ваня!\n"
     ]
    }
   ],
   "source": [
    "mysalute1 = \"Здравствуйте, {}!\"\n",
    "print(mysalute1.format(\"Ваня\"))"
   ]
  },
  {
   "cell_type": "code",
   "execution_count": 44,
   "id": "nPRJIN3MBulU",
   "metadata": {
    "colab": {
     "base_uri": "https://localhost:8080/"
    },
    "id": "nPRJIN3MBulU",
    "outputId": "8da8ee81-2582-4617-f38a-788a7ba463b1"
   },
   "outputs": [
    {
     "name": "stdout",
     "output_type": "stream",
     "text": [
      "Ну и ну! Приветствую вас, Лев Николаевич!\n"
     ]
    }
   ],
   "source": [
    "names = [\"Алексей Николаевич\", \"Лев Николаевич\", \"Алексей Константинович\"]\n",
    "\n",
    "mysalute2 = \"Ну и ну! Приветствую вас, {}!\"\n",
    "\n",
    "print(mysalute2.format(names[1]))"
   ]
  },
  {
   "cell_type": "markdown",
   "id": "a8a28cc0",
   "metadata": {},
   "source": [
    "Получается, это шаблон, в котором `.format()` заменяет `\"{}\"` на то, что дали в скобках"
   ]
  },
  {
   "cell_type": "code",
   "execution_count": 45,
   "id": "c8bfa170",
   "metadata": {},
   "outputs": [
    {
     "name": "stdout",
     "output_type": "stream",
     "text": [
      "Ну и ну! Приветствую вас, {}!\n"
     ]
    }
   ],
   "source": [
    "print(mysalute2)"
   ]
  },
  {
   "cell_type": "code",
   "execution_count": 46,
   "id": "zC5QIugaXx9w",
   "metadata": {
    "colab": {
     "base_uri": "https://localhost:8080/"
    },
    "id": "zC5QIugaXx9w",
    "outputId": "6c56230a-6246-4f1f-c5f2-f4a1c1785956"
   },
   "outputs": [
    {
     "name": "stdout",
     "output_type": "stream",
     "text": [
      "Приятно видеть вас, Ваня!\n"
     ]
    }
   ],
   "source": [
    "mysalute3 = \"Приятно видеть вас, {name}!\"\n",
    " \n",
    "print(mysalute3.format(name='Ваня'))\n",
    "# print(mysalute3.format(names[2]))  # А так не работает, ведь нужно именно name"
   ]
  },
  {
   "cell_type": "code",
   "execution_count": 47,
   "id": "1c90cc0b",
   "metadata": {},
   "outputs": [
    {
     "ename": "KeyError",
     "evalue": "'name'",
     "output_type": "error",
     "traceback": [
      "\u001b[0;31m---------------------------------------------------------------------------\u001b[0m",
      "\u001b[0;31mKeyError\u001b[0m                                  Traceback (most recent call last)",
      "Input \u001b[0;32mIn [47]\u001b[0m, in \u001b[0;36m<cell line: 1>\u001b[0;34m()\u001b[0m\n\u001b[0;32m----> 1\u001b[0m \u001b[38;5;28mprint\u001b[39m(\u001b[43mmysalute3\u001b[49m\u001b[38;5;241;43m.\u001b[39;49m\u001b[43mformat\u001b[49m\u001b[43m(\u001b[49m\u001b[38;5;124;43m'\u001b[39;49m\u001b[38;5;124;43mВаня\u001b[39;49m\u001b[38;5;124;43m'\u001b[39;49m\u001b[43m)\u001b[49m)\n",
      "\u001b[0;31mKeyError\u001b[0m: 'name'"
     ]
    }
   ],
   "source": [
    "print(mysalute3.format('Ваня'))"
   ]
  },
  {
   "cell_type": "code",
   "execution_count": 48,
   "id": "6a8cefb3",
   "metadata": {},
   "outputs": [
    {
     "name": "stdout",
     "output_type": "stream",
     "text": [
      "Привет, Пачкуале Пестрини!\n"
     ]
    }
   ],
   "source": [
    "mysalute4 = \"Привет, {name}!\"\n",
    "name = \"Пачкуале Пестрини\"\n",
    "print(mysalute4.format(name = name))\n",
    "#print(mysalute3.format(name))  # А так не работает"
   ]
  },
  {
   "cell_type": "code",
   "execution_count": 49,
   "id": "fe506951",
   "metadata": {},
   "outputs": [
    {
     "name": "stdout",
     "output_type": "stream",
     "text": [
      "Вы готовы, Шехерезада Степановна?\n"
     ]
    }
   ],
   "source": [
    "phrase = \"Вы готовы, {name} {patronymic}?\"\n",
    " \n",
    "print(phrase.format(patronymic=\"Степановна\", name=\"Шехерезада\"))"
   ]
  },
  {
   "cell_type": "code",
   "execution_count": 50,
   "id": "4jHPjoniWZST",
   "metadata": {
    "colab": {
     "base_uri": "https://localhost:8080/"
    },
    "id": "4jHPjoniWZST",
    "outputId": "f32264e9-1402-46c7-c547-de66870f3933"
   },
   "outputs": [
    {
     "name": "stdout",
     "output_type": "stream",
     "text": [
      "результат: [1, 2, 3, 4]\n"
     ]
    }
   ],
   "source": [
    "result = [1, 2, 3, 4]\n",
    "\n",
    "stroka = f\"результат: {result}\"\n",
    "\n",
    "print(stroka)"
   ]
  },
  {
   "cell_type": "markdown",
   "id": "IsshPMwhl36d",
   "metadata": {
    "id": "IsshPMwhl36d"
   },
   "source": [
    "**f-строки** не шаблоны, нельзя отложить подстановку, значения нужно подставить сразу, иначе ошибка"
   ]
  },
  {
   "cell_type": "code",
   "execution_count": 51,
   "id": "A1tzZpxtlpHI",
   "metadata": {
    "colab": {
     "base_uri": "https://localhost:8080/",
     "height": 133
    },
    "id": "A1tzZpxtlpHI",
    "outputId": "56226706-6712-4840-c365-8196c3ea9fed"
   },
   "outputs": [
    {
     "ename": "SyntaxError",
     "evalue": "f-string: empty expression not allowed (4092511919.py, line 3)",
     "output_type": "error",
     "traceback": [
      "\u001b[0;36m  Input \u001b[0;32mIn [51]\u001b[0;36m\u001b[0m\n\u001b[0;31m    s = f\"результат: {}\"\u001b[0m\n\u001b[0m                        ^\u001b[0m\n\u001b[0;31mSyntaxError\u001b[0m\u001b[0;31m:\u001b[0m f-string: empty expression not allowed\n"
     ]
    }
   ],
   "source": [
    "result = [1, 2, 3, 4]\n",
    "\n",
    "s = f\"результат: {}\"\n",
    "\n",
    "print(s)"
   ]
  },
  {
   "cell_type": "markdown",
   "id": "4C4G1eKnwBS_",
   "metadata": {
    "id": "4C4G1eKnwBS_"
   },
   "source": [
    "Форматирование строк позволяет подставлять внутрь что угодно, не только строки"
   ]
  },
  {
   "cell_type": "code",
   "execution_count": 52,
   "id": "hTCQgNZKWZbL",
   "metadata": {
    "colab": {
     "base_uri": "https://localhost:8080/"
    },
    "id": "hTCQgNZKWZbL",
    "outputId": "c1b04b59-c88b-44c6-b175-ed1487116bc1"
   },
   "outputs": [
    {
     "name": "stdout",
     "output_type": "stream",
     "text": [
      "Здравствуйте, 42!\n",
      "Здравствуйте, ['Never', 'gonna', 'give', 'you', 'up']!\n",
      "Здравствуйте, True!\n"
     ]
    }
   ],
   "source": [
    "print(mysalute1.format(42))\n",
    "print(mysalute1.format(\"Never gonna give you up\".split()))\n",
    "print(mysalute1.format(5<10))"
   ]
  },
  {
   "cell_type": "code",
   "execution_count": 53,
   "id": "00606bdd",
   "metadata": {},
   "outputs": [
    {
     "name": "stdout",
     "output_type": "stream",
     "text": [
      "Что в a? 5.\n"
     ]
    }
   ],
   "source": [
    "a = 5\n",
    "print(f'Что в a? {a}.')"
   ]
  },
  {
   "cell_type": "markdown",
   "id": "8d5d33b9",
   "metadata": {},
   "source": [
    "## Токенизация"
   ]
  },
  {
   "cell_type": "markdown",
   "id": "d1c2389a-597c-4ee2-98b5-983a8c181382",
   "metadata": {},
   "source": [
    "Питон не включает в себя всё, что возможно придумать.\n",
    "\n",
    "Кому-то нужно считать статистику, кому-то — сделать веб-сайт для своего магазина, а кому-то —  (ух!) строить неройнные сети.\n",
    "    Для каждой из этих задач нужны совершенно разные программы.\n",
    "    Поскольку это **задачи** достаточно **частые**, то **их кто-то уже решал**.\n",
    "\n",
    "И действительно, немало сторонних разработчиков пишут малые (пакеты) или большие (библиотеки) программы для решения каких-то определённых задач, и делают их общедоступными (спасибо им!).\n",
    "    Что очень нужно нам, это аккуратно делить русский текст на предложения и слова.\n",
    "    Оказывается, для этого тоже есть программы!    "
   ]
  },
  {
   "cell_type": "markdown",
   "id": "9581e9d1-802e-4d01-9675-f9a536fcf1aa",
   "metadata": {},
   "source": [
    "**Natasha** &mdash; библиотека для обработки текстов на естественном русском языке.\n",
    "\n",
    "Есть много пакетов, которые могут делить текст на предложения.\n",
    "    Но с русским особенно хорош пакет `razdel` (это часть проекта-библиотеки `natasha`)."
   ]
  },
  {
   "cell_type": "code",
   "execution_count": 54,
   "id": "49ce21ec",
   "metadata": {},
   "outputs": [
    {
     "name": "stdout",
     "output_type": "stream",
     "text": [
      "\u001b[33mDEPRECATION: Configuring installation scheme with distutils config files is deprecated and will no longer work in the near future. If you are using a Homebrew or Linuxbrew Python, please see discussion at https://github.com/Homebrew/homebrew-core/issues/76621\u001b[0m\u001b[33m\n",
      "\u001b[0mRequirement already satisfied: natasha in /usr/local/lib/python3.9/site-packages (1.6.0)\n",
      "Requirement already satisfied: pymorphy2 in /usr/local/lib/python3.9/site-packages (from natasha) (0.8)\n",
      "Requirement already satisfied: yargy>=0.16.0 in /usr/local/lib/python3.9/site-packages (from natasha) (0.16.0)\n",
      "Requirement already satisfied: navec>=0.9.0 in /usr/local/lib/python3.9/site-packages (from natasha) (0.10.0)\n",
      "Requirement already satisfied: ipymarkup>=0.8.0 in /usr/local/lib/python3.9/site-packages (from natasha) (0.9.0)\n",
      "Requirement already satisfied: slovnet>=0.6.0 in /usr/local/lib/python3.9/site-packages (from natasha) (0.6.0)\n",
      "Requirement already satisfied: razdel>=0.5.0 in /usr/local/lib/python3.9/site-packages (from natasha) (0.5.0)\n",
      "Requirement already satisfied: intervaltree>=3 in /usr/local/lib/python3.9/site-packages (from ipymarkup>=0.8.0->natasha) (3.1.0)\n",
      "Requirement already satisfied: numpy in /usr/local/lib/python3.9/site-packages (from navec>=0.9.0->natasha) (1.23.4)\n",
      "Requirement already satisfied: pymorphy2-dicts<3.0,>=2.4 in /usr/local/lib/python3.9/site-packages (from pymorphy2->natasha) (2.4.393442.3710985)\n",
      "Requirement already satisfied: dawg-python>=0.7 in /usr/local/lib/python3.9/site-packages (from pymorphy2->natasha) (0.7.2)\n",
      "Requirement already satisfied: docopt>=0.6 in /usr/local/lib/python3.9/site-packages (from pymorphy2->natasha) (0.6.2)\n",
      "Requirement already satisfied: sortedcontainers<3.0,>=2.0 in /usr/local/lib/python3.9/site-packages (from intervaltree>=3->ipymarkup>=0.8.0->natasha) (2.4.0)\n",
      "\u001b[33mDEPRECATION: Configuring installation scheme with distutils config files is deprecated and will no longer work in the near future. If you are using a Homebrew or Linuxbrew Python, please see discussion at https://github.com/Homebrew/homebrew-core/issues/76621\u001b[0m\u001b[33m\n",
      "\u001b[0m\n",
      "\u001b[1m[\u001b[0m\u001b[34;49mnotice\u001b[0m\u001b[1;39;49m]\u001b[0m\u001b[39;49m A new release of pip is available: \u001b[0m\u001b[31;49m23.0.1\u001b[0m\u001b[39;49m -> \u001b[0m\u001b[32;49m23.2.1\u001b[0m\n",
      "\u001b[1m[\u001b[0m\u001b[34;49mnotice\u001b[0m\u001b[1;39;49m]\u001b[0m\u001b[39;49m To update, run: \u001b[0m\u001b[32;49mpython3.9 -m pip install --upgrade pip\u001b[0m\n"
     ]
    }
   ],
   "source": [
    "# чтобы использовать, надо установить библиотеку\n",
    "!pip install natasha"
   ]
  },
  {
   "cell_type": "markdown",
   "id": "e1f9d976-3682-49cf-bf43-9751e27a65ec",
   "metadata": {},
   "source": [
    "Теперь у нас установлен этот большой набор программ (библиотека `natasha`),\n",
    "    среди которых наш небольшой пакет для разбиения текстов &mdash; `razdel`.\n",
    "\n",
    "Но пакет этот нам может быть нужен не каждый раз!\n",
    "    Например, когда у нас уже есть какая-то статистика по авторам (их годам жизни, количеству произведений с годами публикаций и т.д.),\n",
    "    нам не нужно разбивать тексты на слова, а нужна простая программа, которая будет что-то считать.\n",
    "    Поэтому, когда мы прямо хотим воспользоваться в своей программе какой-то другой программой (пакетом / библиотекой), то нам это нужно явно указать.\n",
    "    Тогда Python поймёт, что внешняя программа понадобится и подключит её *(а если бы не написали этого, то не подключал бы. Экономия!)*."
   ]
  },
  {
   "cell_type": "code",
   "execution_count": 55,
   "id": "e1c42188-c7ec-4676-bd45-ec41402b9a1d",
   "metadata": {},
   "outputs": [],
   "source": [
    "from razdel import sentenize"
   ]
  },
  {
   "cell_type": "markdown",
   "id": "b5a5e798",
   "metadata": {},
   "source": [
    "Что мы сейчас сделали? Мы сначала установили библиотеку, а потом импортировали из неё нужную нам функцию. Сначала взяли огромную коробку, а потом рассказали программе, что есть функция внутри коробки, которую хочется уметь использовать."
   ]
  },
  {
   "cell_type": "code",
   "execution_count": 56,
   "id": "d0bb5c84",
   "metadata": {},
   "outputs": [
    {
     "name": "stdout",
     "output_type": "stream",
     "text": [
      "<generator object find_substrings at 0x10c2f6970>\n"
     ]
    }
   ],
   "source": [
    "text = \"Вот хотим мы поделить текст на предложения. Можно просто поделить по точке. Но что делать, с предложениями, заканчивающимися не на точку? Восклицательные и вопросительные знаки забыли! Как же быть... Проверять все завершающие знаки препинания. А что скажет на это А.С.Пушкин, чьи инициалы содержат точки? Лучше воспользоваться библиотекой, которая умеет делить на предложения! Она и про 0.5 гр. и 100 руб. знает...\"\n",
    "\n",
    "print(sentenize(text))"
   ]
  },
  {
   "cell_type": "markdown",
   "id": "814c59f4-12d0-45af-b66a-65c1fa6ceef1",
   "metadata": {},
   "source": [
    "*(снова печатается непонятно что, как и с `range` и `enumerate`. Помним, что можно поглотить и создать, например, список или пройтись в цикле `for`)*"
   ]
  },
  {
   "cell_type": "code",
   "execution_count": 57,
   "id": "40d8ec70",
   "metadata": {},
   "outputs": [
    {
     "data": {
      "text/plain": [
       "[Substring(0, 43, 'Вот хотим мы поделить текст на предложения.'),\n",
       " Substring(44, 75, 'Можно просто поделить по точке.'),\n",
       " Substring(76,\n",
       "           137,\n",
       "           'Но что делать, с предложениями, заканчивающимися не на точку?'),\n",
       " Substring(138, 184, 'Восклицательные и вопросительные знаки забыли!'),\n",
       " Substring(185, 199, 'Как же быть...'),\n",
       " Substring(200, 243, 'Проверять все завершающие знаки препинания.'),\n",
       " Substring(244,\n",
       "           304,\n",
       "           'А что скажет на это А.С.Пушкин, чьи инициалы содержат точки?'),\n",
       " Substring(305,\n",
       "           376,\n",
       "           'Лучше воспользоваться библиотекой, которая умеет делить на предложения!'),\n",
       " Substring(377, 414, 'Она и про 0.5 гр. и 100 руб. знает...')]"
      ]
     },
     "execution_count": 57,
     "metadata": {},
     "output_type": "execute_result"
    }
   ],
   "source": [
    "# А вот так можно посмотреть\n",
    "list(sentenize(text))"
   ]
  },
  {
   "cell_type": "code",
   "execution_count": 58,
   "id": "ec873723",
   "metadata": {},
   "outputs": [
    {
     "name": "stdout",
     "output_type": "stream",
     "text": [
      "Вот хотим мы поделить текст на предложения.\n",
      "Можно просто поделить по точке.\n",
      "Но что делать, с предложениями, заканчивающимися не на точку?\n",
      "Восклицательные и вопросительные знаки забыли!\n",
      "Как же быть...\n",
      "Проверять все завершающие знаки препинания.\n",
      "А что скажет на это А.С.Пушкин, чьи инициалы содержат точки?\n",
      "Лучше воспользоваться библиотекой, которая умеет делить на предложения!\n",
      "Она и про 0.5 гр. и 100 руб. знает...\n"
     ]
    }
   ],
   "source": [
    "# Вот так удобнее\n",
    "for sent in sentenize(text):\n",
    "    print(sent.text)  # тут нет скобочек, потому что это не совсем действие, просто свойство\n",
    "                      # но об этом можно не думать"
   ]
  },
  {
   "cell_type": "code",
   "execution_count": 59,
   "id": "178e8fda",
   "metadata": {},
   "outputs": [
    {
     "data": {
      "text/plain": [
       "[Substring(0, 51, 'Почему я как композитор-оперник тяготею к классике?'),\n",
       " Substring(52, 73, 'Это у меня с детства.'),\n",
       " Substring(74, 116, 'В детстве я очень любил играть в классики.'),\n",
       " Substring(117,\n",
       "           191,\n",
       "           'Ребенком я любил пить чай, естественно, с пирожными, и лучше всего с безе.'),\n",
       " Substring(192,\n",
       "           289,\n",
       "           'Отсюда в сублимации ассоциаций детства тяготение к Чайковскому, к Бизе, и т. д., и т. п., и т. д.'),\n",
       " Substring(290,\n",
       "           363,\n",
       "           'Как сказал классик, надо брать музыку у народа, и только обрабатывать её.'),\n",
       " Substring(364, 378, 'Так я и делаю.'),\n",
       " Substring(379,\n",
       "           579,\n",
       "           'Поэтому, когда сегодня берёшь у композитора — это, собственно говоря, берёшь у народа, берёшь у народа — берёшь у себя, и главное, чтобы музыка была твоя, и кто говорит \"плагиат\", я говорю \"традиция\".')]"
      ]
     },
     "execution_count": 59,
     "metadata": {},
     "output_type": "execute_result"
    }
   ],
   "source": [
    "# Поделим на предложения текст с разными сокращениями\n",
    "text2 = \"\"\"Почему я как композитор-оперник тяготею к классике? Это у меня с детства. В детстве я очень любил играть в классики. Ребенком я любил пить чай, естественно, с пирожными, и лучше всего с безе. Отсюда в сублимации ассоциаций детства тяготение к Чайковскому, к Бизе, и т. д., и т. п., и т. д. Как сказал классик, надо брать музыку у народа, и только обрабатывать её. Так я и делаю. Поэтому, когда сегодня берёшь у композитора — это, собственно говоря, берёшь у народа, берёшь у народа — берёшь у себя, и главное, чтобы музыка была твоя, и кто говорит \"плагиат\", я говорю \"традиция\".\"\"\"\n",
    "\n",
    "list(sentenize(text2))"
   ]
  },
  {
   "cell_type": "code",
   "execution_count": 60,
   "id": "d6f2a813",
   "metadata": {},
   "outputs": [
    {
     "data": {
      "text/plain": [
       "[Substring(0, 30, '\"Привет!\" - сказали мы питону.')]"
      ]
     },
     "execution_count": 60,
     "metadata": {},
     "output_type": "execute_result"
    }
   ],
   "source": [
    "# И даже с прямой речью справляется\n",
    "list(sentenize('''\"Привет!\" - сказали мы питону.'''))"
   ]
  },
  {
   "cell_type": "markdown",
   "id": "fa70d75f-8565-41a4-9cb6-20e6c201fa54",
   "metadata": {},
   "source": [
    "## Теперь делим на слова"
   ]
  },
  {
   "cell_type": "markdown",
   "id": "7140e8b5-c0c0-453a-a76c-40a9fb6f63df",
   "metadata": {},
   "source": [
    "Что такое токен? Последовательность символов. (Какая последовательность? Авторы кода определяют для себя это сами.) Обычно это слова в тексте, смайлики, числ в тексте, иногда пунктуация.\n",
    "\n",
    "Почему бы не сказать, что токен=слово? Потому что \"что такое слово?\" + числа и пунктуацию сложно назвать словами.\n",
    "\n",
    "> *Сладострастная отрава - золотая Бричмула,*\n",
    "\n",
    "> *Где чинара притулилась под скалою, - под скалою...*\n",
    "\n",
    "> *Про тебя жужжит над ухом вечная пчела:*\n",
    "\n",
    "> *Бричмула, Бричмулы, Бричмуле, Бричмулу, <span style=\"color:blue\">Бричмулою</span>.*\n",
    "\n",
    "> *Про тебя жужжит над ухом вечная пчела:*\n",
    "\n",
    "> *Бричмула, Бричмулы, Бричмуле, Бричмулу, <span style=\"color:orange\">Бричмулою</span>.*\n",
    "\n",
    "Сколько тут слов - неизвестно. \"Бричмула\" и \"Бричмулы\" - разные слова? \"<span style=\"color:blue\">Бричмулою</span>\" и \"<span style=\"color:orange\">Бричмулою</span>\" - разные слова?\n",
    "\n",
    "Это точно разные токены."
   ]
  },
  {
   "cell_type": "code",
   "execution_count": 61,
   "id": "f693897f",
   "metadata": {},
   "outputs": [],
   "source": [
    "from razdel import tokenize"
   ]
  },
  {
   "cell_type": "code",
   "execution_count": 62,
   "id": "1ff828ea",
   "metadata": {},
   "outputs": [
    {
     "data": {
      "text/plain": [
       "[Substring(0, 2, 'Мы'),\n",
       " Substring(3, 8, 'любим'),\n",
       " Substring(9, 14, 'питон'),\n",
       " Substring(14, 15, '.'),\n",
       " Substring(16, 17, 'И'),\n",
       " Substring(18, 20, 'он'),\n",
       " Substring(21, 24, 'нас'),\n",
       " Substring(24, 25, '.'),\n",
       " Substring(26, 32, 'Просто'),\n",
       " Substring(33, 38, 'нужно'),\n",
       " Substring(39, 52, 'познакомиться'),\n",
       " Substring(53, 60, 'поближе'),\n",
       " Substring(60, 61, '.')]"
      ]
     },
     "execution_count": 62,
     "metadata": {},
     "output_type": "execute_result"
    }
   ],
   "source": [
    "list(tokenize('Мы любим питон. И он нас. Просто нужно познакомиться поближе.'))\n",
    "# Да, конкретно этот способ сохраняет пунктуацию как отдельные токены\n",
    "# (можно потом убрать всё, что не буквы)"
   ]
  },
  {
   "cell_type": "code",
   "execution_count": 63,
   "id": "a9c64809",
   "metadata": {},
   "outputs": [
    {
     "name": "stdout",
     "output_type": "stream",
     "text": [
      "И\n",
      "побольше\n",
      "времени\n",
      "с\n",
      "ним\n",
      "проводить\n",
      "Привыкнуть\n"
     ]
    }
   ],
   "source": [
    "punctuation = '''!\"#$%&'()*+,-./:;<=>?@[\\]^_`{|}~...!...'''\n",
    "\n",
    "for token in tokenize('И побольше времени с ним проводить... Привыкнуть.'):\n",
    "    if token.text not in punctuation:\n",
    "        print(token.text)"
   ]
  },
  {
   "cell_type": "code",
   "execution_count": 64,
   "id": "cc4a60f1",
   "metadata": {},
   "outputs": [
    {
     "data": {
      "text/plain": [
       "[Substring(0, 2, '25'), Substring(2, 4, 'кг'), Substring(5, 12, 'надежды')]"
      ]
     },
     "execution_count": 64,
     "metadata": {},
     "output_type": "execute_result"
    }
   ],
   "source": [
    "# Он справится с:\n",
    "text5 = \"25кг надежды\"\n",
    "list(tokenize(text5)) # Если бы мы делили по пробелам, получили бы слово \"25кг \""
   ]
  },
  {
   "cell_type": "code",
   "execution_count": 65,
   "id": "6c6f9783",
   "metadata": {},
   "outputs": [
    {
     "data": {
      "text/plain": [
       "[Substring(0, 2, '14'), Substring(2, 5, 'ого'), Substring(6, 11, 'числа')]"
      ]
     },
     "execution_count": 65,
     "metadata": {},
     "output_type": "execute_result"
    }
   ],
   "source": [
    "text9 = \"14ого числа\"  # ну вот...\n",
    "list(tokenize(text9))"
   ]
  },
  {
   "cell_type": "code",
   "execution_count": 66,
   "id": "2924476e",
   "metadata": {},
   "outputs": [
    {
     "data": {
      "text/plain": [
       "[Substring(0, 5, 'Лежал'),\n",
       " Substring(6, 8, 'ли'),\n",
       " Substring(9, 10, 'А'),\n",
       " Substring(10, 11, '.'),\n",
       " Substring(11, 12, 'С'),\n",
       " Substring(12, 13, '.'),\n",
       " Substring(13, 19, 'Пушкин'),\n",
       " Substring(20, 21, 'в'),\n",
       " Substring(22, 38, 'Санкт-Петербурге'),\n",
       " Substring(39, 41, 'на'),\n",
       " Substring(42, 56, 'диване-кровати'),\n",
       " Substring(56, 57, '?')]"
      ]
     },
     "execution_count": 66,
     "metadata": {},
     "output_type": "execute_result"
    }
   ],
   "source": [
    "list(tokenize(\"Лежал ли А.С.Пушкин в Санкт-Петербурге на диване-кровати?\"))"
   ]
  },
  {
   "cell_type": "code",
   "execution_count": 67,
   "id": "bead88bf",
   "metadata": {},
   "outputs": [
    {
     "data": {
      "text/plain": [
       "[Substring(0, 6, 'Привет'), Substring(6, 7, '!'), Substring(8, 10, ':)')]"
      ]
     },
     "execution_count": 67,
     "metadata": {},
     "output_type": "execute_result"
    }
   ],
   "source": [
    "list(tokenize(\"Привет! :)\"))"
   ]
  },
  {
   "cell_type": "code",
   "execution_count": 68,
   "id": "10e12f05",
   "metadata": {
    "scrolled": true
   },
   "outputs": [
    {
     "data": {
      "text/plain": [
       "[Substring(0, 8, 'Смайлики'),\n",
       " Substring(9, 15, 'разные'),\n",
       " Substring(15, 16, ':'),\n",
       " Substring(17, 18, '♥'),\n",
       " Substring(18, 19, ','),\n",
       " Substring(20, 21, '('),\n",
       " Substring(21, 24, 'о_о'),\n",
       " Substring(24, 25, ')'),\n",
       " Substring(25, 26, ','),\n",
       " Substring(27, 34, '👨\\u200d👩\\u200d👧\\u200d👦')]"
      ]
     },
     "execution_count": 68,
     "metadata": {},
     "output_type": "execute_result"
    }
   ],
   "source": [
    "list(tokenize(\"Смайлики разные: ♥, (о_о), 👨‍👩‍👧‍👦\"))"
   ]
  },
  {
   "cell_type": "markdown",
   "id": "2c63d820",
   "metadata": {},
   "source": [
    "### Тренировка\n",
    "Возьмите текст и сделайте из него список списков слов."
   ]
  },
  {
   "cell_type": "code",
   "execution_count": 69,
   "id": "3291951e",
   "metadata": {},
   "outputs": [
    {
     "name": "stdout",
     "output_type": "stream",
     "text": [
      "['степь', 'чем', 'далее', 'тем', 'становилась', 'прекраснее', 'тогда', 'весь', 'юг', 'всё', 'то', 'пространство', 'которое', 'составляет', 'нынешнюю', 'новороссию', 'до', 'самого', 'чёрного', 'моря', 'было', 'зелёною', 'девственною', 'пустынею', 'никогда', 'плуг', 'не', 'проходил', 'по', 'неизмеримым', 'волнам', 'диких', 'растений', 'одни', 'только', 'кони', 'скрывавшиеся', 'в', 'них', 'как', 'в', 'лесу', 'вытаптывали', 'их', 'ничего', 'в', 'природе', 'не', 'могло', 'быть', 'лучше', 'вся', 'поверхность', 'земли', 'представлялась', 'зелёно-золотым', 'океаном', 'по', 'которому', 'брызнули', 'миллионы', 'разных', 'цветов', 'сквозь', 'тонкие', 'высокие', 'стебли', 'травы', 'сквозили', 'голубые', 'синие', 'и', 'лиловые', 'волошки', 'белая', 'кашка', 'зонтикообразными', 'шапками', 'пестрела', 'на', 'поверхности', 'занесённый', 'бог', 'знает', 'откуда', 'колос', 'пшеницы', 'наливался', 'в', 'гуще', 'под', 'тонкими', 'их', 'корнями', 'шныряли', 'куропатки', 'вытянув', 'свои', 'шеи', 'воздух', 'был', 'наполнен', 'тысячью', 'разных', 'птичьих', 'свистов', 'в', 'небе', 'неподвижно', 'стояли', 'ястребы', 'распластав', 'свои', 'крылья', 'и', 'неподвижно', 'устремив', 'глаза', 'свои', 'в', 'траву', 'крик', 'двигавшейся', 'в', 'стороне', 'тучи', 'диких', 'гусей', 'отдавался', 'бог', 'весть', 'в', 'каком', 'дальнем', 'озере', 'из', 'травы', 'подымалась', 'мерными', 'взмахами', 'чайка', 'и', 'роскошно', 'купалась', 'в', 'синих', 'волнах', 'воздуха', 'вон', 'она', 'пропала', 'в', 'вышине', 'и', 'только', 'мелькает', 'одною', 'чёрною', 'точкою', 'вон', 'она', 'перевернулась', 'крылами', 'и', 'блеснула', 'перед', 'солнцем', 'чёрт', 'вас', 'возьми', 'степи', 'как', 'вы', 'хороши']\n"
     ]
    }
   ],
   "source": [
    "text = 'Степь чем далее, тем становилась прекраснее. Тогда весь юг, всё то пространство, которое составляет нынешнюю Новороссию*, до самого Чёрного моря, было зелёною, девственною пустынею. Никогда плуг не проходил по неизмеримым волнам диких растений. Одни только кони, скрывавшиеся в них, как в лесу, вытаптывали их. Ничего в природе не могло быть лучше. Вся поверхность земли представлялась зелёно-золотым океаном, по которому брызнули миллионы разных цветов. Сквозь тонкие, высокие стебли травы сквозили голубые, синие и лиловые волошки*; белая кашка зонтикообразными шапками пестрела на поверхности; занесённый бог знает откуда колос пшеницы наливался в гуще. Под тонкими их корнями шныряли куропатки, вытянув свои шеи. Воздух был наполнен тысячью разных птичьих свистов. В небе неподвижно стояли ястребы, распластав свои крылья и неподвижно устремив глаза свои в траву. Крик двигавшейся в стороне тучи диких гусей отдавался бог весть в каком дальнем озере. Из травы подымалась мерными взмахами чайка и роскошно купалась в синих волнах воздуха. Вон она пропала в вышине и только мелькает одною чёрною точкою. Вон она перевернулась крылами и блеснула перед солнцем... Чёрт вас возьми, степи, как вы хороши!...'\n",
    "words = []\n",
    "for token in tokenize(text):\n",
    "    if token.text not in punctuation:\n",
    "        words.append(token.text.lower())\n",
    "print(words)"
   ]
  }
 ],
 "metadata": {
  "colab": {
   "provenance": []
  },
  "kernelspec": {
   "display_name": "Python 3 (ipykernel)",
   "language": "python",
   "name": "python3"
  },
  "language_info": {
   "codemirror_mode": {
    "name": "ipython",
    "version": 3
   },
   "file_extension": ".py",
   "mimetype": "text/x-python",
   "name": "python",
   "nbconvert_exporter": "python",
   "pygments_lexer": "ipython3",
   "version": "3.9.16"
  }
 },
 "nbformat": 4,
 "nbformat_minor": 5
}
