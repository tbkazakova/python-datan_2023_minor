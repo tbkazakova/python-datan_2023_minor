{
 "cells": [
  {
   "cell_type": "markdown",
   "metadata": {},
   "source": [
    "# Меры центральной тенденции"
   ]
  },
  {
   "cell_type": "code",
   "execution_count": 1,
   "metadata": {},
   "outputs": [
    {
     "data": {
      "text/html": [
       "<div>\n",
       "<style scoped>\n",
       "    .dataframe tbody tr th:only-of-type {\n",
       "        vertical-align: middle;\n",
       "    }\n",
       "\n",
       "    .dataframe tbody tr th {\n",
       "        vertical-align: top;\n",
       "    }\n",
       "\n",
       "    .dataframe thead th {\n",
       "        text-align: right;\n",
       "    }\n",
       "</style>\n",
       "<table border=\"1\" class=\"dataframe\">\n",
       "  <thead>\n",
       "    <tr style=\"text-align: right;\">\n",
       "      <th></th>\n",
       "      <th>Date</th>\n",
       "      <th>Hour</th>\n",
       "      <th>Temperature</th>\n",
       "      <th>Humidity</th>\n",
       "      <th>Wind speed</th>\n",
       "      <th>Rainfall</th>\n",
       "      <th>Snowfall</th>\n",
       "      <th>Seasons</th>\n",
       "      <th>Holiday</th>\n",
       "      <th>Functioning Day</th>\n",
       "      <th>Rental Count</th>\n",
       "      <th>Normal Humidity</th>\n",
       "      <th>Temperature Category</th>\n",
       "      <th>Windy</th>\n",
       "      <th>Good Weather</th>\n",
       "    </tr>\n",
       "  </thead>\n",
       "  <tbody>\n",
       "    <tr>\n",
       "      <th>0</th>\n",
       "      <td>2017-12-01</td>\n",
       "      <td>0</td>\n",
       "      <td>-5.2</td>\n",
       "      <td>37</td>\n",
       "      <td>2.2</td>\n",
       "      <td>0.0</td>\n",
       "      <td>0.0</td>\n",
       "      <td>Winter</td>\n",
       "      <td>0</td>\n",
       "      <td>True</td>\n",
       "      <td>257</td>\n",
       "      <td>0</td>\n",
       "      <td>Freezing</td>\n",
       "      <td>False</td>\n",
       "      <td>0</td>\n",
       "    </tr>\n",
       "    <tr>\n",
       "      <th>1</th>\n",
       "      <td>2017-12-01</td>\n",
       "      <td>1</td>\n",
       "      <td>-5.5</td>\n",
       "      <td>38</td>\n",
       "      <td>0.8</td>\n",
       "      <td>0.0</td>\n",
       "      <td>0.0</td>\n",
       "      <td>Winter</td>\n",
       "      <td>0</td>\n",
       "      <td>True</td>\n",
       "      <td>219</td>\n",
       "      <td>0</td>\n",
       "      <td>Freezing</td>\n",
       "      <td>False</td>\n",
       "      <td>0</td>\n",
       "    </tr>\n",
       "    <tr>\n",
       "      <th>2</th>\n",
       "      <td>2017-12-01</td>\n",
       "      <td>2</td>\n",
       "      <td>-6.0</td>\n",
       "      <td>39</td>\n",
       "      <td>1.0</td>\n",
       "      <td>0.0</td>\n",
       "      <td>0.0</td>\n",
       "      <td>Winter</td>\n",
       "      <td>0</td>\n",
       "      <td>True</td>\n",
       "      <td>162</td>\n",
       "      <td>0</td>\n",
       "      <td>Freezing</td>\n",
       "      <td>False</td>\n",
       "      <td>0</td>\n",
       "    </tr>\n",
       "    <tr>\n",
       "      <th>3</th>\n",
       "      <td>2017-12-01</td>\n",
       "      <td>3</td>\n",
       "      <td>-6.2</td>\n",
       "      <td>40</td>\n",
       "      <td>0.9</td>\n",
       "      <td>0.0</td>\n",
       "      <td>0.0</td>\n",
       "      <td>Winter</td>\n",
       "      <td>0</td>\n",
       "      <td>True</td>\n",
       "      <td>148</td>\n",
       "      <td>1</td>\n",
       "      <td>Freezing</td>\n",
       "      <td>False</td>\n",
       "      <td>0</td>\n",
       "    </tr>\n",
       "    <tr>\n",
       "      <th>4</th>\n",
       "      <td>2017-12-01</td>\n",
       "      <td>4</td>\n",
       "      <td>-6.0</td>\n",
       "      <td>36</td>\n",
       "      <td>2.3</td>\n",
       "      <td>0.0</td>\n",
       "      <td>0.0</td>\n",
       "      <td>Winter</td>\n",
       "      <td>0</td>\n",
       "      <td>True</td>\n",
       "      <td>97</td>\n",
       "      <td>0</td>\n",
       "      <td>Freezing</td>\n",
       "      <td>False</td>\n",
       "      <td>0</td>\n",
       "    </tr>\n",
       "  </tbody>\n",
       "</table>\n",
       "</div>"
      ],
      "text/plain": [
       "         Date  Hour  Temperature  Humidity  Wind speed  Rainfall  Snowfall  \\\n",
       "0  2017-12-01     0         -5.2        37         2.2       0.0       0.0   \n",
       "1  2017-12-01     1         -5.5        38         0.8       0.0       0.0   \n",
       "2  2017-12-01     2         -6.0        39         1.0       0.0       0.0   \n",
       "3  2017-12-01     3         -6.2        40         0.9       0.0       0.0   \n",
       "4  2017-12-01     4         -6.0        36         2.3       0.0       0.0   \n",
       "\n",
       "  Seasons  Holiday  Functioning Day  Rental Count  Normal Humidity  \\\n",
       "0  Winter        0             True           257                0   \n",
       "1  Winter        0             True           219                0   \n",
       "2  Winter        0             True           162                0   \n",
       "3  Winter        0             True           148                1   \n",
       "4  Winter        0             True            97                0   \n",
       "\n",
       "  Temperature Category  Windy  Good Weather  \n",
       "0             Freezing  False             0  \n",
       "1             Freezing  False             0  \n",
       "2             Freezing  False             0  \n",
       "3             Freezing  False             0  \n",
       "4             Freezing  False             0  "
      ]
     },
     "execution_count": 1,
     "metadata": {},
     "output_type": "execute_result"
    }
   ],
   "source": [
    "import pandas as pd\n",
    "\n",
    "bikes = pd.read_csv('data/BikesDataVars.csv')\n",
    "bikes.head()"
   ]
  },
  {
   "cell_type": "code",
   "execution_count": 2,
   "metadata": {},
   "outputs": [],
   "source": [
    "import numpy as np"
   ]
  },
  {
   "cell_type": "code",
   "execution_count": 3,
   "metadata": {},
   "outputs": [
    {
     "data": {
      "text/html": [
       "<div>\n",
       "<style scoped>\n",
       "    .dataframe tbody tr th:only-of-type {\n",
       "        vertical-align: middle;\n",
       "    }\n",
       "\n",
       "    .dataframe tbody tr th {\n",
       "        vertical-align: top;\n",
       "    }\n",
       "\n",
       "    .dataframe thead th {\n",
       "        text-align: right;\n",
       "    }\n",
       "</style>\n",
       "<table border=\"1\" class=\"dataframe\">\n",
       "  <thead>\n",
       "    <tr style=\"text-align: right;\">\n",
       "      <th></th>\n",
       "      <th>Hour</th>\n",
       "      <th>Temperature</th>\n",
       "      <th>Humidity</th>\n",
       "      <th>Wind speed</th>\n",
       "      <th>Rainfall</th>\n",
       "      <th>Snowfall</th>\n",
       "      <th>Holiday</th>\n",
       "      <th>Rental Count</th>\n",
       "      <th>Normal Humidity</th>\n",
       "      <th>Good Weather</th>\n",
       "    </tr>\n",
       "  </thead>\n",
       "  <tbody>\n",
       "    <tr>\n",
       "      <th>count</th>\n",
       "      <td>8760.000000</td>\n",
       "      <td>8581.000000</td>\n",
       "      <td>8760.000000</td>\n",
       "      <td>8760.000000</td>\n",
       "      <td>8760.000000</td>\n",
       "      <td>8760.000000</td>\n",
       "      <td>8760.000000</td>\n",
       "      <td>8760.000000</td>\n",
       "      <td>8760.00000</td>\n",
       "      <td>8760.000000</td>\n",
       "    </tr>\n",
       "    <tr>\n",
       "      <th>mean</th>\n",
       "      <td>11.500000</td>\n",
       "      <td>12.878557</td>\n",
       "      <td>58.226256</td>\n",
       "      <td>1.724909</td>\n",
       "      <td>0.148687</td>\n",
       "      <td>0.075068</td>\n",
       "      <td>0.049315</td>\n",
       "      <td>696.582078</td>\n",
       "      <td>0.34532</td>\n",
       "      <td>0.092694</td>\n",
       "    </tr>\n",
       "    <tr>\n",
       "      <th>std</th>\n",
       "      <td>6.922582</td>\n",
       "      <td>11.955551</td>\n",
       "      <td>20.362413</td>\n",
       "      <td>1.036300</td>\n",
       "      <td>1.128193</td>\n",
       "      <td>0.436746</td>\n",
       "      <td>0.216537</td>\n",
       "      <td>749.812613</td>\n",
       "      <td>0.47550</td>\n",
       "      <td>0.290020</td>\n",
       "    </tr>\n",
       "    <tr>\n",
       "      <th>min</th>\n",
       "      <td>0.000000</td>\n",
       "      <td>-17.800000</td>\n",
       "      <td>0.000000</td>\n",
       "      <td>0.000000</td>\n",
       "      <td>0.000000</td>\n",
       "      <td>0.000000</td>\n",
       "      <td>0.000000</td>\n",
       "      <td>0.000000</td>\n",
       "      <td>0.00000</td>\n",
       "      <td>0.000000</td>\n",
       "    </tr>\n",
       "    <tr>\n",
       "      <th>25%</th>\n",
       "      <td>5.750000</td>\n",
       "      <td>3.400000</td>\n",
       "      <td>42.000000</td>\n",
       "      <td>0.900000</td>\n",
       "      <td>0.000000</td>\n",
       "      <td>0.000000</td>\n",
       "      <td>0.000000</td>\n",
       "      <td>157.000000</td>\n",
       "      <td>0.00000</td>\n",
       "      <td>0.000000</td>\n",
       "    </tr>\n",
       "    <tr>\n",
       "      <th>50%</th>\n",
       "      <td>11.500000</td>\n",
       "      <td>13.700000</td>\n",
       "      <td>57.000000</td>\n",
       "      <td>1.500000</td>\n",
       "      <td>0.000000</td>\n",
       "      <td>0.000000</td>\n",
       "      <td>0.000000</td>\n",
       "      <td>425.500000</td>\n",
       "      <td>0.00000</td>\n",
       "      <td>0.000000</td>\n",
       "    </tr>\n",
       "    <tr>\n",
       "      <th>75%</th>\n",
       "      <td>17.250000</td>\n",
       "      <td>22.500000</td>\n",
       "      <td>74.000000</td>\n",
       "      <td>2.300000</td>\n",
       "      <td>0.000000</td>\n",
       "      <td>0.000000</td>\n",
       "      <td>0.000000</td>\n",
       "      <td>1009.000000</td>\n",
       "      <td>1.00000</td>\n",
       "      <td>0.000000</td>\n",
       "    </tr>\n",
       "    <tr>\n",
       "      <th>max</th>\n",
       "      <td>23.000000</td>\n",
       "      <td>39.400000</td>\n",
       "      <td>98.000000</td>\n",
       "      <td>7.400000</td>\n",
       "      <td>35.000000</td>\n",
       "      <td>8.800000</td>\n",
       "      <td>1.000000</td>\n",
       "      <td>6012.000000</td>\n",
       "      <td>1.00000</td>\n",
       "      <td>1.000000</td>\n",
       "    </tr>\n",
       "  </tbody>\n",
       "</table>\n",
       "</div>"
      ],
      "text/plain": [
       "              Hour  Temperature     Humidity   Wind speed     Rainfall  \\\n",
       "count  8760.000000  8581.000000  8760.000000  8760.000000  8760.000000   \n",
       "mean     11.500000    12.878557    58.226256     1.724909     0.148687   \n",
       "std       6.922582    11.955551    20.362413     1.036300     1.128193   \n",
       "min       0.000000   -17.800000     0.000000     0.000000     0.000000   \n",
       "25%       5.750000     3.400000    42.000000     0.900000     0.000000   \n",
       "50%      11.500000    13.700000    57.000000     1.500000     0.000000   \n",
       "75%      17.250000    22.500000    74.000000     2.300000     0.000000   \n",
       "max      23.000000    39.400000    98.000000     7.400000    35.000000   \n",
       "\n",
       "          Snowfall      Holiday  Rental Count  Normal Humidity  Good Weather  \n",
       "count  8760.000000  8760.000000   8760.000000       8760.00000   8760.000000  \n",
       "mean      0.075068     0.049315    696.582078          0.34532      0.092694  \n",
       "std       0.436746     0.216537    749.812613          0.47550      0.290020  \n",
       "min       0.000000     0.000000      0.000000          0.00000      0.000000  \n",
       "25%       0.000000     0.000000    157.000000          0.00000      0.000000  \n",
       "50%       0.000000     0.000000    425.500000          0.00000      0.000000  \n",
       "75%       0.000000     0.000000   1009.000000          1.00000      0.000000  \n",
       "max       8.800000     1.000000   6012.000000          1.00000      1.000000  "
      ]
     },
     "execution_count": 3,
     "metadata": {},
     "output_type": "execute_result"
    }
   ],
   "source": [
    "bikes.describe()"
   ]
  },
  {
   "cell_type": "code",
   "execution_count": 4,
   "metadata": {},
   "outputs": [
    {
     "data": {
      "text/plain": [
       "12.878557277706562"
      ]
     },
     "execution_count": 4,
     "metadata": {},
     "output_type": "execute_result"
    }
   ],
   "source": [
    "# среднее\n",
    "bikes['Temperature'].mean()"
   ]
  },
  {
   "cell_type": "code",
   "execution_count": 5,
   "metadata": {},
   "outputs": [
    {
     "data": {
      "text/plain": [
       "13.7"
      ]
     },
     "execution_count": 5,
     "metadata": {},
     "output_type": "execute_result"
    }
   ],
   "source": [
    "# медиана\n",
    "bikes['Temperature'].median()"
   ]
  },
  {
   "cell_type": "code",
   "execution_count": 6,
   "metadata": {},
   "outputs": [
    {
     "name": "stdout",
     "output_type": "stream",
     "text": [
      "8760\n",
      "57.0\n"
     ]
    }
   ],
   "source": [
    "# как найти медиану руками (для тренировки)\n",
    "hum_sorted = bikes['Humidity'].sort_values().reset_index(drop=True)\n",
    "print(len(hum_sorted))\n",
    "ind_1, ind_2 = int(len(hum_sorted)/2), int(len(hum_sorted)/2 + 1)\n",
    "print((hum_sorted[ind_1] + hum_sorted[ind_2]) / 2)"
   ]
  },
  {
   "cell_type": "code",
   "execution_count": 7,
   "metadata": {},
   "outputs": [
    {
     "data": {
      "text/plain": [
       "0    53\n",
       "1    97\n",
       "Name: Humidity, dtype: int64"
      ]
     },
     "execution_count": 7,
     "metadata": {},
     "output_type": "execute_result"
    }
   ],
   "source": [
    "# мода\n",
    "bikes['Humidity'].mode()"
   ]
  },
  {
   "cell_type": "code",
   "execution_count": 8,
   "metadata": {},
   "outputs": [
    {
     "data": {
      "text/plain": [
       "Humidity\n",
       "53    173\n",
       "97    173\n",
       "43    164\n",
       "57    159\n",
       "56    157\n",
       "     ... \n",
       "19     11\n",
       "13      3\n",
       "10      1\n",
       "12      1\n",
       "11      1\n",
       "Name: count, Length: 90, dtype: int64"
      ]
     },
     "execution_count": 8,
     "metadata": {},
     "output_type": "execute_result"
    }
   ],
   "source": [
    "# как найти моду руками\n",
    "bikes['Humidity'].value_counts()  # и смотреть на самые верхние"
   ]
  },
  {
   "cell_type": "code",
   "execution_count": 9,
   "metadata": {},
   "outputs": [
    {
     "data": {
      "text/plain": [
       "<Axes: >"
      ]
     },
     "execution_count": 9,
     "metadata": {},
     "output_type": "execute_result"
    },
    {
     "data": {
      "image/png": "[encoded data removed]",
      "text/plain": [
       "<Figure size 640x480 with 1 Axes>"
      ]
     },
     "metadata": {},
     "output_type": "display_data"
    }
   ],
   "source": [
    "bikes['Humidity'].hist(bins=100)"
   ]
  },
  {
   "cell_type": "code",
   "execution_count": 10,
   "metadata": {},
   "outputs": [
    {
     "data": {
      "text/plain": [
       "Hour\n",
       "0      558.178082\n",
       "1      415.720548\n",
       "2      319.767123\n",
       "3      201.010959\n",
       "4      122.838356\n",
       "5      135.863014\n",
       "6      283.654795\n",
       "7      612.646575\n",
       "8      979.838356\n",
       "9      642.136986\n",
       "10     519.123288\n",
       "11     585.336986\n",
       "12     710.534247\n",
       "13     700.706849\n",
       "14     747.147945\n",
       "15     796.084932\n",
       "16     938.032877\n",
       "17    1128.873973\n",
       "18    1518.983562\n",
       "19    1168.328767\n",
       "20    1069.698630\n",
       "21     997.942466\n",
       "22     893.621918\n",
       "23     671.898630\n",
       "Name: Rental Count, dtype: float64"
      ]
     },
     "execution_count": 10,
     "metadata": {},
     "output_type": "execute_result"
    }
   ],
   "source": [
    "# в какой час сколько в среднем берут велосипедов?\n",
    "bikes.groupby('Hour')['Rental Count'].mean()"
   ]
  },
  {
   "cell_type": "code",
   "execution_count": 13,
   "metadata": {},
   "outputs": [
    {
     "data": {
      "text/plain": [
       "<Axes: xlabel='Hour'>"
      ]
     },
     "execution_count": 13,
     "metadata": {},
     "output_type": "execute_result"
    },
    {
     "data": {
      "image/png": "[encoded data removed]",
      "text/plain": [
       "<Figure size 640x480 with 1 Axes>"
      ]
     },
     "metadata": {},
     "output_type": "display_data"
    }
   ],
   "source": [
    "bikes.groupby('Hour')['Rental Count'].mean().plot(kind='bar')"
   ]
  },
  {
   "cell_type": "code",
   "execution_count": 14,
   "metadata": {},
   "outputs": [
    {
     "data": {
      "text/plain": [
       "Hour  Good Weather\n",
       "0     0                514.797619\n",
       "      1               1060.793103\n",
       "1     0                399.179941\n",
       "      1                631.384615\n",
       "2     0                304.476608\n",
       "      1                547.130435\n",
       "3     0                193.178161\n",
       "      1                361.352941\n",
       "4     0                119.467236\n",
       "      1                207.357143\n",
       "5     0                131.218487\n",
       "      1                343.125000\n",
       "6     0                279.243017\n",
       "      1                509.285714\n",
       "7     0                604.888571\n",
       "      1                793.666667\n",
       "8     0                957.336336\n",
       "      1               1214.000000\n",
       "9     0                598.072327\n",
       "      1                940.276596\n",
       "10    0                478.721154\n",
       "      1                756.962264\n",
       "11    0                514.022801\n",
       "      1                962.810345\n",
       "12    0                664.558065\n",
       "      1                969.672727\n",
       "13    0                674.304075\n",
       "      1                883.804348\n",
       "14    0                736.636905\n",
       "      1                868.931034\n",
       "15    0                795.384615\n",
       "      1                804.851852\n",
       "16    0                935.814925\n",
       "      1                962.800000\n",
       "17    0               1082.452599\n",
       "      1               1528.342105\n",
       "18    0               1410.716981\n",
       "      1               2251.510638\n",
       "19    0               1054.064725\n",
       "      1               1798.821429\n",
       "20    0                961.383178\n",
       "      1               1859.909091\n",
       "21    0                922.609231\n",
       "      1               1610.025000\n",
       "22    0                831.304878\n",
       "      1               1446.054054\n",
       "23    0                634.060423\n",
       "      1               1040.264706\n",
       "Name: Rental Count, dtype: float64"
      ]
     },
     "execution_count": 14,
     "metadata": {},
     "output_type": "execute_result"
    }
   ],
   "source": [
    "# в какой час сколько\n",
    "# в зависимости от наличия Good Weather?\n",
    "# в среднем берут велосипедов\n",
    "bikes.groupby(['Hour', 'Good Weather'])['Rental Count'].mean()"
   ]
  },
  {
   "cell_type": "code",
   "execution_count": 15,
   "metadata": {},
   "outputs": [
    {
     "ename": "AttributeError",
     "evalue": "'SeriesGroupBy' object has no attribute 'mode'",
     "output_type": "error",
     "traceback": [
      "\u001b[0;31m---------------------------------------------------------------------------\u001b[0m",
      "\u001b[0;31mAttributeError\u001b[0m                            Traceback (most recent call last)",
      "Cell \u001b[0;32mIn[15], line 3\u001b[0m\n\u001b[1;32m      1\u001b[0m \u001b[38;5;66;03m# какая мода по 'Temperature Category' в каждом из сезонов?\u001b[39;00m\n\u001b[1;32m      2\u001b[0m \u001b[38;5;66;03m# вот так не работает\u001b[39;00m\n\u001b[0;32m----> 3\u001b[0m \u001b[43mbikes\u001b[49m\u001b[38;5;241;43m.\u001b[39;49m\u001b[43mgroupby\u001b[49m\u001b[43m(\u001b[49m\u001b[38;5;124;43m'\u001b[39;49m\u001b[38;5;124;43mSeasons\u001b[39;49m\u001b[38;5;124;43m'\u001b[39;49m\u001b[43m)\u001b[49m\u001b[43m[\u001b[49m\u001b[38;5;124;43m'\u001b[39;49m\u001b[38;5;124;43mTemperature Category\u001b[39;49m\u001b[38;5;124;43m'\u001b[39;49m\u001b[43m]\u001b[49m\u001b[38;5;241;43m.\u001b[39;49m\u001b[43mmode\u001b[49m()\n",
      "File \u001b[0;32m/Library/Frameworks/Python.framework/Versions/3.12/lib/python3.12/site-packages/pandas/core/groupby/groupby.py:1312\u001b[0m, in \u001b[0;36mGroupBy.__getattr__\u001b[0;34m(self, attr)\u001b[0m\n\u001b[1;32m   1309\u001b[0m \u001b[38;5;28;01mif\u001b[39;00m attr \u001b[38;5;129;01min\u001b[39;00m \u001b[38;5;28mself\u001b[39m\u001b[38;5;241m.\u001b[39mobj:\n\u001b[1;32m   1310\u001b[0m     \u001b[38;5;28;01mreturn\u001b[39;00m \u001b[38;5;28mself\u001b[39m[attr]\n\u001b[0;32m-> 1312\u001b[0m \u001b[38;5;28;01mraise\u001b[39;00m \u001b[38;5;167;01mAttributeError\u001b[39;00m(\n\u001b[1;32m   1313\u001b[0m     \u001b[38;5;124mf\u001b[39m\u001b[38;5;124m\"\u001b[39m\u001b[38;5;124m'\u001b[39m\u001b[38;5;132;01m{\u001b[39;00m\u001b[38;5;28mtype\u001b[39m(\u001b[38;5;28mself\u001b[39m)\u001b[38;5;241m.\u001b[39m\u001b[38;5;18m__name__\u001b[39m\u001b[38;5;132;01m}\u001b[39;00m\u001b[38;5;124m'\u001b[39m\u001b[38;5;124m object has no attribute \u001b[39m\u001b[38;5;124m'\u001b[39m\u001b[38;5;132;01m{\u001b[39;00mattr\u001b[38;5;132;01m}\u001b[39;00m\u001b[38;5;124m'\u001b[39m\u001b[38;5;124m\"\u001b[39m\n\u001b[1;32m   1314\u001b[0m )\n",
      "\u001b[0;31mAttributeError\u001b[0m: 'SeriesGroupBy' object has no attribute 'mode'"
     ]
    }
   ],
   "source": [
    "# какая мода по 'Temperature Category' в каждом из сезонов?\n",
    "# вот так не работает\n",
    "bikes.groupby('Seasons')['Temperature Category'].mode()"
   ]
  },
  {
   "cell_type": "code",
   "execution_count": 16,
   "metadata": {},
   "outputs": [
    {
     "data": {
      "text/plain": [
       "Seasons  Temperature Category\n",
       "Autumn   Chilly                  1138\n",
       "         Nice                     894\n",
       "         Hot                       86\n",
       "         Freezing                  20\n",
       "Spring   Chilly                  1224\n",
       "         Nice                     881\n",
       "         Hot                       27\n",
       "         Freezing                  22\n",
       "Summer   Hot                     1166\n",
       "         Nice                    1003\n",
       "Winter   Freezing                1370\n",
       "         Chilly                   750\n",
       "Name: count, dtype: int64"
      ]
     },
     "execution_count": 16,
     "metadata": {},
     "output_type": "execute_result"
    }
   ],
   "source": [
    "bikes.groupby('Seasons')['Temperature Category'].value_counts()"
   ]
  },
  {
   "cell_type": "markdown",
   "metadata": {},
   "source": [
    "`.agg()` - для агрегирования, применения функции(ий)"
   ]
  },
  {
   "cell_type": "code",
   "execution_count": 17,
   "metadata": {},
   "outputs": [
    {
     "data": {
      "text/plain": [
       "Seasons\n",
       "Autumn      Chilly\n",
       "Spring      Chilly\n",
       "Summer         Hot\n",
       "Winter    Freezing\n",
       "Name: Temperature Category, dtype: object"
      ]
     },
     "execution_count": 17,
     "metadata": {},
     "output_type": "execute_result"
    }
   ],
   "source": [
    "bikes.groupby('Seasons')['Temperature Category'].agg(pd.Series.mode)"
   ]
  },
  {
   "cell_type": "code",
   "execution_count": 18,
   "metadata": {},
   "outputs": [
    {
     "data": {
      "text/plain": [
       "Seasons\n",
       "Autumn      Chilly\n",
       "Spring      Chilly\n",
       "Summer         Hot\n",
       "Winter    Freezing\n",
       "Name: Temperature Category, dtype: object"
      ]
     },
     "execution_count": 18,
     "metadata": {},
     "output_type": "execute_result"
    }
   ],
   "source": [
    "def get_mode(x):  # не идеально, не позволяет получить больше одной моды\n",
    "    return x.value_counts().index[0]\n",
    "\n",
    "bikes.groupby('Seasons')['Temperature Category'].agg(get_mode)"
   ]
  },
  {
   "cell_type": "code",
   "execution_count": 19,
   "metadata": {},
   "outputs": [
    {
     "name": "stderr",
     "output_type": "stream",
     "text": [
      "/var/folders/1_/s37xgtqd321cb19nvw21b4t80000gn/T/ipykernel_69512/3262700180.py:1: FutureWarning: The provided callable <function mean at 0x111b8f420> is currently using SeriesGroupBy.mean. In a future version of pandas, the provided callable will be used directly. To keep current behavior pass the string \"mean\" instead.\n",
      "  bikes.groupby('Seasons')['Temperature'].agg(np.mean)\n"
     ]
    },
    {
     "data": {
      "text/plain": [
       "Seasons\n",
       "Autumn    14.138821\n",
       "Spring    13.038533\n",
       "Summer    26.574827\n",
       "Winter    -2.567783\n",
       "Name: Temperature, dtype: float64"
      ]
     },
     "execution_count": 19,
     "metadata": {},
     "output_type": "execute_result"
    }
   ],
   "source": [
    "bikes.groupby('Seasons')['Temperature'].agg(np.mean)"
   ]
  },
  {
   "cell_type": "code",
   "execution_count": 20,
   "metadata": {},
   "outputs": [
    {
     "data": {
      "text/plain": [
       "Seasons\n",
       "Autumn    14.138821\n",
       "Spring    13.038533\n",
       "Summer    26.574827\n",
       "Winter    -2.567783\n",
       "Name: Temperature, dtype: float64"
      ]
     },
     "execution_count": 20,
     "metadata": {},
     "output_type": "execute_result"
    }
   ],
   "source": [
    "# то же самое\n",
    "bikes.groupby('Seasons')['Temperature'].agg('mean')"
   ]
  },
  {
   "cell_type": "code",
   "execution_count": 21,
   "metadata": {},
   "outputs": [
    {
     "data": {
      "text/plain": [
       "Seasons\n",
       "Autumn    14.138821\n",
       "Spring    13.038533\n",
       "Summer    26.574827\n",
       "Winter    -2.567783\n",
       "Name: Temperature, dtype: float64"
      ]
     },
     "execution_count": 21,
     "metadata": {},
     "output_type": "execute_result"
    }
   ],
   "source": [
    "# то же самое\n",
    "bikes.groupby('Seasons')['Temperature'].mean()"
   ]
  },
  {
   "cell_type": "code",
   "execution_count": 22,
   "metadata": {},
   "outputs": [
    {
     "data": {
      "text/html": [
       "<div>\n",
       "<style scoped>\n",
       "    .dataframe tbody tr th:only-of-type {\n",
       "        vertical-align: middle;\n",
       "    }\n",
       "\n",
       "    .dataframe tbody tr th {\n",
       "        vertical-align: top;\n",
       "    }\n",
       "\n",
       "    .dataframe thead th {\n",
       "        text-align: right;\n",
       "    }\n",
       "</style>\n",
       "<table border=\"1\" class=\"dataframe\">\n",
       "  <thead>\n",
       "    <tr style=\"text-align: right;\">\n",
       "      <th></th>\n",
       "      <th>mean</th>\n",
       "      <th>median</th>\n",
       "    </tr>\n",
       "    <tr>\n",
       "      <th>Seasons</th>\n",
       "      <th></th>\n",
       "      <th></th>\n",
       "    </tr>\n",
       "  </thead>\n",
       "  <tbody>\n",
       "    <tr>\n",
       "      <th>Autumn</th>\n",
       "      <td>14.138821</td>\n",
       "      <td>13.8</td>\n",
       "    </tr>\n",
       "    <tr>\n",
       "      <th>Spring</th>\n",
       "      <td>13.038533</td>\n",
       "      <td>13.3</td>\n",
       "    </tr>\n",
       "    <tr>\n",
       "      <th>Summer</th>\n",
       "      <td>26.574827</td>\n",
       "      <td>26.6</td>\n",
       "    </tr>\n",
       "    <tr>\n",
       "      <th>Winter</th>\n",
       "      <td>-2.567783</td>\n",
       "      <td>-2.2</td>\n",
       "    </tr>\n",
       "  </tbody>\n",
       "</table>\n",
       "</div>"
      ],
      "text/plain": [
       "              mean  median\n",
       "Seasons                   \n",
       "Autumn   14.138821    13.8\n",
       "Spring   13.038533    13.3\n",
       "Summer   26.574827    26.6\n",
       "Winter   -2.567783    -2.2"
      ]
     },
     "execution_count": 22,
     "metadata": {},
     "output_type": "execute_result"
    }
   ],
   "source": [
    "# .agg() позволяет применить несколько функций сразу\n",
    "bikes.groupby('Seasons')['Temperature'].agg(func=['mean', 'median'])"
   ]
  },
  {
   "cell_type": "markdown",
   "metadata": {},
   "source": [
    "`.pivot_table()` - сводная таблица\n",
    "\n",
    "[вот тут картинка про сводные таблицы и синтаксис](http://dfedorov.spb.ru/pandas/%D0%A1%D0%B2%D0%BE%D0%B4%D0%BD%D0%B0%D1%8F%20%D1%82%D0%B0%D0%B1%D0%BB%D0%B8%D1%86%D0%B0%20%D0%B2%20pandas.html)"
   ]
  },
  {
   "cell_type": "code",
   "execution_count": 23,
   "metadata": {},
   "outputs": [
    {
     "data": {
      "text/html": [
       "<div>\n",
       "<style scoped>\n",
       "    .dataframe tbody tr th:only-of-type {\n",
       "        vertical-align: middle;\n",
       "    }\n",
       "\n",
       "    .dataframe tbody tr th {\n",
       "        vertical-align: top;\n",
       "    }\n",
       "\n",
       "    .dataframe thead tr th {\n",
       "        text-align: left;\n",
       "    }\n",
       "\n",
       "    .dataframe thead tr:last-of-type th {\n",
       "        text-align: right;\n",
       "    }\n",
       "</style>\n",
       "<table border=\"1\" class=\"dataframe\">\n",
       "  <thead>\n",
       "    <tr>\n",
       "      <th></th>\n",
       "      <th colspan=\"2\" halign=\"left\">mean</th>\n",
       "      <th colspan=\"2\" halign=\"left\">median</th>\n",
       "    </tr>\n",
       "    <tr>\n",
       "      <th></th>\n",
       "      <th>Rental Count</th>\n",
       "      <th>Temperature</th>\n",
       "      <th>Rental Count</th>\n",
       "      <th>Temperature</th>\n",
       "    </tr>\n",
       "    <tr>\n",
       "      <th>Hour</th>\n",
       "      <th></th>\n",
       "      <th></th>\n",
       "      <th></th>\n",
       "      <th></th>\n",
       "    </tr>\n",
       "  </thead>\n",
       "  <tbody>\n",
       "    <tr>\n",
       "      <th>0</th>\n",
       "      <td>558.178082</td>\n",
       "      <td>11.253652</td>\n",
       "      <td>433.0</td>\n",
       "      <td>11.80</td>\n",
       "    </tr>\n",
       "    <tr>\n",
       "      <th>1</th>\n",
       "      <td>415.720548</td>\n",
       "      <td>10.972145</td>\n",
       "      <td>329.0</td>\n",
       "      <td>11.50</td>\n",
       "    </tr>\n",
       "    <tr>\n",
       "      <th>2</th>\n",
       "      <td>319.767123</td>\n",
       "      <td>10.542535</td>\n",
       "      <td>239.0</td>\n",
       "      <td>10.90</td>\n",
       "    </tr>\n",
       "    <tr>\n",
       "      <th>3</th>\n",
       "      <td>201.010959</td>\n",
       "      <td>10.355462</td>\n",
       "      <td>165.0</td>\n",
       "      <td>10.70</td>\n",
       "    </tr>\n",
       "    <tr>\n",
       "      <th>4</th>\n",
       "      <td>122.838356</td>\n",
       "      <td>10.069859</td>\n",
       "      <td>94.0</td>\n",
       "      <td>10.40</td>\n",
       "    </tr>\n",
       "    <tr>\n",
       "      <th>5</th>\n",
       "      <td>135.863014</td>\n",
       "      <td>9.849580</td>\n",
       "      <td>107.0</td>\n",
       "      <td>10.00</td>\n",
       "    </tr>\n",
       "    <tr>\n",
       "      <th>6</th>\n",
       "      <td>283.654795</td>\n",
       "      <td>9.763944</td>\n",
       "      <td>193.0</td>\n",
       "      <td>10.00</td>\n",
       "    </tr>\n",
       "    <tr>\n",
       "      <th>7</th>\n",
       "      <td>612.646575</td>\n",
       "      <td>9.454062</td>\n",
       "      <td>410.0</td>\n",
       "      <td>9.60</td>\n",
       "    </tr>\n",
       "    <tr>\n",
       "      <th>8</th>\n",
       "      <td>979.838356</td>\n",
       "      <td>9.988515</td>\n",
       "      <td>762.0</td>\n",
       "      <td>10.40</td>\n",
       "    </tr>\n",
       "    <tr>\n",
       "      <th>9</th>\n",
       "      <td>642.136986</td>\n",
       "      <td>11.459669</td>\n",
       "      <td>519.0</td>\n",
       "      <td>12.10</td>\n",
       "    </tr>\n",
       "    <tr>\n",
       "      <th>10</th>\n",
       "      <td>519.123288</td>\n",
       "      <td>12.766947</td>\n",
       "      <td>414.0</td>\n",
       "      <td>14.00</td>\n",
       "    </tr>\n",
       "    <tr>\n",
       "      <th>11</th>\n",
       "      <td>585.336986</td>\n",
       "      <td>14.285434</td>\n",
       "      <td>485.0</td>\n",
       "      <td>16.40</td>\n",
       "    </tr>\n",
       "    <tr>\n",
       "      <th>12</th>\n",
       "      <td>710.534247</td>\n",
       "      <td>15.417175</td>\n",
       "      <td>572.0</td>\n",
       "      <td>17.40</td>\n",
       "    </tr>\n",
       "    <tr>\n",
       "      <th>13</th>\n",
       "      <td>700.706849</td>\n",
       "      <td>16.184765</td>\n",
       "      <td>586.0</td>\n",
       "      <td>18.30</td>\n",
       "    </tr>\n",
       "    <tr>\n",
       "      <th>14</th>\n",
       "      <td>747.147945</td>\n",
       "      <td>16.862360</td>\n",
       "      <td>567.0</td>\n",
       "      <td>19.10</td>\n",
       "    </tr>\n",
       "    <tr>\n",
       "      <th>15</th>\n",
       "      <td>796.084932</td>\n",
       "      <td>17.084358</td>\n",
       "      <td>678.0</td>\n",
       "      <td>19.20</td>\n",
       "    </tr>\n",
       "    <tr>\n",
       "      <th>16</th>\n",
       "      <td>938.032877</td>\n",
       "      <td>16.821652</td>\n",
       "      <td>804.0</td>\n",
       "      <td>18.80</td>\n",
       "    </tr>\n",
       "    <tr>\n",
       "      <th>17</th>\n",
       "      <td>1128.873973</td>\n",
       "      <td>16.325281</td>\n",
       "      <td>899.0</td>\n",
       "      <td>18.40</td>\n",
       "    </tr>\n",
       "    <tr>\n",
       "      <th>18</th>\n",
       "      <td>1518.983562</td>\n",
       "      <td>15.255956</td>\n",
       "      <td>1154.0</td>\n",
       "      <td>16.80</td>\n",
       "    </tr>\n",
       "    <tr>\n",
       "      <th>19</th>\n",
       "      <td>1168.328767</td>\n",
       "      <td>14.254062</td>\n",
       "      <td>845.0</td>\n",
       "      <td>15.20</td>\n",
       "    </tr>\n",
       "    <tr>\n",
       "      <th>20</th>\n",
       "      <td>1069.698630</td>\n",
       "      <td>13.394460</td>\n",
       "      <td>721.0</td>\n",
       "      <td>14.10</td>\n",
       "    </tr>\n",
       "    <tr>\n",
       "      <th>21</th>\n",
       "      <td>997.942466</td>\n",
       "      <td>12.680165</td>\n",
       "      <td>688.0</td>\n",
       "      <td>13.40</td>\n",
       "    </tr>\n",
       "    <tr>\n",
       "      <th>22</th>\n",
       "      <td>893.621918</td>\n",
       "      <td>12.281461</td>\n",
       "      <td>649.0</td>\n",
       "      <td>12.95</td>\n",
       "    </tr>\n",
       "    <tr>\n",
       "      <th>23</th>\n",
       "      <td>671.898630</td>\n",
       "      <td>11.717416</td>\n",
       "      <td>516.0</td>\n",
       "      <td>12.25</td>\n",
       "    </tr>\n",
       "  </tbody>\n",
       "</table>\n",
       "</div>"
      ],
      "text/plain": [
       "             mean                   median            \n",
       "     Rental Count Temperature Rental Count Temperature\n",
       "Hour                                                  \n",
       "0      558.178082   11.253652        433.0       11.80\n",
       "1      415.720548   10.972145        329.0       11.50\n",
       "2      319.767123   10.542535        239.0       10.90\n",
       "3      201.010959   10.355462        165.0       10.70\n",
       "4      122.838356   10.069859         94.0       10.40\n",
       "5      135.863014    9.849580        107.0       10.00\n",
       "6      283.654795    9.763944        193.0       10.00\n",
       "7      612.646575    9.454062        410.0        9.60\n",
       "8      979.838356    9.988515        762.0       10.40\n",
       "9      642.136986   11.459669        519.0       12.10\n",
       "10     519.123288   12.766947        414.0       14.00\n",
       "11     585.336986   14.285434        485.0       16.40\n",
       "12     710.534247   15.417175        572.0       17.40\n",
       "13     700.706849   16.184765        586.0       18.30\n",
       "14     747.147945   16.862360        567.0       19.10\n",
       "15     796.084932   17.084358        678.0       19.20\n",
       "16     938.032877   16.821652        804.0       18.80\n",
       "17    1128.873973   16.325281        899.0       18.40\n",
       "18    1518.983562   15.255956       1154.0       16.80\n",
       "19    1168.328767   14.254062        845.0       15.20\n",
       "20    1069.698630   13.394460        721.0       14.10\n",
       "21     997.942466   12.680165        688.0       13.40\n",
       "22     893.621918   12.281461        649.0       12.95\n",
       "23     671.898630   11.717416        516.0       12.25"
      ]
     },
     "execution_count": 23,
     "metadata": {},
     "output_type": "execute_result"
    }
   ],
   "source": [
    "bikes.pivot_table(index='Hour', \n",
    "                  values=['Temperature', 'Rental Count'],\n",
    "                  aggfunc=['mean', 'median'])"
   ]
  },
  {
   "cell_type": "markdown",
   "metadata": {},
   "source": [
    "## Меры разброса"
   ]
  },
  {
   "cell_type": "code",
   "execution_count": 24,
   "metadata": {},
   "outputs": [],
   "source": [
    "bikes_hour = pd.DataFrame(bikes.groupby('Hour')['Rental Count'].sum())"
   ]
  },
  {
   "cell_type": "code",
   "execution_count": 25,
   "metadata": {},
   "outputs": [
    {
     "data": {
      "text/plain": [
       "<Axes: xlabel='Hour'>"
      ]
     },
     "execution_count": 25,
     "metadata": {},
     "output_type": "execute_result"
    },
    {
     "data": {
      "image/png": "[encoded data removed]",
      "text/plain": [
       "<Figure size 640x480 with 1 Axes>"
      ]
     },
     "metadata": {},
     "output_type": "display_data"
    }
   ],
   "source": [
    "bikes_hour.plot(kind='bar')"
   ]
  },
  {
   "cell_type": "code",
   "execution_count": 26,
   "metadata": {},
   "outputs": [
    {
     "data": {
      "text/plain": [
       "509593"
      ]
     },
     "execution_count": 26,
     "metadata": {},
     "output_type": "execute_result"
    }
   ],
   "source": [
    "# размах\n",
    "bikes_hour['Rental Count'].max() - bikes_hour['Rental Count'].min()"
   ]
  },
  {
   "cell_type": "code",
   "execution_count": 27,
   "metadata": {},
   "outputs": [
    {
     "name": "stdout",
     "output_type": "stream",
     "text": [
      "180044.5\n",
      "180044.5\n"
     ]
    }
   ],
   "source": [
    "# перцентили-квантили\n",
    "print(np.percentile(bikes_hour['Rental Count'], 25))\n",
    "print(np.quantile(bikes_hour['Rental Count'], 0.25))"
   ]
  },
  {
   "cell_type": "code",
   "execution_count": 28,
   "metadata": {},
   "outputs": [
    {
     "data": {
      "text/plain": [
       "166152.25"
      ]
     },
     "execution_count": 28,
     "metadata": {},
     "output_type": "execute_result"
    }
   ],
   "source": [
    "# интерквартильный размах\n",
    "np.percentile(bikes_hour['Rental Count'], 75) - np.percentile(bikes_hour['Rental Count'], 25)"
   ]
  },
  {
   "cell_type": "code",
   "execution_count": 29,
   "metadata": {},
   "outputs": [
    {
     "data": {
      "text/plain": [
       "<Axes: >"
      ]
     },
     "execution_count": 29,
     "metadata": {},
     "output_type": "execute_result"
    },
    {
     "data": {
      "image/png": "[encoded data removed]",
      "text/plain": [
       "<Figure size 640x480 with 1 Axes>"
      ]
     },
     "metadata": {},
     "output_type": "display_data"
    }
   ],
   "source": [
    "bikes_hour.boxplot(column=['Rental Count'])"
   ]
  },
  {
   "cell_type": "markdown",
   "metadata": {},
   "source": [
    "Дисперсия генеральной совокупности = (Σ(𝑋−μ)^2)/𝑁\n",
    "\n",
    "Дисперсия выборки = (Σ(𝑋−𝑀)^2)/(𝑛−1)\n",
    "\n",
    "μ и 𝑀 - обозначение ср.арифметического генеральной совокупности и выборки"
   ]
  },
  {
   "cell_type": "code",
   "execution_count": 30,
   "metadata": {},
   "outputs": [
    {
     "data": {
      "text/plain": [
       "16566399888.43297"
      ]
     },
     "execution_count": 30,
     "metadata": {},
     "output_type": "execute_result"
    }
   ],
   "source": [
    "# дисперсия выборки\n",
    "bikes_hour['Rental Count'].var()"
   ]
  },
  {
   "cell_type": "code",
   "execution_count": 31,
   "metadata": {},
   "outputs": [
    {
     "data": {
      "text/plain": [
       "128710.52749652209"
      ]
     },
     "execution_count": 31,
     "metadata": {},
     "output_type": "execute_result"
    }
   ],
   "source": [
    "# стандартное отклонение выборки (квадратный корень дисперсии выборки)\n",
    "bikes_hour['Rental Count'].std(ddof=1)"
   ]
  },
  {
   "cell_type": "code",
   "execution_count": 32,
   "metadata": {},
   "outputs": [
    {
     "name": "stdout",
     "output_type": "stream",
     "text": [
      "15876133226.41493\n",
      "126000.52867514061\n"
     ]
    }
   ],
   "source": [
    "# дисперсия и стандартное отклонение генеральной совокупности\n",
    "# ddof - кол-во степеней свободы (Используется в n-ddof)\n",
    "\n",
    "print(bikes_hour['Rental Count'].var(ddof=0))\n",
    "print(bikes_hour['Rental Count'].std(ddof=0))"
   ]
  },
  {
   "cell_type": "code",
   "execution_count": 33,
   "metadata": {},
   "outputs": [],
   "source": [
    "# функция для размаха\n",
    "def range_values(x):\n",
    "    return x.max() - x.min()"
   ]
  },
  {
   "cell_type": "code",
   "execution_count": 34,
   "metadata": {},
   "outputs": [
    {
     "data": {
      "text/html": [
       "<div>\n",
       "<style scoped>\n",
       "    .dataframe tbody tr th:only-of-type {\n",
       "        vertical-align: middle;\n",
       "    }\n",
       "\n",
       "    .dataframe tbody tr th {\n",
       "        vertical-align: top;\n",
       "    }\n",
       "\n",
       "    .dataframe thead tr th {\n",
       "        text-align: left;\n",
       "    }\n",
       "\n",
       "    .dataframe thead tr:last-of-type th {\n",
       "        text-align: right;\n",
       "    }\n",
       "</style>\n",
       "<table border=\"1\" class=\"dataframe\">\n",
       "  <thead>\n",
       "    <tr>\n",
       "      <th></th>\n",
       "      <th colspan=\"2\" halign=\"left\">mean</th>\n",
       "      <th colspan=\"2\" halign=\"left\">std</th>\n",
       "      <th colspan=\"2\" halign=\"left\">var</th>\n",
       "      <th colspan=\"2\" halign=\"left\">range_values</th>\n",
       "    </tr>\n",
       "    <tr>\n",
       "      <th></th>\n",
       "      <th>Rental Count</th>\n",
       "      <th>Temperature</th>\n",
       "      <th>Rental Count</th>\n",
       "      <th>Temperature</th>\n",
       "      <th>Rental Count</th>\n",
       "      <th>Temperature</th>\n",
       "      <th>Rental Count</th>\n",
       "      <th>Temperature</th>\n",
       "    </tr>\n",
       "    <tr>\n",
       "      <th>Hour</th>\n",
       "      <th></th>\n",
       "      <th></th>\n",
       "      <th></th>\n",
       "      <th></th>\n",
       "      <th></th>\n",
       "      <th></th>\n",
       "      <th></th>\n",
       "      <th></th>\n",
       "    </tr>\n",
       "  </thead>\n",
       "  <tbody>\n",
       "    <tr>\n",
       "      <th>0</th>\n",
       "      <td>558.178082</td>\n",
       "      <td>11.253652</td>\n",
       "      <td>455.016192</td>\n",
       "      <td>11.437803</td>\n",
       "      <td>2.070397e+05</td>\n",
       "      <td>130.823339</td>\n",
       "      <td>2059</td>\n",
       "      <td>48.0</td>\n",
       "    </tr>\n",
       "    <tr>\n",
       "      <th>1</th>\n",
       "      <td>415.720548</td>\n",
       "      <td>10.972145</td>\n",
       "      <td>338.058896</td>\n",
       "      <td>11.391632</td>\n",
       "      <td>1.142838e+05</td>\n",
       "      <td>129.769278</td>\n",
       "      <td>1485</td>\n",
       "      <td>47.8</td>\n",
       "    </tr>\n",
       "    <tr>\n",
       "      <th>2</th>\n",
       "      <td>319.767123</td>\n",
       "      <td>10.542535</td>\n",
       "      <td>268.797389</td>\n",
       "      <td>11.411300</td>\n",
       "      <td>7.225204e+04</td>\n",
       "      <td>130.217762</td>\n",
       "      <td>1950</td>\n",
       "      <td>47.5</td>\n",
       "    </tr>\n",
       "    <tr>\n",
       "      <th>3</th>\n",
       "      <td>201.010959</td>\n",
       "      <td>10.355462</td>\n",
       "      <td>162.601701</td>\n",
       "      <td>11.306762</td>\n",
       "      <td>2.643931e+04</td>\n",
       "      <td>127.842870</td>\n",
       "      <td>781</td>\n",
       "      <td>47.2</td>\n",
       "    </tr>\n",
       "    <tr>\n",
       "      <th>4</th>\n",
       "      <td>122.838356</td>\n",
       "      <td>10.069859</td>\n",
       "      <td>106.375778</td>\n",
       "      <td>11.284178</td>\n",
       "      <td>1.131581e+04</td>\n",
       "      <td>127.332677</td>\n",
       "      <td>608</td>\n",
       "      <td>47.5</td>\n",
       "    </tr>\n",
       "    <tr>\n",
       "      <th>5</th>\n",
       "      <td>135.863014</td>\n",
       "      <td>9.849580</td>\n",
       "      <td>113.191916</td>\n",
       "      <td>11.310231</td>\n",
       "      <td>1.281241e+04</td>\n",
       "      <td>127.921327</td>\n",
       "      <td>561</td>\n",
       "      <td>47.6</td>\n",
       "    </tr>\n",
       "    <tr>\n",
       "      <th>6</th>\n",
       "      <td>283.654795</td>\n",
       "      <td>9.763944</td>\n",
       "      <td>273.636723</td>\n",
       "      <td>11.323973</td>\n",
       "      <td>7.487706e+04</td>\n",
       "      <td>128.232369</td>\n",
       "      <td>1577</td>\n",
       "      <td>47.9</td>\n",
       "    </tr>\n",
       "    <tr>\n",
       "      <th>7</th>\n",
       "      <td>612.646575</td>\n",
       "      <td>9.454062</td>\n",
       "      <td>582.515881</td>\n",
       "      <td>11.487845</td>\n",
       "      <td>3.393248e+05</td>\n",
       "      <td>131.970580</td>\n",
       "      <td>2880</td>\n",
       "      <td>48.0</td>\n",
       "    </tr>\n",
       "    <tr>\n",
       "      <th>8</th>\n",
       "      <td>979.838356</td>\n",
       "      <td>9.988515</td>\n",
       "      <td>871.005983</td>\n",
       "      <td>11.931827</td>\n",
       "      <td>7.586514e+05</td>\n",
       "      <td>142.368491</td>\n",
       "      <td>4438</td>\n",
       "      <td>49.6</td>\n",
       "    </tr>\n",
       "    <tr>\n",
       "      <th>9</th>\n",
       "      <td>642.136986</td>\n",
       "      <td>11.459669</td>\n",
       "      <td>500.018849</td>\n",
       "      <td>12.199029</td>\n",
       "      <td>2.500188e+05</td>\n",
       "      <td>148.816319</td>\n",
       "      <td>2318</td>\n",
       "      <td>50.5</td>\n",
       "    </tr>\n",
       "    <tr>\n",
       "      <th>10</th>\n",
       "      <td>519.123288</td>\n",
       "      <td>12.766947</td>\n",
       "      <td>415.278139</td>\n",
       "      <td>12.148809</td>\n",
       "      <td>1.724559e+05</td>\n",
       "      <td>147.593567</td>\n",
       "      <td>1740</td>\n",
       "      <td>50.9</td>\n",
       "    </tr>\n",
       "    <tr>\n",
       "      <th>11</th>\n",
       "      <td>585.336986</td>\n",
       "      <td>14.285434</td>\n",
       "      <td>452.773454</td>\n",
       "      <td>12.038602</td>\n",
       "      <td>2.050038e+05</td>\n",
       "      <td>144.927933</td>\n",
       "      <td>2041</td>\n",
       "      <td>51.4</td>\n",
       "    </tr>\n",
       "    <tr>\n",
       "      <th>12</th>\n",
       "      <td>710.534247</td>\n",
       "      <td>15.417175</td>\n",
       "      <td>538.838247</td>\n",
       "      <td>11.929531</td>\n",
       "      <td>2.903467e+05</td>\n",
       "      <td>142.313704</td>\n",
       "      <td>2239</td>\n",
       "      <td>51.2</td>\n",
       "    </tr>\n",
       "    <tr>\n",
       "      <th>13</th>\n",
       "      <td>700.706849</td>\n",
       "      <td>16.184765</td>\n",
       "      <td>539.252891</td>\n",
       "      <td>11.833386</td>\n",
       "      <td>2.907937e+05</td>\n",
       "      <td>140.029017</td>\n",
       "      <td>2805</td>\n",
       "      <td>51.2</td>\n",
       "    </tr>\n",
       "    <tr>\n",
       "      <th>14</th>\n",
       "      <td>747.147945</td>\n",
       "      <td>16.862360</td>\n",
       "      <td>613.267340</td>\n",
       "      <td>11.825084</td>\n",
       "      <td>3.760968e+05</td>\n",
       "      <td>139.832607</td>\n",
       "      <td>3163</td>\n",
       "      <td>50.8</td>\n",
       "    </tr>\n",
       "    <tr>\n",
       "      <th>15</th>\n",
       "      <td>796.084932</td>\n",
       "      <td>17.084358</td>\n",
       "      <td>631.989742</td>\n",
       "      <td>11.872539</td>\n",
       "      <td>3.994110e+05</td>\n",
       "      <td>140.957178</td>\n",
       "      <td>3194</td>\n",
       "      <td>50.7</td>\n",
       "    </tr>\n",
       "    <tr>\n",
       "      <th>16</th>\n",
       "      <td>938.032877</td>\n",
       "      <td>16.821652</td>\n",
       "      <td>744.642450</td>\n",
       "      <td>11.798065</td>\n",
       "      <td>5.544924e+05</td>\n",
       "      <td>139.194330</td>\n",
       "      <td>3671</td>\n",
       "      <td>50.6</td>\n",
       "    </tr>\n",
       "    <tr>\n",
       "      <th>17</th>\n",
       "      <td>1128.873973</td>\n",
       "      <td>16.325281</td>\n",
       "      <td>935.173622</td>\n",
       "      <td>12.080028</td>\n",
       "      <td>8.745497e+05</td>\n",
       "      <td>145.927077</td>\n",
       "      <td>4450</td>\n",
       "      <td>50.8</td>\n",
       "    </tr>\n",
       "    <tr>\n",
       "      <th>18</th>\n",
       "      <td>1518.983562</td>\n",
       "      <td>15.255956</td>\n",
       "      <td>1286.770715</td>\n",
       "      <td>12.154047</td>\n",
       "      <td>1.655779e+06</td>\n",
       "      <td>147.720860</td>\n",
       "      <td>6012</td>\n",
       "      <td>50.8</td>\n",
       "    </tr>\n",
       "    <tr>\n",
       "      <th>19</th>\n",
       "      <td>1168.328767</td>\n",
       "      <td>14.254062</td>\n",
       "      <td>1088.371072</td>\n",
       "      <td>11.847401</td>\n",
       "      <td>1.184552e+06</td>\n",
       "      <td>140.360917</td>\n",
       "      <td>5418</td>\n",
       "      <td>49.9</td>\n",
       "    </tr>\n",
       "    <tr>\n",
       "      <th>20</th>\n",
       "      <td>1069.698630</td>\n",
       "      <td>13.394460</td>\n",
       "      <td>995.999725</td>\n",
       "      <td>11.656540</td>\n",
       "      <td>9.920155e+05</td>\n",
       "      <td>135.874914</td>\n",
       "      <td>3857</td>\n",
       "      <td>48.8</td>\n",
       "    </tr>\n",
       "    <tr>\n",
       "      <th>21</th>\n",
       "      <td>997.942466</td>\n",
       "      <td>12.680165</td>\n",
       "      <td>916.900635</td>\n",
       "      <td>11.480006</td>\n",
       "      <td>8.407068e+05</td>\n",
       "      <td>131.790545</td>\n",
       "      <td>4373</td>\n",
       "      <td>48.0</td>\n",
       "    </tr>\n",
       "    <tr>\n",
       "      <th>22</th>\n",
       "      <td>893.621918</td>\n",
       "      <td>12.281461</td>\n",
       "      <td>787.161188</td>\n",
       "      <td>11.480268</td>\n",
       "      <td>6.196227e+05</td>\n",
       "      <td>131.796557</td>\n",
       "      <td>3432</td>\n",
       "      <td>48.1</td>\n",
       "    </tr>\n",
       "    <tr>\n",
       "      <th>23</th>\n",
       "      <td>671.898630</td>\n",
       "      <td>11.717416</td>\n",
       "      <td>581.424225</td>\n",
       "      <td>11.345552</td>\n",
       "      <td>3.380541e+05</td>\n",
       "      <td>128.721555</td>\n",
       "      <td>2603</td>\n",
       "      <td>48.1</td>\n",
       "    </tr>\n",
       "  </tbody>\n",
       "</table>\n",
       "</div>"
      ],
      "text/plain": [
       "             mean                      std                       var  \\\n",
       "     Rental Count Temperature Rental Count Temperature  Rental Count   \n",
       "Hour                                                                   \n",
       "0      558.178082   11.253652   455.016192   11.437803  2.070397e+05   \n",
       "1      415.720548   10.972145   338.058896   11.391632  1.142838e+05   \n",
       "2      319.767123   10.542535   268.797389   11.411300  7.225204e+04   \n",
       "3      201.010959   10.355462   162.601701   11.306762  2.643931e+04   \n",
       "4      122.838356   10.069859   106.375778   11.284178  1.131581e+04   \n",
       "5      135.863014    9.849580   113.191916   11.310231  1.281241e+04   \n",
       "6      283.654795    9.763944   273.636723   11.323973  7.487706e+04   \n",
       "7      612.646575    9.454062   582.515881   11.487845  3.393248e+05   \n",
       "8      979.838356    9.988515   871.005983   11.931827  7.586514e+05   \n",
       "9      642.136986   11.459669   500.018849   12.199029  2.500188e+05   \n",
       "10     519.123288   12.766947   415.278139   12.148809  1.724559e+05   \n",
       "11     585.336986   14.285434   452.773454   12.038602  2.050038e+05   \n",
       "12     710.534247   15.417175   538.838247   11.929531  2.903467e+05   \n",
       "13     700.706849   16.184765   539.252891   11.833386  2.907937e+05   \n",
       "14     747.147945   16.862360   613.267340   11.825084  3.760968e+05   \n",
       "15     796.084932   17.084358   631.989742   11.872539  3.994110e+05   \n",
       "16     938.032877   16.821652   744.642450   11.798065  5.544924e+05   \n",
       "17    1128.873973   16.325281   935.173622   12.080028  8.745497e+05   \n",
       "18    1518.983562   15.255956  1286.770715   12.154047  1.655779e+06   \n",
       "19    1168.328767   14.254062  1088.371072   11.847401  1.184552e+06   \n",
       "20    1069.698630   13.394460   995.999725   11.656540  9.920155e+05   \n",
       "21     997.942466   12.680165   916.900635   11.480006  8.407068e+05   \n",
       "22     893.621918   12.281461   787.161188   11.480268  6.196227e+05   \n",
       "23     671.898630   11.717416   581.424225   11.345552  3.380541e+05   \n",
       "\n",
       "                 range_values              \n",
       "     Temperature Rental Count Temperature  \n",
       "Hour                                       \n",
       "0     130.823339         2059        48.0  \n",
       "1     129.769278         1485        47.8  \n",
       "2     130.217762         1950        47.5  \n",
       "3     127.842870          781        47.2  \n",
       "4     127.332677          608        47.5  \n",
       "5     127.921327          561        47.6  \n",
       "6     128.232369         1577        47.9  \n",
       "7     131.970580         2880        48.0  \n",
       "8     142.368491         4438        49.6  \n",
       "9     148.816319         2318        50.5  \n",
       "10    147.593567         1740        50.9  \n",
       "11    144.927933         2041        51.4  \n",
       "12    142.313704         2239        51.2  \n",
       "13    140.029017         2805        51.2  \n",
       "14    139.832607         3163        50.8  \n",
       "15    140.957178         3194        50.7  \n",
       "16    139.194330         3671        50.6  \n",
       "17    145.927077         4450        50.8  \n",
       "18    147.720860         6012        50.8  \n",
       "19    140.360917         5418        49.9  \n",
       "20    135.874914         3857        48.8  \n",
       "21    131.790545         4373        48.0  \n",
       "22    131.796557         3432        48.1  \n",
       "23    128.721555         2603        48.1  "
      ]
     },
     "execution_count": 34,
     "metadata": {},
     "output_type": "execute_result"
    }
   ],
   "source": [
    "# сводная таблица\n",
    "bikes.pivot_table(index='Hour', \n",
    "                  values=['Temperature', 'Rental Count'],\n",
    "                  aggfunc=['mean', 'std', 'var', range_values])"
   ]
  },
  {
   "cell_type": "markdown",
   "metadata": {},
   "source": [
    "## Выбросы\n",
    "\n",
    "Порог, после которого идут выбросы - договорённость.\n",
    "\n",
    "Обычно: до `Q1 - 1.5 * IQR` и после `Q3 + 1.5 * IQR`"
   ]
  },
  {
   "cell_type": "code",
   "execution_count": 35,
   "metadata": {},
   "outputs": [],
   "source": [
    "q1 = bikes['Rental Count'].quantile(0.25)\n",
    "q3 = bikes['Rental Count'].quantile(0.75)\n",
    "iqr = q3 - q1"
   ]
  },
  {
   "cell_type": "code",
   "execution_count": 36,
   "metadata": {},
   "outputs": [],
   "source": [
    "iqr_outlier_threshold_bottom = q1 - 1.5 * iqr\n",
    "iqr_outlier_threshold_up = q3 + 1.5 * iqr"
   ]
  },
  {
   "cell_type": "code",
   "execution_count": 37,
   "metadata": {},
   "outputs": [
    {
     "name": "stdout",
     "output_type": "stream",
     "text": [
      "-1121.0\n",
      "2287.0\n"
     ]
    }
   ],
   "source": [
    "# границы\n",
    "print(iqr_outlier_threshold_bottom)\n",
    "print(iqr_outlier_threshold_up)"
   ]
  },
  {
   "cell_type": "code",
   "execution_count": 38,
   "metadata": {},
   "outputs": [
    {
     "data": {
      "text/plain": [
       "(413, 15)"
      ]
     },
     "execution_count": 38,
     "metadata": {},
     "output_type": "execute_result"
    }
   ],
   "source": [
    "# сколько выбросов?\n",
    "bikes[bikes['Rental Count'] > iqr_outlier_threshold_up].shape"
   ]
  },
  {
   "cell_type": "markdown",
   "metadata": {},
   "source": [
    "Иногда: от `mean - 3 * std` до `mean + 3 * std`"
   ]
  },
  {
   "cell_type": "code",
   "execution_count": 39,
   "metadata": {},
   "outputs": [],
   "source": [
    "mean = bikes['Rental Count'].mean()\n",
    "std = bikes['Rental Count'].std()\n",
    "std_outlier_threshold_bottom = mean - 2.5 * std  # а мы сделаем 2.5\n",
    "std_outlier_threshold_up = mean + 2.5 * std"
   ]
  },
  {
   "cell_type": "code",
   "execution_count": 40,
   "metadata": {},
   "outputs": [
    {
     "name": "stdout",
     "output_type": "stream",
     "text": [
      "-1177.949455164326\n",
      "2571.113610415468\n"
     ]
    }
   ],
   "source": [
    "# границы\n",
    "print(std_outlier_threshold_bottom)\n",
    "print(std_outlier_threshold_up)"
   ]
  },
  {
   "cell_type": "code",
   "execution_count": 41,
   "metadata": {},
   "outputs": [
    {
     "data": {
      "text/plain": [
       "(278, 15)"
      ]
     },
     "execution_count": 41,
     "metadata": {},
     "output_type": "execute_result"
    }
   ],
   "source": [
    "# сколько выбросов?\n",
    "bikes[bikes['Rental Count'] > std_outlier_threshold_up].shape"
   ]
  },
  {
   "cell_type": "markdown",
   "metadata": {},
   "source": [
    "Итого без выбросов:"
   ]
  },
  {
   "cell_type": "code",
   "execution_count": 42,
   "metadata": {},
   "outputs": [],
   "source": [
    "iqr_bikes_no_outliers = bikes[bikes['Rental Count'] <= iqr_outlier_threshold_up]\n",
    "std_bikes_no_outliers = bikes[bikes['Rental Count'] <= std_outlier_threshold_up]"
   ]
  },
  {
   "cell_type": "code",
   "execution_count": 43,
   "metadata": {},
   "outputs": [
    {
     "name": "stdout",
     "output_type": "stream",
     "text": [
      "696.5820776255708\n",
      "425.5\n",
      "584.146280100635\n",
      "392.0\n",
      "613.2393303466164\n",
      "402.0\n"
     ]
    }
   ],
   "source": [
    "print(bikes['Rental Count'].mean())  # с выбросами\n",
    "print(bikes['Rental Count'].median())  # с выбросами\n",
    "\n",
    "print(iqr_bikes_no_outliers['Rental Count'].mean())\n",
    "print(iqr_bikes_no_outliers['Rental Count'].median())\n",
    "\n",
    "print(std_bikes_no_outliers['Rental Count'].mean())\n",
    "print(std_bikes_no_outliers['Rental Count'].median())"
   ]
  },
  {
   "cell_type": "markdown",
   "metadata": {},
   "source": [
    "Когда мы убираем выбросы, разница между средним и медианой становится меньше."
   ]
  },
  {
   "cell_type": "code",
   "execution_count": 44,
   "metadata": {},
   "outputs": [
    {
     "name": "stdout",
     "output_type": "stream",
     "text": [
      "271.08207762557083\n",
      "192.14628010063495\n",
      "211.23933034661638\n"
     ]
    }
   ],
   "source": [
    "print(bikes['Rental Count'].mean() - bikes['Rental Count'].median())  # с выбросами\n",
    "\n",
    "print(iqr_bikes_no_outliers['Rental Count'].mean() - iqr_bikes_no_outliers['Rental Count'].median())\n",
    "\n",
    "print(std_bikes_no_outliers['Rental Count'].mean() - std_bikes_no_outliers['Rental Count'].median())"
   ]
  }
 ],
 "metadata": {
  "kernelspec": {
   "display_name": "Python 3 (ipykernel)",
   "language": "python",
   "name": "python3"
  },
  "language_info": {
   "codemirror_mode": {
    "name": "ipython",
    "version": 3
   },
   "file_extension": ".py",
   "mimetype": "text/x-python",
   "name": "python",
   "nbconvert_exporter": "python",
   "pygments_lexer": "ipython3",
   "version": "3.12.0"
  }
 },
 "nbformat": 4,
 "nbformat_minor": 4
}
