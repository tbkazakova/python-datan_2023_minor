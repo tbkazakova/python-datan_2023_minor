{
 "cells": [
  {
   "cell_type": "markdown",
   "id": "30e0b8aa-be64-4cf0-bda5-70e29e2d809d",
   "metadata": {},
   "source": [
    "# Регулярные выражения\n",
    "\n",
    "Регулярные выражения (RE, regexp) нужны, чтобы находить в строках подстроки не по точному вхождению, а описываемые *правилами-шаблонами*.\n",
    "\n",
    "Специальные символы, с помощью которых мы будем задавать правила поиска строк:\n",
    "- `.` один любой символ\n",
    "- `?` 0 или 1 вхождение предыдущего символа\n",
    "- `*` предыдущий символ повторяется ≥ 0 раз (0, 1, 2, 3 и т. д.)\n",
    "- `+` предыдущий символ повторяется ≥ 1 раз (1, 2, 3 и т. д.)\n",
    "- `^` начало строки\n",
    "- `$` конец строки\n",
    "- `[abc]` «или»: любой из символов а, b, c\n",
    "- `[а-я]` любая буква русского алфавита от «а» до «я» Внутри квадратных скобок большинство специальных символ не действуют: . обозначает точку, ? — вопросительный знак. Вне квадратных скобок, чтобы получить точку или, например, плюс, специальные символы надо экранировать с помощью \\ (`\\.`обозначает точку, `\\+` обозначает плюс).\n",
    "- `[^abc]` — отрицание: любой символ, кроме a, b, c.\n",
    "- `\\d` любая цифра, аналогично `[0-9]`\n",
    "- `\\D` — любой символ, кроме цифр (отрицание `\\d` или `[^0-9]`)\n",
    "- `\\w` — буквы, цифры, _ (то же, что `[a-zA-Z0-9_]`), `\\W` — всё кроме букв, цифр, _.\n",
    "- `\\s` — любой пробелоподбный символ (`[ \\t\\n\\r\\f\\v]`), `\\S` — любой непробелоподбный символ\n",
    "\n",
    "Всё о **модуле `re`**: https://docs.python.org/3/howto/regex.html\n",
    "\n",
    "Regex тренировка: https://regex101.com/\n"
   ]
  },
  {
   "cell_type": "code",
   "execution_count": 85,
   "id": "588a20ed-42d3-4e1a-8651-5cd6c21fd7a5",
   "metadata": {},
   "outputs": [],
   "source": [
    "import re"
   ]
  },
  {
   "cell_type": "markdown",
   "id": "35a0a34e-f0c3-468a-9d53-611cb681d1f3",
   "metadata": {},
   "source": [
    "**`re.search(pattern, string)`** - возвращает первое вхождение подстроки, которая подходит под регулярное выражение. re.search(что_ищем; где_ищем)"
   ]
  },
  {
   "cell_type": "code",
   "execution_count": 86,
   "id": "ed8f5f58-7188-4fc1-bcd6-5b90eab70a40",
   "metadata": {},
   "outputs": [
    {
     "data": {
      "text/plain": [
       "<re.Match object; span=(4, 8), match='кота'>"
      ]
     },
     "execution_count": 86,
     "metadata": {},
     "output_type": "execute_result"
    }
   ],
   "source": [
    "re.search('кот.', 'Кто кота найдёт, тот с котом, которого найдёт, время проведёт.')"
   ]
  },
  {
   "cell_type": "code",
   "execution_count": 87,
   "id": "596f9804-eb29-4443-8e5f-8a2865a61105",
   "metadata": {},
   "outputs": [
    {
     "data": {
      "text/plain": [
       "'кота'"
      ]
     },
     "execution_count": 87,
     "metadata": {},
     "output_type": "execute_result"
    }
   ],
   "source": [
    "re.search('кот.', 'Кто кота найдёт, тот с котом, которого найдёт, время проведёт.').group()"
   ]
  },
  {
   "cell_type": "markdown",
   "id": "f9602030-4e33-47a9-8c13-cc652e0b92a3",
   "metadata": {},
   "source": [
    "Но если по шаблону ничего не нашлось, `.group()` вызовет ошибку."
   ]
  },
  {
   "cell_type": "code",
   "execution_count": 6,
   "id": "7539857e-9016-4141-acf2-97a51ad61743",
   "metadata": {},
   "outputs": [
    {
     "ename": "AttributeError",
     "evalue": "'NoneType' object has no attribute 'group'",
     "output_type": "error",
     "traceback": [
      "\u001b[0;31m---------------------------------------------------------------------------\u001b[0m",
      "\u001b[0;31mAttributeError\u001b[0m                            Traceback (most recent call last)",
      "Cell \u001b[0;32mIn[6], line 1\u001b[0m\n\u001b[0;32m----> 1\u001b[0m \u001b[43mre\u001b[49m\u001b[38;5;241;43m.\u001b[39;49m\u001b[43msearch\u001b[49m\u001b[43m(\u001b[49m\u001b[38;5;124;43m'\u001b[39;49m\u001b[38;5;124;43mсобак.\u001b[39;49m\u001b[38;5;124;43m'\u001b[39;49m\u001b[43m,\u001b[49m\u001b[43m \u001b[49m\u001b[38;5;124;43m'\u001b[39;49m\u001b[38;5;124;43mКто кота найдёт, тот с котом, которого найдёт, время проведёт.\u001b[39;49m\u001b[38;5;124;43m'\u001b[39;49m\u001b[43m)\u001b[49m\u001b[38;5;241;43m.\u001b[39;49m\u001b[43mgroup\u001b[49m()\n",
      "\u001b[0;31mAttributeError\u001b[0m: 'NoneType' object has no attribute 'group'"
     ]
    }
   ],
   "source": [
    "re.search('собак.', 'Кто кота найдёт, тот с котом, которого найдёт, время проведёт.').group()"
   ]
  },
  {
   "cell_type": "markdown",
   "id": "f2ff9116-0903-40d2-89ec-e4e1a1370f7c",
   "metadata": {},
   "source": [
    "Поэтому для надёжности стоит проверять, нашлось ли что-то:"
   ]
  },
  {
   "cell_type": "code",
   "execution_count": 9,
   "id": "7a271e09-2f21-4f75-aa38-5dd5bae3f331",
   "metadata": {},
   "outputs": [
    {
     "name": "stdout",
     "output_type": "stream",
     "text": [
      "кота\n"
     ]
    }
   ],
   "source": [
    "first_match = re.search('кот.', 'Кто кота найдёт, тот с котом, которого найдёт, время проведёт.')\n",
    "if first_match:\n",
    "    print(first_match.group())\n",
    "else:\n",
    "    print('Nothing found.')"
   ]
  },
  {
   "cell_type": "markdown",
   "id": "bd1b948c-0fa8-42f5-aa08-9549ce40b93f",
   "metadata": {},
   "source": [
    "Что найдётся, если искать 'кот..'?"
   ]
  },
  {
   "cell_type": "code",
   "execution_count": 10,
   "id": "e397a0ed-bf05-47eb-84b7-b20a8ee8ae6e",
   "metadata": {},
   "outputs": [
    {
     "data": {
      "text/plain": [
       "'кота '"
      ]
     },
     "execution_count": 10,
     "metadata": {},
     "output_type": "execute_result"
    }
   ],
   "source": [
    "re.search('кот..', 'Кто кота найдёт, тот с котом, которого найдёт, время проведёт.').group()"
   ]
  },
  {
   "cell_type": "markdown",
   "id": "4ec4439c-8dbc-4c92-8bef-da5019d9269d",
   "metadata": {},
   "source": [
    "**`re.findall(pattern, string)`** - находит все вхождения подходящих строк"
   ]
  },
  {
   "cell_type": "code",
   "execution_count": 11,
   "id": "3fca0649-2f30-4ff3-bb25-2d95b1365508",
   "metadata": {},
   "outputs": [
    {
     "data": {
      "text/plain": [
       "['кота', 'кото', 'кото']"
      ]
     },
     "execution_count": 11,
     "metadata": {},
     "output_type": "execute_result"
    }
   ],
   "source": [
    "all_results = re.findall('кот.', 'Кто кота найдёт, тот с котом, которого найдёт, время проведёт.')\n",
    "all_results"
   ]
  },
  {
   "cell_type": "markdown",
   "id": "0a216804-3355-45e9-a933-d636317ab4fe",
   "metadata": {},
   "source": [
    "### Про экранирование и сырые строки"
   ]
  },
  {
   "cell_type": "code",
   "execution_count": 12,
   "id": "85b5ec7c-47ac-48ab-97f4-2804077c80e9",
   "metadata": {},
   "outputs": [
    {
     "name": "stderr",
     "output_type": "stream",
     "text": [
      "<>:1: SyntaxWarning: invalid escape sequence '\\d'\n",
      "<>:1: SyntaxWarning: invalid escape sequence '\\d'\n",
      "/var/folders/1_/s37xgtqd321cb19nvw21b4t80000gn/T/ipykernel_88551/148287540.py:1: SyntaxWarning: invalid escape sequence '\\d'\n",
      "  digits = re.findall('\\d', 'Сегодня 18 ноября 2023 года')\n"
     ]
    },
    {
     "data": {
      "text/plain": [
       "['1', '8', '2', '0', '2', '3']"
      ]
     },
     "execution_count": 12,
     "metadata": {},
     "output_type": "execute_result"
    }
   ],
   "source": [
    "digits = re.findall('\\d', 'Сегодня 18 ноября 2023 года')\n",
    "digits"
   ]
  },
  {
   "cell_type": "code",
   "execution_count": 13,
   "id": "d9021885-5d3c-4986-9efb-44363ff663e2",
   "metadata": {},
   "outputs": [
    {
     "data": {
      "text/plain": [
       "['1', '8', '2', '0', '2', '3']"
      ]
     },
     "execution_count": 13,
     "metadata": {},
     "output_type": "execute_result"
    }
   ],
   "source": [
    "digits = re.findall(r'\\d', 'Сегодня 18 ноября 2023 года')\n",
    "digits"
   ]
  },
  {
   "cell_type": "markdown",
   "id": "7ffe8a19-477e-465a-923b-5e6a536491fc",
   "metadata": {},
   "source": [
    "При этом:"
   ]
  },
  {
   "cell_type": "code",
   "execution_count": 14,
   "id": "52dec7d0-f361-4583-8885-753b02c56f3c",
   "metadata": {},
   "outputs": [
    {
     "name": "stdout",
     "output_type": "stream",
     "text": [
      "часть 1\n",
      "часть 2\n"
     ]
    }
   ],
   "source": [
    "print('часть 1\\nчасть 2')"
   ]
  },
  {
   "cell_type": "code",
   "execution_count": 15,
   "id": "87def1fb-fe6e-4c3c-8fa2-bdfbd0a81908",
   "metadata": {},
   "outputs": [
    {
     "name": "stdout",
     "output_type": "stream",
     "text": [
      "часть 1\\nчасть 2\n"
     ]
    }
   ],
   "source": [
    "print(r'часть 1\\nчасть 2')"
   ]
  },
  {
   "cell_type": "markdown",
   "id": "242c28a8-29e0-4553-bb88-2a0a6dff6869",
   "metadata": {},
   "source": [
    "Что значит `r`?\n",
    "\n",
    "`r` перед строкой превращает её в сырую, `r` говорит, что в строке нет спец символов. / - просто слэш, n - просто n.\n",
    "\n",
    "Ещё один способ сказать, что символ - не спецсимвол - **экранировать**, поставить перед ним слэш."
   ]
  },
  {
   "cell_type": "code",
   "execution_count": 16,
   "id": "c6f145c4-4a5f-4588-ba7f-1c339a7a06ec",
   "metadata": {},
   "outputs": [
    {
     "data": {
      "text/plain": [
       "['1', '8', '2', '0', '2', '3']"
      ]
     },
     "execution_count": 16,
     "metadata": {},
     "output_type": "execute_result"
    }
   ],
   "source": [
    "digits = re.findall('\\\\d', 'Сегодня 18 ноября 2023 года')\n",
    "digits"
   ]
  },
  {
   "cell_type": "code",
   "execution_count": 17,
   "id": "e526f2ab-5796-4823-83ea-a385c6be3b64",
   "metadata": {},
   "outputs": [
    {
     "name": "stdout",
     "output_type": "stream",
     "text": [
      "часть 1\\nчасть 2\n"
     ]
    }
   ],
   "source": [
    "print('часть 1\\\\nчасть 2')"
   ]
  },
  {
   "cell_type": "markdown",
   "id": "4bec80f4-8582-4f75-92b7-d9c6ed3aa647",
   "metadata": {},
   "source": [
    "### Тренировка регулярных выражений\n",
    "\n",
    "**Найдите только год в строке 'Сегодня 18 ноября 2023 года'**"
   ]
  },
  {
   "cell_type": "code",
   "execution_count": 19,
   "id": "0ed6571e-720d-4f6c-8564-a5d5a4ef3b07",
   "metadata": {},
   "outputs": [
    {
     "data": {
      "text/plain": [
       "['2023']"
      ]
     },
     "execution_count": 19,
     "metadata": {},
     "output_type": "execute_result"
    }
   ],
   "source": [
    "re.findall(r'\\d\\d\\d\\d', 'Сегодня 18 ноября 2023 года')"
   ]
  },
  {
   "cell_type": "code",
   "execution_count": 20,
   "id": "be47f20a-a371-47f9-aad0-c0eeb46b933b",
   "metadata": {},
   "outputs": [
    {
     "data": {
      "text/plain": [
       "['2023']"
      ]
     },
     "execution_count": 20,
     "metadata": {},
     "output_type": "execute_result"
    }
   ],
   "source": [
    "re.findall(r'\\d{4}', 'Сегодня 18 ноября 2023 года')"
   ]
  },
  {
   "cell_type": "code",
   "execution_count": 88,
   "id": "7830513d-a1e7-4ea6-a992-8f863d2474bc",
   "metadata": {},
   "outputs": [
    {
     "data": {
      "text/plain": [
       "['2023']"
      ]
     },
     "execution_count": 88,
     "metadata": {},
     "output_type": "execute_result"
    }
   ],
   "source": [
    "re.findall('[0-9]{4}', 'Сегодня 18 ноября 2023 года')"
   ]
  },
  {
   "cell_type": "markdown",
   "id": "f962a7f0-ac04-4928-bf59-bf4c2dcf18cc",
   "metadata": {},
   "source": [
    "В фигурных скобках указывается, сколько раз может повториться предыдущий элемент."
   ]
  },
  {
   "cell_type": "code",
   "execution_count": 21,
   "id": "91472b80-d827-4102-a698-46126f6bf85c",
   "metadata": {},
   "outputs": [
    {
     "data": {
      "text/plain": [
       "['Сего', 'дня ', '18 н', 'оябр', 'я 20', '23 г']"
      ]
     },
     "execution_count": 21,
     "metadata": {},
     "output_type": "execute_result"
    }
   ],
   "source": [
    "re.findall(r'.{4}', 'Сегодня 18 ноября 2023 года')"
   ]
  },
  {
   "cell_type": "markdown",
   "id": "62c3d0da-854b-46e3-8a73-caadd7461780",
   "metadata": {},
   "source": [
    "В квадратных скобках указывается, какие элементы могут стоять на этом месте. Можно перечислять подряд или указывать промежутки. Внутри квадратных скобок не работает большинство спецсимволов."
   ]
  },
  {
   "cell_type": "code",
   "execution_count": 39,
   "id": "cdb84dcd-b965-4afd-a8db-97c4168047cd",
   "metadata": {},
   "outputs": [
    {
     "data": {
      "text/plain": [
       "['егод', 'нояб', 'года']"
      ]
     },
     "execution_count": 39,
     "metadata": {},
     "output_type": "execute_result"
    }
   ],
   "source": [
    "re.findall('[а-я]{4}', 'Сегодня 18 ноября 2023 года')"
   ]
  },
  {
   "cell_type": "code",
   "execution_count": 40,
   "id": "42a5c525-e01d-4db5-89c8-45efc9f4f6dd",
   "metadata": {},
   "outputs": [
    {
     "data": {
      "text/plain": [
       "['Сего', 'нояб', 'года']"
      ]
     },
     "execution_count": 40,
     "metadata": {},
     "output_type": "execute_result"
    }
   ],
   "source": [
    "re.findall('[А-Яа-я]{4}', 'Сегодня 18 ноября 2023 года')"
   ]
  },
  {
   "cell_type": "code",
   "execution_count": 45,
   "id": "6823e086-5df8-4d74-a63d-f04193b0beae",
   "metadata": {},
   "outputs": [
    {
     "data": {
      "text/plain": [
       "['Сёдн', 'нояб', 'года']"
      ]
     },
     "execution_count": 45,
     "metadata": {},
     "output_type": "execute_result"
    }
   ],
   "source": [
    "re.findall('[А-Яа-яЁё]{4}', 'Сёдня 18 ноября 2023 года')"
   ]
  },
  {
   "cell_type": "markdown",
   "id": "85323f81-19c8-467e-830a-d674893afbac",
   "metadata": {},
   "source": [
    "С помощью `^` указывается, какие символы мы не хотим найти."
   ]
  },
  {
   "cell_type": "code",
   "execution_count": 90,
   "id": "96fc8eec-8b44-4a33-b313-91922b4ec026",
   "metadata": {},
   "outputs": [
    {
     "data": {
      "text/plain": [
       "['С', 'д', 'н']"
      ]
     },
     "execution_count": 90,
     "metadata": {},
     "output_type": "execute_result"
    }
   ],
   "source": [
    "re.findall('[^ёя]', 'Сёдня')"
   ]
  },
  {
   "cell_type": "markdown",
   "id": "f095f0ef-11e4-4077-9f80-ba72dce748f0",
   "metadata": {},
   "source": [
    "**Найдите телефоны в контактах ФГН**"
   ]
  },
  {
   "cell_type": "code",
   "execution_count": 49,
   "id": "74c9403e-feeb-4c2e-830d-a52fcd01bcba",
   "metadata": {},
   "outputs": [],
   "source": [
    "fgn = '''Справочная:\n",
    "Тел.: +7 (495) 771-32-32\n",
    "Факс: +7 (495) 628-79-31\n",
    "Для соединения с внутренним номером подразделения/работника:\n",
    "+7 (495) 531-00-00\n",
    "Довузовская подготовка:\n",
    "Сайт: http://fdp.hse.ru  \n",
    "E-mail: fdp@hse.ru\n",
    "Адреса и телефоны: https://fdp.hse.ru/contacts\n",
    "Приемная комиссия:\n",
    "Тел.: 84957713242; +7(495)916-88-44'''"
   ]
  },
  {
   "cell_type": "code",
   "execution_count": 93,
   "id": "c0884050-a0a8-4c2a-8eb1-6e1341eaf571",
   "metadata": {},
   "outputs": [
    {
     "data": {
      "text/plain": [
       "['+7 (495) 771-32-32', '+7 (495) 628-79-31', '+7 (495) 531-00-00']"
      ]
     },
     "execution_count": 93,
     "metadata": {},
     "output_type": "execute_result"
    }
   ],
   "source": [
    "re.findall(r'\\+7 \\(\\d{3}\\) \\d{3}-\\d{2}-\\d{2}', fgn)"
   ]
  },
  {
   "cell_type": "markdown",
   "id": "ce062d94-5723-4fe9-a2b8-ee5e4dacd7e2",
   "metadata": {},
   "source": [
    "`?` - предыдущий символ повторяется 0 или 1 раз (способ указать необязательность)"
   ]
  },
  {
   "cell_type": "code",
   "execution_count": 94,
   "id": "123656a6-401a-4768-9351-16e44a79274d",
   "metadata": {},
   "outputs": [
    {
     "data": {
      "text/plain": [
       "['+7 (495) 771-32-32',\n",
       " '+7 (495) 628-79-31',\n",
       " '+7 (495) 531-00-00',\n",
       " '+7(495)916-88-44']"
      ]
     },
     "execution_count": 94,
     "metadata": {},
     "output_type": "execute_result"
    }
   ],
   "source": [
    "re.findall(r'\\+7 ?\\(?\\d{3}\\)? ?\\d{3}-?\\d{2}-?\\d{2}', fgn)"
   ]
  },
  {
   "cell_type": "code",
   "execution_count": 96,
   "id": "c97de05e-bc3f-4e70-bfd1-99f171b6f758",
   "metadata": {},
   "outputs": [
    {
     "data": {
      "text/plain": [
       "[('собака', 'о'), ('сабака', 'а')]"
      ]
     },
     "execution_count": 96,
     "metadata": {},
     "output_type": "execute_result"
    }
   ],
   "source": [
    "# Отступление про варианты\n",
    "re.findall('(с(о|а)бака)', 'Правильно собака или сабака?')"
   ]
  },
  {
   "cell_type": "code",
   "execution_count": 97,
   "id": "85f6c1ba-c171-4562-998d-9e6af917dfcd",
   "metadata": {},
   "outputs": [
    {
     "data": {
      "text/plain": [
       "[('+7 (495) 771-32-32', '+7'),\n",
       " ('+7 (495) 628-79-31', '+7'),\n",
       " ('+7 (495) 531-00-00', '+7'),\n",
       " ('84957713242', '8'),\n",
       " ('+7(495)916-88-44', '+7')]"
      ]
     },
     "execution_count": 97,
     "metadata": {},
     "output_type": "execute_result"
    }
   ],
   "source": [
    "re.findall(r'((\\+7|8) ?\\(?\\d{3}\\)? ?\\d{3}-?\\d{2}-?\\d{2})', fgn)"
   ]
  },
  {
   "cell_type": "markdown",
   "id": "e880da03-5e9f-4aff-a738-b5b1c22c2f3f",
   "metadata": {},
   "source": [
    "**Найдите всех терьеров в строке**"
   ]
  },
  {
   "cell_type": "code",
   "execution_count": 99,
   "id": "e4a4ef33-1aa4-4c86-ba11-f20e06a370d9",
   "metadata": {},
   "outputs": [],
   "source": [
    "terier = 'Современные терьеры (около 30 пород) используются как служебные (например, эрдельтерьер), охотничьи (фокстерьер, немецкий ягдтерьер), универсальные фермерские (бордер-терьер, ирландский терьер) и декоративные (бивер-йоркширский терьер) собаки.'\n",
    "# ваш код"
   ]
  },
  {
   "cell_type": "markdown",
   "id": "0f727aa9-7507-4b57-aef1-b439849cecbd",
   "metadata": {},
   "source": [
    "### Про `.group()`\n",
    "\n",
    "Если нужно найти в строке несколько подстрок, то каждую из них можно выделить с помощью круглых скобок."
   ]
  },
  {
   "cell_type": "code",
   "execution_count": 100,
   "id": "b07368d7-acc4-49f7-9cd6-8acbf7948601",
   "metadata": {},
   "outputs": [
    {
     "name": "stdout",
     "output_type": "stream",
     "text": [
      "<re.Match object; span=(0, 14), match='корова молоко '>\n",
      "корова молоко \n",
      "корова молоко \n"
     ]
    }
   ],
   "source": [
    "s = 'корова молоко '\n",
    "r = re.search('(.+?оро.+?) (.+?оло.+?) ', s)\n",
    "print(r)\n",
    "print(r.group())\n",
    "print(r.group(0))  # то же самое, что r.group()"
   ]
  },
  {
   "cell_type": "code",
   "execution_count": 61,
   "id": "25c6194b-47b7-4061-8586-b632f2d8d011",
   "metadata": {},
   "outputs": [
    {
     "name": "stdout",
     "output_type": "stream",
     "text": [
      "корова\n"
     ]
    }
   ],
   "source": [
    "print(r.group(1))"
   ]
  },
  {
   "cell_type": "code",
   "execution_count": 62,
   "id": "ee8dcb5d-a747-40a4-9961-dbfc517d76b7",
   "metadata": {},
   "outputs": [
    {
     "data": {
      "text/plain": [
       "'молоко'"
      ]
     },
     "execution_count": 62,
     "metadata": {},
     "output_type": "execute_result"
    }
   ],
   "source": [
    "r.group(2)"
   ]
  },
  {
   "cell_type": "markdown",
   "id": "0061fbcc-9917-4c7b-beed-541b7e7e26c6",
   "metadata": {},
   "source": [
    "### Про жадность поиска"
   ]
  },
  {
   "cell_type": "code",
   "execution_count": 63,
   "id": "f233ac55-d13d-4ddd-ab8b-d4896dbf8598",
   "metadata": {},
   "outputs": [
    {
     "name": "stdout",
     "output_type": "stream",
     "text": [
      "Онегин, добрый мой \n"
     ]
    }
   ],
   "source": [
    "s = 'Онегин, добрый мой приятель'\n",
    "r = re.search('.+ ', s)\n",
    "print(r.group())"
   ]
  },
  {
   "cell_type": "code",
   "execution_count": 64,
   "id": "ead5a04a-bd49-4608-86db-2b1e0a993c0a",
   "metadata": {},
   "outputs": [
    {
     "name": "stdout",
     "output_type": "stream",
     "text": [
      "Онегин, \n"
     ]
    }
   ],
   "source": [
    "s = 'Онегин, добрый мой приятель'\n",
    "r = re.search('.+? ', s)\n",
    "print(r.group())"
   ]
  },
  {
   "cell_type": "markdown",
   "id": "3174a18b-0409-4646-aa29-259f5f1b943e",
   "metadata": {},
   "source": [
    "Если не поставить `?`, находится максимальная строка (жадный поиск). Ограничение - пробел, но пробел входит в множество любых символов.\n",
    "\n",
    "Чтобы сделать поиск нежадным, поставьте `?` перед символом, тогда подходящая строка будет находиться до первого его вхождния, а не последнего."
   ]
  },
  {
   "cell_type": "code",
   "execution_count": 101,
   "id": "0eb8908e-758f-4cac-ab00-4ba718de1753",
   "metadata": {},
   "outputs": [
    {
     "name": "stdout",
     "output_type": "stream",
     "text": [
      "<re.Match object; span=(0, 14), match='корова молоко '>\n",
      "корова молоко \n"
     ]
    }
   ],
   "source": [
    "s = 'корова молоко ворота'\n",
    "r = re.search('.+оро.+ ', s)\n",
    "print(r)\n",
    "print(r.group())"
   ]
  },
  {
   "cell_type": "code",
   "execution_count": 102,
   "id": "ceafd057-dcb9-420d-ac44-c53d6606b1eb",
   "metadata": {},
   "outputs": [
    {
     "name": "stdout",
     "output_type": "stream",
     "text": [
      "<re.Match object; span=(0, 7), match='корова '>\n",
      "корова \n"
     ]
    }
   ],
   "source": [
    "s = 'корова молоко ворота'\n",
    "r = re.search('.+оро.+? ', s)\n",
    "print(r)\n",
    "print(r.group())"
   ]
  },
  {
   "cell_type": "markdown",
   "id": "fc944101-9014-4736-b7ff-d5088b09d0a9",
   "metadata": {},
   "source": [
    "**Найдите в почтовом адресе логин и домен**"
   ]
  },
  {
   "cell_type": "code",
   "execution_count": 107,
   "id": "68ac59f4-8c06-4ada-a47a-6b653df84716",
   "metadata": {},
   "outputs": [
    {
     "name": "stdout",
     "output_type": "stream",
     "text": [
      "fdp\n",
      "ru\n"
     ]
    }
   ],
   "source": [
    "pattern = r'([a-zA-Z0-9_.]+)@(([a-zA-Z0-9_]+)\\.([a-zA-Z]+))'\n",
    "print(re.search(pattern, fgn).group(1))\n",
    "print(re.search(pattern, fgn).group(4))"
   ]
  },
  {
   "cell_type": "markdown",
   "id": "ba0608bd-c3b9-4ef8-bd72-e158c400864c",
   "metadata": {},
   "source": [
    "Чтобы не путаться в нумерации скобочек, можно проименовать их."
   ]
  },
  {
   "cell_type": "code",
   "execution_count": 108,
   "id": "b16cc720-3ad6-4ddd-aed8-5c1388416e23",
   "metadata": {},
   "outputs": [
    {
     "data": {
      "text/plain": [
       "'ru'"
      ]
     },
     "execution_count": 108,
     "metadata": {},
     "output_type": "execute_result"
    }
   ],
   "source": [
    "pattern = r'(?P<login>[a-zA-Z0-9_.]+)@(?P<provider>(?P<name>[a-zA-Z0-9_]+)\\.(?P<domain>[a-zA-Z]+))'\n",
    "re.search(pattern, fgn).group('domain')"
   ]
  }
 ],
 "metadata": {
  "kernelspec": {
   "display_name": "Python 3 (ipykernel)",
   "language": "python",
   "name": "python3"
  },
  "language_info": {
   "codemirror_mode": {
    "name": "ipython",
    "version": 3
   },
   "file_extension": ".py",
   "mimetype": "text/x-python",
   "name": "python",
   "nbconvert_exporter": "python",
   "pygments_lexer": "ipython3",
   "version": "3.12.0"
  }
 },
 "nbformat": 4,
 "nbformat_minor": 5
}
