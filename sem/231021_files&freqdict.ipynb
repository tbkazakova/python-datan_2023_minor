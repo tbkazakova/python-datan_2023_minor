{
 "cells": [
  {
   "cell_type": "markdown",
   "metadata": {},
   "source": [
    "# Файлы. Частотный словарь"
   ]
  },
  {
   "cell_type": "markdown",
   "metadata": {},
   "source": [
    "Мы уже знаем про:\n",
    "- типы данных `int`, `float`, `str`, `bool`, `list` [список], `tuple` (кортеж неизменяемый), `set` {множество}, `dict` словарь {ключ: значение}\n",
    "- математические операторы: `+`, `-`, `/`, `*`, `**` (в степень), `%` (остаток от деления), `//` (целая часть при делении)\n",
    "- `print()` — напечатать\n",
    "- `type()` — узнать тип данных\n",
    "- `input()` — принять значение от пользователя\n",
    "- `int()` — преобразовать в целочисленный формат\n",
    "- `float()` — преобразовать в формат дробного числа\n",
    "- `str()` — преобразовать в строку\n",
    "- `bool()` — преобразовать в bool (True/False)\n",
    "- `list()` — преобразовать в список\n",
    "- `tuple()` — преобразовать в кортеж\n",
    "- `set()` — преобразовать во множество\n",
    "- `dict()` — преобразовать в словарь\n",
    "\n",
    "- условия:\n",
    "```\n",
    "if <условие>:\n",
    "    <инструкции, для случая если условие истинно (True)>\n",
    "#elif <условие №2>:\n",
    "#    <инструкции, для случая если условие №2 истинно (True)>\n",
    "#else:\n",
    "#    <инструкции, когда все условия не выполнились (False)>\n",
    "```\n",
    "- операторы сравнения: `>`, `<`, `>=`, `<=`, `==` (равно), `!=` (не равно)\n",
    "- логические операторы: `and`, `or`, `not`\n",
    "- цикл `while`:\n",
    "```\n",
    "while <условие>:\n",
    "    <инструкции, которые будут выполняться по кругу, пока условие выполняется True>\n",
    "```\n",
    "- цикл `for`\n",
    "```\n",
    "for <element> in <elements>:\n",
    "       <инструкции, которые будут выполняться для каждого элемента>\n",
    "```\n",
    "- `.split()` - поделить строку, указанную до точки, по сочетанию символов, указанных в скобках (строка -> список)\n",
    "- индексация с нуля: `итерируемый_объект[индекс]`\n",
    "- срезы: `итерируемый_объект[START:END:STEP]`\n",
    "- `*список` - то же самое, что `список[0] список[1] список[2] список[3]...`\n",
    "- `len()` - узнать длину\n",
    "- `range()` - \"обещание последовательности чисел\" (`list(range(0, 8, 2))` - `[0, 2, 4, 6]`)\n",
    "- `enumerate()` - делает последовательность кортежей: [(порядковый_номер, элемент), (порядковый_номер, элемент), (порядковый_номер, элемент)]\n",
    "\n",
    "**Методы списка (+ строк и кортежей, если метод ничего не изменяет)**\n",
    "- `list.append()` - добавление элемента в конец списка\n",
    "- `list.extend(another_list)` - расширяет список, добавляя в конец все элементы списка `another_list` (и не только списка)\n",
    "- `list.insert(i, x)` — вставляет в `i`-ую позицию в списке значение `x`\n",
    "- `list.remove(x)` — удаляет первый элемент в списке, имеющий значение `x`\n",
    "- `list.pop(i)` - удаляет элемент с индексом `i` (по умолчанию последний) и возвращает удалённый элемент\n",
    "- `list.clear()` — очищает список\n",
    "- `list.count(x)` — узнать, сколько раз встречается элемент `x`\n",
    "- `list.index(x)` — узнать индекс элемента `x` в списке\n",
    "\n",
    "**Функции для списков и кортежей**\n",
    "- `sum()` — сумма\n",
    "- `min()` — минимальное\n",
    "- `max()` — максимальное\n",
    "- `map()` — применить функцию или метод ко всем элементам сразу (`print(list(map(len, ['Привет', 'ТЕСТ', 'функции', 'map!'])))` - `[6, 4, 7, 4]`), (`print(list(map(str.split, ['Таня Казакова', 'Максим Бажуков', 'Олег Сериков'])))` - `[['Таня', 'Казакова'], ['Максим', 'Бажуков']]`)\n",
    "\n",
    "**Методы строк**\n",
    "- `str.strip()`, `str.lstrip()`, `str.rstrip()` - убрать символы на концах строки\n",
    "- `str.lower()`, `str.casefold()` - понизить регистр\n",
    "- `str.capitalize()`, `str.upper()`, `str.title()` - повысить регистр (как в предложении, всех букв, начальной буквы каждого слова)\n",
    "- `str.replace(\"<что>\", \"<на что>\")` - делаем замены\n",
    "- `str.find()` (`str.rfind()`) (а также `str.index()`, `str.rindex()`) - найти позицию символа в строке\n",
    "- `str.count()` - подсчёт нужных символов в строке\n",
    "- `str.split()` с `maxsplit` - делит строку по выбранной строке\n",
    "- `<чем>.join(<что>)` - соединить элементы списка\n",
    "- `str.startswith()` - проверяет, что строка начинается с определённой подстроки\n",
    "- `str.endswith()` - проверяет, что строка кончается на определённую подстроку\n",
    "- `str.isalpha()` - проверяет, что строка состоит только из букв\n",
    "- `str.isdigit()` - проверяет, что строка состоит только из цифр\n",
    "- `str.isalnum()` - проверяет, что строка состоит только из букв и цифр\n",
    "- `str.islower()` - проверяет, что все буквы в строке нижнего регистра\n",
    "- `str.isupper()` - проверяет, что все буквы в строке верхнего регистра\n",
    "\n",
    "Форматирование строк 1:`\"Результат: {}\".format(res)`\n",
    "\n",
    "Форматирование строк 2: `f\"Результат: {res}\"`\n",
    "\n",
    "**Методы множеств**\n",
    "- `.add()` - добавить элемент\n",
    "- `.update()` - добавить несколько элементов в множество\n",
    "- `.remove()` - удалить элемент из множества\n",
    "- `.union()` или `|` - объединяем множества\n",
    "- `.intersection()` или `&` - пересекаем множества\n",
    "- `.difference()` или `-` - ищем разность\n",
    "- `.symmetric_difference()` или `^` - находим симметрическую разность\n",
    "\n",
    "**Словари**\n",
    "- `eng_rus_dict['house']` - узнать значение по ключу\n",
    "- `.keys()` — возвращает объект с ключами словаря.\n",
    "- `.values()` — возвращает объект со значениями словаря.\n",
    "- `.items()` — возвращает объект с кортежами вида (ключ, значение)\n",
    "- `.get(<ключ>, <что вывести, если ключ не найден>)` — возвращает значение по ключу или то, что надо вывести, если ключ не найден\n",
    "- `eng_rus_dict[\"new\"] = 'новый'` - добавить новую пару ключ-значение или изменить существующее значение у ключа\n",
    "- `del eng_rus_dict['key']` - удалить пару ключ-значение\n",
    "\n",
    "**Функции и методы для коллекций**\n",
    "- `.copy()` - сделать копию коллекции данных\n",
    "- `sorted(<что сортировать>, key=<какую функцию применить к аргументам>)` — функция сортировки (например: sorted(words, key=str.lower))\n",
    "\n",
    "**Изменяемость типов данных**\n",
    "\n",
    "Списки, множества и словари - изменяемые.\n",
    "\n",
    "**Общий вид объявления функции**\n",
    "```\n",
    "def <название_функции>(): \n",
    "    <тело/инструкции_функции>\n",
    "    return <результат работы функции>\n",
    "```\n",
    "**Модули и их функции**\n",
    "- `import math` - импортируем модуль math\n",
    "- `from math import sqrt` - импортируем функцию модуль `sqrt` из `math`\n",
    "- `from math import *` - импортируем всё из модуля `math`\n",
    "- `import string as s` - даем псевдоним модулю `string`\n",
    "- `math.sqrt()` - вычисляет квадратный корень\n",
    "- `random.randint()` - даёт рандомное целое число из промежутка\n",
    "- `random.uniform()` - даёт рандомное дробное число из промежутка\n",
    "- `string.punctuation` - частотные пунктуационные знаки\n",
    "\n",
    "**Файлы**\n",
    "\n",
    "Общий вид:\n",
    "```\n",
    "with open('first_text.txt', mode='r', encoding='UTF-8') as f:\n",
    "    text = f.read()\n",
    "```\n",
    "Режимы (mode): `r` - чтение, `w` - перезапись, `a` - дозапись \n",
    "\n",
    "Кодировка: `encoding='UTF-8'` (иногда бывает `windows-1251` и др.)"
   ]
  },
  {
   "cell_type": "markdown",
   "metadata": {},
   "source": [
    "## Большая тренировка\n",
    "Прочитайте \"Войну и мир\", выдайте 20 самых частотных слов\n",
    "- сохранить текст в переменную\n",
    "- разбить на слова, привести каждое слово к нижнему регистру, очистить от пунктуации\n",
    "- убрать стоп-слова\n",
    "- сделать словарь слово-количество употреблений\n",
    "- отсортировать слова по количеству\n",
    "- вывести 20 частотных слов"
   ]
  },
  {
   "cell_type": "code",
   "execution_count": 1,
   "metadata": {},
   "outputs": [
    {
     "name": "stdout",
     "output_type": "stream",
     "text": [
      "\n",
      "\n",
      "Том первый\n",
      "\n",
      "\n",
      "Часть первая\n",
      "\n",
      "\n",
      "\n",
      "I\n",
      "\n",
      "— Eh bien, mon p\n"
     ]
    }
   ],
   "source": [
    "with open('data/vojna-i-mir.txt', 'r', encoding='UTF-8') as f:\n",
    "    text = f.read()\n",
    "print(text[:50])"
   ]
  },
  {
   "cell_type": "code",
   "execution_count": 2,
   "metadata": {},
   "outputs": [],
   "source": [
    "from string import punctuation"
   ]
  },
  {
   "cell_type": "code",
   "execution_count": 3,
   "metadata": {},
   "outputs": [
    {
     "data": {
      "text/plain": [
       "'!\"#$%&\\'()*+,-./:;<=>?@[\\\\]^_`{|}~—'"
      ]
     },
     "execution_count": 3,
     "metadata": {},
     "output_type": "execute_result"
    }
   ],
   "source": [
    "punctuation + '—'"
   ]
  },
  {
   "cell_type": "code",
   "execution_count": 4,
   "metadata": {},
   "outputs": [
    {
     "data": {
      "text/plain": [
       "['том',\n",
       " 'первый',\n",
       " 'часть',\n",
       " 'первая',\n",
       " 'i',\n",
       " 'eh',\n",
       " 'bien',\n",
       " 'mon',\n",
       " 'prince',\n",
       " 'gênes']"
      ]
     },
     "execution_count": 4,
     "metadata": {},
     "output_type": "execute_result"
    }
   ],
   "source": [
    "words = []\n",
    "for word in text.split():\n",
    "    good_word = word.strip(punctuation + '—').lower()\n",
    "    if good_word != '':\n",
    "        words.append(good_word)\n",
    "words[:10]"
   ]
  },
  {
   "cell_type": "markdown",
   "metadata": {},
   "source": [
    "### Частотный словарь\n",
    "Хотим словарь `{'слово1': <количество>, 'слово2': <количество>...}`"
   ]
  },
  {
   "cell_type": "markdown",
   "metadata": {},
   "source": [
    "Как делать не надо?"
   ]
  },
  {
   "cell_type": "code",
   "execution_count": 5,
   "metadata": {},
   "outputs": [],
   "source": [
    "# Очень долго\n",
    "uniquew = set(words)\n",
    "dict_w_num = {}\n",
    "for word in uniquew:\n",
    "    dict_w_num[word] = words.count(word)"
   ]
  },
  {
   "cell_type": "code",
   "execution_count": 6,
   "metadata": {},
   "outputs": [
    {
     "data": {
      "text/plain": [
       "57994"
      ]
     },
     "execution_count": 6,
     "metadata": {},
     "output_type": "execute_result"
    }
   ],
   "source": [
    "len(uniquew)"
   ]
  },
  {
   "cell_type": "code",
   "execution_count": 7,
   "metadata": {},
   "outputs": [
    {
     "data": {
      "text/plain": [
       "484531"
      ]
     },
     "execution_count": 7,
     "metadata": {},
     "output_type": "execute_result"
    }
   ],
   "source": [
    "len(words)"
   ]
  },
  {
   "cell_type": "markdown",
   "metadata": {},
   "source": [
    "Мы попытались пройти по множеству из 57994 слов и для каждого пройтись по списку всех слов (их 484531), чтобы каждое отдельно посчитать. Это безумно долго.\n",
    "\n",
    "Гораздо быстрее будет пройтись по списку слов только один раз!"
   ]
  },
  {
   "cell_type": "code",
   "execution_count": 8,
   "metadata": {},
   "outputs": [],
   "source": [
    "# Если слово ещё не встречалось, запиши, что оно встретилось впервые.\n",
    "# А если уже встречалось, запиши, что мы ещё один раз его встретили.\n",
    "\n",
    "word2number = {}\n",
    "for word in words:\n",
    "    if word not in word2number:\n",
    "        word2number[word] = 1\n",
    "    else:\n",
    "        word2number[word] += 1"
   ]
  },
  {
   "cell_type": "code",
   "execution_count": 9,
   "metadata": {},
   "outputs": [
    {
     "data": {
      "text/plain": [
       "821"
      ]
     },
     "execution_count": 9,
     "metadata": {},
     "output_type": "execute_result"
    }
   ],
   "source": [
    "word2number['наташа']"
   ]
  },
  {
   "cell_type": "markdown",
   "metadata": {},
   "source": [
    "Но как вывести 20 пар из словаря?"
   ]
  },
  {
   "cell_type": "code",
   "execution_count": 10,
   "metadata": {
    "scrolled": true
   },
   "outputs": [
    {
     "data": {
      "text/plain": [
       "[('том', 789),\n",
       " ('первый', 182),\n",
       " ('часть', 87),\n",
       " ('первая', 37),\n",
       " ('i', 76),\n",
       " ('eh', 29),\n",
       " ('bien', 64),\n",
       " ('mon', 187),\n",
       " ('prince', 37),\n",
       " ('gênes', 2),\n",
       " ('et', 306),\n",
       " ('lucques', 2),\n",
       " ('ne', 146),\n",
       " ('sont', 33),\n",
       " ('plus', 72),\n",
       " ('que', 277),\n",
       " ('des', 113),\n",
       " ('apanages', 1),\n",
       " ('поместья', 4),\n",
       " ('de', 626)]"
      ]
     },
     "execution_count": 10,
     "metadata": {},
     "output_type": "execute_result"
    }
   ],
   "source": [
    "list(word2number.items())[:20]"
   ]
  },
  {
   "cell_type": "markdown",
   "metadata": {},
   "source": [
    "Как теперь слова отсортировать по количеству?\n",
    "\n",
    "`sorted()` умеет сортировать такой список по нулевому элементу в кортежах. Тогда надо поменять местами, чтоб сортировать не по словам, а по числу употреблений."
   ]
  },
  {
   "cell_type": "code",
   "execution_count": 11,
   "metadata": {},
   "outputs": [],
   "source": [
    "num_word = []\n",
    "for tupl in list(word2number.items()):\n",
    "    num_word.append((tupl[1], tupl[0]))"
   ]
  },
  {
   "cell_type": "code",
   "execution_count": 12,
   "metadata": {},
   "outputs": [
    {
     "data": {
      "text/plain": [
       "[(22036, 'и'),\n",
       " (11802, 'в'),\n",
       " (9054, 'не'),\n",
       " (7988, 'что'),\n",
       " (7622, 'он'),\n",
       " (6985, 'на'),\n",
       " (6171, 'с'),\n",
       " (4209, 'как'),\n",
       " (4058, 'его'),\n",
       " (3599, 'к'),\n",
       " (3268, 'я'),\n",
       " (2857, 'но'),\n",
       " (2769, 'она'),\n",
       " (2693, 'все'),\n",
       " (2686, 'это'),\n",
       " (2565, 'было'),\n",
       " (2373, 'то'),\n",
       " (2063, 'а'),\n",
       " (2027, 'сказал'),\n",
       " (2026, 'так')]"
      ]
     },
     "execution_count": 12,
     "metadata": {},
     "output_type": "execute_result"
    }
   ],
   "source": [
    "sorted(num_word, reverse=True)[:20]"
   ]
  },
  {
   "cell_type": "markdown",
   "metadata": {},
   "source": [
    "Вообще-то мы могли бы сделать то же самое меньшими усилиями.\n",
    "    Сделать с помощью `.items()` список кортежей и сортировать его, по специальному ключу `key`!\n",
    "    Это должен быть ключ, который вернёт из кортежа второй элемент &mdash; частоту слова.\n",
    "    Так и напишем:"
   ]
  },
  {
   "cell_type": "code",
   "execution_count": 13,
   "metadata": {},
   "outputs": [],
   "source": [
    "def get_second_element(indexable_collection):\n",
    "    return indexable_collection[1]"
   ]
  },
  {
   "cell_type": "code",
   "execution_count": 14,
   "metadata": {},
   "outputs": [
    {
     "data": {
      "text/plain": [
       "[('и', 22036),\n",
       " ('в', 11802),\n",
       " ('не', 9054),\n",
       " ('что', 7988),\n",
       " ('он', 7622),\n",
       " ('на', 6985),\n",
       " ('с', 6171),\n",
       " ('как', 4209),\n",
       " ('его', 4058),\n",
       " ('к', 3599),\n",
       " ('я', 3268),\n",
       " ('но', 2857),\n",
       " ('она', 2769),\n",
       " ('все', 2693),\n",
       " ('это', 2686),\n",
       " ('было', 2565),\n",
       " ('то', 2373),\n",
       " ('а', 2063),\n",
       " ('сказал', 2027),\n",
       " ('так', 2026)]"
      ]
     },
     "execution_count": 14,
     "metadata": {},
     "output_type": "execute_result"
    }
   ],
   "source": [
    "sorted(word2number.items(),\n",
    "       key=get_second_element,\n",
    "       reverse=True\n",
    "      )[:20]"
   ]
  },
  {
   "cell_type": "markdown",
   "metadata": {},
   "source": [
    "Это самые частотные слова. Но они во всех длинных текстх частотны. Как бы оставить только содержательное про текст?"
   ]
  },
  {
   "cell_type": "markdown",
   "metadata": {},
   "source": [
    "### Стоп-слова\n",
    "\n",
    "Стоп-слова - слова самые частотные во всех текстах на определённом языке.\n",
    "\n",
    "Обычно это союзы, предлоги, частицы, местоимения, артикли (не в русском).\n",
    "\n",
    "Их можно убрать убрать."
   ]
  },
  {
   "cell_type": "code",
   "execution_count": 15,
   "metadata": {},
   "outputs": [
    {
     "name": "stdout",
     "output_type": "stream",
     "text": [
      "\u001b[33mDEPRECATION: Configuring installation scheme with distutils config files is deprecated and will no longer work in the near future. If you are using a Homebrew or Linuxbrew Python, please see discussion at https://github.com/Homebrew/homebrew-core/issues/76621\u001b[0m\u001b[33m\n",
      "\u001b[0mRequirement already satisfied: nltk in /usr/local/lib/python3.9/site-packages (3.7)\n",
      "Requirement already satisfied: regex>=2021.8.3 in /usr/local/lib/python3.9/site-packages (from nltk) (2022.10.31)\n",
      "Requirement already satisfied: joblib in /usr/local/lib/python3.9/site-packages (from nltk) (1.2.0)\n",
      "Requirement already satisfied: tqdm in /usr/local/lib/python3.9/site-packages (from nltk) (4.64.1)\n",
      "Requirement already satisfied: click in /usr/local/lib/python3.9/site-packages (from nltk) (8.1.3)\n",
      "\u001b[33mDEPRECATION: Configuring installation scheme with distutils config files is deprecated and will no longer work in the near future. If you are using a Homebrew or Linuxbrew Python, please see discussion at https://github.com/Homebrew/homebrew-core/issues/76621\u001b[0m\u001b[33m\n",
      "\u001b[0m\n",
      "\u001b[1m[\u001b[0m\u001b[34;49mnotice\u001b[0m\u001b[1;39;49m]\u001b[0m\u001b[39;49m A new release of pip is available: \u001b[0m\u001b[31;49m23.0.1\u001b[0m\u001b[39;49m -> \u001b[0m\u001b[32;49m23.1.2\u001b[0m\n",
      "\u001b[1m[\u001b[0m\u001b[34;49mnotice\u001b[0m\u001b[1;39;49m]\u001b[0m\u001b[39;49m To update, run: \u001b[0m\u001b[32;49mpython3.9 -m pip install --upgrade pip\u001b[0m\n"
     ]
    }
   ],
   "source": [
    "! pip install nltk"
   ]
  },
  {
   "cell_type": "code",
   "execution_count": 16,
   "metadata": {},
   "outputs": [
    {
     "name": "stderr",
     "output_type": "stream",
     "text": [
      "[nltk_data] Downloading package stopwords to\n",
      "[nltk_data]     /Users/tbkazakova/nltk_data...\n",
      "[nltk_data]   Package stopwords is already up-to-date!\n"
     ]
    },
    {
     "data": {
      "text/plain": [
       "True"
      ]
     },
     "execution_count": 16,
     "metadata": {},
     "output_type": "execute_result"
    }
   ],
   "source": [
    "import nltk\n",
    "nltk.download('stopwords')"
   ]
  },
  {
   "cell_type": "code",
   "execution_count": 17,
   "metadata": {},
   "outputs": [
    {
     "name": "stdout",
     "output_type": "stream",
     "text": [
      "['и', 'в', 'во', 'не', 'что', 'он', 'на', 'я', 'с', 'со', 'как', 'а', 'то', 'все', 'она', 'так', 'его', 'но', 'да', 'ты', 'к', 'у', 'же', 'вы', 'за', 'бы', 'по', 'только', 'ее', 'мне', 'было', 'вот', 'от', 'меня', 'еще', 'нет', 'о', 'из', 'ему', 'теперь', 'когда', 'даже', 'ну', 'вдруг', 'ли', 'если', 'уже', 'или', 'ни', 'быть', 'был', 'него', 'до', 'вас', 'нибудь', 'опять', 'уж', 'вам', 'ведь', 'там', 'потом', 'себя', 'ничего', 'ей', 'может', 'они', 'тут', 'где', 'есть', 'надо', 'ней', 'для', 'мы', 'тебя', 'их', 'чем', 'была', 'сам', 'чтоб', 'без', 'будто', 'чего', 'раз', 'тоже', 'себе', 'под', 'будет', 'ж', 'тогда', 'кто', 'этот', 'того', 'потому', 'этого', 'какой', 'совсем', 'ним', 'здесь', 'этом', 'один', 'почти', 'мой', 'тем', 'чтобы', 'нее', 'сейчас', 'были', 'куда', 'зачем', 'всех', 'никогда', 'можно', 'при', 'наконец', 'два', 'об', 'другой', 'хоть', 'после', 'над', 'больше', 'тот', 'через', 'эти', 'нас', 'про', 'всего', 'них', 'какая', 'много', 'разве', 'три', 'эту', 'моя', 'впрочем', 'хорошо', 'свою', 'этой', 'перед', 'иногда', 'лучше', 'чуть', 'том', 'нельзя', 'такой', 'им', 'более', 'всегда', 'конечно', 'всю', 'между']\n"
     ]
    }
   ],
   "source": [
    "from nltk.corpus import stopwords\n",
    "print(stopwords.words('russian'))"
   ]
  },
  {
   "cell_type": "code",
   "execution_count": 18,
   "metadata": {},
   "outputs": [
    {
     "data": {
      "text/plain": [
       "[(2686, 'это'),\n",
       " (2027, 'сказал'),\n",
       " (1413, 'пьер'),\n",
       " (1385, 'князь'),\n",
       " (821, 'наташа'),\n",
       " (809, 'андрей'),\n",
       " (748, 'время'),\n",
       " (715, 'сказала'),\n",
       " (709, 'которые'),\n",
       " (674, 'который'),\n",
       " (671, 'говорил'),\n",
       " (626, 'de'),\n",
       " (611, 'очень'),\n",
       " (576, 'княжна'),\n",
       " (549, 'своей'),\n",
       " (530, 'ростов'),\n",
       " (524, 'человек'),\n",
       " (513, 'марья'),\n",
       " (501, 'лицо'),\n",
       " (483, 'граф')]"
      ]
     },
     "execution_count": 18,
     "metadata": {},
     "output_type": "execute_result"
    }
   ],
   "source": [
    "important_words = []\n",
    "for tupl in num_word:\n",
    "    if tupl[1] not in stopwords.words('russian'):\n",
    "        important_words.append(tupl)\n",
    "sorted(important_words, reverse=True)[:20]"
   ]
  },
  {
   "cell_type": "markdown",
   "metadata": {},
   "source": [
    "Ну вот, уже содержательнее.\n",
    "\n",
    "(Есть более умные способы искать ключевые слова. Может, сможем посмотреть их чуть позже.)"
   ]
  }
 ],
 "metadata": {
  "colab": {
   "provenance": []
  },
  "kernelspec": {
   "display_name": "Python 3 (ipykernel)",
   "language": "python",
   "name": "python3"
  },
  "language_info": {
   "codemirror_mode": {
    "name": "ipython",
    "version": 3
   },
   "file_extension": ".py",
   "mimetype": "text/x-python",
   "name": "python",
   "nbconvert_exporter": "python",
   "pygments_lexer": "ipython3",
   "version": "3.9.16"
  }
 },
 "nbformat": 4,
 "nbformat_minor": 4
}
