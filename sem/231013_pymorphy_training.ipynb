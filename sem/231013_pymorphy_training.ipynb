{
 "cells": [
  {
   "cell_type": "markdown",
   "metadata": {},
   "source": [
    "# Pymorphy2 и повторение"
   ]
  },
  {
   "cell_type": "markdown",
   "metadata": {},
   "source": [
    "Мы уже знаем про:\n",
    "- типы данных `int`, `float`, `str`, `bool`, `list` [список], `tuple` (кортеж неизменяемый), `set` {множество}, `dict` словарь {ключ: значение}\n",
    "- математические операторы: `+`, `-`, `/`, `*`, `**` (в степень), `%` (остаток от деления), `//` (целая часть при делении)\n",
    "- `print()` — напечатать\n",
    "- `type()` — узнать тип данных\n",
    "- `input()` — принять значение от пользователя\n",
    "- `int()` — преобразовать в целочисленный формат\n",
    "- `float()` — преобразовать в формат дробного числа\n",
    "- `str()` — преобразовать в строку\n",
    "- `bool()` — преобразовать в bool (True/False)\n",
    "- `list()` — преобразовать в список\n",
    "- `tuple()` — преобразовать в кортеж\n",
    "- `set()` — преобразовать во множество\n",
    "- `dict()` — преобразовать в словарь\n",
    "\n",
    "- условия:\n",
    "```\n",
    "if <условие>:\n",
    "    <инструкции, для случая если условие истинно (True)>\n",
    "#elif <условие №2>:\n",
    "#    <инструкции, для случая если условие №2 истинно (True)>\n",
    "#else:\n",
    "#    <инструкции, когда все условия не выполнились (False)>\n",
    "```\n",
    "- операторы сравнения: `>`, `<`, `>=`, `<=`, `==` (равно), `!=` (не равно)\n",
    "- логические операторы: `and`, `or`, `not`\n",
    "- цикл `while`:\n",
    "```\n",
    "while <условие>:\n",
    "    <инструкции, которые будут выполняться по кругу, пока условие выполняется True>\n",
    "```\n",
    "- цикл `for`\n",
    "```\n",
    "for <element> in <elements>:\n",
    "       <инструкции, которые будут выполняться для каждого элемента>\n",
    "```\n",
    "- `.split()` - поделить строку, указанную до точки, по сочетанию символов, указанных в скобках (строка -> список)\n",
    "- индексация с нуля: `итерируемый_объект[индекс]`\n",
    "- срезы: `итерируемый_объект[START:END:STEP]`\n",
    "- `*список` - то же самое, что `список[0] список[1] список[2] список[3]...`\n",
    "- `len()` - узнать длину\n",
    "- `range()` - \"обещание последовательности чисел\" (`list(range(0, 8, 2))` - `[0, 2, 4, 6]`)\n",
    "- `enumerate()` - делает последовательность кортежей: [(порядковый_номер, элемент), (порядковый_номер, элемент), (порядковый_номер, элемент)]\n",
    "\n",
    "**Методы списка (+ строк и кортежей, если метод ничего не изменяет)**\n",
    "- `list.append()` - добавление элемента в конец списка\n",
    "- `list.extend(another_list)` - расширяет список, добавляя в конец все элементы списка `another_list` (и не только списка)\n",
    "- `list.insert(i, x)` — вставляет в `i`-ую позицию в списке значение `x`\n",
    "- `list.remove(x)` — удаляет первый элемент в списке, имеющий значение `x`\n",
    "- `list.pop(i)` - удаляет элемент с индексом `i` (по умолчанию последний) и возвращает удалённый элемент\n",
    "- `list.clear()` — очищает список\n",
    "- `list.count(x)` — узнать, сколько раз встречается элемент `x`\n",
    "- `list.index(x)` — узнать индекс элемента `x` в списке\n",
    "\n",
    "**Функции для списков и кортежей**\n",
    "- `sum()` — сумма\n",
    "- `min()` — минимальное\n",
    "- `max()` — максимальное\n",
    "- `map()` — применить функцию или метод ко всем элементам сразу (`print(list(map(len, ['Привет', 'ТЕСТ', 'функции', 'map!'])))` - `[6, 4, 7, 4]`), (`print(list(map(str.split, ['Таня Казакова', 'Максим Бажуков', 'Олег Сериков'])))` - `[['Таня', 'Казакова'], ['Максим', 'Бажуков']]`)\n",
    "\n",
    "**Методы строк**\n",
    "- `str.strip()`, `str.lstrip()`, `str.rstrip()` - убрать символы на концах строки\n",
    "- `str.lower()`, `str.casefold()` - понизить регистр\n",
    "- `str.capitalize()`, `str.upper()`, `str.title()` - повысить регистр (как в предложении, всех букв, начальной буквы каждого слова)\n",
    "- `str.replace(\"<что>\", \"<на что>\")` - делаем замены\n",
    "- `str.find()` (`str.rfind()`) (а также `str.index()`, `str.rindex()`) - найти позицию символа в строке\n",
    "- `str.count()` - подсчёт нужных символов в строке\n",
    "- `str.split()` с `maxsplit` - делит строку по выбранной строке\n",
    "- `<чем>.join(<что>)` - соединить элементы списка\n",
    "- `str.startswith()` - проверяет, что строка начинается с определённой подстроки\n",
    "- `str.endswith()` - проверяет, что строка кончается на определённую подстроку\n",
    "- `str.isalpha()` - проверяет, что строка состоит только из букв\n",
    "- `str.isdigit()` - проверяет, что строка состоит только из цифр\n",
    "- `str.isalnum()` - проверяет, что строка состоит только из букв и цифр\n",
    "- `str.islower()` - проверяет, что все буквы в строке нижнего регистра\n",
    "- `str.isupper()` - проверяет, что все буквы в строке верхнего регистра\n",
    "\n",
    "Форматирование строк 1:`\"Результат: {}\".format(res)`\n",
    "\n",
    "Форматирование строк 2: `f\"Результат: {res}\"`\n",
    "\n",
    "**Методы множеств**\n",
    "- `.add()` - добавить элемент\n",
    "- `.update()` - добавить несколько элементов в множество\n",
    "- `.remove()` - удалить элемент из множества\n",
    "- `.union()` или `|` - объединяем множества\n",
    "- `.intersection()` или `&` - пересекаем множества\n",
    "- `.difference()` или `-` - ищем разность\n",
    "- `.symmetric_difference()` или `^` - находим симметрическую разность\n",
    "\n",
    "**Словари**\n",
    "- `eng_rus_dict['house']` - узнать значение по ключу\n",
    "- `.keys()` — возвращает объект с ключами словаря.\n",
    "- `.values()` — возвращает объект со значениями словаря.\n",
    "- `.items()` — возвращает объект с кортежами вида (ключ, значение)\n",
    "- `.get(<ключ>, <что вывести, если ключ не найден>)` — возвращает значение по ключу или то, что надо вывести, если ключ не найден\n",
    "- `eng_rus_dict[\"new\"] = 'новый'` - добавить новую пару ключ-значение или изменить существующее значение у ключа\n",
    "- `del eng_rus_dict['key']` - удалить пару ключ-значение\n",
    "\n",
    "**Функции и методы для коллекций**\n",
    "- `.copy()` - сделать копию коллекции данных\n",
    "- `sorted(<что сортировать>, key=<какую функцию применить к аргументам>)` — функция сортировки (например: sorted(words, key=str.lower))\n",
    "\n",
    "**Изменяемость типов данных**\n",
    "\n",
    "Списки, множества и словари - изменяемые.\n",
    "\n",
    "**Общий вид объявления функции**\n",
    "```\n",
    "def <название_функции>(): \n",
    "    <тело/инструкции_функции>\n",
    "    return <результат работы функции>\n",
    "```\n",
    "**Модули и их функции**\n",
    "- `import math` - импортируем модуль math\n",
    "- `from math import sqrt` - импортируем функцию модуль `sqrt` из `math`\n",
    "- `from math import *` - импортируем всё из модуля `math`\n",
    "- `import string as s` - даем псевдоним модулю `string`\n",
    "- `math.sqrt()` - вычисляет квадратный корень\n",
    "- `random.randint()` - даёт рандомное целое число из промежутка\n",
    "- `random.uniform()` - даёт рандомное дробное число из промежутка\n",
    "- `string.punctuation` - частотные пунктуационные знаки"
   ]
  },
  {
   "cell_type": "markdown",
   "metadata": {
    "id": "ka7DNQkYilKi"
   },
   "source": [
    "# [pymorphy2](https://pymorphy2.readthedocs.io/en/stable/index.html) - морфологический анализатор для русского\n",
    "\n",
    "При работе используется словарь OpenCorpora; для незнакомых слов строятся гипотезы.\n",
    "\n",
    "(Есть и другие морфоанализаторы. См. natasha, Mystem, nltk, spacy и т. д.)"
   ]
  },
  {
   "cell_type": "code",
   "execution_count": 5,
   "metadata": {
    "colab": {
     "base_uri": "https://localhost:8080/"
    },
    "id": "aXds8ZVSjf2w",
    "outputId": "548286cd-8269-4a6d-a694-731926b10c7f"
   },
   "outputs": [
    {
     "name": "stdout",
     "output_type": "stream",
     "text": [
      "\u001b[33mDEPRECATION: Configuring installation scheme with distutils config files is deprecated and will no longer work in the near future. If you are using a Homebrew or Linuxbrew Python, please see discussion at https://github.com/Homebrew/homebrew-core/issues/76621\u001b[0m\u001b[33m\n",
      "\u001b[0mRequirement already satisfied: pymorphy2 in /usr/local/lib/python3.9/site-packages (0.8)\n",
      "Requirement already satisfied: pymorphy2-dicts<3.0,>=2.4 in /usr/local/lib/python3.9/site-packages (from pymorphy2) (2.4.393442.3710985)\n",
      "Requirement already satisfied: docopt>=0.6 in /usr/local/lib/python3.9/site-packages (from pymorphy2) (0.6.2)\n",
      "Requirement already satisfied: dawg-python>=0.7 in /usr/local/lib/python3.9/site-packages (from pymorphy2) (0.7.2)\n",
      "\u001b[33mDEPRECATION: Configuring installation scheme with distutils config files is deprecated and will no longer work in the near future. If you are using a Homebrew or Linuxbrew Python, please see discussion at https://github.com/Homebrew/homebrew-core/issues/76621\u001b[0m\u001b[33m\n",
      "\u001b[0m\n",
      "\u001b[1m[\u001b[0m\u001b[34;49mnotice\u001b[0m\u001b[1;39;49m]\u001b[0m\u001b[39;49m A new release of pip is available: \u001b[0m\u001b[31;49m23.0.1\u001b[0m\u001b[39;49m -> \u001b[0m\u001b[32;49m23.3.1\u001b[0m\n",
      "\u001b[1m[\u001b[0m\u001b[34;49mnotice\u001b[0m\u001b[1;39;49m]\u001b[0m\u001b[39;49m To update, run: \u001b[0m\u001b[32;49mpython3.9 -m pip install --upgrade pip\u001b[0m\n"
     ]
    }
   ],
   "source": [
    "! pip install pymorphy2  # устанавливаем"
   ]
  },
  {
   "cell_type": "code",
   "execution_count": 6,
   "metadata": {
    "id": "NyjMMiYhji1y"
   },
   "outputs": [],
   "source": [
    "from pymorphy2 import MorphAnalyzer\n",
    "morph = MorphAnalyzer()"
   ]
  },
  {
   "cell_type": "code",
   "execution_count": 7,
   "metadata": {
    "colab": {
     "base_uri": "https://localhost:8080/"
    },
    "id": "R_B9dXG_jn8s",
    "outputId": "9be2d3c9-8c4d-4b5f-997b-ef049b214833"
   },
   "outputs": [
    {
     "data": {
      "text/plain": [
       "[Parse(word='абракадабры', tag=OpencorporaTag('NOUN,inan,femn sing,gent'), normal_form='абракадабра', score=0.3333333333333333, methods_stack=((<DictionaryAnalyzer>, 'абракадабры', 55, 1),)),\n",
       " Parse(word='абракадабры', tag=OpencorporaTag('NOUN,inan,femn plur,nomn'), normal_form='абракадабра', score=0.3333333333333333, methods_stack=((<DictionaryAnalyzer>, 'абракадабры', 55, 7),)),\n",
       " Parse(word='абракадабры', tag=OpencorporaTag('NOUN,inan,femn plur,accs'), normal_form='абракадабра', score=0.3333333333333333, methods_stack=((<DictionaryAnalyzer>, 'абракадабры', 55, 10),))]"
      ]
     },
     "execution_count": 7,
     "metadata": {},
     "output_type": "execute_result"
    }
   ],
   "source": [
    "morph.parse('абракадабры') # умеет давать грам.информацию, лемму"
   ]
  },
  {
   "cell_type": "code",
   "execution_count": 8,
   "metadata": {
    "colab": {
     "base_uri": "https://localhost:8080/"
    },
    "id": "hjP8cp0Ajumr",
    "outputId": "5637079f-271c-43af-ccd2-80e2671228b0"
   },
   "outputs": [
    {
     "data": {
      "text/plain": [
       "[Parse(word='пила', tag=OpencorporaTag('NOUN,inan,femn sing,nomn'), normal_form='пила', score=0.428571, methods_stack=((<DictionaryAnalyzer>, 'пила', 55, 0),)),\n",
       " Parse(word='пила', tag=OpencorporaTag('VERB,impf,tran femn,sing,past,indc'), normal_form='пить', score=0.285714, methods_stack=((<DictionaryAnalyzer>, 'пила', 444, 8),)),\n",
       " Parse(word='пила', tag=OpencorporaTag('NOUN,anim,masc,Name sing,gent'), normal_form='пил', score=0.142857, methods_stack=((<DictionaryAnalyzer>, 'пила', 1124, 1),)),\n",
       " Parse(word='пила', tag=OpencorporaTag('NOUN,anim,masc,Name sing,accs'), normal_form='пил', score=0.142857, methods_stack=((<DictionaryAnalyzer>, 'пила', 1124, 3),))]"
      ]
     },
     "execution_count": 8,
     "metadata": {},
     "output_type": "execute_result"
    }
   ],
   "source": [
    "morph.parse('ПиЛа')  # регистр не влияет"
   ]
  },
  {
   "cell_type": "code",
   "execution_count": 9,
   "metadata": {
    "colab": {
     "base_uri": "https://localhost:8080/"
    },
    "id": "YH7PMxK9j2FK",
    "outputId": "cabc0941-fb73-4f1e-e8d2-9ced42722573"
   },
   "outputs": [
    {
     "data": {
      "text/plain": [
       "[Parse(word='водомотодельтаплан', tag=OpencorporaTag('NOUN,inan,masc sing,nomn'), normal_form='водомотодельтаплан', score=0.5, methods_stack=((<DictionaryAnalyzer>, 'мотодельтаплан', 33, 0), (<UnknownPrefixAnalyzer>, 'водо'))),\n",
       " Parse(word='водомотодельтаплан', tag=OpencorporaTag('NOUN,inan,masc sing,accs'), normal_form='водомотодельтаплан', score=0.5, methods_stack=((<DictionaryAnalyzer>, 'мотодельтаплан', 33, 3), (<UnknownPrefixAnalyzer>, 'водо')))]"
      ]
     },
     "execution_count": 9,
     "metadata": {},
     "output_type": "execute_result"
    }
   ],
   "source": [
    "# для незнакомых слов делает предположения по похожим\n",
    "morph.parse('водомотодельтаплан')"
   ]
  },
  {
   "cell_type": "code",
   "execution_count": 10,
   "metadata": {
    "colab": {
     "base_uri": "https://localhost:8080/"
    },
    "id": "prRsotbgj3yA",
    "outputId": "796d67af-f969-4119-966b-9098e2f6ab0f"
   },
   "outputs": [
    {
     "name": "stdout",
     "output_type": "stream",
     "text": [
      "Parse(word='дверь', tag=OpencorporaTag('NOUN,inan,femn sing,nomn'), normal_form='дверь', score=0.5, methods_stack=((<DictionaryAnalyzer>, 'дверь', 1250, 0),))\n",
      "Parse(word='дверьми', tag=OpencorporaTag('NOUN,inan,femn plur,ablt,Infr'), normal_form='дверь', score=1.0, methods_stack=((<DictionaryAnalyzer>, 'дверьми', 1250, 11),))\n"
     ]
    }
   ],
   "source": [
    "door = morph.parse('дверь')[0]  # может ставить слова в любую форму\n",
    "print(door)\n",
    "print(door.inflect({'plur','ablt'}))"
   ]
  },
  {
   "cell_type": "code",
   "execution_count": 11,
   "metadata": {
    "colab": {
     "base_uri": "https://localhost:8080/"
    },
    "id": "X6e8Afv9j_zD",
    "outputId": "04534035-dd22-44dc-fc28-c367f224cf16"
   },
   "outputs": [
    {
     "name": "stdout",
     "output_type": "stream",
     "text": [
      "[Parse(word='глокая', tag=OpencorporaTag('GRND,impf,intr pres'), normal_form='глокать', score=0.27950310559006214, methods_stack=((<DictionaryAnalyzer>, 'окая', 15, 67), (<UnknownPrefixAnalyzer>, 'гл'))), Parse(word='глокая', tag=OpencorporaTag('NOUN,anim,masc,Name sing,gent'), normal_form='глокай', score=0.27950310559006214, methods_stack=((<DictionaryAnalyzer>, 'кая', 41, 1), (<UnknownPrefixAnalyzer>, 'гло'))), Parse(word='глокая', tag=OpencorporaTag('NOUN,anim,masc,Name sing,accs'), normal_form='глокай', score=0.27950310559006214, methods_stack=((<DictionaryAnalyzer>, 'кая', 41, 3), (<UnknownPrefixAnalyzer>, 'гло'))), Parse(word='глокая', tag=OpencorporaTag('ADJF femn,sing,nomn'), normal_form='глокий', score=0.14906832298136646, methods_stack=((<FakeDictionary>, 'глокая', 377, 7), (<KnownSuffixAnalyzer>, 'окая'))), Parse(word='глокая', tag=OpencorporaTag('NOUN,inan,masc,Sgtm,Geox sing,gent'), normal_form='глокай', score=0.006211180124223603, methods_stack=((<FakeDictionary>, 'глокая', 42, 1), (<KnownSuffixAnalyzer>, 'окая'))), Parse(word='глокая', tag=OpencorporaTag('NOUN,inan,masc sing,gent'), normal_form='глокай', score=0.006211180124223603, methods_stack=((<FakeDictionary>, 'глокая', 1164, 1), (<KnownSuffixAnalyzer>, 'окая')))]\n"
     ]
    }
   ],
   "source": [
    "glokaja = morph.parse('глокая')\n",
    "print(glokaja)"
   ]
  },
  {
   "cell_type": "code",
   "execution_count": 12,
   "metadata": {
    "colab": {
     "base_uri": "https://localhost:8080/"
    },
    "id": "jPPO0gV1kW30",
    "outputId": "0f3897a3-ee52-4c68-b1cd-1c422a60a97e"
   },
   "outputs": [
    {
     "name": "stdout",
     "output_type": "stream",
     "text": [
      "Parse(word='глокав', tag=OpencorporaTag('GRND,impf,intr past'), normal_form='глокать', score=1.0, methods_stack=((<DictionaryAnalyzer>, 'окав', 15, 68), (<UnknownPrefixAnalyzer>, 'гл')))\n"
     ]
    }
   ],
   "source": [
    "# подберёт морфологию даже для несуществующих слов\n",
    "print(glokaja[0].inflect({'past'}))"
   ]
  },
  {
   "cell_type": "code",
   "execution_count": 13,
   "metadata": {},
   "outputs": [
    {
     "data": {
      "text/plain": [
       "OpencorporaTag('NOUN,inan,femn sing,nomn')"
      ]
     },
     "execution_count": 13,
     "metadata": {},
     "output_type": "execute_result"
    }
   ],
   "source": [
    "morph.parse('дверь')[0].tag  # door.tag"
   ]
  },
  {
   "cell_type": "code",
   "execution_count": 14,
   "metadata": {},
   "outputs": [
    {
     "data": {
      "text/plain": [
       "'nomn'"
      ]
     },
     "execution_count": 14,
     "metadata": {},
     "output_type": "execute_result"
    }
   ],
   "source": [
    "morph.parse('дверь')[0].tag.case"
   ]
  },
  {
   "cell_type": "markdown",
   "metadata": {},
   "source": [
    "Откуда взять эти атрибуты? Какой нужен атрибут, чтобы узнать число?\n",
    "\n",
    "Тут посмотреть, например: https://pymorphy2.readthedocs.io/en/stable/_modules/pymorphy2/tagset.html"
   ]
  },
  {
   "cell_type": "markdown",
   "metadata": {
    "id": "Cn5Z-uBVsyon"
   },
   "source": [
    "### Соединим наши знания\n",
    "Тренируемся:\n",
    "- делим текст на слова по пробелоподобным символам (получаем список)\n",
    "- проходим по словам\n",
    "    - отсекаем пунктуацию\n",
    "    - печатаем слово\n",
    "    - печатаем лемму и часть речи"
   ]
  },
  {
   "cell_type": "code",
   "execution_count": 15,
   "metadata": {
    "id": "Nz8Njmnjsv2d"
   },
   "outputs": [],
   "source": [
    "text = \"Жили-были трое троллей на вершинах дальних гор. Жили тролли не скучали, хоть молчали с давних пор. Как-то раз, никто не знает, от каких таких причин...\""
   ]
  },
  {
   "cell_type": "code",
   "execution_count": 16,
   "metadata": {},
   "outputs": [],
   "source": [
    "from string import punctuation as punc"
   ]
  },
  {
   "cell_type": "code",
   "execution_count": 17,
   "metadata": {},
   "outputs": [
    {
     "data": {
      "text/plain": [
       "'!\"#$%&\\'()*+,-./:;<=>?@[\\\\]^_`{|}~'"
      ]
     },
     "execution_count": 17,
     "metadata": {},
     "output_type": "execute_result"
    }
   ],
   "source": [
    "punc"
   ]
  },
  {
   "cell_type": "code",
   "execution_count": 18,
   "metadata": {},
   "outputs": [
    {
     "name": "stdout",
     "output_type": "stream",
     "text": [
      "Жили-были\n",
      "жить-быть VERB\n",
      "трое\n",
      "трое NUMR\n",
      "троллей\n",
      "тролль NOUN\n",
      "на\n",
      "на PREP\n",
      "вершинах\n",
      "вершина NOUN\n",
      "дальних\n",
      "дальний ADJF\n",
      "гор\n",
      "гора NOUN\n",
      "Жили\n",
      "жить VERB\n",
      "тролли\n",
      "тролль NOUN\n",
      "не\n",
      "не PRCL\n",
      "скучали\n",
      "скучать VERB\n",
      "хоть\n",
      "хоть CONJ\n",
      "молчали\n",
      "молчать VERB\n",
      "с\n",
      "с PREP\n",
      "давних\n",
      "давний ADJF\n",
      "пор\n",
      "пора NOUN\n",
      "Как-то\n",
      "как-то ADVB\n",
      "раз\n",
      "раз NOUN\n",
      "никто\n",
      "никто NPRO\n",
      "не\n",
      "не PRCL\n",
      "знает\n",
      "знать VERB\n",
      "от\n",
      "от PREP\n",
      "каких\n",
      "какой ADJF\n",
      "таких\n",
      "такой ADJF\n",
      "причин\n",
      "причина NOUN\n"
     ]
    }
   ],
   "source": [
    "# ваш код\n",
    "for word in text.split():\n",
    "    print(word.strip(punc))\n",
    "    print(morph.parse(word.strip(punc))[0].normal_form,\n",
    "          morph.parse(word.strip(punc))[0].tag.POS)"
   ]
  },
  {
   "cell_type": "markdown",
   "metadata": {},
   "source": [
    "Или можно сначала сохранять в список, а потом печатать."
   ]
  },
  {
   "cell_type": "code",
   "execution_count": 20,
   "metadata": {},
   "outputs": [
    {
     "data": {
      "text/plain": [
       "['жить-быть', 'трое', 'тролль', 'на', 'вершина']"
      ]
     },
     "execution_count": 20,
     "metadata": {},
     "output_type": "execute_result"
    }
   ],
   "source": [
    "lemmas = []\n",
    "for word in text.split():\n",
    "    lemma = morph.parse(word.strip(punc))[0].normal_form\n",
    "    lemmas.append(lemma)\n",
    "lemmas[:5]"
   ]
  },
  {
   "cell_type": "markdown",
   "metadata": {},
   "source": [
    "#### Пишем функцию, которая превращает любой текст в список лемм"
   ]
  },
  {
   "cell_type": "code",
   "execution_count": 21,
   "metadata": {},
   "outputs": [],
   "source": [
    "def text2lemmas(text): \n",
    "    lemmas = []\n",
    "    for word in text.split():\n",
    "        lemma = morph.parse(word.strip(punc))[0].normal_form\n",
    "        lemmas.append(lemma)\n",
    "    return lemmas"
   ]
  },
  {
   "cell_type": "code",
   "execution_count": 22,
   "metadata": {},
   "outputs": [
    {
     "data": {
      "text/plain": [
       "['как', 'дело']"
      ]
     },
     "execution_count": 22,
     "metadata": {},
     "output_type": "execute_result"
    }
   ],
   "source": [
    "mylemmas = text2lemmas('Как дела?')\n",
    "mylemmas"
   ]
  },
  {
   "cell_type": "markdown",
   "metadata": {},
   "source": [
    "### Тренируемся"
   ]
  },
  {
   "cell_type": "markdown",
   "metadata": {},
   "source": [
    "##### Про курс\n",
    "\n",
    "Напишите функцию `rub2euro`, которая принимает два аргумента — rub (количество рублей, вещественное число) и `exchange_rate` (курс евро, вещественное число), и возвращает количество евро, которое можно купить на это количество рублей по текущему курсу."
   ]
  },
  {
   "cell_type": "code",
   "execution_count": 23,
   "metadata": {},
   "outputs": [],
   "source": [
    "def rub2euro(rub, exchange_rate):\n",
    "    euro = rub/exchange_rate\n",
    "    return euro"
   ]
  },
  {
   "cell_type": "code",
   "execution_count": 24,
   "metadata": {},
   "outputs": [
    {
     "data": {
      "text/plain": [
       "11.764705882352942"
      ]
     },
     "execution_count": 24,
     "metadata": {},
     "output_type": "execute_result"
    }
   ],
   "source": [
    "rub2euro(1000, 85)"
   ]
  },
  {
   "cell_type": "markdown",
   "metadata": {},
   "source": [
    "##### Про домофон\n",
    "Чтобы позвонить в домофон, нужно нажать на кнопку `*`, а потом набрать некую последовательность цифр — номер вызываемой квартиры. Напишите функцию, которая проверяет, правильно ли сделан набор на домофоне для звонка.\n",
    "\n",
    "ТРЕБУЕМАЯ ФУНКЦИЯ\n",
    "\n",
    "Функция `check_door_phone`, которая принимает в качестве первого параметра строку — последовательность введенных с помощью кнопок домофона символов\n",
    "В качестве второго параметра функция принимает список из двух чисел — номера первой и последней квартиры в подъезде\n",
    "\n",
    "Функция должна вернуть `True`, если ввод совершен корректен (начинается с символа `*` и заканчивается номером квартиры, находящейся в данном подъезде) и `False` в обратном случае"
   ]
  },
  {
   "cell_type": "code",
   "execution_count": 25,
   "metadata": {},
   "outputs": [],
   "source": [
    "def check_door_phone(code, flats):\n",
    "    answer = False\n",
    "    if code.startswith('*'):\n",
    "        nostar = code[1:]\n",
    "        if nostar.isdigit():\n",
    "            code_num = int(nostar)\n",
    "            if code_num in range(flats[0], flats[1]):\n",
    "                answer = True\n",
    "    return answer"
   ]
  },
  {
   "cell_type": "code",
   "execution_count": 27,
   "metadata": {},
   "outputs": [
    {
     "data": {
      "text/plain": [
       "True"
      ]
     },
     "execution_count": 27,
     "metadata": {},
     "output_type": "execute_result"
    }
   ],
   "source": [
    "myanswer = check_door_phone('*46', [12, 70])\n",
    "myanswer"
   ]
  }
 ],
 "metadata": {
  "colab": {
   "provenance": []
  },
  "kernelspec": {
   "display_name": "Python 3 (ipykernel)",
   "language": "python",
   "name": "python3"
  },
  "language_info": {
   "codemirror_mode": {
    "name": "ipython",
    "version": 3
   },
   "file_extension": ".py",
   "mimetype": "text/x-python",
   "name": "python",
   "nbconvert_exporter": "python",
   "pygments_lexer": "ipython3",
   "version": "3.9.16"
  }
 },
 "nbformat": 4,
 "nbformat_minor": 1
}
