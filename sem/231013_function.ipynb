{
 "cells": [
  {
   "cell_type": "markdown",
   "metadata": {},
   "source": [
    "# Функции"
   ]
  },
  {
   "cell_type": "markdown",
   "metadata": {},
   "source": [
    "Мы уже знаем про:\n",
    "- типы данных `int`, `float`, `str`, `bool`, `list` [список], `tuple` (кортеж неизменяемый), `set` {множество}, `dict` словарь {ключ: значение}\n",
    "- математические операторы: `+`, `-`, `/`, `*`, `**` (в степень), `%` (остаток от деления), `//` (целая часть при делении)\n",
    "- `print()` — напечатать\n",
    "- `type()` — узнать тип данных\n",
    "- `input()` — принять значение от пользователя\n",
    "- `int()` — преобразовать в целочисленный формат\n",
    "- `float()` — преобразовать в формат дробного числа\n",
    "- `str()` — преобразовать в строку\n",
    "- `bool()` — преобразовать в bool (True/False)\n",
    "- `list()` — преобразовать в список\n",
    "- `tuple()` — преобразовать в кортеж\n",
    "- `set()` — преобразовать во множество\n",
    "- `dict()` — преобразовать в словарь\n",
    "\n",
    "- условия:\n",
    "```\n",
    "if <условие>:\n",
    "    <инструкции, для случая если условие истинно (True)>\n",
    "#elif <условие №2>:\n",
    "#    <инструкции, для случая если условие №2 истинно (True)>\n",
    "#else:\n",
    "#    <инструкции, когда все условия не выполнились (False)>\n",
    "```\n",
    "- операторы сравнения: `>`, `<`, `>=`, `<=`, `==` (равно), `!=` (не равно)\n",
    "- логические операторы: `and`, `or`, `not`\n",
    "- цикл `while`:\n",
    "```\n",
    "while <условие>:\n",
    "    <инструкции, которые будут выполняться по кругу, пока условие выполняется True>\n",
    "```\n",
    "- цикл `for`\n",
    "```\n",
    "for <element> in <elements>:\n",
    "       <инструкции, которые будут выполняться для каждого элемента>\n",
    "```\n",
    "- `.split()` - поделить строку, указанную до точки, по сочетанию символов, указанных в скобках (строка -> список)\n",
    "- индексация с нуля: `итерируемый_объект[индекс]`\n",
    "- срезы: `итерируемый_объект[START:END:STEP]`\n",
    "- `*список` - то же самое, что `список[0] список[1] список[2] список[3]...`\n",
    "- `len()` - узнать длину\n",
    "- `range()` - \"обещание последовательности чисел\" (`list(range(0, 8, 2))` - `[0, 2, 4, 6]`)\n",
    "- `enumerate()` - делает последовательность кортежей: [(порядковый_номер, элемент), (порядковый_номер, элемент), (порядковый_номер, элемент)]\n",
    "\n",
    "**Методы списка (+ строк и кортежей, если метод ничего не изменяет)**\n",
    "- `list.append()` - добавление элемента в конец списка\n",
    "- `list.extend(another_list)` - расширяет список, добавляя в конец все элементы списка `another_list` (и не только списка)\n",
    "- `list.insert(i, x)` — вставляет в `i`-ую позицию в списке значение `x`\n",
    "- `list.remove(x)` — удаляет первый элемент в списке, имеющий значение `x`\n",
    "- `list.pop(i)` - удаляет элемент с индексом `i` (по умолчанию последний) и возвращает удалённый элемент\n",
    "- `list.clear()` — очищает список\n",
    "- `list.count(x)` — узнать, сколько раз встречается элемент `x`\n",
    "- `list.index(x)` — узнать индекс элемента `x` в списке\n",
    "\n",
    "**Функции для списков и кортежей**\n",
    "- `sum()` — сумма\n",
    "- `min()` — минимальное\n",
    "- `max()` — максимальное\n",
    "- `map()` — применить функцию или метод ко всем элементам сразу (`print(list(map(len, ['Привет', 'ТЕСТ', 'функции', 'map!'])))` - `[6, 4, 7, 4]`), (`print(list(map(str.split, ['Таня Казакова', 'Максим Бажуков', 'Олег Сериков'])))` - `[['Таня', 'Казакова'], ['Максим', 'Бажуков']]`)\n",
    "\n",
    "**Методы строк**\n",
    "- `str.strip()`, `str.lstrip()`, `str.rstrip()` - убрать символы на концах строки\n",
    "- `str.lower()`, `str.casefold()` - понизить регистр\n",
    "- `str.capitalize()`, `str.upper()`, `str.title()` - повысить регистр (как в предложении, всех букв, начальной буквы каждого слова)\n",
    "- `str.replace(\"<что>\", \"<на что>\")` - делаем замены\n",
    "- `str.find()` (`str.rfind()`) (а также `str.index()`, `str.rindex()`) - найти позицию символа в строке\n",
    "- `str.count()` - подсчёт нужных символов в строке\n",
    "- `str.split()` с `maxsplit` - делит строку по выбранной строке\n",
    "- `<чем>.join(<что>)` - соединить элементы списка\n",
    "- `str.startswith()` - проверяет, что строка начинается с определённой подстроки\n",
    "- `str.endswith()` - проверяет, что строка кончается на определённую подстроку\n",
    "- `str.isalpha()` - проверяет, что строка состоит только из букв\n",
    "- `str.isdigit()` - проверяет, что строка состоит только из цифр\n",
    "- `str.isalnum()` - проверяет, что строка состоит только из букв и цифр\n",
    "- `str.islower()` - проверяет, что все буквы в строке нижнего регистра\n",
    "- `str.isupper()` - проверяет, что все буквы в строке верхнего регистра\n",
    "\n",
    "Форматирование строк 1:`\"Результат: {}\".format(res)`\n",
    "\n",
    "Форматирование строк 2: `f\"Результат: {res}\"`\n",
    "\n",
    "**Методы множеств**\n",
    "- `.add()` - добавить элемент\n",
    "- `.update()` - добавить несколько элементов в множество\n",
    "- `.remove()` - удалить элемент из множества\n",
    "- `.union()` или `|` - объединяем множества\n",
    "- `.intersection()` или `&` - пересекаем множества\n",
    "- `.difference()` или `-` - ищем разность\n",
    "- `.symmetric_difference()` или `^` - находим симметрическую разность\n",
    "\n",
    "**Словари**\n",
    "- `eng_rus_dict['house']` - узнать значение по ключу\n",
    "- `.keys()` — возвращает объект с ключами словаря.\n",
    "- `.values()` — возвращает объект со значениями словаря.\n",
    "- `.items()` — возвращает объект с кортежами вида (ключ, значение)\n",
    "- `.get(<ключ>, <что вывести, если ключ не найден>)` — возвращает значение по ключу или то, что надо вывести, если ключ не найден\n",
    "- `eng_rus_dict[\"new\"] = 'новый'` - добавить новую пару ключ-значение или изменить существующее значение у ключа\n",
    "- `del eng_rus_dict['key']` - удалить пару ключ-значение\n",
    "\n",
    "**Функции и методы для коллекций**\n",
    "- `.copy()` - сделать копию коллекции данных\n",
    "- `sorted(<что сортировать>, key=<какую функцию применить к аргументам>)` — функция сортировки (например: sorted(words, key=str.lower))\n",
    "\n",
    "**Изменяемость типов данных**\n",
    "\n",
    "Списки, множества и словари - изменяемые."
   ]
  },
  {
   "cell_type": "markdown",
   "metadata": {},
   "source": [
    "##  Задание про магазин"
   ]
  },
  {
   "cell_type": "markdown",
   "metadata": {},
   "source": [
    "Вам дана информация про товары в магазине &mdash; словарь, где для каждого названия продукта приведена информация о нём (тоже хранящаяся в списке):\n",
    "- цена товара `price`, например `124` или `560`\n",
    "- категория `category`, к которой относится товар `category`, например `product` или `utility`\n",
    "- список тэгов `tags`, описывающих товар, например `['meat', 'fresh']`"
   ]
  },
  {
   "cell_type": "code",
   "execution_count": 1,
   "metadata": {},
   "outputs": [],
   "source": [
    "items = {\n",
    "    'яблоки':  {'category': 'product', 'price': 124, 'tags': ['fruit', 'fresh']},\n",
    "    'курица':  {'category': 'product', 'price': 480, 'tags': ['meat', 'fresh']},\n",
    "    'спички':  {'category': 'utility', 'price': 45,  'tags': ['meat', 'fresh']},\n",
    "    'тетрадь': {'category': 'utility', 'price': 40,  'tags': ['writing']},\n",
    "    'соль':    {'category': 'product', 'price': 60,  'tags': ['spice']},\n",
    "    'перец':   {'category': 'product', 'price': 35,  'tags': ['spice']},\n",
    "}"
   ]
  },
  {
   "cell_type": "markdown",
   "metadata": {},
   "source": [
    "В магазине новые товары. Добавьте в items.\n",
    "\n",
    "Продавец вводит:\n",
    "- `хлеб product 25 bakery fresh`"
   ]
  },
  {
   "cell_type": "code",
   "execution_count": 2,
   "metadata": {},
   "outputs": [
    {
     "data": {
      "text/plain": [
       "['хлеб', 'product', '25', 'bakery', 'fresh']"
      ]
     },
     "execution_count": 2,
     "metadata": {},
     "output_type": "execute_result"
    }
   ],
   "source": [
    "s = 'хлеб product 25 bakery fresh'\n",
    "product_info = s.split()\n",
    "product_info"
   ]
  },
  {
   "cell_type": "code",
   "execution_count": 3,
   "metadata": {},
   "outputs": [],
   "source": [
    "product_dict = {'category': product_info[1],\n",
    "                'price': product_info[2],\n",
    "                'tags': product_info[3:]}\n",
    "# значением является вот такой словарь:\n",
    "# {'category': 'product', 'price': 25,  'tags': ['bakery', 'fresh']}\n",
    "\n",
    "items[product_info[0]] = product_dict"
   ]
  },
  {
   "cell_type": "code",
   "execution_count": 4,
   "metadata": {},
   "outputs": [
    {
     "data": {
      "text/plain": [
       "{'яблоки': {'category': 'product', 'price': 124, 'tags': ['fruit', 'fresh']},\n",
       " 'курица': {'category': 'product', 'price': 480, 'tags': ['meat', 'fresh']},\n",
       " 'спички': {'category': 'utility', 'price': 45, 'tags': ['meat', 'fresh']},\n",
       " 'тетрадь': {'category': 'utility', 'price': 40, 'tags': ['writing']},\n",
       " 'соль': {'category': 'product', 'price': 60, 'tags': ['spice']},\n",
       " 'перец': {'category': 'product', 'price': 35, 'tags': ['spice']},\n",
       " 'хлеб': {'category': 'product', 'price': '25', 'tags': ['bakery', 'fresh']}}"
      ]
     },
     "execution_count": 4,
     "metadata": {},
     "output_type": "execute_result"
    }
   ],
   "source": [
    "items"
   ]
  },
  {
   "cell_type": "markdown",
   "metadata": {},
   "source": [
    "# Функции"
   ]
  },
  {
   "cell_type": "markdown",
   "metadata": {},
   "source": [
    "Мы часто и много использовали разные **функции**:\n",
    "\n",
    "- `input` для получения данных от пользователя \n",
    "- чтобы преобразовать данные к определённому типу...\n",
    "    - `int`, `float`, `str`, `bool`\n",
    "    - `list`, `tuple`, `set`, `dict`\n",
    "- `len` для нахождения длины (размера) списка, кортежа, множества или словаря, а также строчки\n",
    "- `type` чтобы узнать тип данных\n",
    "- `sum`, `max`, `min` чтобы найти сумму последовательности, а также максимальный и минимальный элемент в ней\n",
    "\n",
    "и т. д. ... и даже\n",
    "- `sentenize`, `tokenize`, из модуля <span style=\"background-color: blue\"><code>razdel</code></span>, который мы отдельно загружали, чтобы разбить на предложения текст и на слова предложение\n",
    "    "
   ]
  },
  {
   "cell_type": "markdown",
   "metadata": {},
   "source": [
    "Вообще-то создать функцию с желаемым для нас (!) действием мы можем сами!"
   ]
  },
  {
   "cell_type": "markdown",
   "metadata": {},
   "source": [
    "Зачем нам писать функции?"
   ]
  },
  {
   "cell_type": "markdown",
   "metadata": {},
   "source": [
    "Вспомним код для приёма товара в магазин.\n",
    "    Каждый раз, когда поступает новый товар, надо писать те 6 строк кода?\n",
    "    Это длинно и неэкономно.\n",
    "\n",
    "Удобно, когда есть коротенькая функция, которая выполняет то, что мы хотим (даже если это требует многих действий)."
   ]
  },
  {
   "cell_type": "code",
   "execution_count": 5,
   "metadata": {},
   "outputs": [],
   "source": [
    "# Сделали из того кода функцию\n",
    "def get_item():\n",
    "    iteminput = input().split()\n",
    "    product_info = {}\n",
    "    product_info['category'] = iteminput[1]\n",
    "    product_info['price'] = iteminput[2]\n",
    "    product_info['tags'] = iteminput[3:]\n",
    "    \n",
    "    return (iteminput[0], product_info)"
   ]
  },
  {
   "cell_type": "markdown",
   "metadata": {},
   "source": [
    "Когда функция должна что-то отдать, это записывается после слова `return`.\n",
    "\n",
    "Ниже разберёмся подробнее.\n",
    "    Пока важно, что эта функция всё сразу делает, и выдаёт аккуратный ответ, нам остаётся лишь добавить значения в словарь."
   ]
  },
  {
   "cell_type": "code",
   "execution_count": 6,
   "metadata": {},
   "outputs": [
    {
     "name": "stdout",
     "output_type": "stream",
     "text": [
      "хлеб product 25 bakery fresh\n"
     ]
    }
   ],
   "source": [
    "# Теперь мы будем писать get_item(), когда захотим проделать те 6 действий\n",
    "\n",
    "item_name, product_info = get_item()\n",
    "\n",
    "items[item_name] = product_info"
   ]
  },
  {
   "cell_type": "code",
   "execution_count": 7,
   "metadata": {},
   "outputs": [
    {
     "data": {
      "text/plain": [
       "{'яблоки': {'category': 'product', 'price': 124, 'tags': ['fruit', 'fresh']},\n",
       " 'курица': {'category': 'product', 'price': 480, 'tags': ['meat', 'fresh']},\n",
       " 'спички': {'category': 'utility', 'price': 45, 'tags': ['meat', 'fresh']},\n",
       " 'тетрадь': {'category': 'utility', 'price': 40, 'tags': ['writing']},\n",
       " 'соль': {'category': 'product', 'price': 60, 'tags': ['spice']},\n",
       " 'перец': {'category': 'product', 'price': 35, 'tags': ['spice']},\n",
       " 'хлеб': {'category': 'product', 'price': '25', 'tags': ['bakery', 'fresh']}}"
      ]
     },
     "execution_count": 7,
     "metadata": {},
     "output_type": "execute_result"
    }
   ],
   "source": [
    "items"
   ]
  },
  {
   "cell_type": "markdown",
   "metadata": {},
   "source": [
    "Общий вид:\n",
    "\n",
    "```python\n",
    "def <название_функции>(): \n",
    "    <тело/инструкции_функции>\n",
    "```"
   ]
  },
  {
   "cell_type": "code",
   "execution_count": 8,
   "metadata": {},
   "outputs": [],
   "source": [
    "def say_hello():\n",
    "    print('Привет!')"
   ]
  },
  {
   "cell_type": "code",
   "execution_count": 9,
   "metadata": {},
   "outputs": [
    {
     "name": "stdout",
     "output_type": "stream",
     "text": [
      "Привет!\n"
     ]
    }
   ],
   "source": [
    "say_hello()"
   ]
  },
  {
   "cell_type": "markdown",
   "metadata": {},
   "source": [
    "В скобках &mdash; входные параметры."
   ]
  },
  {
   "cell_type": "code",
   "execution_count": 10,
   "metadata": {},
   "outputs": [],
   "source": [
    "def say_hello(username):\n",
    "    print(f'Привет, {username}!')"
   ]
  },
  {
   "cell_type": "code",
   "execution_count": 11,
   "metadata": {},
   "outputs": [
    {
     "name": "stdout",
     "output_type": "stream",
     "text": [
      "Привет, Макс!\n"
     ]
    }
   ],
   "source": [
    "say_hello('Макс')"
   ]
  },
  {
   "cell_type": "code",
   "execution_count": 12,
   "metadata": {},
   "outputs": [],
   "source": [
    "def say_hello():\n",
    "    username = input('Как тебя зовут? ')\n",
    "    print(f'Привет, {username}!')"
   ]
  },
  {
   "cell_type": "code",
   "execution_count": 13,
   "metadata": {},
   "outputs": [
    {
     "name": "stdout",
     "output_type": "stream",
     "text": [
      "Как тебя зовут? Таня\n",
      "Привет, Таня!\n"
     ]
    }
   ],
   "source": [
    "say_hello()"
   ]
  },
  {
   "cell_type": "code",
   "execution_count": 14,
   "metadata": {},
   "outputs": [],
   "source": [
    "# Если возраст > 30, \"Здравствуйте\", а если меньше - \"Привет\"\n",
    "def say_hello(username, age):\n",
    "    if age > 30:\n",
    "        print(f'Здравствуйте, {username}!')\n",
    "    else:\n",
    "        print(f'Привет, {username}!')"
   ]
  },
  {
   "cell_type": "code",
   "execution_count": 15,
   "metadata": {},
   "outputs": [
    {
     "name": "stdout",
     "output_type": "stream",
     "text": [
      "Здравствуйте, Инна!\n"
     ]
    }
   ],
   "source": [
    "say_hello('Инна', 35)"
   ]
  },
  {
   "cell_type": "markdown",
   "metadata": {},
   "source": [
    "Считаем среднее арифметическое для списка"
   ]
  },
  {
   "cell_type": "code",
   "execution_count": 16,
   "metadata": {},
   "outputs": [
    {
     "name": "stdout",
     "output_type": "stream",
     "text": [
      "2.0\n"
     ]
    }
   ],
   "source": [
    "mylist = [1, 2, 3]\n",
    "list_mean = sum(mylist)/len(mylist)\n",
    "print(list_mean)"
   ]
  },
  {
   "cell_type": "code",
   "execution_count": 17,
   "metadata": {},
   "outputs": [],
   "source": [
    "# Напишем функцию нахождения среднего\n",
    "def mean(somelist):\n",
    "    average = sum(somelist)/len(somelist)\n",
    "    print(average)"
   ]
  },
  {
   "cell_type": "code",
   "execution_count": 18,
   "metadata": {},
   "outputs": [
    {
     "name": "stdout",
     "output_type": "stream",
     "text": [
      "3.0\n"
     ]
    }
   ],
   "source": [
    "another_list = [1, 2, 3, 4, 5]\n",
    "mean(another_list)"
   ]
  },
  {
   "cell_type": "code",
   "execution_count": 19,
   "metadata": {},
   "outputs": [
    {
     "name": "stdout",
     "output_type": "stream",
     "text": [
      "2.0\n"
     ]
    }
   ],
   "source": [
    "mean([1, 2, 3])"
   ]
  },
  {
   "cell_type": "markdown",
   "metadata": {},
   "source": [
    "Если сохранить результат работы такой функции в переменную, в переменной будет лежать `None`. (`None` - ничего)"
   ]
  },
  {
   "cell_type": "code",
   "execution_count": 20,
   "metadata": {},
   "outputs": [
    {
     "name": "stdout",
     "output_type": "stream",
     "text": [
      "6\n"
     ]
    }
   ],
   "source": [
    "gotten_sum = sum([1, 2, 3])\n",
    "print(gotten_sum)"
   ]
  },
  {
   "cell_type": "code",
   "execution_count": 21,
   "metadata": {},
   "outputs": [
    {
     "name": "stdout",
     "output_type": "stream",
     "text": [
      "2.0\n",
      "None\n"
     ]
    }
   ],
   "source": [
    "gotten_average = mean([1, 2, 3])\n",
    "print(gotten_average)"
   ]
  },
  {
   "cell_type": "code",
   "execution_count": 22,
   "metadata": {},
   "outputs": [
    {
     "name": "stdout",
     "output_type": "stream",
     "text": [
      "None\n"
     ]
    }
   ],
   "source": [
    "print(gotten_average)"
   ]
  },
  {
   "cell_type": "code",
   "execution_count": 23,
   "metadata": {},
   "outputs": [
    {
     "name": "stdout",
     "output_type": "stream",
     "text": [
      "2.0\n",
      "Что лежит в gotten_average?\n",
      "None\n"
     ]
    }
   ],
   "source": [
    "gotten_average = mean([1, 2, 3])\n",
    "print('Что лежит в gotten_average?')\n",
    "print(gotten_average)"
   ]
  },
  {
   "cell_type": "code",
   "execution_count": 24,
   "metadata": {},
   "outputs": [
    {
     "name": "stdout",
     "output_type": "stream",
     "text": [
      "None\n"
     ]
    }
   ],
   "source": [
    "print(gotten_average)"
   ]
  },
  {
   "cell_type": "markdown",
   "metadata": {},
   "source": [
    "В чём дело? Функция ничего не возвращает (она возвращает `None`).\n",
    "\n",
    "`return` &mdash; верни"
   ]
  },
  {
   "cell_type": "code",
   "execution_count": 25,
   "metadata": {},
   "outputs": [],
   "source": [
    "def mean(mylist):\n",
    "    average = sum(mylist) / len(mylist)\n",
    "    return average"
   ]
  },
  {
   "cell_type": "code",
   "execution_count": 26,
   "metadata": {},
   "outputs": [
    {
     "data": {
      "text/plain": [
       "2.0"
      ]
     },
     "execution_count": 26,
     "metadata": {},
     "output_type": "execute_result"
    }
   ],
   "source": [
    "mean([1, 2, 3])"
   ]
  },
  {
   "cell_type": "code",
   "execution_count": 27,
   "metadata": {},
   "outputs": [
    {
     "name": "stdout",
     "output_type": "stream",
     "text": [
      "Что лежит в gotten_average?\n",
      "2.0\n"
     ]
    }
   ],
   "source": [
    "gotten_average = mean([1, 2, 3])\n",
    "print('Что лежит в gotten_average?')\n",
    "print(gotten_average)"
   ]
  },
  {
   "cell_type": "markdown",
   "metadata": {},
   "source": [
    "Важно! То, что происходит внутри функции, остаётся внутри функции.\n"
   ]
  },
  {
   "cell_type": "code",
   "execution_count": 28,
   "metadata": {},
   "outputs": [
    {
     "ename": "NameError",
     "evalue": "name 'average' is not defined",
     "output_type": "error",
     "traceback": [
      "\u001b[0;31m---------------------------------------------------------------------------\u001b[0m",
      "\u001b[0;31mNameError\u001b[0m                                 Traceback (most recent call last)",
      "Input \u001b[0;32mIn [28]\u001b[0m, in \u001b[0;36m<cell line: 2>\u001b[0;34m()\u001b[0m\n\u001b[1;32m      1\u001b[0m \u001b[38;5;66;03m# Так не получится\u001b[39;00m\n\u001b[0;32m----> 2\u001b[0m \u001b[38;5;28mprint\u001b[39m(\u001b[43maverage\u001b[49m)\n",
      "\u001b[0;31mNameError\u001b[0m: name 'average' is not defined"
     ]
    }
   ],
   "source": [
    "# Так не получится\n",
    "print(average)"
   ]
  },
  {
   "cell_type": "markdown",
   "metadata": {},
   "source": [
    "Любые переменные, объявленные внутри функции, для основного кода программы не существуют.\n",
    "\n",
    "Это хорошо.\n",
    "    Нам совершенно не важно, какие переменные использовали внутри функции `len()`, или `sum()`, или любой другой.\n",
    "    Мы ничего случайно не переназовём и не испортим."
   ]
  },
  {
   "cell_type": "code",
   "execution_count": 29,
   "metadata": {},
   "outputs": [],
   "source": [
    "# !! нельзя называть переменную как функцию!! "
   ]
  },
  {
   "cell_type": "code",
   "execution_count": 30,
   "metadata": {},
   "outputs": [],
   "source": [
    "# Ааа, нельзя так!\n",
    "print = 5151\n",
    "str = 6"
   ]
  },
  {
   "cell_type": "markdown",
   "metadata": {},
   "source": [
    "Теперь питон думает, что `print` и `str` числа `5151` и `6`.\n",
    "\n",
    "Он не помнит, что первое должно у меть печатать, а второе превращать в строки."
   ]
  },
  {
   "cell_type": "code",
   "execution_count": 31,
   "metadata": {},
   "outputs": [
    {
     "ename": "TypeError",
     "evalue": "'int' object is not callable",
     "output_type": "error",
     "traceback": [
      "\u001b[0;31m---------------------------------------------------------------------------\u001b[0m",
      "\u001b[0;31mTypeError\u001b[0m                                 Traceback (most recent call last)",
      "Input \u001b[0;32mIn [31]\u001b[0m, in \u001b[0;36m<cell line: 1>\u001b[0;34m()\u001b[0m\n\u001b[0;32m----> 1\u001b[0m \u001b[38;5;28;43mprint\u001b[39;49m\u001b[43m(\u001b[49m\u001b[38;5;241;43m415\u001b[39;49m\u001b[43m)\u001b[49m\n",
      "\u001b[0;31mTypeError\u001b[0m: 'int' object is not callable"
     ]
    }
   ],
   "source": [
    "print(415)"
   ]
  },
  {
   "cell_type": "markdown",
   "metadata": {},
   "source": [
    "Чтобы питон всомнил, как пользоваться этими функциями, нужно стереть память о переназначении названий функции. `Ядро(Kernel) > Перезапустить(Restart)`\n",
    "\n",
    "Но из-за этого мы потеряем все сохранённые переменные, импортированные модули. Нужно будет заново запускать все ячейки."
   ]
  },
  {
   "cell_type": "code",
   "execution_count": 1,
   "metadata": {},
   "outputs": [
    {
     "name": "stdout",
     "output_type": "stream",
     "text": [
      "415\n"
     ]
    }
   ],
   "source": [
    "print(415)"
   ]
  },
  {
   "cell_type": "markdown",
   "metadata": {},
   "source": [
    "### Про изменяемость"
   ]
  },
  {
   "cell_type": "code",
   "execution_count": 2,
   "metadata": {},
   "outputs": [
    {
     "name": "stdout",
     "output_type": "stream",
     "text": [
      "До использования функции s1 = исходная строка\n",
      "исходная строка + добавка\n",
      "После использования функции s1 = исходная строка\n"
     ]
    }
   ],
   "source": [
    "def update_string(s):\n",
    "    s += ' + добавка'\n",
    "    return s\n",
    "\n",
    "\n",
    "s1 = 'исходная строка'\n",
    "print('До использования функции s1 =', s1)\n",
    "print(update_string(s1))\n",
    "print('После использования функции s1 =', s1)"
   ]
  },
  {
   "cell_type": "code",
   "execution_count": 3,
   "metadata": {},
   "outputs": [
    {
     "name": "stdout",
     "output_type": "stream",
     "text": [
      "До использования функции: ['исходный', 'список']\n",
      "['исходный', 'список', ' + добавка']\n",
      "После использования функции: ['исходный', 'список', ' + добавка']\n"
     ]
    }
   ],
   "source": [
    "# С какими ещё типами данных будет так работать? Со словарями и множествами.\n",
    "\n",
    "def update_list(mylist):\n",
    "    mylist.append(' + добавка')\n",
    "    return mylist\n",
    "\n",
    "\n",
    "mylist1 = ['исходный', 'список']\n",
    "print('До использования функции:', mylist1)\n",
    "print(update_list(mylist1))\n",
    "print('После использования функции:', mylist1)"
   ]
  },
  {
   "cell_type": "markdown",
   "metadata": {},
   "source": [
    "### Обратно к функциям"
   ]
  },
  {
   "cell_type": "markdown",
   "metadata": {},
   "source": [
    "Могут быть несколько разных `return` в зависимости от условия\n"
   ]
  },
  {
   "cell_type": "code",
   "execution_count": 4,
   "metadata": {},
   "outputs": [],
   "source": [
    "def mean(mylist):\n",
    "    if type(mylist) == str:\n",
    "        print('Осторожно, вы дали строку. У строки нельзя найти среднее. Функция возращает саму же строку.')\n",
    "        return mylist\n",
    "    else:\n",
    "        average = sum(mylist) / len(mylist)\n",
    "        return average"
   ]
  },
  {
   "cell_type": "code",
   "execution_count": 5,
   "metadata": {},
   "outputs": [
    {
     "data": {
      "text/plain": [
       "3.0"
      ]
     },
     "execution_count": 5,
     "metadata": {},
     "output_type": "execute_result"
    }
   ],
   "source": [
    "mean([1, 2, 3, 4, 5])"
   ]
  },
  {
   "cell_type": "code",
   "execution_count": 6,
   "metadata": {},
   "outputs": [
    {
     "name": "stdout",
     "output_type": "stream",
     "text": [
      "Осторожно, вы дали строку. У строки нельзя найти среднее. Функция возращает саму же строку.\n"
     ]
    },
    {
     "data": {
      "text/plain": [
       "'kjnwf'"
      ]
     },
     "execution_count": 6,
     "metadata": {},
     "output_type": "execute_result"
    }
   ],
   "source": [
    "mean('kjnwf')"
   ]
  },
  {
   "cell_type": "code",
   "execution_count": 7,
   "metadata": {},
   "outputs": [],
   "source": [
    "def mean(mylist):\n",
    "    answer = None\n",
    "    if type(mylist) == str:\n",
    "        print('Осторожно, вы дали строку. У строки нельзя найти среднее. Функция возращает саму же строку.')\n",
    "        answer = mylist\n",
    "    else:\n",
    "        average = sum(mylist) / len(mylist)\n",
    "        answer = average\n",
    "    return answer"
   ]
  },
  {
   "cell_type": "markdown",
   "metadata": {},
   "source": [
    "### Функция в функции\n",
    "\n",
    "Внутри своей функции, конечно, можно использовать функции, которые вы создали раньше."
   ]
  },
  {
   "cell_type": "code",
   "execution_count": 8,
   "metadata": {},
   "outputs": [
    {
     "name": "stdout",
     "output_type": "stream",
     "text": [
      "Здравствуй, солнышко!\n"
     ]
    }
   ],
   "source": [
    "# Воспоминание про elif\n",
    "age = 4\n",
    "if age > 30:\n",
    "    print('Здравствуйте')\n",
    "elif age < 0:\n",
    "    print('Хм?')\n",
    "elif age < 5:\n",
    "    print('Здравствуй, солнышко!')\n",
    "else:\n",
    "    print('Привет')"
   ]
  },
  {
   "cell_type": "code",
   "execution_count": 9,
   "metadata": {},
   "outputs": [],
   "source": [
    "def politeness_need(age, status, preference=None):\n",
    "    if preference == 'Вы':\n",
    "        return True\n",
    "    elif preference == 'вы':\n",
    "        return True\n",
    "    elif preference == 'ты':\n",
    "        return False\n",
    "    else:\n",
    "        if status == 'teacher':\n",
    "            return True\n",
    "        else:\n",
    "            if age > 30:\n",
    "                return True\n",
    "            else:\n",
    "                return False"
   ]
  },
  {
   "cell_type": "code",
   "execution_count": 10,
   "metadata": {},
   "outputs": [],
   "source": [
    "def say_hello(username, age, status=None, preference=None):\n",
    "    if politeness_need(age, status, preference):\n",
    "        print(f'Здравствуйте, {username}!')\n",
    "    else:\n",
    "        print(f'Привет, {username}!')"
   ]
  },
  {
   "cell_type": "code",
   "execution_count": 11,
   "metadata": {},
   "outputs": [
    {
     "name": "stdout",
     "output_type": "stream",
     "text": [
      "Здравствуйте, Таня!\n"
     ]
    }
   ],
   "source": [
    "say_hello('Таня', 22, 'teacher')"
   ]
  },
  {
   "cell_type": "code",
   "execution_count": 12,
   "metadata": {},
   "outputs": [
    {
     "ename": "TypeError",
     "evalue": "'>' not supported between instances of 'str' and 'int'",
     "output_type": "error",
     "traceback": [
      "\u001b[0;31m---------------------------------------------------------------------------\u001b[0m",
      "\u001b[0;31mTypeError\u001b[0m                                 Traceback (most recent call last)",
      "Input \u001b[0;32mIn [12]\u001b[0m, in \u001b[0;36m<cell line: 2>\u001b[0;34m()\u001b[0m\n\u001b[1;32m      1\u001b[0m \u001b[38;5;66;03m# Порядок аргументов важен\u001b[39;00m\n\u001b[0;32m----> 2\u001b[0m \u001b[43msay_hello\u001b[49m\u001b[43m(\u001b[49m\u001b[38;5;241;43m32\u001b[39;49m\u001b[43m,\u001b[49m\u001b[43m \u001b[49m\u001b[38;5;124;43m'\u001b[39;49m\u001b[38;5;124;43mИнна\u001b[39;49m\u001b[38;5;124;43m'\u001b[39;49m\u001b[43m)\u001b[49m\n",
      "Input \u001b[0;32mIn [10]\u001b[0m, in \u001b[0;36msay_hello\u001b[0;34m(username, age, status, preference)\u001b[0m\n\u001b[1;32m      1\u001b[0m \u001b[38;5;28;01mdef\u001b[39;00m \u001b[38;5;21msay_hello\u001b[39m(username, age, status\u001b[38;5;241m=\u001b[39m\u001b[38;5;28;01mNone\u001b[39;00m, preference\u001b[38;5;241m=\u001b[39m\u001b[38;5;28;01mNone\u001b[39;00m):\n\u001b[0;32m----> 2\u001b[0m     \u001b[38;5;28;01mif\u001b[39;00m \u001b[43mpoliteness_need\u001b[49m\u001b[43m(\u001b[49m\u001b[43mage\u001b[49m\u001b[43m,\u001b[49m\u001b[43m \u001b[49m\u001b[43mstatus\u001b[49m\u001b[43m,\u001b[49m\u001b[43m \u001b[49m\u001b[43mpreference\u001b[49m\u001b[43m)\u001b[49m:\n\u001b[1;32m      3\u001b[0m         \u001b[38;5;28mprint\u001b[39m(\u001b[38;5;124mf\u001b[39m\u001b[38;5;124m'\u001b[39m\u001b[38;5;124mЗдравствуйте, \u001b[39m\u001b[38;5;132;01m{\u001b[39;00musername\u001b[38;5;132;01m}\u001b[39;00m\u001b[38;5;124m!\u001b[39m\u001b[38;5;124m'\u001b[39m)\n\u001b[1;32m      4\u001b[0m     \u001b[38;5;28;01melse\u001b[39;00m:\n",
      "Input \u001b[0;32mIn [9]\u001b[0m, in \u001b[0;36mpoliteness_need\u001b[0;34m(age, status, preference)\u001b[0m\n\u001b[1;32m     10\u001b[0m     \u001b[38;5;28;01mreturn\u001b[39;00m \u001b[38;5;28;01mTrue\u001b[39;00m\n\u001b[1;32m     11\u001b[0m \u001b[38;5;28;01melse\u001b[39;00m:\n\u001b[0;32m---> 12\u001b[0m     \u001b[38;5;28;01mif\u001b[39;00m \u001b[43mage\u001b[49m\u001b[43m \u001b[49m\u001b[38;5;241;43m>\u001b[39;49m\u001b[43m \u001b[49m\u001b[38;5;241;43m30\u001b[39;49m:\n\u001b[1;32m     13\u001b[0m         \u001b[38;5;28;01mreturn\u001b[39;00m \u001b[38;5;28;01mTrue\u001b[39;00m\n\u001b[1;32m     14\u001b[0m     \u001b[38;5;28;01melse\u001b[39;00m:\n",
      "\u001b[0;31mTypeError\u001b[0m: '>' not supported between instances of 'str' and 'int'"
     ]
    }
   ],
   "source": [
    "# Порядок аргументов важен\n",
    "say_hello(32, 'Инна')"
   ]
  },
  {
   "cell_type": "markdown",
   "metadata": {},
   "source": [
    "**Разбиение задачи на функции** (пример):\n",
    "1. Получить данные\n",
    "2. Обработать данные\n",
    "3. Выдать результат\n",
    "\n",
    "В итоге всего три строчки кода. (а где-то лежат три понятных куска кода)"
   ]
  },
  {
   "cell_type": "markdown",
   "metadata": {},
   "source": [
    "## Библиотеки и модули\n",
    "(видели, когда говорили о токенизации)\n",
    "\n",
    "Если несколько функций позволяют решать схожие задачи, то их объединяют в **модули**.\n",
    "    Например, модуль `math` объединяет в себе математические функции , модуль `string` предназначен для работы со строками, модуль `random` предлагает функции для генерации псевдослучайных чисел.\n",
    "    Причем в модуле могут быть собраны не только функции, но и, например, значения переменных.\n",
    "\n",
    "Есть стандартная библиотека Python.\n",
    "    Её не надо скачивать и устанавливать.\n",
    "    Вышеперечисленные модули лежат в ней."
   ]
  },
  {
   "cell_type": "code",
   "execution_count": 13,
   "metadata": {},
   "outputs": [
    {
     "ename": "NameError",
     "evalue": "name 'sqrt' is not defined",
     "output_type": "error",
     "traceback": [
      "\u001b[0;31m---------------------------------------------------------------------------\u001b[0m",
      "\u001b[0;31mNameError\u001b[0m                                 Traceback (most recent call last)",
      "Input \u001b[0;32mIn [13]\u001b[0m, in \u001b[0;36m<cell line: 1>\u001b[0;34m()\u001b[0m\n\u001b[0;32m----> 1\u001b[0m \u001b[43msqrt\u001b[49m(\u001b[38;5;241m16\u001b[39m)\n",
      "\u001b[0;31mNameError\u001b[0m: name 'sqrt' is not defined"
     ]
    }
   ],
   "source": [
    "sqrt(16)  # хотим квадратный корень"
   ]
  },
  {
   "cell_type": "markdown",
   "metadata": {},
   "source": [
    "Эта функция лежит внутри модуля `math`. Надо импортировать модуль."
   ]
  },
  {
   "cell_type": "code",
   "execution_count": 14,
   "metadata": {},
   "outputs": [],
   "source": [
    "import math  # импортируем модуль math"
   ]
  },
  {
   "cell_type": "code",
   "execution_count": 15,
   "metadata": {},
   "outputs": [
    {
     "ename": "NameError",
     "evalue": "name 'sqrt' is not defined",
     "output_type": "error",
     "traceback": [
      "\u001b[0;31m---------------------------------------------------------------------------\u001b[0m",
      "\u001b[0;31mNameError\u001b[0m                                 Traceback (most recent call last)",
      "Input \u001b[0;32mIn [15]\u001b[0m, in \u001b[0;36m<cell line: 1>\u001b[0;34m()\u001b[0m\n\u001b[0;32m----> 1\u001b[0m \u001b[43msqrt\u001b[49m(\u001b[38;5;241m16\u001b[39m)\n",
      "\u001b[0;31mNameError\u001b[0m: name 'sqrt' is not defined"
     ]
    }
   ],
   "source": [
    "sqrt(16)"
   ]
  },
  {
   "cell_type": "markdown",
   "metadata": {},
   "source": [
    "Мы никак не пояснили, что это именно та функция `sqrt()`, которая лежит в модуле `math`, а не какая-то другая. Чтобы это указать, нужно написать через точку: `<модуль>.<функция()>`"
   ]
  },
  {
   "cell_type": "code",
   "execution_count": 16,
   "metadata": {},
   "outputs": [
    {
     "data": {
      "text/plain": [
       "4.0"
      ]
     },
     "execution_count": 16,
     "metadata": {},
     "output_type": "execute_result"
    }
   ],
   "source": [
    "math.sqrt(16)"
   ]
  },
  {
   "cell_type": "markdown",
   "metadata": {},
   "source": [
    "Запутались, в чём разница между методом и функцией?"
   ]
  },
  {
   "cell_type": "code",
   "execution_count": 17,
   "metadata": {},
   "outputs": [
    {
     "data": {
      "text/plain": [
       "<function len(obj, /)>"
      ]
     },
     "execution_count": 17,
     "metadata": {},
     "output_type": "execute_result"
    }
   ],
   "source": [
    "len"
   ]
  },
  {
   "cell_type": "code",
   "execution_count": 18,
   "metadata": {},
   "outputs": [
    {
     "data": {
      "text/plain": [
       "<function math.sqrt(x, /)>"
      ]
     },
     "execution_count": 18,
     "metadata": {},
     "output_type": "execute_result"
    }
   ],
   "source": [
    "math.sqrt"
   ]
  },
  {
   "cell_type": "code",
   "execution_count": 19,
   "metadata": {},
   "outputs": [
    {
     "data": {
      "text/plain": [
       "<method 'lower' of 'str' objects>"
      ]
     },
     "execution_count": 19,
     "metadata": {},
     "output_type": "execute_result"
    }
   ],
   "source": [
    "str.lower"
   ]
  },
  {
   "cell_type": "markdown",
   "metadata": {},
   "source": [
    "Методы &mdash; это функции, которые пишутся после конкретного объекта или типа / класса объекта.\n",
    "\n",
    "А `math` &mdash; модуль."
   ]
  },
  {
   "cell_type": "markdown",
   "metadata": {},
   "source": [
    "### Импорт отдельных частей из модуля"
   ]
  },
  {
   "cell_type": "code",
   "execution_count": 20,
   "metadata": {},
   "outputs": [],
   "source": [
    "from math import sqrt"
   ]
  },
  {
   "cell_type": "code",
   "execution_count": 21,
   "metadata": {},
   "outputs": [
    {
     "data": {
      "text/plain": [
       "4.0"
      ]
     },
     "execution_count": 21,
     "metadata": {},
     "output_type": "execute_result"
    }
   ],
   "source": [
    "sqrt(16)  # Ура!!"
   ]
  },
  {
   "cell_type": "code",
   "execution_count": 22,
   "metadata": {},
   "outputs": [],
   "source": [
    "from random import randint, uniform\n",
    "# Импортируем две функции из модуля random, здесь скобки не нужны"
   ]
  },
  {
   "cell_type": "code",
   "execution_count": 23,
   "metadata": {},
   "outputs": [
    {
     "name": "stdout",
     "output_type": "stream",
     "text": [
      "Help on method randint in module random:\n",
      "\n",
      "randint(a, b) method of random.Random instance\n",
      "    Return random integer in range [a, b], including both end points.\n",
      "\n"
     ]
    }
   ],
   "source": [
    "help(randint)"
   ]
  },
  {
   "cell_type": "code",
   "execution_count": 24,
   "metadata": {},
   "outputs": [
    {
     "data": {
      "text/plain": [
       "200"
      ]
     },
     "execution_count": 24,
     "metadata": {},
     "output_type": "execute_result"
    }
   ],
   "source": [
    "randint(100, 200)"
   ]
  },
  {
   "cell_type": "code",
   "execution_count": 25,
   "metadata": {},
   "outputs": [
    {
     "data": {
      "text/plain": [
       "136.1387530826237"
      ]
     },
     "execution_count": 25,
     "metadata": {},
     "output_type": "execute_result"
    }
   ],
   "source": [
    "uniform(100, 200)"
   ]
  },
  {
   "cell_type": "code",
   "execution_count": 26,
   "metadata": {},
   "outputs": [],
   "source": [
    "# Импортируем всё из модуля math\n",
    "from math import * "
   ]
  },
  {
   "cell_type": "code",
   "execution_count": 27,
   "metadata": {},
   "outputs": [
    {
     "name": "stdout",
     "output_type": "stream",
     "text": [
      "3.141592653589793 15.707963267948966\n"
     ]
    }
   ],
   "source": [
    "print(pi, 5*pi)"
   ]
  },
  {
   "cell_type": "code",
   "execution_count": 28,
   "metadata": {},
   "outputs": [],
   "source": [
    "pi = 3.14"
   ]
  },
  {
   "cell_type": "code",
   "execution_count": 29,
   "metadata": {},
   "outputs": [
    {
     "name": "stdout",
     "output_type": "stream",
     "text": [
      "3.14 15.700000000000001\n"
     ]
    }
   ],
   "source": [
    "print(pi, 5*pi)"
   ]
  },
  {
   "cell_type": "code",
   "execution_count": 30,
   "metadata": {},
   "outputs": [
    {
     "data": {
      "text/plain": [
       "3.141592653589793"
      ]
     },
     "execution_count": 30,
     "metadata": {},
     "output_type": "execute_result"
    }
   ],
   "source": [
    "math.pi  # а модуль math помнит правильное значение"
   ]
  },
  {
   "cell_type": "code",
   "execution_count": 31,
   "metadata": {},
   "outputs": [
    {
     "name": "stdout",
     "output_type": "stream",
     "text": [
      "3.14 3.141592653589793\n"
     ]
    }
   ],
   "source": [
    "print(pi, math.pi)"
   ]
  },
  {
   "cell_type": "code",
   "execution_count": 32,
   "metadata": {},
   "outputs": [
    {
     "name": "stdout",
     "output_type": "stream",
     "text": [
      "!\"#$%&'()*+,-./:;<=>?@[\\]^_`{|}~\n"
     ]
    }
   ],
   "source": [
    "import string as s    # Даем псевдоним модулю string\n",
    "print(s.punctuation)  # Печатаем строку со знаками препинания, хранящуюся в модуле"
   ]
  },
  {
   "cell_type": "code",
   "execution_count": 33,
   "metadata": {},
   "outputs": [
    {
     "data": {
      "text/plain": [
       "'!\"#$%&\\'()*+,-./:;<=>?@[\\\\]^_`{|}~'"
      ]
     },
     "execution_count": 33,
     "metadata": {},
     "output_type": "execute_result"
    }
   ],
   "source": [
    "s.punctuation"
   ]
  },
  {
   "cell_type": "code",
   "execution_count": 34,
   "metadata": {},
   "outputs": [
    {
     "name": "stdout",
     "output_type": "stream",
     "text": [
      "!\"#$%&'()*+,-./:;<=>?@[\\]^_`{|}~\n"
     ]
    }
   ],
   "source": [
    "from string import punctuation as punc\n",
    "print(punc)"
   ]
  }
 ],
 "metadata": {
  "kernelspec": {
   "display_name": "Python 3 (ipykernel)",
   "language": "python",
   "name": "python3"
  },
  "language_info": {
   "codemirror_mode": {
    "name": "ipython",
    "version": 3
   },
   "file_extension": ".py",
   "mimetype": "text/x-python",
   "name": "python",
   "nbconvert_exporter": "python",
   "pygments_lexer": "ipython3",
   "version": "3.9.16"
  }
 },
 "nbformat": 4,
 "nbformat_minor": 4
}
