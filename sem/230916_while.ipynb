{
 "cells": [
  {
   "cell_type": "markdown",
   "id": "6fcb33d0",
   "metadata": {
    "id": "6fcb33d0"
   },
   "source": [
    "# Цикл while"
   ]
  },
  {
   "cell_type": "markdown",
   "id": "88266763",
   "metadata": {
    "id": "88266763"
   },
   "source": [
    "Мы уже знаем про:\n",
    "- типы данных `int`, `float`, `str`, `bool`\n",
    "- математические операторы: `+`, `-`, `/`, `*`, `**` (в степень), `%` (остаток от деления), `//` (целая часть при делении)\n",
    "- `print()` — напечатать\n",
    "- `type()` — узнать тип данных\n",
    "- `input()` — принять значение от пользователя\n",
    "- `int()` — преобразовать в целочисленный формат\n",
    "- `float()` — преобразовать в формат дробного числа\n",
    "- `str()` — преобразовать в строку\n",
    "- `bool()` — преобразовать в bool (True/False)\n",
    "- условия:\n",
    "\n",
    "```\n",
    "if <условие>:\n",
    "    <инструкции, для случая если условие истинно (True)>\n",
    "#elif <условие №2>:\n",
    "    #<инструкции, для случая если условие №2 истинно (True)>\n",
    "else:\n",
    "    <инструкции, когда все условия не выполнились (False)>\n",
    "```\n",
    "- операторы сравнения: `>`, `<`, `>=`, `<=`, `==` (равно), `!=` (не равно)\n",
    "- логические операторы: `and`, `or`, `not`"
   ]
  },
  {
   "cell_type": "markdown",
   "id": "8ca9f3c7",
   "metadata": {
    "id": "8ca9f3c7"
   },
   "source": [
    "В этот раз узнаем про:\n",
    "- цикл while"
   ]
  },
  {
   "cell_type": "markdown",
   "id": "AK82tdw6iXfe",
   "metadata": {
    "id": "AK82tdw6iXfe"
   },
   "source": [
    "### Bool (ещё пара слов)"
   ]
  },
  {
   "cell_type": "code",
   "execution_count": 1,
   "id": "141f8316",
   "metadata": {},
   "outputs": [
    {
     "name": "stdout",
     "output_type": "stream",
     "text": [
      "Число делится на 5\n"
     ]
    }
   ],
   "source": [
    "num = 200\n",
    "if num % 5 == 0 and num > 100:  # прочитаем\n",
    "    print(\"Число делится на 5\")"
   ]
  },
  {
   "cell_type": "code",
   "execution_count": 2,
   "id": "3092ceb7",
   "metadata": {},
   "outputs": [
    {
     "name": "stdout",
     "output_type": "stream",
     "text": [
      "True\n"
     ]
    }
   ],
   "source": [
    "print(num % 5 == 0 and num > 100)"
   ]
  },
  {
   "cell_type": "markdown",
   "id": "d6e04cec",
   "metadata": {},
   "source": [
    "А можно условия сохранять в переменные. Какой это тип данных будет? (Ответ: bool)"
   ]
  },
  {
   "cell_type": "code",
   "execution_count": 3,
   "id": "KX9liTF1Io17",
   "metadata": {
    "id": "KX9liTF1Io17"
   },
   "outputs": [
    {
     "name": "stdout",
     "output_type": "stream",
     "text": [
      "Введите число: 500\n",
      "Число делится на 5 и больше 100\n"
     ]
    }
   ],
   "source": [
    "num = int(input('Введите число: '))\n",
    "\n",
    "is_num_div5_more100 = num % 5 == 0 and num > 100\n",
    "\n",
    "if is_num_div5_more100:\n",
    "    print(\"Число делится на 5 и больше 100\")  # заметьте, можно без else"
   ]
  },
  {
   "cell_type": "markdown",
   "id": "1c635313",
   "metadata": {},
   "source": [
    "Всё, что может быть сохранено в переменную, может быть и передано в функцию как аргумент. (например: `print(27>4)`)"
   ]
  },
  {
   "cell_type": "markdown",
   "id": "b09e37b9",
   "metadata": {},
   "source": [
    "#### Про логические операторы"
   ]
  },
  {
   "cell_type": "code",
   "execution_count": 4,
   "id": "15e86a68",
   "metadata": {},
   "outputs": [
    {
     "name": "stdout",
     "output_type": "stream",
     "text": [
      "Хотя бы одно условие выполнилось.\n"
     ]
    }
   ],
   "source": [
    "number = 6\n",
    "if number > 5 or number / 0 == 4:\n",
    "    print('Хотя бы одно условие выполнилось.')"
   ]
  },
  {
   "cell_type": "markdown",
   "id": "b8444e4f",
   "metadata": {},
   "source": [
    "На ноль делить нельзя, от этого программа ломается. Но эта программа не сломалась. Почему?\n",
    "\n",
    "Потому что она проверила первое условие, которое оказалось верным, и не стала идти дальше. (Зачем, если хотя бы одно и так уже верное.) То есть программа не проходила эту часть кода, не делила 6 на 0.\n",
    "\n",
    "А если бы дошла, сломалась бы:"
   ]
  },
  {
   "cell_type": "code",
   "execution_count": 5,
   "id": "ee3dc5dc",
   "metadata": {},
   "outputs": [
    {
     "ename": "ZeroDivisionError",
     "evalue": "division by zero",
     "output_type": "error",
     "traceback": [
      "\u001b[0;31m---------------------------------------------------------------------------\u001b[0m",
      "\u001b[0;31mZeroDivisionError\u001b[0m                         Traceback (most recent call last)",
      "Input \u001b[0;32mIn [5]\u001b[0m, in \u001b[0;36m<cell line: 2>\u001b[0;34m()\u001b[0m\n\u001b[1;32m      1\u001b[0m number \u001b[38;5;241m=\u001b[39m \u001b[38;5;241m6\u001b[39m\n\u001b[0;32m----> 2\u001b[0m \u001b[38;5;28;01mif\u001b[39;00m number \u001b[38;5;241m<\u001b[39m \u001b[38;5;241m5\u001b[39m \u001b[38;5;129;01mor\u001b[39;00m \u001b[43mnumber\u001b[49m\u001b[43m \u001b[49m\u001b[38;5;241;43m/\u001b[39;49m\u001b[43m \u001b[49m\u001b[38;5;241;43m0\u001b[39;49m \u001b[38;5;241m==\u001b[39m \u001b[38;5;241m4\u001b[39m:\n\u001b[1;32m      3\u001b[0m     \u001b[38;5;28mprint\u001b[39m(\u001b[38;5;124m'\u001b[39m\u001b[38;5;124mХотя бы одно условие выполнилось.\u001b[39m\u001b[38;5;124m'\u001b[39m)\n",
      "\u001b[0;31mZeroDivisionError\u001b[0m: division by zero"
     ]
    }
   ],
   "source": [
    "number = 6\n",
    "if number < 5 or number / 0 == 4:\n",
    "    print('Хотя бы одно условие выполнилось.')"
   ]
  },
  {
   "cell_type": "markdown",
   "id": "2fa30d56",
   "metadata": {
    "id": "2fa30d56"
   },
   "source": [
    "## While\n",
    "### повторяет инструкции до тех пор, пока условие не станет ложным\n",
    "\n",
    "Общий вид:\n",
    "```\n",
    "while <условие>:\n",
    "    <инструкции, которые повторяются, пока условие истинно (True)>\n",
    "```"
   ]
  },
  {
   "cell_type": "markdown",
   "id": "212e7b5f",
   "metadata": {
    "id": "212e7b5f"
   },
   "source": [
    "Пример:\n",
    "\n",
    "> Преподаватель объясняет, пока не станет понятно\n",
    "\n",
    "```\n",
    "# какой алгоритм действий?\n",
    "```"
   ]
  },
  {
   "cell_type": "code",
   "execution_count": 6,
   "id": "c530671a",
   "metadata": {
    "id": "c530671a"
   },
   "outputs": [
    {
     "name": "stdout",
     "output_type": "stream",
     "text": [
      "Понятно? нуу\n",
      "*объясняет*\n",
      "А так? хм\n",
      "*объясняет*\n",
      "А так? эээ\n",
      "*объясняет*\n",
      "А так? понятно\n",
      "ура\n"
     ]
    }
   ],
   "source": [
    "student_answer = input('Понятно? ')\n",
    "while student_answer != 'понятно':\n",
    "    print('*объясняет*')\n",
    "    student_answer = input('А так? ')  # что будет, если убрать эту строку?\n",
    "print('ура')"
   ]
  },
  {
   "cell_type": "markdown",
   "id": "18a908fa",
   "metadata": {
    "id": "18a908fa"
   },
   "source": [
    "### Тренировка\n",
    "Пока есть несделанное дз, послушный ученик делает дз"
   ]
  },
  {
   "cell_type": "code",
   "execution_count": 8,
   "id": "ca764b4c",
   "metadata": {},
   "outputs": [
    {
     "name": "stdout",
     "output_type": "stream",
     "text": [
      "Есть несделанное дз? есть ещё дз\n",
      "*делаем*\n",
      "Есть несделанное дз? есть ещё дз\n",
      "*делаем*\n",
      "Есть несделанное дз? нет\n",
      "сделано\n"
     ]
    }
   ],
   "source": [
    "have_hw = input('Есть несделанное дз? ')\n",
    "while have_hw == 'есть ещё дз':\n",
    "    print('*делаем*')\n",
    "    have_hw = input('Есть несделанное дз? ')\n",
    "    \n",
    "print('сделано')"
   ]
  },
  {
   "cell_type": "markdown",
   "id": "7ZH_zr26WLJr",
   "metadata": {
    "id": "7ZH_zr26WLJr"
   },
   "source": [
    "**Обратите внимание,** цикл не выполнится **ни разу**, если условие изначально `False`. Всё логично!"
   ]
  },
  {
   "cell_type": "markdown",
   "id": "62e91926",
   "metadata": {
    "id": "62e91926"
   },
   "source": [
    "### Добавим логические выражения в условия\n",
    "(`and`, `or`, `not`)"
   ]
  },
  {
   "cell_type": "markdown",
   "id": "b532dd33",
   "metadata": {
    "id": "b532dd33"
   },
   "source": [
    "Непослушный ученик решил, что больше 3х домашних заданий в день делать не будет."
   ]
  },
  {
   "cell_type": "code",
   "execution_count": 9,
   "id": "ab0bdc09",
   "metadata": {
    "id": "ab0bdc09"
   },
   "outputs": [
    {
     "name": "stdout",
     "output_type": "stream",
     "text": [
      "Есть дз? да/нет да\n",
      "Делаю дз.\n",
      "Сделано дз:  1\n",
      "Есть дз? да/нет да\n",
      "Делаю дз.\n",
      "Сделано дз:  2\n",
      "Есть дз? да/нет да\n",
      "Делаю дз.\n",
      "Сделано дз:  3\n",
      "Есть дз? да/нет да\n",
      "Закончили!\n"
     ]
    }
   ],
   "source": [
    "hw_made = 0\n",
    "have_hw = input('Есть дз? да/нет ')\n",
    "\n",
    "while have_hw == 'да' and hw_made < 3:\n",
    "    print('Делаю дз.')\n",
    "    #hw_made = hw_made + 1\n",
    "    hw_made += 1  # Это то же самое, что hw_made = hw_made + 1\n",
    "    print('Сделано дз: ', hw_made)\n",
    "    have_hw = input('Есть дз? да/нет ')\n",
    "\n",
    "print('Закончили!')"
   ]
  },
  {
   "cell_type": "markdown",
   "id": "5fcad58a",
   "metadata": {
    "id": "5fcad58a"
   },
   "source": [
    "#### Про +=\n",
    "Работает и с другими знаками:"
   ]
  },
  {
   "cell_type": "code",
   "execution_count": 10,
   "id": "e7261599",
   "metadata": {
    "id": "e7261599",
    "outputId": "864084a8-d0e3-4ed3-96fd-2958c8a71d19"
   },
   "outputs": [
    {
     "name": "stdout",
     "output_type": "stream",
     "text": [
      "до изменения 2\n",
      "после изменения 0\n",
      "до изменения 0\n",
      "после изменения -2\n",
      "до изменения -2\n",
      "после изменения -4\n",
      "до изменения -4\n",
      "после изменения -6\n",
      "до изменения -6\n",
      "после изменения -8\n",
      "до изменения -8\n",
      "после изменения -10\n"
     ]
    }
   ],
   "source": [
    "# с -=\n",
    "number = 2\n",
    "while number > -10:\n",
    "    print('до изменения', number)\n",
    "    number -=2\n",
    "    print('после изменения', number)"
   ]
  },
  {
   "cell_type": "code",
   "execution_count": 11,
   "id": "07e548c7",
   "metadata": {
    "id": "07e548c7",
    "outputId": "d89e7041-0940-4fc4-cd01-381a6e46976d"
   },
   "outputs": [
    {
     "name": "stdout",
     "output_type": "stream",
     "text": [
      "до изменения 2\n",
      "после изменения 4\n",
      "до изменения 4\n",
      "после изменения 8\n",
      "до изменения 8\n",
      "после изменения 16\n",
      "до изменения 16\n",
      "после изменения 32\n",
      "до изменения 32\n",
      "после изменения 64\n",
      "до изменения 64\n",
      "после изменения 128\n"
     ]
    }
   ],
   "source": [
    "# с *=\n",
    "number = 2\n",
    "while number < 100:\n",
    "    print('до изменения', number)\n",
    "    number *= 2\n",
    "    print('после изменения', number)"
   ]
  },
  {
   "cell_type": "code",
   "execution_count": 12,
   "id": "a6ecf139",
   "metadata": {
    "id": "a6ecf139"
   },
   "outputs": [
    {
     "name": "stdout",
     "output_type": "stream",
     "text": [
      "до изменения 100\n",
      "после изменения 50.0\n",
      "до изменения 50.0\n",
      "после изменения 25.0\n",
      "до изменения 25.0\n",
      "после изменения 12.5\n",
      "до изменения 12.5\n",
      "после изменения 6.25\n",
      "до изменения 6.25\n",
      "после изменения 3.125\n",
      "до изменения 3.125\n",
      "после изменения 1.5625\n",
      "до изменения 1.5625\n",
      "после изменения 0.78125\n"
     ]
    }
   ],
   "source": [
    "# проверьте про /=\n",
    "number = 100\n",
    "while number > 1:\n",
    "    print('до изменения', number)\n",
    "    number /= 2\n",
    "    print('после изменения', number)"
   ]
  },
  {
   "cell_type": "markdown",
   "id": "89309264",
   "metadata": {
    "id": "89309264"
   },
   "source": [
    "### Бесконечный цикл"
   ]
  },
  {
   "cell_type": "code",
   "execution_count": 14,
   "id": "d1720856",
   "metadata": {
    "id": "d1720856"
   },
   "outputs": [
    {
     "name": "stdout",
     "output_type": "stream",
     "text": [
      "Что?\n",
      "Все говорят: \" Что? \". А ты купи слона.\n",
      "Зачем?\n",
      "Все говорят: \" Зачем? \". А ты купи слона.\n",
      "А как?\n",
      "Все говорят: \" А как? \". А ты купи слона.\n",
      "Отстань\n",
      "Все говорят: \" Отстань \". А ты купи слона.\n",
      "Хватит, а?\n",
      "Все говорят: \" Хватит, а? \". А ты купи слона.\n",
      "Не надоест?\n",
      "Все говорят: \" Не надоест? \". А ты купи слона.\n",
      "\n",
      "Все говорят: \"  \". А ты купи слона.\n",
      "\n",
      "Все говорят: \"  \". А ты купи слона.\n"
     ]
    },
    {
     "ename": "KeyboardInterrupt",
     "evalue": "Interrupted by user",
     "output_type": "error",
     "traceback": [
      "\u001b[0;31m---------------------------------------------------------------------------\u001b[0m",
      "\u001b[0;31mKeyboardInterrupt\u001b[0m                         Traceback (most recent call last)",
      "Input \u001b[0;32mIn [14]\u001b[0m, in \u001b[0;36m<cell line: 2>\u001b[0;34m()\u001b[0m\n\u001b[1;32m      1\u001b[0m \u001b[38;5;28;01mwhile\u001b[39;00m \u001b[38;5;28;01mTrue\u001b[39;00m:\n\u001b[0;32m----> 2\u001b[0m     answer \u001b[38;5;241m=\u001b[39m \u001b[38;5;28;43minput\u001b[39;49m\u001b[43m(\u001b[49m\u001b[43m)\u001b[49m\n\u001b[1;32m      3\u001b[0m     \u001b[38;5;28mprint\u001b[39m(\u001b[38;5;124m'\u001b[39m\u001b[38;5;124mВсе говорят: \u001b[39m\u001b[38;5;124m\"\u001b[39m\u001b[38;5;124m'\u001b[39m, answer, \u001b[38;5;124m'\u001b[39m\u001b[38;5;124m\"\u001b[39m\u001b[38;5;124m. А ты купи слона.\u001b[39m\u001b[38;5;124m'\u001b[39m)\n",
      "File \u001b[0;32m/usr/local/lib/python3.9/site-packages/ipykernel/kernelbase.py:1177\u001b[0m, in \u001b[0;36mKernel.raw_input\u001b[0;34m(self, prompt)\u001b[0m\n\u001b[1;32m   1173\u001b[0m \u001b[38;5;28;01mif\u001b[39;00m \u001b[38;5;129;01mnot\u001b[39;00m \u001b[38;5;28mself\u001b[39m\u001b[38;5;241m.\u001b[39m_allow_stdin:\n\u001b[1;32m   1174\u001b[0m     \u001b[38;5;28;01mraise\u001b[39;00m StdinNotImplementedError(\n\u001b[1;32m   1175\u001b[0m         \u001b[38;5;124m\"\u001b[39m\u001b[38;5;124mraw_input was called, but this frontend does not support input requests.\u001b[39m\u001b[38;5;124m\"\u001b[39m\n\u001b[1;32m   1176\u001b[0m     )\n\u001b[0;32m-> 1177\u001b[0m \u001b[38;5;28;01mreturn\u001b[39;00m \u001b[38;5;28;43mself\u001b[39;49m\u001b[38;5;241;43m.\u001b[39;49m\u001b[43m_input_request\u001b[49m\u001b[43m(\u001b[49m\n\u001b[1;32m   1178\u001b[0m \u001b[43m    \u001b[49m\u001b[38;5;28;43mstr\u001b[39;49m\u001b[43m(\u001b[49m\u001b[43mprompt\u001b[49m\u001b[43m)\u001b[49m\u001b[43m,\u001b[49m\n\u001b[1;32m   1179\u001b[0m \u001b[43m    \u001b[49m\u001b[38;5;28;43mself\u001b[39;49m\u001b[38;5;241;43m.\u001b[39;49m\u001b[43m_parent_ident\u001b[49m\u001b[43m[\u001b[49m\u001b[38;5;124;43m\"\u001b[39;49m\u001b[38;5;124;43mshell\u001b[39;49m\u001b[38;5;124;43m\"\u001b[39;49m\u001b[43m]\u001b[49m\u001b[43m,\u001b[49m\n\u001b[1;32m   1180\u001b[0m \u001b[43m    \u001b[49m\u001b[38;5;28;43mself\u001b[39;49m\u001b[38;5;241;43m.\u001b[39;49m\u001b[43mget_parent\u001b[49m\u001b[43m(\u001b[49m\u001b[38;5;124;43m\"\u001b[39;49m\u001b[38;5;124;43mshell\u001b[39;49m\u001b[38;5;124;43m\"\u001b[39;49m\u001b[43m)\u001b[49m\u001b[43m,\u001b[49m\n\u001b[1;32m   1181\u001b[0m \u001b[43m    \u001b[49m\u001b[43mpassword\u001b[49m\u001b[38;5;241;43m=\u001b[39;49m\u001b[38;5;28;43;01mFalse\u001b[39;49;00m\u001b[43m,\u001b[49m\n\u001b[1;32m   1182\u001b[0m \u001b[43m\u001b[49m\u001b[43m)\u001b[49m\n",
      "File \u001b[0;32m/usr/local/lib/python3.9/site-packages/ipykernel/kernelbase.py:1219\u001b[0m, in \u001b[0;36mKernel._input_request\u001b[0;34m(self, prompt, ident, parent, password)\u001b[0m\n\u001b[1;32m   1216\u001b[0m             \u001b[38;5;28;01mbreak\u001b[39;00m\n\u001b[1;32m   1217\u001b[0m \u001b[38;5;28;01mexcept\u001b[39;00m \u001b[38;5;167;01mKeyboardInterrupt\u001b[39;00m:\n\u001b[1;32m   1218\u001b[0m     \u001b[38;5;66;03m# re-raise KeyboardInterrupt, to truncate traceback\u001b[39;00m\n\u001b[0;32m-> 1219\u001b[0m     \u001b[38;5;28;01mraise\u001b[39;00m \u001b[38;5;167;01mKeyboardInterrupt\u001b[39;00m(\u001b[38;5;124m\"\u001b[39m\u001b[38;5;124mInterrupted by user\u001b[39m\u001b[38;5;124m\"\u001b[39m) \u001b[38;5;28;01mfrom\u001b[39;00m \u001b[38;5;28mNone\u001b[39m\n\u001b[1;32m   1220\u001b[0m \u001b[38;5;28;01mexcept\u001b[39;00m \u001b[38;5;167;01mException\u001b[39;00m:\n\u001b[1;32m   1221\u001b[0m     \u001b[38;5;28mself\u001b[39m\u001b[38;5;241m.\u001b[39mlog\u001b[38;5;241m.\u001b[39mwarning(\u001b[38;5;124m\"\u001b[39m\u001b[38;5;124mInvalid Message:\u001b[39m\u001b[38;5;124m\"\u001b[39m, exc_info\u001b[38;5;241m=\u001b[39m\u001b[38;5;28;01mTrue\u001b[39;00m)\n",
      "\u001b[0;31mKeyboardInterrupt\u001b[0m: Interrupted by user"
     ]
    }
   ],
   "source": [
    "while True:\n",
    "    answer = input()\n",
    "    print('Все говорят: \"', answer, '\". А ты купи слона.')"
   ]
  },
  {
   "cell_type": "markdown",
   "id": "cca4d9bb",
   "metadata": {},
   "source": [
    "Чтобы прервать бесконечно выполняющуюся программу, нажмите стоп (справа от Run, который запускает исполнение кода)"
   ]
  },
  {
   "cell_type": "markdown",
   "id": "5ec6aa76",
   "metadata": {
    "id": "5ec6aa76"
   },
   "source": [
    "### break - выйти из цикла"
   ]
  },
  {
   "cell_type": "code",
   "execution_count": 15,
   "id": "b57b67c8",
   "metadata": {
    "colab": {
     "base_uri": "https://localhost:8080/"
    },
    "id": "b57b67c8",
    "outputId": "47964244-10b1-4573-fea4-a9f609b9fb10"
   },
   "outputs": [
    {
     "name": "stdout",
     "output_type": "stream",
     "text": [
      "Ну?\n",
      "Все говорят: \"Ну?\". А ты купи слона.\n",
      "Хм\n",
      "Все говорят: \"Хм\". А ты купи слона.\n",
      "А ты купи бегемота.\n",
      "А ты хитрец!\n",
      "конец\n"
     ]
    }
   ],
   "source": [
    "while True:\n",
    "    answer = input()\n",
    "    if answer == \"А ты купи бегемота.\":\n",
    "        print('А ты хитрец!')\n",
    "        break\n",
    "    print('Все говорят: \"', answer, '\". А ты купи слона.', sep='')\n",
    "    # Обратите внимание, между сущностями теперь нет пробела,\n",
    "    # потому что разделитель (separator) = ''\n",
    "print('конец')\n",
    "# попробуем написать что-то до break и после break"
   ]
  },
  {
   "cell_type": "markdown",
   "id": "DXS7xH2Ya4qw",
   "metadata": {
    "id": "DXS7xH2Ya4qw"
   },
   "source": [
    "**Обратите внимание** на новую запись: `print(..., sep=\"\")`.\n",
    "\n",
    "Встроенная функция `print`, может принимать также аргумент `sep`, а его значение мы запишем через знак равно `=` (один знак! Мы никаких условий не проверяем, а как бы присваиваем).\n",
    "\n",
    "Здесь мы передаём его с пустой строкой, и выходит, что вокруг `answer` нет пробелов. Этот аргумент отвечает за **разделитель между обычными аргументами функции `print`**. Эти обычные аргументы называют **позиционными**. Почему мы не пишем всегда `sep=<что-то>`? Потому что этот аргумент имеет значение по умолчанию и оно и есть пробел `\" \"`. Такие аргументы называются **аргументами по умолчанию** или **именованными аргументами**.\n",
    "\n"
   ]
  },
  {
   "cell_type": "markdown",
   "id": "Gn-hgBMAd6gl",
   "metadata": {
    "id": "Gn-hgBMAd6gl"
   },
   "source": [
    "`sep=` это как бы часть (определения) функции, часть её записи, синтаксиса, поэтому ничего не мешает назвать переменную sep и передать её как значение именованного аргумента `sep=`\n",
    "\n",
    "```\n",
    "sep = \"|\"\n",
    "print(\"wow1\", \"wow2\", sep=sep)\n",
    "```\n",
    "\n"
   ]
  },
  {
   "cell_type": "code",
   "execution_count": 16,
   "id": "wu-8qbNueA0O",
   "metadata": {
    "colab": {
     "base_uri": "https://localhost:8080/"
    },
    "id": "wu-8qbNueA0O",
    "outputId": "16c039fa-fc2d-4777-97c9-c5ad2e161285"
   },
   "outputs": [
    {
     "name": "stdout",
     "output_type": "stream",
     "text": [
      "Введите разделитель для печати строчки:  - \n",
      "Привет! - Ой! - Меня... - разделили\n"
     ]
    }
   ],
   "source": [
    "sep = input(\"Введите разделитель для печати строчки: \")\n",
    "\n",
    "w1 = \"Привет!\"\n",
    "w2 = \"Ой!\"\n",
    "w3 = \"Меня...\"\n",
    "w4 = \"разделили\"\n",
    "\n",
    "print(w1, w2, w3, w4, sep=sep)"
   ]
  },
  {
   "cell_type": "markdown",
   "id": "15e10144",
   "metadata": {
    "id": "15e10144"
   },
   "source": [
    "### Тренировка\n",
    "В программе для послушного ученика дважды встречается `have_hw = input('Есть дз? да/нет ')`\n",
    "\n",
    "Повторов кода следует избегать.\n",
    "\n",
    "Исправьте программу, используя `while True`"
   ]
  },
  {
   "cell_type": "code",
   "execution_count": 17,
   "id": "d7b62716",
   "metadata": {
    "id": "d7b62716"
   },
   "outputs": [
    {
     "name": "stdout",
     "output_type": "stream",
     "text": [
      "Есть дз? да/нет да\n",
      "Делаю дз.\n",
      "Сделано дз:  1\n",
      "Есть дз? да/нет да\n",
      "Делаю дз.\n",
      "Сделано дз:  2\n",
      "Есть дз? да/нет да\n",
      "Делаю дз.\n",
      "Сделано дз:  3\n",
      "Есть дз? да/нет да\n",
      "Закончили!\n"
     ]
    }
   ],
   "source": [
    "# Было:\n",
    "hw_made = 0\n",
    "have_hw = input('Есть дз? да/нет ')\n",
    "\n",
    "while have_hw == 'да' and hw_made < 3:\n",
    "    print('Делаю дз.')\n",
    "    #hw_made = hw_made + 1\n",
    "    hw_made += 1  # Это то же самое, что hw_made = hw_made + 1\n",
    "    print('Сделано дз: ', hw_made)\n",
    "    have_hw = input('Есть дз? да/нет ')\n",
    "\n",
    "print('Закончили!')"
   ]
  },
  {
   "cell_type": "code",
   "execution_count": 20,
   "id": "cf6ce078",
   "metadata": {},
   "outputs": [
    {
     "name": "stdout",
     "output_type": "stream",
     "text": [
      "Есть дз? да/нет да\n",
      "Сделано дз:  1\n",
      "Есть дз? да/нет да\n",
      "Сделано дз:  2\n",
      "Есть дз? да/нет да\n",
      "Сделано дз:  3\n",
      "Есть дз? да/нет да\n",
      "Закончили!\n"
     ]
    }
   ],
   "source": [
    "# Стало:\n",
    "hw_made = 0\n",
    "while True:\n",
    "    have_hw = input('Есть дз? да/нет ')\n",
    "    if have_hw == 'да' and hw_made < 3:\n",
    "        hw_made += 1\n",
    "        print('Сделано дз: ', hw_made)\n",
    "    else:\n",
    "        print('Закончили!')\n",
    "        break"
   ]
  },
  {
   "cell_type": "markdown",
   "id": "87669944",
   "metadata": {
    "id": "87669944"
   },
   "source": [
    "### Добавим другое вложенное условие\n",
    "Напечатаем все числа от 0 до 100, которые кратны семи (делятся на 7 без остатка)"
   ]
  },
  {
   "cell_type": "code",
   "execution_count": 21,
   "id": "fcbcf6f4",
   "metadata": {
    "id": "fcbcf6f4"
   },
   "outputs": [
    {
     "name": "stdout",
     "output_type": "stream",
     "text": [
      "0\n",
      "7\n",
      "14\n",
      "21\n",
      "28\n",
      "35\n",
      "42\n",
      "49\n",
      "56\n",
      "63\n",
      "70\n",
      "77\n",
      "84\n",
      "91\n",
      "98\n"
     ]
    }
   ],
   "source": [
    "number = 0\n",
    "while True:\n",
    "    if number % 7 == 0:\n",
    "        print(number)\n",
    "    number += 1\n",
    "    if number == 100:\n",
    "        break"
   ]
  },
  {
   "cell_type": "markdown",
   "id": "70fe2780",
   "metadata": {
    "id": "70fe2780"
   },
   "source": [
    "### Напечатаем таблицу умножения\n",
    "\n",
    "Подсказка: можно делать цикл в цикле"
   ]
  },
  {
   "cell_type": "markdown",
   "id": "ec3e3e02",
   "metadata": {
    "id": "ec3e3e02"
   },
   "source": [
    "***Размышления о программировании:***\n",
    "\n",
    "Можно писать код не построчно от начала до конца. Сделайте кусочек, а потом его дорабатывайте."
   ]
  },
  {
   "cell_type": "code",
   "execution_count": 25,
   "id": "daed6aba",
   "metadata": {},
   "outputs": [
    {
     "name": "stdout",
     "output_type": "stream",
     "text": [
      "2\n",
      "3\n",
      "4\n",
      "5\n",
      "6\n",
      "7\n",
      "8\n",
      "9\n"
     ]
    }
   ],
   "source": [
    "# Давайте просто выведем числа, на которые мы будем умножать два\n",
    "# (первый столбик таблицы)\n",
    "number_1 = 2\n",
    "while number_1 < 10:\n",
    "    print(number_1)\n",
    "    number_1 += 1"
   ]
  },
  {
   "cell_type": "code",
   "execution_count": 26,
   "id": "885bccbb",
   "metadata": {
    "id": "885bccbb"
   },
   "outputs": [
    {
     "name": "stdout",
     "output_type": "stream",
     "text": [
      "2 * 2 = 4\n",
      "2 * 3 = 6\n",
      "2 * 4 = 8\n",
      "2 * 5 = 10\n",
      "2 * 6 = 12\n",
      "2 * 7 = 14\n",
      "2 * 8 = 16\n",
      "2 * 9 = 18\n"
     ]
    }
   ],
   "source": [
    "# Теперь мы можем печать не числа 1-9, а результат умножения двойки на них\n",
    "number_1 = 2\n",
    "while number_1 < 10:\n",
    "    print('2 *', number_1, \"=\", 2*number_1)\n",
    "    number_1 += 1"
   ]
  },
  {
   "cell_type": "code",
   "execution_count": 27,
   "id": "1ed75284",
   "metadata": {},
   "outputs": [
    {
     "name": "stdout",
     "output_type": "stream",
     "text": [
      "2 * 1 = 2\n",
      "2 * 2 = 4\n",
      "2 * 3 = 6\n",
      "2 * 4 = 8\n",
      "2 * 5 = 10\n",
      "2 * 6 = 12\n",
      "2 * 7 = 14\n",
      "2 * 8 = 16\n",
      "2 * 9 = 18\n",
      "\n",
      "3 * 1 = 3\n",
      "3 * 2 = 6\n",
      "3 * 3 = 9\n",
      "3 * 4 = 12\n",
      "3 * 5 = 15\n",
      "3 * 6 = 18\n",
      "3 * 7 = 21\n",
      "3 * 8 = 24\n",
      "3 * 9 = 27\n",
      "\n",
      "4 * 1 = 4\n",
      "4 * 2 = 8\n",
      "4 * 3 = 12\n",
      "4 * 4 = 16\n",
      "4 * 5 = 20\n",
      "4 * 6 = 24\n",
      "4 * 7 = 28\n",
      "4 * 8 = 32\n",
      "4 * 9 = 36\n",
      "\n",
      "5 * 1 = 5\n",
      "5 * 2 = 10\n",
      "5 * 3 = 15\n",
      "5 * 4 = 20\n",
      "5 * 5 = 25\n",
      "5 * 6 = 30\n",
      "5 * 7 = 35\n",
      "5 * 8 = 40\n",
      "5 * 9 = 45\n",
      "\n",
      "6 * 1 = 6\n",
      "6 * 2 = 12\n",
      "6 * 3 = 18\n",
      "6 * 4 = 24\n",
      "6 * 5 = 30\n",
      "6 * 6 = 36\n",
      "6 * 7 = 42\n",
      "6 * 8 = 48\n",
      "6 * 9 = 54\n",
      "\n",
      "7 * 1 = 7\n",
      "7 * 2 = 14\n",
      "7 * 3 = 21\n",
      "7 * 4 = 28\n",
      "7 * 5 = 35\n",
      "7 * 6 = 42\n",
      "7 * 7 = 49\n",
      "7 * 8 = 56\n",
      "7 * 9 = 63\n",
      "\n",
      "8 * 1 = 8\n",
      "8 * 2 = 16\n",
      "8 * 3 = 24\n",
      "8 * 4 = 32\n",
      "8 * 5 = 40\n",
      "8 * 6 = 48\n",
      "8 * 7 = 56\n",
      "8 * 8 = 64\n",
      "8 * 9 = 72\n",
      "\n",
      "9 * 1 = 9\n",
      "9 * 2 = 18\n",
      "9 * 3 = 27\n",
      "9 * 4 = 36\n",
      "9 * 5 = 45\n",
      "9 * 6 = 54\n",
      "9 * 7 = 63\n",
      "9 * 8 = 72\n",
      "9 * 9 = 81\n",
      "\n"
     ]
    }
   ],
   "source": [
    "# Но мы хотим умножение не только для двойки, но и для 3, 4, 5 ... 9\n",
    "# Мы умеем получать 2-9 по порядку (делали это две ячейки назад)\n",
    "# Теперь с каждым полученным так числом мы будем делать столбик умножения\n",
    "# (как мы это делали для двойки ячейку назад)\n",
    "# Нам нужен цикл внутри цикла\n",
    "\n",
    "number_1 = 2\n",
    "number_2 = 1\n",
    "while number_1 < 10:\n",
    "    while number_2 < 10:\n",
    "        print(number_1, \"*\", number_2, \"=\", number_1 * number_2)\n",
    "        number_2 += 1\n",
    "    number_1 += 1\n",
    "    number_2 = 1\n",
    "    print()"
   ]
  }
 ],
 "metadata": {
  "colab": {
   "provenance": []
  },
  "kernelspec": {
   "display_name": "Python 3 (ipykernel)",
   "language": "python",
   "name": "python3"
  },
  "language_info": {
   "codemirror_mode": {
    "name": "ipython",
    "version": 3
   },
   "file_extension": ".py",
   "mimetype": "text/x-python",
   "name": "python",
   "nbconvert_exporter": "python",
   "pygments_lexer": "ipython3",
   "version": "3.9.16"
  }
 },
 "nbformat": 4,
 "nbformat_minor": 5
}
