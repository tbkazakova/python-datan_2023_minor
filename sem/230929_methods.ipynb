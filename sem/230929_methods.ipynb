{
 "cells": [
  {
   "cell_type": "markdown",
   "id": "fe4aa52a",
   "metadata": {
    "id": "fe4aa52a"
   },
   "source": [
    "# Методы списков"
   ]
  },
  {
   "cell_type": "markdown",
   "id": "aec3aa23",
   "metadata": {
    "id": "aec3aa23"
   },
   "source": [
    "Мы уже знаем про:\n",
    "- типы данных `int`, `float`, `str`, `bool`, `list` [список], `tuple` (кортеж неизменяемый)\n",
    "- математические операторы: `+`, `-`, `/`, `*`, `**` (в степень), `%` (остаток от деления), `//` (целая часть при делении)\n",
    "- `print()` — напечатать\n",
    "- `type()` — узнать тип данных\n",
    "- `input()` — принять значение от пользователя\n",
    "- `int()` — преобразовать в целочисленный формат\n",
    "- `float()` — преобразовать в формат дробного числа\n",
    "- `str()` — преобразовать в строку\n",
    "- `bool()` — преобразовать в bool (True/False)\n",
    "- `list()` — преобразовать в список\n",
    "- `tuple()` — преобразовать в кортеж\n",
    "- условия:\n",
    "```\n",
    "if <условие>:\n",
    "    <инструкции, для случая если условие истинно (True)>\n",
    "#elif <условие №2>:\n",
    "#    <инструкции, для случая если условие №2 истинно (True)>\n",
    "#else:\n",
    "#    <инструкции, когда все условия не выполнились (False)>\n",
    "```\n",
    "- операторы сравнения: `>`, `<`, `>=`, `<=`, `==` (равно), `!=` (не равно)\n",
    "- логические операторы: `and`, `or`, `not`\n",
    "- цикл `while`:\n",
    "```\n",
    "while <условие>:\n",
    "    <инструкции, которые будут выполняться по кругу, пока условие выполняется True>\n",
    "```\n",
    "- цикл `for`\n",
    "```\n",
    "for <element> in <elements>:\n",
    "       <инструкции, которые будут выполняться для каждого элемента>\n",
    "```\n",
    "- `.split()` - поделить строку, указанную до точки, по сочетанию символов, указанных в скобках (строка -> список)\n",
    "- индексация с нуля: `итерируемый_объект[индекс]`\n",
    "- срезы: `итерируемый_объект[START:END:STEP]`\n",
    "- `*список` - то же самое, что `список[0] список[1] список[2] список[3]...`"
   ]
  },
  {
   "cell_type": "markdown",
   "id": "e26a24a6-eea7-48e7-9fc1-9690db2058f2",
   "metadata": {},
   "source": [
    "---"
   ]
  },
  {
   "cell_type": "markdown",
   "id": "4cbd0a9c-132b-4730-b6c7-0f40fe87e30b",
   "metadata": {},
   "source": [
    "Со списками нам может быть полезно делать много разных вещей:\n",
    "- узнавать сколько в них вещей\n",
    "- добавлять данные\n",
    "- изменять данные\n",
    "- удалять данные\n",
    "- искать что-то!"
   ]
  },
  {
   "cell_type": "markdown",
   "id": "b3a3455d-11b9-49c6-abc3-99417014acdb",
   "metadata": {},
   "source": [
    "Посмотрим, какие в питоне есть для этого возможности. "
   ]
  },
  {
   "cell_type": "markdown",
   "id": "qIMX-OTubLwX",
   "metadata": {
    "id": "qIMX-OTubLwX"
   },
   "source": [
    "## len() - узнать длину"
   ]
  },
  {
   "cell_type": "markdown",
   "id": "d5c2cab8-13e2-4236-985e-13fad17058d0",
   "metadata": {},
   "source": [
    "как списка, так и кортежа (так и строчки, так и много чего ещё, что увидим в будущем) "
   ]
  },
  {
   "cell_type": "code",
   "execution_count": 2,
   "id": "PDh26CAcbFyJ",
   "metadata": {
    "colab": {
     "base_uri": "https://localhost:8080/"
    },
    "id": "PDh26CAcbFyJ",
    "outputId": "23ca5354-e158-4536-9a8e-b3cbcb49627c"
   },
   "outputs": [
    {
     "data": {
      "text/plain": [
       "12"
      ]
     },
     "execution_count": 2,
     "metadata": {},
     "output_type": "execute_result"
    }
   ],
   "source": [
    "months = ('January', 'February', 'March',\n",
    "          'April', 'May', 'June', 'July',\n",
    "          'August', 'September', 'October',\n",
    "          'November', 'December')\n",
    "len(months)"
   ]
  },
  {
   "cell_type": "markdown",
   "id": "7b4d400d-e6c5-47e9-a5fb-6f46d660633d",
   "metadata": {},
   "source": [
    "Не забывайте, что длина на один больше, чем максимальный индекс!"
   ]
  },
  {
   "cell_type": "code",
   "execution_count": 3,
   "id": "2e3e1200-cf85-4af9-835f-d32d946dc631",
   "metadata": {},
   "outputs": [
    {
     "ename": "IndexError",
     "evalue": "tuple index out of range",
     "output_type": "error",
     "traceback": [
      "\u001b[0;31m---------------------------------------------------------------------------\u001b[0m",
      "\u001b[0;31mIndexError\u001b[0m                                Traceback (most recent call last)",
      "Input \u001b[0;32mIn [3]\u001b[0m, in \u001b[0;36m<cell line: 1>\u001b[0;34m()\u001b[0m\n\u001b[0;32m----> 1\u001b[0m \u001b[43mmonths\u001b[49m\u001b[43m[\u001b[49m\u001b[38;5;241;43m12\u001b[39;49m\u001b[43m]\u001b[49m\n",
      "\u001b[0;31mIndexError\u001b[0m: tuple index out of range"
     ]
    }
   ],
   "source": [
    "months[12]"
   ]
  },
  {
   "cell_type": "markdown",
   "id": "bddbe937-c725-4429-81f2-8126a77ea68d",
   "metadata": {},
   "source": [
    "(Почему? Потому что минимальный индекс это 0, а не 1, и выходит не `1..12`, а `0..11`, и так всегда с индексами в питоне)   "
   ]
  },
  {
   "cell_type": "code",
   "execution_count": 4,
   "id": "AGs2MbnGbuMd",
   "metadata": {
    "colab": {
     "base_uri": "https://localhost:8080/"
    },
    "id": "AGs2MbnGbuMd",
    "outputId": "518ac72b-a247-4889-fa9e-23f686df7154"
   },
   "outputs": [
    {
     "name": "stdout",
     "output_type": "stream",
     "text": [
      "36\n"
     ]
    }
   ],
   "source": [
    "print(len('Сколько символов в этом предложении?'))"
   ]
  },
  {
   "cell_type": "markdown",
   "id": "0784a29a-24d4-489d-a619-872fc3fb885b",
   "metadata": {},
   "source": [
    "### Тренировка"
   ]
  },
  {
   "cell_type": "markdown",
   "id": "5b02a075",
   "metadata": {},
   "source": [
    "Выведите, сколько символов в каждом слове.\n",
    "\n",
    "Пример:\n",
    "```\n",
    "любить 6\n",
    "и 1\n",
    "быть 4\n",
    "любимым 7\n",
    "\n",
    "чтоб 4\n",
    "не 2\n",
    "болела 6\n",
    "мать 4\n",
    "```"
   ]
  },
  {
   "cell_type": "code",
   "execution_count": 5,
   "id": "0a63dc25-1797-4159-9258-77e1deca1bb5",
   "metadata": {
    "scrolled": true
   },
   "outputs": [
    {
     "name": "stdout",
     "output_type": "stream",
     "text": [
      "любить 6\n",
      "и 1\n",
      "быть 4\n",
      "любимым 7\n",
      "\n",
      "чтоб 4\n",
      "не 2\n",
      "болела 6\n",
      "мать 4\n",
      "\n",
      "чтоб 4\n",
      "на 2\n",
      "нашей 5\n",
      "горестной 9\n",
      "планете 7\n",
      "только 6\n",
      "звезды 6\n",
      "падали 6\n",
      "с 1\n",
      "небес 5\n",
      "\n",
      "были 4\n",
      "все 3\n",
      "доверчивы, 10\n",
      "как 3\n",
      "дети, 5\n",
      "и 1\n",
      "любили 6\n",
      "дождь, 6\n",
      "цветы 5\n",
      "и 1\n",
      "лес 3\n",
      "\n"
     ]
    }
   ],
   "source": [
    "wishes = ['любить и быть любимым',\n",
    "          'чтоб не болела мать',\n",
    "          'чтоб на нашей горестной планете только звезды падали с небес',\n",
    "          'были все доверчивы, как дети, и любили дождь, цветы и лес']\n",
    "\n",
    "for wish in wishes:\n",
    "    words = wish.split()\n",
    "    for word in words:\n",
    "        print(word, len(word))\n",
    "    print()"
   ]
  },
  {
   "cell_type": "markdown",
   "id": "tDzK-Px1oZ9t",
   "metadata": {
    "id": "tDzK-Px1oZ9t"
   },
   "source": [
    "## Методы списков"
   ]
  },
  {
   "cell_type": "markdown",
   "id": "45a8271b-87e9-4aef-b810-792a745bc55a",
   "metadata": {},
   "source": [
    "Списки можно менять, они изменяемые! (В отличие от кортежей и строк). \n",
    "\n",
    "Поэтому большинство методов действительно меняют исходный список."
   ]
  },
  {
   "cell_type": "markdown",
   "id": "R3AcYelMpo5i",
   "metadata": {
    "id": "R3AcYelMpo5i"
   },
   "source": [
    "### .append()  — добавление элемента в конец списка"
   ]
  },
  {
   "cell_type": "code",
   "execution_count": 23,
   "id": "jn18l5qEpoRr",
   "metadata": {
    "colab": {
     "base_uri": "https://localhost:8080/"
    },
    "id": "jn18l5qEpoRr",
    "outputId": "c9b1f58e-8f65-41a3-fd34-57a10b596174"
   },
   "outputs": [
    {
     "name": "stdout",
     "output_type": "stream",
     "text": [
      "[]\n",
      "['спать']\n"
     ]
    }
   ],
   "source": [
    "list_of_wishes = []  # Список желаний, когда спрашивают.\n",
    "print(list_of_wishes)\n",
    "list_of_wishes.append('спать')  # После секунды раздумий\n",
    "print(list_of_wishes)"
   ]
  },
  {
   "cell_type": "code",
   "execution_count": 24,
   "id": "6f206670",
   "metadata": {},
   "outputs": [
    {
     "name": "stdout",
     "output_type": "stream",
     "text": [
      "['спать', 'жить']\n"
     ]
    }
   ],
   "source": [
    "# добавьте ещё одно желание\n",
    "list_of_wishes.append('жить')  # После секунды раздумий\n",
    "print(list_of_wishes)"
   ]
  },
  {
   "cell_type": "markdown",
   "id": "JeAv65F-rIiM",
   "metadata": {
    "id": "JeAv65F-rIiM"
   },
   "source": [
    "Метод принимает один аргумент — объект, который нужно добавить. Метод ничего **не возвращает, а просто изменяет исходный список** (результат работы метода нельзя сохранить в переменную!).\n"
   ]
  },
  {
   "cell_type": "code",
   "execution_count": 25,
   "id": "0ba90249-f071-4335-b59e-9a65457cd375",
   "metadata": {},
   "outputs": [
    {
     "name": "stdout",
     "output_type": "stream",
     "text": [
      "[[1, 2, 3], [4, 5, 6], [7, 8, 9]]\n",
      "[[1, 2, 3], [4, 5, 6], [7, 8, 9], [10, 11, 12]]\n"
     ]
    }
   ],
   "source": [
    "matrix = [[1, 2, 3], [4, 5, 6], [7, 8, 9]]\n",
    "print(matrix)\n",
    "\n",
    "matrix.append([10, 11, 12])\n",
    "\n",
    "print(matrix)"
   ]
  },
  {
   "cell_type": "markdown",
   "id": "Whp4WwToq5VU",
   "metadata": {
    "id": "Whp4WwToq5VU"
   },
   "source": [
    "### .extend(`another_list`)  — расширяет список, добавляя в конец все элементы списка `another_list`"
   ]
  },
  {
   "cell_type": "markdown",
   "id": "5f16b21f-57f0-45aa-af72-f198fcc48c15",
   "metadata": {},
   "source": [
    "Но вообще-то передать в `extend` можно не только список, увидим ниже"
   ]
  },
  {
   "cell_type": "code",
   "execution_count": 26,
   "id": "cSQ5yzo7q4la",
   "metadata": {
    "colab": {
     "base_uri": "https://localhost:8080/"
    },
    "id": "cSQ5yzo7q4la",
    "outputId": "edf36948-543e-43f5-80f2-b17b33684364"
   },
   "outputs": [
    {
     "name": "stdout",
     "output_type": "stream",
     "text": [
      "['спать', 'жить', 'любить и быть любимым', 'чтоб не болела мать', 'чтоб на нашей горестной планете только звезды падали с небес', 'были все доверчивы, как дети, и любили дождь, цветы и лес']\n"
     ]
    }
   ],
   "source": [
    "ready_wishlist = ['любить и быть любимым',\n",
    "                  'чтоб не болела мать',\n",
    "                  'чтоб на нашей горестной планете только звезды падали с небес',\n",
    "                  'были все доверчивы, как дети, и любили дождь, цветы и лес']\n",
    "list_of_wishes.extend(ready_wishlist)\n",
    "print(list_of_wishes)"
   ]
  },
  {
   "cell_type": "markdown",
   "id": "a73b73bc-306a-4845-a307-6921ed8cd1a0",
   "metadata": {},
   "source": [
    "А вот `.extend()` со списком списков. Числа добавились поодиночке! "
   ]
  },
  {
   "cell_type": "code",
   "execution_count": 27,
   "id": "aaaa24e2-7911-4f4d-a827-71202fae28e7",
   "metadata": {
    "tags": []
   },
   "outputs": [
    {
     "name": "stdout",
     "output_type": "stream",
     "text": [
      "[[1, 2, 3], [4, 5, 6], [7, 8, 9]]\n",
      "[[1, 2, 3], [4, 5, 6], [7, 8, 9], 10, 11, 12]\n"
     ]
    }
   ],
   "source": [
    "matrix = [[1, 2, 3], [4, 5, 6], [7, 8, 9]]\n",
    "print(matrix)\n",
    "\n",
    "matrix.extend([10, 11, 12])\n",
    "\n",
    "print(matrix)"
   ]
  },
  {
   "cell_type": "markdown",
   "id": "3ef2b342-56b1-4b71-8440-700d488fa186",
   "metadata": {},
   "source": [
    "А есть ещё сложение списков!"
   ]
  },
  {
   "cell_type": "code",
   "execution_count": 28,
   "id": "WhArMMwqvzZW",
   "metadata": {
    "colab": {
     "base_uri": "https://localhost:8080/"
    },
    "id": "WhArMMwqvzZW",
    "outputId": "6634848c-6bbb-423d-ecdb-b9e36b0b616a"
   },
   "outputs": [
    {
     "name": "stdout",
     "output_type": "stream",
     "text": [
      "['конфета', 'шоколадка']\n",
      "['крекер', 'сухарик']\n",
      "['конфета', 'шоколадка', 'крекер', 'сухарик']\n"
     ]
    }
   ],
   "source": [
    "# Как объединить списки в один, не меняя исходных?\n",
    "# Сложить!\n",
    "\n",
    "sweet = ['конфета', 'шоколадка']\n",
    "salty = ['крекер', 'сухарик']\n",
    "basket = sweet + salty\n",
    "print(sweet)\n",
    "print(salty)\n",
    "print(basket)"
   ]
  },
  {
   "cell_type": "markdown",
   "id": "e51ec269-4473-428a-a354-94a917d9024d",
   "metadata": {},
   "source": [
    "В `.extend()` можно передать не другой список, а ещё и кортеж, и даже строчку."
   ]
  },
  {
   "cell_type": "markdown",
   "id": "b69b7be7-6df6-4d76-bcbe-d8fd9a42138d",
   "metadata": {},
   "source": [
    "Если передать **в `.extend()` строчку**, то список расширится **отдельными символами** из неё.\n",
    "    Это похоже на то, как в цикле `for` по строчке будут печататься её символы:\n",
    "\n",
    "```python\n",
    "for symb in \"мир\":\n",
    "    print(symb)\n",
    "\n",
    "м\n",
    "и\n",
    "р\n",
    "```"
   ]
  },
  {
   "cell_type": "markdown",
   "id": "9737161b-ff5e-4161-9783-df3853d8ca08",
   "metadata": {},
   "source": [
    "(Это связано с тем, что строчка это просто последовательность символов. Видно из английского названия string, ведь бывают string of perls и т.д.)"
   ]
  },
  {
   "cell_type": "code",
   "execution_count": 29,
   "id": "de5294a5-0c4d-4226-940a-fd6ae1bc0c59",
   "metadata": {},
   "outputs": [
    {
     "name": "stdout",
     "output_type": "stream",
     "text": [
      "['hello', 'п', 'р', 'и', 'в', 'е', 'т']\n"
     ]
    }
   ],
   "source": [
    "letters = [\"hello\"]\n",
    "letters.extend(\"привет\")\n",
    "print(letters)"
   ]
  },
  {
   "cell_type": "code",
   "execution_count": 30,
   "id": "5df77405",
   "metadata": {},
   "outputs": [
    {
     "name": "stdout",
     "output_type": "stream",
     "text": [
      "['hello', 'привет']\n"
     ]
    }
   ],
   "source": [
    "letters = [\"hello\"]\n",
    "letters.extend([\"привет\"])\n",
    "print(letters)"
   ]
  },
  {
   "cell_type": "markdown",
   "id": "d567752e-c14c-4958-9f1f-6a88652e383e",
   "metadata": {},
   "source": [
    "Сравните это с добавлением строки целиком в список методом `.append()`"
   ]
  },
  {
   "cell_type": "code",
   "execution_count": 31,
   "id": "b8fc9846-b44c-4766-ac7a-9ad32b853a55",
   "metadata": {},
   "outputs": [
    {
     "name": "stdout",
     "output_type": "stream",
     "text": [
      "['hello', 'привет']\n"
     ]
    }
   ],
   "source": [
    "salutes = [\"hello\"]\n",
    "\n",
    "salutes.append(\"привет\")\n",
    "print(salutes)"
   ]
  },
  {
   "cell_type": "markdown",
   "id": "gMC01XWIrWX1",
   "metadata": {
    "id": "gMC01XWIrWX1"
   },
   "source": [
    "### .insert(`i`, `x`)  — вставляет в `i`-ую позицию в списке значение `x`"
   ]
  },
  {
   "cell_type": "code",
   "execution_count": 32,
   "id": "amOISBbJqiWv",
   "metadata": {
    "colab": {
     "base_uri": "https://localhost:8080/"
    },
    "id": "amOISBbJqiWv",
    "outputId": "e410f726-b1ab-4d8b-8ab4-c19414cf524a"
   },
   "outputs": [
    {
     "data": {
      "text/plain": [
       "['жить',\n",
       " 'спать',\n",
       " 'жить',\n",
       " 'любить и быть любимым',\n",
       " 'чтоб не болела мать',\n",
       " 'чтоб на нашей горестной планете только звезды падали с небес',\n",
       " 'были все доверчивы, как дети, и любили дождь, цветы и лес']"
      ]
     },
     "execution_count": 32,
     "metadata": {},
     "output_type": "execute_result"
    }
   ],
   "source": [
    "list_of_wishes.insert(0, 'жить')\n",
    "list_of_wishes\n",
    "# вставьте ещё желаний"
   ]
  },
  {
   "cell_type": "code",
   "execution_count": 33,
   "id": "47433196",
   "metadata": {},
   "outputs": [
    {
     "data": {
      "text/plain": [
       "['жить',\n",
       " 'спать',\n",
       " 'жить',\n",
       " 'любить и быть любимым',\n",
       " 'дружить',\n",
       " 'чтоб не болела мать',\n",
       " 'чтоб на нашей горестной планете только звезды падали с небес',\n",
       " 'были все доверчивы, как дети, и любили дождь, цветы и лес']"
      ]
     },
     "execution_count": 33,
     "metadata": {},
     "output_type": "execute_result"
    }
   ],
   "source": [
    "list_of_wishes.insert(4, 'дружить')\n",
    "list_of_wishes"
   ]
  },
  {
   "cell_type": "code",
   "execution_count": 34,
   "id": "50e1e434-22c1-4f39-89b7-a2641cbd7fab",
   "metadata": {},
   "outputs": [
    {
     "name": "stdout",
     "output_type": "stream",
     "text": [
      "жить\n",
      "дружить\n"
     ]
    }
   ],
   "source": [
    "print(list_of_wishes[0])\n",
    "\n",
    "print(list_of_wishes[4])"
   ]
  },
  {
   "cell_type": "markdown",
   "id": "3a1a398b-e57a-456b-bcb2-c43b051f9300",
   "metadata": {},
   "source": [
    "### `.pop(i)` &mdash; удаляет элемент, расположенный по индексу `i` в списке "
   ]
  },
  {
   "cell_type": "code",
   "execution_count": 35,
   "id": "0d1f2c7e",
   "metadata": {},
   "outputs": [
    {
     "name": "stdout",
     "output_type": "stream",
     "text": [
      "['жить', 'спать', 'жить', 'любить и быть любимым', 'дружить', 'чтоб не болела мать', 'чтоб на нашей горестной планете только звезды падали с небес', 'были все доверчивы, как дети, и любили дождь, цветы и лес']\n",
      "чтоб не болела мать\n"
     ]
    }
   ],
   "source": [
    "print(list_of_wishes)\n",
    "\n",
    "print(list_of_wishes[5])"
   ]
  },
  {
   "cell_type": "code",
   "execution_count": 36,
   "id": "04c609dd-387c-4ee7-9ccf-f6c93f9fabc4",
   "metadata": {},
   "outputs": [
    {
     "name": "stdout",
     "output_type": "stream",
     "text": [
      "['жить', 'спать', 'жить', 'любить и быть любимым', 'дружить', 'чтоб на нашей горестной планете только звезды падали с небес', 'были все доверчивы, как дети, и любили дождь, цветы и лес']\n"
     ]
    }
   ],
   "source": [
    "list_of_wishes.pop(5)\n",
    "\n",
    "print(list_of_wishes)"
   ]
  },
  {
   "cell_type": "markdown",
   "id": "819a344e-e6f0-4b9c-ad5b-0b20f66d8d4e",
   "metadata": {},
   "source": [
    "Можно не передавать аргумента `i`, тогда, по умолчанию, удаляется последний элемент списка."
   ]
  },
  {
   "cell_type": "code",
   "execution_count": 37,
   "id": "cd819b09-1a4e-4fa9-8c45-89a89eef9b19",
   "metadata": {},
   "outputs": [
    {
     "name": "stdout",
     "output_type": "stream",
     "text": [
      "['жить', 'спать', 'жить', 'любить и быть любимым', 'дружить', 'чтоб на нашей горестной планете только звезды падали с небес', 'были все доверчивы, как дети, и любили дождь, цветы и лес']\n",
      "['жить', 'спать', 'жить', 'любить и быть любимым', 'дружить', 'чтоб на нашей горестной планете только звезды падали с небес']\n"
     ]
    }
   ],
   "source": [
    "print(list_of_wishes)\n",
    "\n",
    "element = list_of_wishes.pop()\n",
    "\n",
    "print(list_of_wishes)"
   ]
  },
  {
   "cell_type": "code",
   "execution_count": 38,
   "id": "b3734430",
   "metadata": {},
   "outputs": [
    {
     "name": "stdout",
     "output_type": "stream",
     "text": [
      "['жить', 'спать', 'жить', 'любить и быть любимым', 'дружить', 'чтоб на нашей горестной планете только звезды падали с небес']\n"
     ]
    }
   ],
   "source": [
    "print(list_of_wishes)"
   ]
  },
  {
   "cell_type": "code",
   "execution_count": 39,
   "id": "0e78d84f",
   "metadata": {},
   "outputs": [
    {
     "name": "stdout",
     "output_type": "stream",
     "text": [
      "были все доверчивы, как дети, и любили дождь, цветы и лес\n"
     ]
    }
   ],
   "source": [
    "print(element)"
   ]
  },
  {
   "cell_type": "markdown",
   "id": "d21hjkSttlGI",
   "metadata": {
    "id": "d21hjkSttlGI"
   },
   "source": [
    "### .remove(`x`) - удаляет первый элемент в списке, имеющий значение `x`"
   ]
  },
  {
   "cell_type": "code",
   "execution_count": 40,
   "id": "4zTIIwV3toIf",
   "metadata": {
    "id": "4zTIIwV3toIf"
   },
   "outputs": [
    {
     "data": {
      "text/plain": [
       "['жить', 'спать', 'жить', 'любить и быть любимым', 'дружить']"
      ]
     },
     "execution_count": 40,
     "metadata": {},
     "output_type": "execute_result"
    }
   ],
   "source": [
    "list_of_wishes.remove('чтоб на нашей горестной планете только звезды падали с небес')\n",
    "list_of_wishes"
   ]
  },
  {
   "cell_type": "code",
   "execution_count": 41,
   "id": "hOCcb5ERuSQj",
   "metadata": {
    "colab": {
     "base_uri": "https://localhost:8080/"
    },
    "id": "hOCcb5ERuSQj",
    "outputId": "91b85b35-cfa4-4b7b-b5cf-06980ff1b2ac"
   },
   "outputs": [
    {
     "name": "stdout",
     "output_type": "stream",
     "text": [
      "['молоко', 'кефир', 'вода', 'сок', 'морс']\n",
      "['молоко', 'кефир', 'вода', 'морс']\n"
     ]
    }
   ],
   "source": [
    "shoplist = ['молоко', 'кефир', 'сок', 'вода', 'сок', 'морс']  # тут 2 сока\n",
    "shoplist.remove('сок')\n",
    "print(shoplist)  # тут 1 сок, причём второй\n",
    "shoplist.remove('сок')\n",
    "print(shoplist)"
   ]
  },
  {
   "cell_type": "code",
   "execution_count": 42,
   "id": "ddc382e0",
   "metadata": {},
   "outputs": [
    {
     "name": "stdout",
     "output_type": "stream",
     "text": [
      "удалил сок\n",
      "удалил сок\n"
     ]
    }
   ],
   "source": [
    "shoplist = ['молоко', 'кефир', 'сок', 'вода', 'сок', 'морс']\n",
    "while 'сок' in shoplist:\n",
    "    shoplist.remove('сок')\n",
    "    print('удалил сок')"
   ]
  },
  {
   "cell_type": "code",
   "execution_count": 43,
   "id": "352bc268",
   "metadata": {},
   "outputs": [
    {
     "data": {
      "text/plain": [
       "['молоко', 'кефир', 'вода', 'морс']"
      ]
     },
     "execution_count": 43,
     "metadata": {},
     "output_type": "execute_result"
    }
   ],
   "source": [
    "shoplist"
   ]
  },
  {
   "cell_type": "markdown",
   "id": "abbiYBGgtpWm",
   "metadata": {
    "id": "abbiYBGgtpWm"
   },
   "source": [
    "### `.clear()`  — очищает список"
   ]
  },
  {
   "cell_type": "code",
   "execution_count": 44,
   "id": "iuZLh59Stsue",
   "metadata": {
    "colab": {
     "base_uri": "https://localhost:8080/"
    },
    "id": "iuZLh59Stsue",
    "outputId": "3bc1125f-18d5-4d4e-fc07-2d4c81bcd112"
   },
   "outputs": [
    {
     "name": "stdout",
     "output_type": "stream",
     "text": [
      "['молоко', 'кефир', 'вода', 'морс']\n",
      "[]\n"
     ]
    }
   ],
   "source": [
    "print(shoplist)\n",
    "shoplist.clear()\n",
    "print(shoplist)"
   ]
  },
  {
   "cell_type": "markdown",
   "id": "WVKoImeTxToU",
   "metadata": {
    "id": "WVKoImeTxToU"
   },
   "source": [
    "### .count(`x`)  — узнать, сколько раз встречается элемент `x`"
   ]
  },
  {
   "cell_type": "code",
   "execution_count": 45,
   "id": "1cbede2f-a3e4-4517-8ea0-5cbefdfbcb5d",
   "metadata": {
    "colab": {
     "base_uri": "https://localhost:8080/"
    },
    "id": "43DkWmLixSkl",
    "outputId": "fd327da2-e325-4231-bee9-3d71ff32b308"
   },
   "outputs": [
    {
     "data": {
      "text/plain": [
       "2"
      ]
     },
     "execution_count": 45,
     "metadata": {},
     "output_type": "execute_result"
    }
   ],
   "source": [
    "shoplist = ['молоко', 'кефир', 'сок', 'вода', 'сок', 'морс']\n",
    "shoplist.count('сок')"
   ]
  },
  {
   "cell_type": "code",
   "execution_count": 46,
   "id": "43DkWmLixSkl",
   "metadata": {
    "colab": {
     "base_uri": "https://localhost:8080/"
    },
    "id": "43DkWmLixSkl",
    "outputId": "fd327da2-e325-4231-bee9-3d71ff32b308"
   },
   "outputs": [
    {
     "data": {
      "text/plain": [
       "0"
      ]
     },
     "execution_count": 46,
     "metadata": {},
     "output_type": "execute_result"
    }
   ],
   "source": [
    "shoplist = ['молоко', 'кефир', 'сок', 'вода', 'сок', 'морс']\n",
    "shoplist.count('малина')"
   ]
  },
  {
   "cell_type": "markdown",
   "id": "kYM1eRhZOm4e",
   "metadata": {
    "id": "kYM1eRhZOm4e",
    "tags": []
   },
   "source": [
    "#### Тренировка\n",
    "Игра \"Я знаю 5 имён девочек\"\n",
    "\n",
    "Спрашивайте у пользователя 5 названий чего-нибудь. Если пользователь повторился и ввёл имя 2й раз, игра завершается."
   ]
  },
  {
   "cell_type": "code",
   "execution_count": 48,
   "id": "h8aUPXPvvfYZ",
   "metadata": {
    "id": "h8aUPXPvvfYZ"
   },
   "outputs": [
    {
     "name": "stdout",
     "output_type": "stream",
     "text": [
      "Маша\n",
      "Даша\n",
      "Катя\n",
      "Маша\n",
      "false\n"
     ]
    },
    {
     "data": {
      "text/plain": [
       "['Маша', 'Даша', 'Катя']"
      ]
     },
     "execution_count": 48,
     "metadata": {},
     "output_type": "execute_result"
    }
   ],
   "source": [
    "names = []\n",
    "while len(names) < 5:\n",
    "    name = input()\n",
    "    if name in names:\n",
    "        print('false')\n",
    "        break\n",
    "    names.append(name)\n",
    "    \n",
    "names\n"
   ]
  },
  {
   "cell_type": "markdown",
   "id": "3e937b85-ec05-4c9b-883d-cab15a95acbb",
   "metadata": {},
   "source": [
    "Обратите внимание на вариацию задачи, где уже нельзя без `count`:\n",
    "\n",
    "> Спрашивайте у пользователя 5 названий чего-нибудь. **Можно повториться один раз**. Если пользователь пытается назвать что-то в третий раз, то игра завершается."
   ]
  },
  {
   "cell_type": "code",
   "execution_count": 50,
   "id": "6d267127-b7b6-4a30-b0c7-d9fdd7778bb5",
   "metadata": {
    "id": "h8aUPXPvvfYZ"
   },
   "outputs": [
    {
     "name": "stdout",
     "output_type": "stream",
     "text": [
      "Маша\n",
      "Даша\n",
      "Маша\n",
      "Катя\n",
      "Маша\n",
      "Было\n"
     ]
    },
    {
     "data": {
      "text/plain": [
       "['Маша', 'Даша', 'Маша', 'Катя']"
      ]
     },
     "execution_count": 50,
     "metadata": {},
     "output_type": "execute_result"
    }
   ],
   "source": [
    "# ваш код\n",
    "names = []\n",
    "while len(names) < 5:\n",
    "    name = input()\n",
    "    if names.count(name) >1 :\n",
    "        print('Было')\n",
    "        break\n",
    "    names.append(name)\n",
    "    \n",
    "names"
   ]
  },
  {
   "cell_type": "markdown",
   "id": "3VKAEkWSQMdQ",
   "metadata": {
    "id": "3VKAEkWSQMdQ"
   },
   "source": [
    "### .index(`x`)  — узнать индекс элемента `x` в списке"
   ]
  },
  {
   "cell_type": "markdown",
   "id": "d4682941-cbc8-4dce-9533-1a94f62468db",
   "metadata": {},
   "source": [
    "Чтобы узнать на какой позиции что-то находится можно пройтись в цикле по списку и выйти из цикла, когда что-то найдено.\n",
    "    Если элементов с таким значением было несколько, то это позволяет узнать **индекс первого**."
   ]
  },
  {
   "cell_type": "code",
   "execution_count": 51,
   "id": "eV0h9wvYxANV",
   "metadata": {
    "colab": {
     "base_uri": "https://localhost:8080/"
    },
    "id": "eV0h9wvYxANV",
    "outputId": "74d15f4c-c384-4dd8-add9-3f84d33874d2"
   },
   "outputs": [
    {
     "name": "stdout",
     "output_type": "stream",
     "text": [
      "1\n"
     ]
    }
   ],
   "source": [
    "# Так вы умели:\n",
    "\n",
    "shopping_list = ['молоко', 'сок', 'хлеб', 'сок', 'кефир']\n",
    "\n",
    "for i in range(len(shopping_list)):\n",
    "    if shopping_list[i] == 'сок':  # если мы нашли хлеб\n",
    "        print(i)\n",
    "        break      # остановим цикл, и индекс будет в переменной i \n",
    "                                    "
   ]
  },
  {
   "cell_type": "code",
   "execution_count": 52,
   "id": "Hf07fQxaQhdy",
   "metadata": {
    "colab": {
     "base_uri": "https://localhost:8080/"
    },
    "id": "Hf07fQxaQhdy",
    "outputId": "e145d79a-5729-4c07-b102-09e0d958fd92"
   },
   "outputs": [
    {
     "data": {
      "text/plain": [
       "1"
      ]
     },
     "execution_count": 52,
     "metadata": {},
     "output_type": "execute_result"
    }
   ],
   "source": [
    "shopping_list.index('сок')  # узнаём индекс первого такого элемента"
   ]
  },
  {
   "cell_type": "code",
   "execution_count": 53,
   "id": "220b4624-555d-40a7-92d5-4b476442bbe3",
   "metadata": {},
   "outputs": [
    {
     "name": "stdout",
     "output_type": "stream",
     "text": [
      "2\n",
      "['молоко', 'хлеб', 'сок', 'кефир']\n"
     ]
    }
   ],
   "source": [
    "shopping_list.remove(\"сок\")\n",
    "print(shopping_list.index(\"сок\"))\n",
    "print(shopping_list)"
   ]
  },
  {
   "cell_type": "markdown",
   "id": "127aba4a-00b9-44e9-b418-51921ae20dbe",
   "metadata": {},
   "source": [
    "Мы не умеем работать с ошибками, поэтому сложновато хорошо использовать `.index`:"
   ]
  },
  {
   "cell_type": "code",
   "execution_count": 54,
   "id": "Sum2RXpOSslk",
   "metadata": {
    "colab": {
     "base_uri": "https://localhost:8080/",
     "height": 173
    },
    "id": "Sum2RXpOSslk",
    "outputId": "a87a2cca-4b95-4ec6-9e2a-5229aebb5245"
   },
   "outputs": [
    {
     "ename": "ValueError",
     "evalue": "'морс' is not in list",
     "output_type": "error",
     "traceback": [
      "\u001b[0;31m---------------------------------------------------------------------------\u001b[0m",
      "\u001b[0;31mValueError\u001b[0m                                Traceback (most recent call last)",
      "Input \u001b[0;32mIn [54]\u001b[0m, in \u001b[0;36m<cell line: 1>\u001b[0;34m()\u001b[0m\n\u001b[0;32m----> 1\u001b[0m \u001b[43mshopping_list\u001b[49m\u001b[38;5;241;43m.\u001b[39;49m\u001b[43mindex\u001b[49m\u001b[43m(\u001b[49m\u001b[38;5;124;43m'\u001b[39;49m\u001b[38;5;124;43mморс\u001b[39;49m\u001b[38;5;124;43m'\u001b[39;49m\u001b[43m)\u001b[49m\n",
      "\u001b[0;31mValueError\u001b[0m: 'морс' is not in list"
     ]
    }
   ],
   "source": [
    "shopping_list.index('морс')  # если такого элемента, сломается"
   ]
  },
  {
   "cell_type": "markdown",
   "id": "b7eb3421-f9f3-49c7-b073-1694a27c5d75",
   "metadata": {},
   "source": [
    "> Но можно сперва проверять, есть ли что-то в списке, а затем узнавать индекс если есть (но это чуточку не оптимально)"
   ]
  },
  {
   "cell_type": "markdown",
   "id": "OhvEQA0lSIrN",
   "metadata": {
    "id": "OhvEQA0lSIrN"
   },
   "source": [
    "#### Тренировка\n",
    "Замените сок на что-нибудь другое."
   ]
  },
  {
   "cell_type": "code",
   "execution_count": 55,
   "id": "fb093c78-1544-47c7-b836-c2c78cad653e",
   "metadata": {},
   "outputs": [
    {
     "data": {
      "text/plain": [
       "['молоко', 'кофе', 'хлеб', 'сок', 'кефир']"
      ]
     },
     "execution_count": 55,
     "metadata": {},
     "output_type": "execute_result"
    }
   ],
   "source": [
    "shopping_list = ['молоко', 'сок', 'хлеб', 'сок', 'кефир']\n",
    "\n",
    "a = shopping_list.index('сок')\n",
    "shopping_list.remove(\"сок\")\n",
    "shopping_list.insert(a, 'кофе')\n",
    "shopping_list"
   ]
  },
  {
   "cell_type": "markdown",
   "id": "bb90b5d4-4669-40d1-9af1-97950622ab09",
   "metadata": {},
   "source": [
    "И второй сок замените"
   ]
  },
  {
   "cell_type": "code",
   "execution_count": 56,
   "id": "9bc0e194",
   "metadata": {},
   "outputs": [],
   "source": [
    "b = shopping_list.index('сок')\n",
    "shopping_list.remove(\"сок\")\n",
    "shopping_list.insert(b, 'какао')"
   ]
  },
  {
   "cell_type": "code",
   "execution_count": 57,
   "id": "f2f5a21e",
   "metadata": {},
   "outputs": [
    {
     "data": {
      "text/plain": [
       "['молоко', 'кофе', 'хлеб', 'какао', 'кефир']"
      ]
     },
     "execution_count": 57,
     "metadata": {},
     "output_type": "execute_result"
    }
   ],
   "source": [
    "shopping_list"
   ]
  },
  {
   "cell_type": "markdown",
   "id": "znT1UuQ9Rqe0",
   "metadata": {
    "id": "znT1UuQ9Rqe0"
   },
   "source": [
    "## Ещё несколько функций для списков и кортежей"
   ]
  },
  {
   "cell_type": "markdown",
   "id": "rYybFZW3R5JB",
   "metadata": {
    "id": "rYybFZW3R5JB"
   },
   "source": [
    "### `sum(<последовательность>)` &mdash; сумма"
   ]
  },
  {
   "cell_type": "code",
   "execution_count": 58,
   "id": "Y6Hd96MjRorC",
   "metadata": {
    "colab": {
     "base_uri": "https://localhost:8080/"
    },
    "id": "Y6Hd96MjRorC",
    "outputId": "93487b22-90ad-44b1-ad92-2d9a2670581f"
   },
   "outputs": [
    {
     "name": "stdout",
     "output_type": "stream",
     "text": [
      "6\n",
      "10.5\n"
     ]
    }
   ],
   "source": [
    "print(sum([1, 2, 3]))     # попросим посчитать и вывести сумму чисел в списке\n",
    "print(sum((3.5, 3, 4)))   # попросим посчитать и вывести сумму чисел в кортеже"
   ]
  },
  {
   "cell_type": "markdown",
   "id": "t8Ms0P1gTDvg",
   "metadata": {
    "id": "t8Ms0P1gTDvg"
   },
   "source": [
    "### `min(<последовательность>)`  — минимальное"
   ]
  },
  {
   "cell_type": "code",
   "execution_count": 59,
   "id": "cNJu7lFBTByJ",
   "metadata": {
    "colab": {
     "base_uri": "https://localhost:8080/"
    },
    "id": "cNJu7lFBTByJ",
    "outputId": "a5853322-2256-4da7-8765-bbcd84291bc9"
   },
   "outputs": [
    {
     "name": "stdout",
     "output_type": "stream",
     "text": [
      "1\n",
      "3\n"
     ]
    }
   ],
   "source": [
    "print(min([1, 2, 3]))     # попросим посчитать и вывести минимум чисел в списке\n",
    "print(min((3.5, 3, 4)))"
   ]
  },
  {
   "cell_type": "markdown",
   "id": "Oj_PZyhgTDL7",
   "metadata": {
    "id": "Oj_PZyhgTDL7"
   },
   "source": [
    "### `max(<последовательность>)`  — максимальное"
   ]
  },
  {
   "cell_type": "code",
   "execution_count": 60,
   "id": "jHeBvTWaTjmQ",
   "metadata": {
    "colab": {
     "base_uri": "https://localhost:8080/"
    },
    "id": "jHeBvTWaTjmQ",
    "outputId": "e39bc4b7-8820-4e6f-82d8-a897ea6b9da5"
   },
   "outputs": [
    {
     "name": "stdout",
     "output_type": "stream",
     "text": [
      "3\n",
      "4\n"
     ]
    }
   ],
   "source": [
    "print(max([1, 2, 3]))     # попросим посчитать и вывести максимум чисел в списке\n",
    "print(max((3.5, 3, 4)))"
   ]
  },
  {
   "cell_type": "code",
   "execution_count": 61,
   "id": "iCFlo3spT2aV",
   "metadata": {
    "colab": {
     "base_uri": "https://localhost:8080/"
    },
    "id": "iCFlo3spT2aV",
    "outputId": "85e81b86-0c15-4fd1-b315-4822669e32e2"
   },
   "outputs": [
    {
     "name": "stdout",
     "output_type": "stream",
     "text": [
      "ё\n"
     ]
    }
   ],
   "source": [
    "# работает и со строками\n",
    "s = 'abzя112358--0=-=ё-='\n",
    "print(max(s))"
   ]
  },
  {
   "cell_type": "markdown",
   "id": "81ad0e49-7fda-472a-aff5-2b1c7c7d5d3a",
   "metadata": {},
   "source": [
    "_\\* (это работает потому, что каждому символу в памяти компьютера соответствует какое-то число)_"
   ]
  },
  {
   "cell_type": "markdown",
   "id": "E8w8b9PEVH6b",
   "metadata": {
    "id": "E8w8b9PEVH6b"
   },
   "source": [
    "## `map(<имя_функции>, <последовательность>)` &mdash; применить функцию или метод ко всем элементам последовательности сразу (к каждому)"
   ]
  },
  {
   "cell_type": "markdown",
   "id": "2cb5bc61-f315-4748-9bde-1cd73775a82e",
   "metadata": {},
   "source": [
    "Как и `range` и `enumerate`, при печати сходу ничего полезного не даёт.\n",
    "\n",
    "Вот мы пробуем применить функцию вычисления длины `len` к строчкам из списка:"
   ]
  },
  {
   "cell_type": "code",
   "execution_count": 62,
   "id": "vufAQzqxVnXe",
   "metadata": {
    "colab": {
     "base_uri": "https://localhost:8080/"
    },
    "id": "vufAQzqxVnXe",
    "outputId": "cd143384-0478-47bf-acae-cd5f4a5babdd"
   },
   "outputs": [
    {
     "data": {
      "text/plain": [
       "<map at 0x1119f6b50>"
      ]
     },
     "execution_count": 62,
     "metadata": {},
     "output_type": "execute_result"
    }
   ],
   "source": [
    "map(len, ['Привет', 'ТЕСТ', 'функции', 'map!'])"
   ]
  },
  {
   "cell_type": "markdown",
   "id": "afbc48a7-3e60-48e3-bc08-d0f5abdf9943",
   "metadata": {},
   "source": [
    "Но с `list` уже работает:"
   ]
  },
  {
   "cell_type": "code",
   "execution_count": 63,
   "id": "ldyfXKEAVLP4",
   "metadata": {
    "colab": {
     "base_uri": "https://localhost:8080/"
    },
    "id": "ldyfXKEAVLP4",
    "outputId": "35eeb80f-ce17-4f08-e717-cadc252c6c17"
   },
   "outputs": [
    {
     "data": {
      "text/plain": [
       "[6, 4, 7, 4]"
      ]
     },
     "execution_count": 63,
     "metadata": {},
     "output_type": "execute_result"
    }
   ],
   "source": [
    "list(map(len, ['Привет', 'ТЕСТ', 'функции', 'map!']))"
   ]
  },
  {
   "cell_type": "markdown",
   "id": "f9e7d0d6-c879-43f1-9232-b810d5aff717",
   "metadata": {},
   "source": [
    "Обратите внимание, функция `len` записана без скобок!\n",
    "    Почему?\n",
    "    Потому что мы хотим просто указать имя нужной функции, а уже `map` сама будет применять указанную нами функцию к каждому элементу последовательности."
   ]
  },
  {
   "cell_type": "markdown",
   "id": "3c88f7dd-ea38-4e81-96ab-523fb22022c3",
   "metadata": {},
   "source": [
    "Вообще-то можно применять таким образом и методы (то, что пишется через точку, типа `.split()`).\n",
    "\n",
    "Но в этом случае нужно использовать полное имя метода.\n",
    "    Т.е. писать не `.split` (так нельзя), не `\"\".split` (не то что нужно и не пойдёт здесь), а полное имя.\n",
    "    Полные имена методов перед точкой содержат тот тип данных, чьи они методы, например `str.split`:"
   ]
  },
  {
   "cell_type": "code",
   "execution_count": 64,
   "id": "siz6hvU2WVA2",
   "metadata": {
    "colab": {
     "base_uri": "https://localhost:8080/"
    },
    "id": "siz6hvU2WVA2",
    "outputId": "354f863e-ce8a-4161-d357-e7d272ab35ca"
   },
   "outputs": [
    {
     "name": "stdout",
     "output_type": "stream",
     "text": [
      "[['Таня', 'Казакова'], ['Максим', 'Бажуков'], ['Антон', 'Бузанов']]\n"
     ]
    }
   ],
   "source": [
    "print(list(map(str.split, ['Таня Казакова', \n",
    "                           'Максим Бажуков',\n",
    "                           'Антон Бузанов'])))"
   ]
  },
  {
   "cell_type": "markdown",
   "id": "bd185e4f-169e-4ef5-b152-31ecda5e0519",
   "metadata": {},
   "source": [
    "Здесь мы попросили функцию `map` применить к каждой строчке из списка строковый метод `str.split` (собственно, то что он строковый, т.е. от `str` мы и указали, написав `str` перед точкой)"
   ]
  },
  {
   "cell_type": "markdown",
   "id": "2e23beca-c5d5-461d-a379-1f119792ecc9",
   "metadata": {},
   "source": [
    "Нельзя без `str`:"
   ]
  },
  {
   "cell_type": "code",
   "execution_count": 65,
   "id": "7d31734f-30f1-4aaf-9358-69af2af260a8",
   "metadata": {},
   "outputs": [
    {
     "ename": "SyntaxError",
     "evalue": "invalid syntax (2611007161.py, line 1)",
     "output_type": "error",
     "traceback": [
      "\u001b[0;36m  Input \u001b[0;32mIn [65]\u001b[0;36m\u001b[0m\n\u001b[0;31m    print(list(map(.split, ['Таня Казакова', 'Максим Бажуков', 'Антон Бузанов'])))\u001b[0m\n\u001b[0m                   ^\u001b[0m\n\u001b[0;31mSyntaxError\u001b[0m\u001b[0;31m:\u001b[0m invalid syntax\n"
     ]
    }
   ],
   "source": [
    "print(list(map(.split, ['Таня Казакова', 'Максим Бажуков', 'Антон Бузанов'])))"
   ]
  }
 ],
 "metadata": {
  "colab": {
   "provenance": []
  },
  "kernelspec": {
   "display_name": "Python 3 (ipykernel)",
   "language": "python",
   "name": "python3"
  },
  "language_info": {
   "codemirror_mode": {
    "name": "ipython",
    "version": 3
   },
   "file_extension": ".py",
   "mimetype": "text/x-python",
   "name": "python",
   "nbconvert_exporter": "python",
   "pygments_lexer": "ipython3",
   "version": "3.9.16"
  }
 },
 "nbformat": 4,
 "nbformat_minor": 5
}
